{
 "cells": [
  {
   "cell_type": "code",
   "execution_count": 2,
   "id": "26216608",
   "metadata": {},
   "outputs": [
    {
     "data": {
      "text/plain": [
       "1"
      ]
     },
     "execution_count": 2,
     "metadata": {},
     "output_type": "execute_result"
    }
   ],
   "source": [
    "1. variables and data types.\n",
    "2. conditional and string methods.\n",
    "3. list and list methods.\n",
    "4. slicing and indexing.\n",
    "5. loops (forloops, while).\n",
    "6. list comprehenshion and matrixes.\n",
    "7. Reading, writing of files and functions.\n",
    "8. Dictionaries.\n",
    "9. classes and objects.\n",
    "10. Time and complexity analysis.\n",
    "11. Introduction to Series and Dataframes.\n",
    "12. Python Data Manipulation libraries (Pandas and rumpy).\n",
    "13. Reading data in python (csv, xlxs, json, txt).\n",
    "14. Data wrangling in python and dat joining (concat, merge, append).\n",
    "15. Explanatory data analysis in python and Statistical concepts.\n",
    "16. Answering business questions with python.\n",
    "17. Data visualisation (Seaborn and matplotlib).\n",
    "18. Data reporting.\n",
    "\n",
    "Bonus\n",
    "19. Introduction to business modelling using regressiona and time series forcasting.\n",
    "20. Intoduction to machine learning using supervised and unsupervised algorithms.\n",
    "21. Data strategy, data product management and Data governance."
   ]
  },
  {
   "cell_type": "code",
   "execution_count": null,
   "id": "27538f87",
   "metadata": {},
   "outputs": [],
   "source": [
    "a = \"toyin\"\n",
    "b = 19\n",
    "###format string methods\n",
    "print(f\"{a} is {b} years\")"
   ]
  },
  {
   "cell_type": "code",
   "execution_count": null,
   "id": "b41f188a",
   "metadata": {},
   "outputs": [],
   "source": [
    "get_me = input('enter message: ').lower()\n",
    "if get_me == \"tomatoes\":\n",
    "    print(\"buy\")\n",
    "elif get_me == \"lemon\":\n",
    "    print(\"buy\")\n",
    "elif get_me == \"bread\":\n",
    "    print(\"buy\")\n",
    "else:\n",
    "    print(\"couldn't find any\")"
   ]
  },
  {
   "cell_type": "code",
   "execution_count": null,
   "id": "79063ad5",
   "metadata": {},
   "outputs": [],
   "source": [
    "temp_value = float(input(\"enter temperature input value: \"))\n",
    "unit = input(\"enter unit f/c: \").lower()\n",
    "if unit == \"f\":\n",
    "    celcius = round(5/9 * (temp_value + 32), 3)\n",
    "    print(f\"the temperature value from {temp_value}f is {celcius}celcuis\")\n",
    "    \n",
    "elif unit == \"c\":\n",
    "    fahr = round(9/5 * (temp_value - 32), 3)\n",
    "    print(f\"the temperature value from {temp_value}c is {fahr}fahrenheit\")\n",
    "\n",
    "else:\n",
    "    print(\"Inut not understood!!!!!\")\n",
    "enter temperature input value: 200\n",
    "enter unit f/c: c\n",
    "the temperature value from 200.0c is 302.4fahrenheit"
   ]
  },
  {
   "cell_type": "code",
   "execution_count": null,
   "id": "db2ab1c6",
   "metadata": {},
   "outputs": [],
   "source": [
    "value = \"cynthia adams\"\n",
    "sub_string = input('Enter substring values: ')\n",
    "k = value.index(sub_string)\n",
    "right_values = value[k+1: ]\n",
    "print(right_values)"
   ]
  },
  {
   "cell_type": "code",
   "execution_count": null,
   "id": "e183c3fa",
   "metadata": {},
   "outputs": [],
   "source": [
    "value = \"cynthia adams\"\n",
    "sub_string = input('Enter sub string values: ')\n",
    "k = value.index(sub_string)\n",
    "right_values = value[k-1: ]\n",
    "print(right_values)"
   ]
  },
  {
   "cell_type": "code",
   "execution_count": null,
   "id": "89b5b062",
   "metadata": {},
   "outputs": [],
   "source": [
    "value = \"cynthia adams\"\n",
    "sub_string = input('Enter substring values: ')\n",
    "k = value.index(sub_string)\n",
    "left_values = value[ :k-1]\n",
    "print(left_values)"
   ]
  },
  {
   "cell_type": "code",
   "execution_count": null,
   "id": "ab617e9f",
   "metadata": {},
   "outputs": [],
   "source": [
    "value = \"cynthia adams\"\n",
    "sub_string = input('Enter substring values: ')\n",
    "k = value.index(sub_string)\n",
    "left_values = value[ :k-1]\n",
    "print(left_values)"
   ]
  },
  {
   "cell_type": "code",
   "execution_count": null,
   "id": "d5f0d458",
   "metadata": {},
   "outputs": [],
   "source": [
    "n = \"tobechukwuigia\"\n",
    "n.index(\"u\")"
   ]
  },
  {
   "cell_type": "code",
   "execution_count": null,
   "id": "f97061fe",
   "metadata": {},
   "outputs": [],
   "source": [
    "sentence = input(\"Enter a sentence\")\n",
    "word = input(\"Enter a word\")\n",
    "words = sentence.split(' ')\n",
    "positions "
   ]
  },
  {
   "cell_type": "code",
   "execution_count": null,
   "id": "96ceef43",
   "metadata": {},
   "outputs": [],
   "source": [
    "n = \"tobechukwuigia\"\n",
    "n.index(\"u\")"
   ]
  },
  {
   "cell_type": "code",
   "execution_count": null,
   "id": "b63aca13",
   "metadata": {},
   "outputs": [],
   "source": [
    "programming_languages = [\"JavaScript\",\"Python\",\"Java\",\"Python\",\"C++\",\"Python\"]\n",
    "\n",
    "python_indices  = [index for (index, item) in enumerate(programming_languages) if item == \"Python\"]\n",
    "\n",
    "print(python_indices)"
   ]
  },
  {
   "cell_type": "code",
   "execution_count": null,
   "id": "a50fc04e",
   "metadata": {},
   "outputs": [],
   "source": [
    "n = \"tobechukwu\"\n",
    "p = [index for (index, item) in enumerate(n) if item == \"u\"]\n",
    "print(p)"
   ]
  },
  {
   "cell_type": "code",
   "execution_count": null,
   "id": "26a193a3",
   "metadata": {},
   "outputs": [],
   "source": [
    "h = \"jakeson/abiba\"\n",
    "h[0]"
   ]
  },
  {
   "cell_type": "code",
   "execution_count": null,
   "id": "c960ea26",
   "metadata": {},
   "outputs": [],
   "source": [
    "k = [\"tope adamu\", \"kate milla\", \"femi ore\"]\n",
    "k[0]"
   ]
  },
  {
   "cell_type": "code",
   "execution_count": null,
   "id": "473c2908",
   "metadata": {},
   "outputs": [],
   "source": [
    "k[0].split()"
   ]
  },
  {
   "cell_type": "code",
   "execution_count": null,
   "id": "c7049f7d",
   "metadata": {},
   "outputs": [],
   "source": [
    "h.split()"
   ]
  },
  {
   "cell_type": "code",
   "execution_count": null,
   "id": "0912f5c5",
   "metadata": {},
   "outputs": [],
   "source": [
    "h.split(\"/\")"
   ]
  },
  {
   "cell_type": "code",
   "execution_count": null,
   "id": "539064a5",
   "metadata": {},
   "outputs": [],
   "source": [
    "phone_number = \"+234-825-142-2525\"\n",
    "b = phone_number.split(\"-\")\n",
    "d = ''.join(b)\n",
    "print(d)"
   ]
  },
  {
   "cell_type": "code",
   "execution_count": null,
   "id": "7b59e92b",
   "metadata": {},
   "outputs": [],
   "source": [
    "for i in range(0, 10):\n",
    "    print(i)"
   ]
  },
  {
   "cell_type": "code",
   "execution_count": null,
   "id": "734adfcd",
   "metadata": {},
   "outputs": [],
   "source": [
    "a = [10, 15, 21, 30, 6]\n",
    "for i in a:\n",
    "    print(i)"
   ]
  },
  {
   "cell_type": "code",
   "execution_count": null,
   "id": "65aaa36c",
   "metadata": {},
   "outputs": [],
   "source": [
    "for n in k:\n",
    "    print(n)"
   ]
  },
  {
   "cell_type": "code",
   "execution_count": null,
   "id": "c16ed5bc",
   "metadata": {},
   "outputs": [],
   "source": [
    "type(k)"
   ]
  },
  {
   "cell_type": "code",
   "execution_count": null,
   "id": "11acb024",
   "metadata": {},
   "outputs": [],
   "source": [
    "first_name = []\n",
    "second_name = []\n",
    "for n in k:\n",
    "    b = n.split()[0][0].upper() + n.split()[0][1:]\n",
    "    d = n.split()[1][0].upper() + n.split()[1][1:]\n",
    "    first_name.append(b)\n",
    "    second_name.append(d)\n",
    "print(first_name)\n",
    "print(second_name)"
   ]
  },
  {
   "cell_type": "code",
   "execution_count": null,
   "id": "fcf9238c",
   "metadata": {},
   "outputs": [],
   "source": [
    "t = [\"lem\", \"fin\", \"tan\"]\n",
    "array_list = [1, 5, 10]\n",
    "array_list.append(t)\n",
    "print(array_list)"
   ]
  },
  {
   "cell_type": "code",
   "execution_count": null,
   "id": "d329f181",
   "metadata": {},
   "outputs": [],
   "source": [
    "t = [\"lem\", \"fin\", \"tan\"]\n",
    "array_list = [1, 5, 10]\n",
    "for i in t:\n",
    "    array_list.append(1)\n",
    "print(array_list)"
   ]
  },
  {
   "cell_type": "code",
   "execution_count": null,
   "id": "6fe7ba4f",
   "metadata": {},
   "outputs": [],
   "source": [
    "array_number = [10, 15, 21, 30, 8]\n",
    "add_me = 0\n",
    "\n",
    "for i in array_number:\n",
    "    add_me = i + add_me\n",
    "print(add_me)"
   ]
  },
  {
   "cell_type": "code",
   "execution_count": null,
   "id": "03fecf7c",
   "metadata": {},
   "outputs": [],
   "source": [
    "a  = False\n",
    "print(type(a))"
   ]
  },
  {
   "cell_type": "code",
   "execution_count": null,
   "id": "c406ddd2",
   "metadata": {},
   "outputs": [],
   "source": [
    "a = []\n",
    "list_array = [True, False, \"meka\", \"owen\", 19.5, 88, 4.12, 22]\n",
    "for i in list_array:\n",
    "    if type(i) == float:\n",
    "       print(i)     "
   ]
  },
  {
   "cell_type": "code",
   "execution_count": null,
   "id": "305ce172",
   "metadata": {},
   "outputs": [],
   "source": [
    "a = [i for i in range(1, 39)]\n",
    "print(a)"
   ]
  },
  {
   "cell_type": "code",
   "execution_count": null,
   "id": "971ec3ab",
   "metadata": {},
   "outputs": [],
   "source": [
    "booleans = []\n",
    "strings = []\n",
    "integers = []\n",
    "floats = []\n",
    "\n",
    "list_array = [True, False, \"meka\", \"owen\", 19.5, 88, 4.12, 22]\n",
    "for i in list_array:\n",
    "    if type(i) == float:\n",
    "        floats.append(i) \n",
    "        \n",
    "    if type(i) == bool:\n",
    "        booleans.append(i)\n",
    "        \n",
    "    elif type(i) == int:\n",
    "        integers.append(i)\n",
    "        \n",
    "    eliif type(i) == str:\n",
    "        strings.append(i)\n",
    "        \n",
    "print(booleans)\n",
    "print(floats)\n",
    "print(integers)\n",
    "print(string)"
   ]
  },
  {
   "cell_type": "code",
   "execution_count": null,
   "id": "119d48f7",
   "metadata": {},
   "outputs": [],
   "source": [
    "a = [i for i in range(1, 39)]\n",
    "for num in a:\n",
    "    if(num % 2) == 0:\n",
    "        print(num, end=\" \")"
   ]
  },
  {
   "cell_type": "code",
   "execution_count": null,
   "id": "7a8d7b94",
   "metadata": {},
   "outputs": [],
   "source": [
    "array = []\n",
    "for i in a:\n",
    "    if i % 2 == 0:\n",
    "        array.append(i)\n",
    "print(array)"
   ]
  },
  {
   "cell_type": "code",
   "execution_count": null,
   "id": "cab8df7b",
   "metadata": {},
   "outputs": [],
   "source": [
    "a = [\"james\", \"cedi\", \"benneth\", \"kola\"]\n",
    "b = [\"tobe\", \"mattew\", \"fila\", \"jack\"]\n",
    "diff_arr = []\n",
    "if len(a) == len(b):\n",
    "    for i in range(0, len(a)):\n",
    "        val = len(a[i]) - len(b[i])\n",
    "        diff_arr.append(val)\n",
    "    print(diff_arr)\n",
    "else:\n",
    "    print(\"index not same\")"
   ]
  },
  {
   "cell_type": "code",
   "execution_count": null,
   "id": "dad6cd11",
   "metadata": {},
   "outputs": [],
   "source": [
    "a = \"string\"\n",
    "len(a)"
   ]
  },
  {
   "cell_type": "code",
   "execution_count": 49,
   "id": "293fd596",
   "metadata": {},
   "outputs": [
    {
     "name": "stdout",
     "output_type": "stream",
     "text": [
      "['25cm', '15cm']\n"
     ]
    }
   ],
   "source": [
    "list_array = [\"10m\", \"20m\", \"30m\", \"15m\"]\n",
    "list_array2 = [\"40m\", \"20m\", \"25cm\", \"15cm\"]\n",
    "array_cm = []\n",
    "for i in list_array2:\n",
    "    split_i = []\n",
    "    for b in i:\n",
    "        split_i.append(b)\n",
    "    ##print(split_i)\n",
    "    a = \"\".join(split_i[2:])\n",
    "    #print(a)\n",
    "    if a == \"cm\":\n",
    "        array_cm.append(i)\n",
    "print(array_cm)"
   ]
  },
  {
   "cell_type": "code",
   "execution_count": 51,
   "id": "44c8e488",
   "metadata": {},
   "outputs": [
    {
     "name": "stdout",
     "output_type": "stream",
     "text": [
      "['25', '15']\n"
     ]
    }
   ],
   "source": [
    "lst_val = []\n",
    "for i in list_array2:\n",
    "    split_i = []\n",
    "    for b in i:\n",
    "        split_i.append(b)\n",
    "        k = \"\".join(split_i[2:])\n",
    "        d = \"\".join(split_i[:2])\n",
    "        if k == \"cm\":\n",
    "            lst_val.append(d)\n",
    "print(lst_val)"
   ]
  },
  {
   "cell_type": "code",
   "execution_count": 40,
   "id": "8d884c23",
   "metadata": {},
   "outputs": [
    {
     "name": "stdout",
     "output_type": "stream",
     "text": [
      "['25', '15']\n",
      "['40', '20']\n"
     ]
    }
   ],
   "source": [
    "lst_val2 = []\n",
    "lst_val = []\n",
    "for i in list_array2:\n",
    "    split_i = []\n",
    "    for b in i:\n",
    "        split_i.append(b)\n",
    "    if \"c\" in split_i:\n",
    "        a = \"\".join(split_i)[:-2]\n",
    "        lst_val2.append(a)\n",
    "    else:\n",
    "        b = \"\".join(split_i[:-1])\n",
    "        lst_val.append(b)\n",
    "print(lst_val2)\n",
    "print(lst_val)"
   ]
  },
  {
   "cell_type": "code",
   "execution_count": 41,
   "id": "8528523e",
   "metadata": {},
   "outputs": [
    {
     "name": "stdout",
     "output_type": "stream",
     "text": [
      "[0.25, 0.15]\n"
     ]
    }
   ],
   "source": [
    "convert_cm = [round(int(i)/100, 2) for i in lst_val2]\n",
    "print(convert_cm)"
   ]
  },
  {
   "cell_type": "code",
   "execution_count": 42,
   "id": "d3139f31",
   "metadata": {},
   "outputs": [
    {
     "name": "stdout",
     "output_type": "stream",
     "text": [
      "[40, 20]\n"
     ]
    }
   ],
   "source": [
    "meters = [int(i) for i in lst_val]\n",
    "print(meters)"
   ]
  },
  {
   "cell_type": "code",
   "execution_count": 52,
   "id": "da3e4866",
   "metadata": {},
   "outputs": [
    {
     "name": "stdout",
     "output_type": "stream",
     "text": [
      "[40, 20, 0.25, 0.15]\n"
     ]
    }
   ],
   "source": [
    "for i in convert_cm:\n",
    "    meters.append(i)\n",
    "print(meters)"
   ]
  },
  {
   "cell_type": "code",
   "execution_count": null,
   "id": "836987c1",
   "metadata": {},
   "outputs": [],
   "source": [
    "list_array"
   ]
  },
  {
   "cell_type": "code",
   "execution_count": 53,
   "id": "adee903d",
   "metadata": {},
   "outputs": [
    {
     "name": "stdout",
     "output_type": "stream",
     "text": [
      "['10', '20', '30', '15']\n"
     ]
    }
   ],
   "source": [
    "numb = []\n",
    "for i in list_array:\n",
    "    a_arr = []\n",
    "    for b in i:\n",
    "        a_arr.append(b)\n",
    "    k = \"\".join(a_arr[:-1])\n",
    "    numb.append(k)\n",
    "print(numb)"
   ]
  },
  {
   "cell_type": "code",
   "execution_count": 54,
   "id": "5fd332e4",
   "metadata": {},
   "outputs": [
    {
     "name": "stdout",
     "output_type": "stream",
     "text": [
      "[10, 20, 30, 15]\n"
     ]
    }
   ],
   "source": [
    "convert_numb = [int(i) for i in numb]\n",
    "print(convert_numb)"
   ]
  },
  {
   "cell_type": "code",
   "execution_count": 55,
   "id": "fc6a2fe3",
   "metadata": {},
   "outputs": [
    {
     "name": "stdout",
     "output_type": "stream",
     "text": [
      "-30meters\n",
      "0meters\n",
      "29.75meters\n",
      "14.85meters\n"
     ]
    }
   ],
   "source": [
    "if len(meters) == len(convert_numb):\n",
    "    for i in range(0, len(meters)):\n",
    "        diff = convert_numb[i] - meters[i]\n",
    "        print(f\"{diff}meters\")"
   ]
  },
  {
   "cell_type": "code",
   "execution_count": 6,
   "id": "b17e237d",
   "metadata": {},
   "outputs": [
    {
     "name": "stdout",
     "output_type": "stream",
     "text": [
      "['j', 'u', 'd', 'e']\n",
      "['b', 'o', 'l', 'e']\n"
     ]
    }
   ],
   "source": [
    "d = [\"jude\", \"bole\"]\n",
    "for i in d:\n",
    "    sep = []\n",
    "    for k in i:\n",
    "        sep.append(k)\n",
    "    print(sep)"
   ]
  },
  {
   "cell_type": "code",
   "execution_count": 31,
   "id": "036321a6",
   "metadata": {},
   "outputs": [
    {
     "name": "stdout",
     "output_type": "stream",
     "text": [
      "John is 30 years old\n",
      "Lola is 43 years old\n",
      "Bayo is 25 years old\n"
     ]
    }
   ],
   "source": [
    "name = [\"john\", \"lola\", \"bayo\"]\n",
    "ages = [30, 43, 25]\n",
    "\n",
    "array = []\n",
    "for n in name:\n",
    "    a = n.split()[0][0].upper() + n.split()[0][1:]\n",
    "    array.append(a)\n",
    "\n",
    "a = array[0]\n",
    "b = ages[0]\n",
    "\n",
    "c = array[1]\n",
    "d = ages[1]\n",
    "\n",
    "e = array[2]\n",
    "f = ages[2]\n",
    "\n",
    "print(f\"{a} is {b} years old\")\n",
    "print(f\"{c} is {d} years old\")\n",
    "print(f\"{e} is {f} years old\")"
   ]
  },
  {
   "cell_type": "code",
   "execution_count": null,
   "id": "92d3678d",
   "metadata": {},
   "outputs": [],
   "source": []
  }
 ],
 "metadata": {
  "kernelspec": {
   "display_name": "Python 3 (ipykernel)",
   "language": "python",
   "name": "python3"
  },
  "language_info": {
   "codemirror_mode": {
    "name": "ipython",
    "version": 3
   },
   "file_extension": ".py",
   "mimetype": "text/x-python",
   "name": "python",
   "nbconvert_exporter": "python",
   "pygments_lexer": "ipython3",
   "version": "3.9.13"
  }
 },
 "nbformat": 4,
 "nbformat_minor": 5
}
