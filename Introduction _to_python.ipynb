{
 "cells": [
  {
   "cell_type": "code",
   "execution_count": null,
   "id": "f43ea5ce",
   "metadata": {},
   "outputs": [],
   "source": [
    "1. variables and data types.\n",
    "2. conditional and string methods.\n",
    "3. list and list methods.\n",
    "4. slicing and indexing.\n",
    "5. loops (forloops, while).\n",
    "6. list comprehenshion and matrixes.\n",
    "7. Reading, writing of files and functions.\n",
    "8. Dictionaries.\n",
    "9. classes and objects.\n",
    "10. Time and complexity analysis.\n",
    "11. Introduction to Series and Dataframes.\n",
    "12. Python Data Manipulation libraries (Pandas and rumpy).\n",
    "13. Reading data in python (csv, xlxs, json, txt).\n",
    "14. Data wrangling in python and dat joining (concat, merge, append).\n",
    "15. Explanatory data analysis in python and Statistical concepts.\n",
    "16. Answering business questions with python.\n",
    "17. Data visualisation (Seaborn and matplotlib).\n",
    "18. Data reporting.\n",
    "\n",
    "Bonus\n",
    "19. Introduction to business modelling using regressiona and time series forcasting.\n",
    "20. Intoduction to machine learning using supervised snd unsupervised algorithms.\n",
    "21. Data strategy, data product management and Data governance."
   ]
  }
 ],
 "metadata": {
  "kernelspec": {
   "display_name": "Python 3 (ipykernel)",
   "language": "python",
   "name": "python3"
  },
  "language_info": {
   "codemirror_mode": {
    "name": "ipython",
    "version": 3
   },
   "file_extension": ".py",
   "mimetype": "text/x-python",
   "name": "python",
   "nbconvert_exporter": "python",
   "pygments_lexer": "ipython3",
   "version": "3.9.7"
  }
 },
 "nbformat": 4,
 "nbformat_minor": 5
}
