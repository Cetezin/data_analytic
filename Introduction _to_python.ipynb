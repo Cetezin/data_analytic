{
 "cells": [
  {
   "cell_type": "code",
   "execution_count": 2,
   "id": "f43ea5ce",
   "metadata": {},
   "outputs": [
    {
     "ename": "SyntaxError",
     "evalue": "invalid syntax (Temp/ipykernel_2624/3370645605.py, line 1)",
     "output_type": "error",
     "traceback": [
      "\u001b[1;36m  File \u001b[1;32m\"C:\\Users\\Trainee\\AppData\\Local\\Temp/ipykernel_2624/3370645605.py\"\u001b[1;36m, line \u001b[1;32m1\u001b[0m\n\u001b[1;33m    1. variables and data types.\u001b[0m\n\u001b[1;37m       ^\u001b[0m\n\u001b[1;31mSyntaxError\u001b[0m\u001b[1;31m:\u001b[0m invalid syntax\n"
     ]
    }
   ],
   "source": [
    "1. variables and data types.\n",
    "2. conditional and string methods.\n",
    "3. list and list methods.\n",
    "4. slicing and indexing.\n",
    "5. loops (forloops, while).\n",
    "6. list comprehenshion and matrixes.\n",
    "7. Reading, writing of files and functions.\n",
    "8. Dictionaries.\n",
    "9. classes and objects.\n",
    "10. Time and complexity analysis.\n",
    "11. Introduction to Series and Dataframes.\n",
    "12. Python Data Manipulation libraries (Pandas and rumpy).\n",
    "13. Reading data in python (csv, xlxs, json, txt).\n",
    "14. Data wrangling in python and dat joining (concat, merge, append).\n",
    "15. Explanatory data analysis in python and Statistical concepts.\n",
    "16. Answering business questions with python.\n",
    "17. Data visualisation (Seaborn and matplotlib).\n",
    "18. Data reporting.\n",
    "\n",
    "Bonus\n",
    "19. Introduction to business modelling using regressiona and time series forcasting.\n",
    "20. Intoduction to machine learning using supervised and unsupervised algorithms.\n",
    "21. Data strategy, data product management and Data governance.\n",
    "\n"
   ]
  },
  {
   "cell_type": "code",
   "execution_count": null,
   "id": "f4deac87",
   "metadata": {},
   "outputs": [],
   "source": [
    "a = float(input(\"enter number 1: \"))"
   ]
  },
  {
   "cell_type": "code",
   "execution_count": 1,
   "id": "895ae71b",
   "metadata": {},
   "outputs": [
    {
     "name": "stdout",
     "output_type": "stream",
     "text": [
      "hello\n",
      "123s\n"
     ]
    }
   ],
   "source": [
    "print(\"hello\")\n",
    "print(\"123\" + \"s\")"
   ]
  },
  {
   "cell_type": "code",
   "execution_count": 3,
   "id": "91e66f35",
   "metadata": {},
   "outputs": [
    {
     "data": {
      "text/plain": [
       "float"
      ]
     },
     "execution_count": 3,
     "metadata": {},
     "output_type": "execute_result"
    }
   ],
   "source": [
    "a = 345.5\n",
    "type(a)"
   ]
  },
  {
   "cell_type": "code",
   "execution_count": 30,
   "id": "ad09fa3c",
   "metadata": {},
   "outputs": [
    {
     "name": "stdout",
     "output_type": "stream",
     "text": [
      "toyin is 19 years\n"
     ]
    }
   ],
   "source": [
    "a = \"toyin\"\n",
    "b = 19\n",
    "###format string methods\n",
    "print(f\"{a} is {b} years\")"
   ]
  },
  {
   "cell_type": "code",
   "execution_count": 13,
   "id": "83e2e36b",
   "metadata": {},
   "outputs": [
    {
     "name": "stdout",
     "output_type": "stream",
     "text": [
      "enter message: BRead\n",
      "buy\n"
     ]
    }
   ],
   "source": [
    "get_me = input('enter message: ').lower()\n",
    "if get_me == \"tomatoes\":\n",
    "    print(\"buy\")\n",
    "elif get_me == \"lemon\":\n",
    "    print(\"buy\")\n",
    "elif get_me == \"bread\":\n",
    "    print(\"buy\")\n",
    "else:\n",
    "    print(\"couldn't find any\")"
   ]
  },
  {
   "cell_type": "code",
   "execution_count": null,
   "id": "d2fafeb8",
   "metadata": {},
   "outputs": [],
   "source": [
    "tem"
   ]
  },
  {
   "cell_type": "markdown",
   "id": "68212363",
   "metadata": {},
   "source": [
    "c = 5/9 * (f + 32)\n",
    "f = 9/5 * (c - 32)"
   ]
  },
  {
   "cell_type": "code",
   "execution_count": 18,
   "id": "a6ecfd0c",
   "metadata": {},
   "outputs": [
    {
     "name": "stdout",
     "output_type": "stream",
     "text": [
      "enter temperature input value: 200\n",
      "enter unit f/c: c\n",
      "the temperature value from 200.0c is 302.4fahrenheit\n"
     ]
    }
   ],
   "source": [
    "temp_value = float(input(\"enter temperature input value: \"))\n",
    "unit = input(\"enter unit f/c: \").lower()\n",
    "if unit == \"f\":\n",
    "    celcius = round(5/9 * (temp_value + 32), 3)\n",
    "    print(f\"the temperature value from {temp_value}f is {celcius}celcuis\")\n",
    "    \n",
    "elif unit == \"c\":\n",
    "    fahr = round(9/5 * (temp_value - 32), 3)\n",
    "    print(f\"the temperature value from {temp_value}c is {fahr}fahrenheit\")\n",
    "\n",
    "else:\n",
    "    print(\"Inut not understood!!!!!\")"
   ]
  },
  {
   "cell_type": "code",
   "execution_count": 19,
   "id": "10fe74d1",
   "metadata": {},
   "outputs": [
    {
     "name": "stdout",
     "output_type": "stream",
     "text": [
      "Enter substring values: h\n",
      "ia adams\n"
     ]
    }
   ],
   "source": [
    "value = \"cynthia adams\"\n",
    "sub_string = input('Enter substring values: ')\n",
    "k = value.index(sub_string)\n",
    "right_values = value[k+1: ]\n",
    "print(right_values)"
   ]
  },
  {
   "cell_type": "code",
   "execution_count": 20,
   "id": "109f6418",
   "metadata": {},
   "outputs": [
    {
     "name": "stdout",
     "output_type": "stream",
     "text": [
      "Enter sub string values: h\n",
      "thia adams\n"
     ]
    }
   ],
   "source": [
    "value = \"cynthia adams\"\n",
    "sub_string = input('Enter sub string values: ')\n",
    "k = value.index(sub_string)\n",
    "right_values = value[k-1: ]\n",
    "print(right_values)"
   ]
  },
  {
   "cell_type": "code",
   "execution_count": 21,
   "id": "1218d0fb",
   "metadata": {},
   "outputs": [
    {
     "name": "stdout",
     "output_type": "stream",
     "text": [
      "Enter substring values: h\n",
      "cynth\n"
     ]
    }
   ],
   "source": [
    "value = \"cynthia adams\"\n",
    "sub_string = input('Enter substring values: ')\n",
    "k = value.index(sub_string)\n",
    "right_values = value[ :k+1]\n",
    "print(right_values)"
   ]
  },
  {
   "cell_type": "code",
   "execution_count": 12,
   "id": "5042655f",
   "metadata": {},
   "outputs": [
    {
     "name": "stdout",
     "output_type": "stream",
     "text": [
      "Enter substring values: a\n",
      "cynth\n"
     ]
    }
   ],
   "source": [
    "value = \"cynthia adams\"\n",
    "sub_string = input('Enter substring values: ')\n",
    "k = value.index(sub_string)\n",
    "left_values = value[ :k-1]\n",
    "print(left_values)"
   ]
  },
  {
   "cell_type": "code",
   "execution_count": 24,
   "id": "bb353e33",
   "metadata": {},
   "outputs": [
    {
     "data": {
      "text/plain": [
       "6"
      ]
     },
     "execution_count": 24,
     "metadata": {},
     "output_type": "execute_result"
    }
   ],
   "source": [
    "n = \"tobechukwuigia\"\n",
    "n.index(\"u\")"
   ]
  },
  {
   "cell_type": "code",
   "execution_count": null,
   "id": "b1135057",
   "metadata": {},
   "outputs": [],
   "source": [
    "sentence = input(\"Enter a sentence\")\n",
    "word = input(\"Enter a word\")\n",
    "words = sentence.split(' ')\n",
    "positions "
   ]
  },
  {
   "cell_type": "code",
   "execution_count": 9,
   "id": "7d60eb9d",
   "metadata": {},
   "outputs": [
    {
     "data": {
      "text/plain": [
       "6"
      ]
     },
     "execution_count": 9,
     "metadata": {},
     "output_type": "execute_result"
    }
   ],
   "source": [
    "n = \"tobechukwuigia\"\n",
    "n.index(\"u\")"
   ]
  },
  {
   "cell_type": "code",
   "execution_count": 2,
   "id": "fae39843",
   "metadata": {},
   "outputs": [
    {
     "data": {
      "text/plain": [
       "9"
      ]
     },
     "execution_count": 2,
     "metadata": {},
     "output_type": "execute_result"
    }
   ],
   "source": [
    "n = \"tobechukwuigia\"\n",
    "n.index(\"u\",9)"
   ]
  },
  {
   "cell_type": "code",
   "execution_count": 3,
   "id": "3092fd40",
   "metadata": {},
   "outputs": [
    {
     "name": "stdout",
     "output_type": "stream",
     "text": [
      "[1, 3, 5]\n"
     ]
    }
   ],
   "source": [
    "programming_languages = [\"JavaScript\",\"Python\",\"Java\",\"Python\",\"C++\",\"Python\"]\n",
    "\n",
    "python_indices  = [index for (index, item) in enumerate(programming_languages) if item == \"Python\"]\n",
    "\n",
    "print(python_indices)\n",
    "\n",
    "#[1, 3, 5]"
   ]
  },
  {
   "cell_type": "code",
   "execution_count": 11,
   "id": "66862b2e",
   "metadata": {},
   "outputs": [
    {
     "name": "stdout",
     "output_type": "stream",
     "text": [
      "[6, 9]\n"
     ]
    }
   ],
   "source": [
    "n = \"tobechukwu\"\n",
    "p = [index for (index, item) in enumerate(n) if item == \"u\"]\n",
    "print(p)"
   ]
  },
  {
   "cell_type": "code",
   "execution_count": 13,
   "id": "60c31201",
   "metadata": {},
   "outputs": [
    {
     "data": {
      "text/plain": [
       "'j'"
      ]
     },
     "execution_count": 13,
     "metadata": {},
     "output_type": "execute_result"
    }
   ],
   "source": [
    "h = \"jakeson/abiba\"\n",
    "h[0]"
   ]
  },
  {
   "cell_type": "code",
   "execution_count": 14,
   "id": "fbe7874d",
   "metadata": {},
   "outputs": [
    {
     "data": {
      "text/plain": [
       "'tope adamu'"
      ]
     },
     "execution_count": 14,
     "metadata": {},
     "output_type": "execute_result"
    }
   ],
   "source": [
    "k = [\"tope adamu\", \"kate milla\", \"femi ore\"]\n",
    "k[0]"
   ]
  },
  {
   "cell_type": "code",
   "execution_count": 15,
   "id": "31de8328",
   "metadata": {},
   "outputs": [
    {
     "data": {
      "text/plain": [
       "['tope', 'adamu']"
      ]
     },
     "execution_count": 15,
     "metadata": {},
     "output_type": "execute_result"
    }
   ],
   "source": [
    "k[0].split()"
   ]
  },
  {
   "cell_type": "code",
   "execution_count": 16,
   "id": "bdd8d3e2",
   "metadata": {},
   "outputs": [
    {
     "data": {
      "text/plain": [
       "['jakeson/abiba']"
      ]
     },
     "execution_count": 16,
     "metadata": {},
     "output_type": "execute_result"
    }
   ],
   "source": [
    "h.split()"
   ]
  },
  {
   "cell_type": "code",
   "execution_count": 18,
   "id": "e080d744",
   "metadata": {},
   "outputs": [
    {
     "data": {
      "text/plain": [
       "['jakeson', 'abiba']"
      ]
     },
     "execution_count": 18,
     "metadata": {},
     "output_type": "execute_result"
    }
   ],
   "source": [
    "h.split(\"/\")"
   ]
  },
  {
   "cell_type": "code",
   "execution_count": 22,
   "id": "93e79aa0",
   "metadata": {},
   "outputs": [
    {
     "name": "stdout",
     "output_type": "stream",
     "text": [
      "+2348251422525\n"
     ]
    }
   ],
   "source": [
    "phone_number = \"+234-825-142-2525\"\n",
    "b = phone_number.split(\"-\")\n",
    "d = ''.join(b)\n",
    "print(d)"
   ]
  },
  {
   "cell_type": "code",
   "execution_count": 23,
   "id": "45025d97",
   "metadata": {},
   "outputs": [],
   "source": [
    "### split is a string method\n",
    "### join method is an array or list method"
   ]
  },
  {
   "cell_type": "code",
   "execution_count": 25,
   "id": "15f1d0e3",
   "metadata": {},
   "outputs": [
    {
     "name": "stdout",
     "output_type": "stream",
     "text": [
      "0\n",
      "1\n",
      "2\n",
      "3\n",
      "4\n",
      "5\n",
      "6\n",
      "7\n",
      "8\n",
      "9\n"
     ]
    }
   ],
   "source": [
    "for i in range(0, 10):\n",
    "    print(i)"
   ]
  },
  {
   "cell_type": "code",
   "execution_count": 26,
   "id": "23827955",
   "metadata": {},
   "outputs": [
    {
     "name": "stdout",
     "output_type": "stream",
     "text": [
      "10\n",
      "15\n",
      "21\n",
      "30\n",
      "6\n"
     ]
    }
   ],
   "source": [
    "a = [10, 15, 21, 30, 6]\n",
    "for i in a:\n",
    "    print(i)"
   ]
  },
  {
   "cell_type": "code",
   "execution_count": 27,
   "id": "4898d868",
   "metadata": {},
   "outputs": [
    {
     "data": {
      "text/plain": [
       "['tope', 'adamu']"
      ]
     },
     "execution_count": 27,
     "metadata": {},
     "output_type": "execute_result"
    }
   ],
   "source": [
    "k[0].split()"
   ]
  },
  {
   "cell_type": "code",
   "execution_count": 28,
   "id": "4f2ac79f",
   "metadata": {},
   "outputs": [
    {
     "name": "stdout",
     "output_type": "stream",
     "text": [
      "tope adamu\n",
      "kate milla\n",
      "femi ore\n"
     ]
    }
   ],
   "source": [
    "for n in k:\n",
    "    print(n)"
   ]
  },
  {
   "cell_type": "code",
   "execution_count": 29,
   "id": "8f023120",
   "metadata": {},
   "outputs": [
    {
     "data": {
      "text/plain": [
       "list"
      ]
     },
     "execution_count": 29,
     "metadata": {},
     "output_type": "execute_result"
    }
   ],
   "source": [
    "type(k)"
   ]
  },
  {
   "cell_type": "code",
   "execution_count": 30,
   "id": "c07ffbf7",
   "metadata": {},
   "outputs": [
    {
     "name": "stdout",
     "output_type": "stream",
     "text": [
      "['Tope', 'Kate', 'Femi']\n",
      "['Adamu', 'Milla', 'Ore']\n"
     ]
    }
   ],
   "source": [
    "first_name = []\n",
    "second_name = []\n",
    "for n in k:\n",
    "    b = n.split()[0][0].upper() + n.split()[0][1:]\n",
    "    d = n.split()[1][0].upper() + n.split()[1][1:]\n",
    "    first_name.append(b)\n",
    "    second_name.append(d)\n",
    "print(first_name)\n",
    "print(second_name)"
   ]
  },
  {
   "cell_type": "code",
   "execution_count": 31,
   "id": "226e66ce",
   "metadata": {},
   "outputs": [
    {
     "name": "stdout",
     "output_type": "stream",
     "text": [
      "[1, 5, 10, ['lem', 'fin', 'tan']]\n"
     ]
    }
   ],
   "source": [
    "t = [\"lem\", \"fin\", \"tan\"]\n",
    "array_list = [1, 5, 10]\n",
    "array_list.append(t)\n",
    "print(array_list)"
   ]
  },
  {
   "cell_type": "code",
   "execution_count": 32,
   "id": "eb23e77a",
   "metadata": {},
   "outputs": [
    {
     "name": "stdout",
     "output_type": "stream",
     "text": [
      "[1, 5, 10, 1, 1, 1]\n"
     ]
    }
   ],
   "source": [
    "t = [\"lem\", \"fin\", \"tan\"]\n",
    "array_list = [1, 5, 10]\n",
    "for i in t:\n",
    "    array_list.append(1)\n",
    "print(array_list)"
   ]
  },
  {
   "cell_type": "code",
   "execution_count": 33,
   "id": "7e0c0ba9",
   "metadata": {},
   "outputs": [
    {
     "name": "stdout",
     "output_type": "stream",
     "text": [
      "84\n"
     ]
    }
   ],
   "source": [
    "array_number = [10, 15, 21, 30, 8]\n",
    "add_me = 0\n",
    "\n",
    "for i in array_number:\n",
    "    add_me = i + add_me\n",
    "print(add_me)"
   ]
  },
  {
   "cell_type": "code",
   "execution_count": 35,
   "id": "1b22afa2",
   "metadata": {},
   "outputs": [
    {
     "name": "stdout",
     "output_type": "stream",
     "text": [
      "<class 'bool'>\n"
     ]
    }
   ],
   "source": [
    "a  = False\n",
    "print(type(a))"
   ]
  },
  {
   "cell_type": "code",
   "execution_count": 51,
   "id": "b8edfa86",
   "metadata": {},
   "outputs": [],
   "source": [
    "a = []\n",
    "list_array = [True, False, \"meka\", \"owen\", 19.5, 88, 4.12, 22]\n",
    "for i in list_array:\n",
    "    if type(i) == float:\n",
    "       print(i)     "
   ]
  },
  {
   "cell_type": "code",
   "execution_count": 47,
   "id": "2c8ce4f9",
   "metadata": {},
   "outputs": [
    {
     "name": "stdout",
     "output_type": "stream",
     "text": [
      "[1, 2, 3, 4, 5, 6, 7, 8, 9, 10, 11, 12, 13, 14, 15, 16, 17, 18, 19, 20, 21, 22, 23, 24, 25, 26, 27, 28, 29, 30, 31, 32, 33, 34, 35, 36, 37, 38]\n"
     ]
    }
   ],
   "source": [
    "a = [i for i in range(1, 39)]\n",
    "print(a)"
   ]
  },
  {
   "cell_type": "code",
   "execution_count": 116,
   "id": "e88a4da1",
   "metadata": {},
   "outputs": [
    {
     "name": "stdout",
     "output_type": "stream",
     "text": [
      "[True, False]\n",
      "[19.5, 88.0, 4.12]\n",
      "['meka', 'owen']\n"
     ]
    }
   ],
   "source": [
    "booleans = []\n",
    "strings = []\n",
    "integers = []\n",
    "floats = []\n",
    "\n",
    "list_array = [True, False, \"meka\", \"owen\", 19.5, 88.0, 4.12, 22]\n",
    "for i in list_array:\n",
    "    if type(i) == float:\n",
    "        floats.append(i) \n",
    "        \n",
    "    if type(i) == bool:\n",
    "        booleans.append(i)\n",
    "        \n",
    "    if type(i) == int:\n",
    "        integers.append(i)\n",
    "        \n",
    "    if type(i) == str:\n",
    "        strings.append(i)\n",
    "        \n",
    "print(booleans)\n",
    "print(floats)\n",
    "\n",
    "print(string)\n",
    "        "
   ]
  },
  {
   "cell_type": "code",
   "execution_count": 117,
   "id": "88a2feab",
   "metadata": {},
   "outputs": [
    {
     "name": "stdout",
     "output_type": "stream",
     "text": [
      "2 4 6 8 10 12 14 16 18 20 22 24 26 28 30 32 34 36 38 "
     ]
    }
   ],
   "source": [
    "a = [i for i in range(1, 39)]\n",
    "for num in a:\n",
    "    if(num % 2) == 0:\n",
    "        print(num, end=\" \")"
   ]
  },
  {
   "cell_type": "code",
   "execution_count": null,
   "id": "b0cda5ae",
   "metadata": {},
   "outputs": [],
   "source": []
  },
  {
   "cell_type": "code",
   "execution_count": null,
   "id": "34bf6adf",
   "metadata": {},
   "outputs": [],
   "source": []
  }
 ],
 "metadata": {
  "kernelspec": {
   "display_name": "Python 3 (ipykernel)",
   "language": "python",
   "name": "python3"
  },
  "language_info": {
   "codemirror_mode": {
    "name": "ipython",
    "version": 3
   },
   "file_extension": ".py",
   "mimetype": "text/x-python",
   "name": "python",
   "nbconvert_exporter": "python",
   "pygments_lexer": "ipython3",
   "version": "3.9.7"
  }
 },
 "nbformat": 4,
 "nbformat_minor": 5
}
