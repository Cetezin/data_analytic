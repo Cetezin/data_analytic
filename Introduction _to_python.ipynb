{
 "cells": [
  {
   "cell_type": "code",
   "execution_count": 2,
   "id": "f43ea5ce",
   "metadata": {},
   "outputs": [
    {
     "ename": "SyntaxError",
     "evalue": "invalid syntax (Temp/ipykernel_2624/3370645605.py, line 1)",
     "output_type": "error",
     "traceback": [
      "\u001b[1;36m  File \u001b[1;32m\"C:\\Users\\Trainee\\AppData\\Local\\Temp/ipykernel_2624/3370645605.py\"\u001b[1;36m, line \u001b[1;32m1\u001b[0m\n\u001b[1;33m    1. variables and data types.\u001b[0m\n\u001b[1;37m       ^\u001b[0m\n\u001b[1;31mSyntaxError\u001b[0m\u001b[1;31m:\u001b[0m invalid syntax\n"
     ]
    }
   ],
   "source": [
    "1. variables and data types.\n",
    "2. conditional and string methods.\n",
    "3. list and list methods.\n",
    "4. slicing and indexing.\n",
    "5. loops (forloops, while).\n",
    "6. list comprehenshion and matrixes.\n",
    "7. Reading, writing of files and functions.\n",
    "8. Dictionaries.\n",
    "9. classes and objects.\n",
    "10. Time and complexity analysis.\n",
    "11. Introduction to Series and Dataframes.\n",
    "12. Python Data Manipulation libraries (Pandas and rumpy).\n",
    "13. Reading data in python (csv, xlxs, json, txt).\n",
    "14. Data wrangling in python and dat joining (concat, merge, append).\n",
    "15. Explanatory data analysis in python and Statistical concepts.\n",
    "16. Answering business questions with python.\n",
    "17. Data visualisation (Seaborn and matplotlib).\n",
    "18. Data reporting.\n",
    "\n",
    "Bonus\n",
    "19. Introduction to business modelling using regressiona and time series forcasting.\n",
    "20. Intoduction to machine learning using supervised and unsupervised algorithms.\n",
    "21. Data strategy, data product management and Data governance.\n",
    "\n"
   ]
  },
  {
   "cell_type": "code",
   "execution_count": null,
   "id": "f4deac87",
   "metadata": {},
   "outputs": [],
   "source": [
    "a = float(input(\"enter number 1: \"))"
   ]
  },
  {
   "cell_type": "code",
   "execution_count": 1,
   "id": "895ae71b",
   "metadata": {},
   "outputs": [
    {
     "name": "stdout",
     "output_type": "stream",
     "text": [
      "hello\n",
      "123s\n"
     ]
    }
   ],
   "source": [
    "print(\"hello\")\n",
    "print(\"123\" + \"s\")"
   ]
  },
  {
   "cell_type": "code",
   "execution_count": 3,
   "id": "91e66f35",
   "metadata": {},
   "outputs": [
    {
     "data": {
      "text/plain": [
       "float"
      ]
     },
     "execution_count": 3,
     "metadata": {},
     "output_type": "execute_result"
    }
   ],
   "source": [
    "a = 345.5\n",
    "type(a)"
   ]
  },
  {
   "cell_type": "code",
   "execution_count": 30,
   "id": "ad09fa3c",
   "metadata": {},
   "outputs": [
    {
     "name": "stdout",
     "output_type": "stream",
     "text": [
      "toyin is 19 years\n"
     ]
    }
   ],
   "source": [
    "a = \"toyin\"\n",
    "b = 19\n",
    "###format string methods\n",
    "print(f\"{a} is {b} years\")"
   ]
  },
  {
   "cell_type": "code",
   "execution_count": 13,
   "id": "83e2e36b",
   "metadata": {},
   "outputs": [
    {
     "name": "stdout",
     "output_type": "stream",
     "text": [
      "enter message: BRead\n",
      "buy\n"
     ]
    }
   ],
   "source": [
    "get_me = input('enter message: ').lower()\n",
    "if get_me == \"tomatoes\":\n",
    "    print(\"buy\")\n",
    "elif get_me == \"lemon\":\n",
    "    print(\"buy\")\n",
    "elif get_me == \"bread\":\n",
    "    print(\"buy\")\n",
    "else:\n",
    "    print(\"couldn't find any\")"
   ]
  },
  {
   "cell_type": "code",
   "execution_count": null,
   "id": "d2fafeb8",
   "metadata": {},
   "outputs": [],
   "source": [
    "tem"
   ]
  },
  {
   "cell_type": "markdown",
   "id": "68212363",
   "metadata": {},
   "source": [
    "c = 5/9 * (f + 32)\n",
    "f = 9/5 * (c - 32)"
   ]
  },
  {
   "cell_type": "code",
   "execution_count": 18,
   "id": "a6ecfd0c",
   "metadata": {},
   "outputs": [
    {
     "name": "stdout",
     "output_type": "stream",
     "text": [
      "enter temperature input value: 200\n",
      "enter unit f/c: c\n",
      "the temperature value from 200.0c is 302.4fahrenheit\n"
     ]
    }
   ],
   "source": [
    "temp_value = float(input(\"enter temperature input value: \"))\n",
    "unit = input(\"enter unit f/c: \").lower()\n",
    "if unit == \"f\":\n",
    "    celcius = round(5/9 * (temp_value + 32), 3)\n",
    "    print(f\"the temperature value from {temp_value}f is {celcius}celcuis\")\n",
    "    \n",
    "elif unit == \"c\":\n",
    "    fahr = round(9/5 * (temp_value - 32), 3)\n",
    "    print(f\"the temperature value from {temp_value}c is {fahr}fahrenheit\")\n",
    "\n",
    "else:\n",
    "    print(\"Inut not understood!!!!!\")"
   ]
  },
  {
   "cell_type": "code",
   "execution_count": 19,
   "id": "10fe74d1",
   "metadata": {},
   "outputs": [
    {
     "name": "stdout",
     "output_type": "stream",
     "text": [
      "Enter substring values: h\n",
      "ia adams\n"
     ]
    }
   ],
   "source": [
    "value = \"cynthia adams\"\n",
    "sub_string = input('Enter substring values: ')\n",
    "k = value.index(sub_string)\n",
    "right_values = value[k+1: ]\n",
    "print(right_values)"
   ]
  },
  {
   "cell_type": "code",
   "execution_count": 20,
   "id": "109f6418",
   "metadata": {},
   "outputs": [
    {
     "name": "stdout",
     "output_type": "stream",
     "text": [
      "Enter sub string values: h\n",
      "thia adams\n"
     ]
    }
   ],
   "source": [
    "value = \"cynthia adams\"\n",
    "sub_string = input('Enter sub string values: ')\n",
    "k = value.index(sub_string)\n",
    "right_values = value[k-1: ]\n",
    "print(right_values)"
   ]
  },
  {
   "cell_type": "code",
   "execution_count": 21,
   "id": "1218d0fb",
   "metadata": {},
   "outputs": [
    {
     "name": "stdout",
     "output_type": "stream",
     "text": [
      "Enter substring values: h\n",
      "cynth\n"
     ]
    }
   ],
   "source": [
    "value = \"cynthia adams\"\n",
    "sub_string = input('Enter substring values: ')\n",
    "k = value.index(sub_string)\n",
    "right_values = value[ :k+1]\n",
    "print(right_values)"
   ]
  },
  {
   "cell_type": "code",
   "execution_count": null,
   "id": "5042655f",
   "metadata": {},
   "outputs": [],
   "source": [
    "value = \"cynthia adams\"\n",
    "sub_string = input('Enter substring values: ')\n",
    "k = value.index(sub_string)\n",
    "left_values = value[ :k-1]\n",
    "print(left_values)"
   ]
  },
  {
   "cell_type": "code",
   "execution_count": 24,
   "id": "bb353e33",
   "metadata": {},
   "outputs": [
    {
     "data": {
      "text/plain": [
       "6"
      ]
     },
     "execution_count": 24,
     "metadata": {},
     "output_type": "execute_result"
    }
   ],
   "source": [
    "n = \"tobechukwuigia\"\n",
    "n.index(\"u\")"
   ]
  },
  {
   "cell_type": "code",
   "execution_count": null,
   "id": "b1135057",
   "metadata": {},
   "outputs": [],
   "source": [
    "sentence = input(\"Enter a sentence\")\n",
    "word = input(\"Enter a word\")\n",
    "words = sentence.split(' ')\n",
    "positions "
   ]
  },
  {
   "cell_type": "code",
   "execution_count": null,
   "id": "7d60eb9d",
   "metadata": {},
   "outputs": [],
   "source": []
  }
 ],
 "metadata": {
  "kernelspec": {
   "display_name": "Python 3 (ipykernel)",
   "language": "python",
   "name": "python3"
  },
  "language_info": {
   "codemirror_mode": {
    "name": "ipython",
    "version": 3
   },
   "file_extension": ".py",
   "mimetype": "text/x-python",
   "name": "python",
   "nbconvert_exporter": "python",
   "pygments_lexer": "ipython3",
   "version": "3.9.7"
  }
 },
 "nbformat": 4,
 "nbformat_minor": 5
}
