{
 "cells": [
  {
   "cell_type": "code",
   "execution_count": 38,
   "id": "3d3a7653",
   "metadata": {},
   "outputs": [],
   "source": [
    "import json\n",
    "data = \"usa_gov.txt\"\n",
    "data_rec = []\n",
    "for i in open(data):\n",
    "    a = json.loads(i)\n",
    "    data_rec.append(a)\n"
   ]
  },
  {
   "cell_type": "code",
   "execution_count": 39,
   "id": "248481a1",
   "metadata": {},
   "outputs": [],
   "source": [
    "import pandas as pd\n",
    "df = pd.DataFrame(data_rec)\n"
   ]
  },
  {
   "cell_type": "code",
   "execution_count": 6,
   "id": "5d8e2829",
   "metadata": {},
   "outputs": [
    {
     "data": {
      "text/plain": [
       "(3560, 18)"
      ]
     },
     "execution_count": 6,
     "metadata": {},
     "output_type": "execute_result"
    }
   ],
   "source": [
    "df.shape"
   ]
  },
  {
   "cell_type": "code",
   "execution_count": 17,
   "id": "cdbf8fdb",
   "metadata": {},
   "outputs": [
    {
     "data": {
      "text/html": [
       "<div>\n",
       "<style scoped>\n",
       "    .dataframe tbody tr th:only-of-type {\n",
       "        vertical-align: middle;\n",
       "    }\n",
       "\n",
       "    .dataframe tbody tr th {\n",
       "        vertical-align: top;\n",
       "    }\n",
       "\n",
       "    .dataframe thead th {\n",
       "        text-align: right;\n",
       "    }\n",
       "</style>\n",
       "<table border=\"1\" class=\"dataframe\">\n",
       "  <thead>\n",
       "    <tr style=\"text-align: right;\">\n",
       "      <th></th>\n",
       "      <th>u</th>\n",
       "      <th>tz</th>\n",
       "    </tr>\n",
       "  </thead>\n",
       "  <tbody>\n",
       "    <tr>\n",
       "      <th>0</th>\n",
       "      <td>http://www.ncbi.nlm.nih.gov/pubmed/22415991</td>\n",
       "      <td>America/New_York</td>\n",
       "    </tr>\n",
       "    <tr>\n",
       "      <th>1</th>\n",
       "      <td>http://www.monroecounty.gov/etc/911/rss.php</td>\n",
       "      <td>America/Denver</td>\n",
       "    </tr>\n",
       "    <tr>\n",
       "      <th>2</th>\n",
       "      <td>http://boxer.senate.gov/en/press/releases/0316...</td>\n",
       "      <td>America/New_York</td>\n",
       "    </tr>\n",
       "    <tr>\n",
       "      <th>3</th>\n",
       "      <td>http://apod.nasa.gov/apod/ap120312.html</td>\n",
       "      <td>America/Sao_Paulo</td>\n",
       "    </tr>\n",
       "    <tr>\n",
       "      <th>4</th>\n",
       "      <td>http://www.shrewsbury-ma.gov/egov/gallery/1341...</td>\n",
       "      <td>America/New_York</td>\n",
       "    </tr>\n",
       "    <tr>\n",
       "      <th>...</th>\n",
       "      <td>...</td>\n",
       "      <td>...</td>\n",
       "    </tr>\n",
       "    <tr>\n",
       "      <th>3555</th>\n",
       "      <td>http://www.fda.gov/AdvisoryCommittees/Committe...</td>\n",
       "      <td>America/New_York</td>\n",
       "    </tr>\n",
       "    <tr>\n",
       "      <th>3556</th>\n",
       "      <td>http://www.okc.gov/PublicNotificationSystem/Fo...</td>\n",
       "      <td>America/Chicago</td>\n",
       "    </tr>\n",
       "    <tr>\n",
       "      <th>3557</th>\n",
       "      <td>http://www.monroecounty.gov/etc/911/rss.php</td>\n",
       "      <td>America/Denver</td>\n",
       "    </tr>\n",
       "    <tr>\n",
       "      <th>3558</th>\n",
       "      <td>http://www.ahrq.gov/qual/qitoolkit/</td>\n",
       "      <td>America/Los_Angeles</td>\n",
       "    </tr>\n",
       "    <tr>\n",
       "      <th>3559</th>\n",
       "      <td>http://herndon-va.gov/Content/public_safety/Pu...</td>\n",
       "      <td>America/New_York</td>\n",
       "    </tr>\n",
       "  </tbody>\n",
       "</table>\n",
       "<p>3560 rows × 2 columns</p>\n",
       "</div>"
      ],
      "text/plain": [
       "                                                      u                   tz\n",
       "0           http://www.ncbi.nlm.nih.gov/pubmed/22415991     America/New_York\n",
       "1           http://www.monroecounty.gov/etc/911/rss.php       America/Denver\n",
       "2     http://boxer.senate.gov/en/press/releases/0316...     America/New_York\n",
       "3               http://apod.nasa.gov/apod/ap120312.html    America/Sao_Paulo\n",
       "4     http://www.shrewsbury-ma.gov/egov/gallery/1341...     America/New_York\n",
       "...                                                 ...                  ...\n",
       "3555  http://www.fda.gov/AdvisoryCommittees/Committe...     America/New_York\n",
       "3556  http://www.okc.gov/PublicNotificationSystem/Fo...      America/Chicago\n",
       "3557        http://www.monroecounty.gov/etc/911/rss.php       America/Denver\n",
       "3558                http://www.ahrq.gov/qual/qitoolkit/  America/Los_Angeles\n",
       "3559  http://herndon-va.gov/Content/public_safety/Pu...     America/New_York\n",
       "\n",
       "[3560 rows x 2 columns]"
      ]
     },
     "execution_count": 17,
     "metadata": {},
     "output_type": "execute_result"
    }
   ],
   "source": [
    "u_tz = df[[\"u\", \"tz\"]]\n",
    "u_tz"
   ]
  },
  {
   "cell_type": "code",
   "execution_count": 18,
   "id": "54f5f116",
   "metadata": {},
   "outputs": [
    {
     "data": {
      "text/plain": [
       "a               120\n",
       "c               641\n",
       "nk              120\n",
       "tz              120\n",
       "gr              641\n",
       "g               120\n",
       "h               120\n",
       "l               120\n",
       "al              466\n",
       "hh              120\n",
       "r               120\n",
       "u               120\n",
       "t               120\n",
       "hc              120\n",
       "cy              641\n",
       "ll              641\n",
       "_heartbeat_    3440\n",
       "kw             3467\n",
       "dtype: int64"
      ]
     },
     "execution_count": 18,
     "metadata": {},
     "output_type": "execute_result"
    }
   ],
   "source": [
    "#check for missing values\n",
    "df.isna().sum()"
   ]
  },
  {
   "cell_type": "code",
   "execution_count": 19,
   "id": "8b802aea",
   "metadata": {},
   "outputs": [
    {
     "data": {
      "text/plain": [
       "    521\n",
       "Name: tz, dtype: int64"
      ]
     },
     "execution_count": 19,
     "metadata": {},
     "output_type": "execute_result"
    }
   ],
   "source": [
    "b = df[df[\"tz\"] == \"\"]\n",
    "b[\"tz\"].value_counts()"
   ]
  },
  {
   "cell_type": "code",
   "execution_count": 20,
   "id": "876558f3",
   "metadata": {},
   "outputs": [
    {
     "data": {
      "text/plain": [
       "120"
      ]
     },
     "execution_count": 20,
     "metadata": {},
     "output_type": "execute_result"
    }
   ],
   "source": [
    "df[\"tz\"].isna().sum()"
   ]
  },
  {
   "cell_type": "code",
   "execution_count": 21,
   "id": "ba2defbf",
   "metadata": {},
   "outputs": [
    {
     "data": {
      "text/html": [
       "<div>\n",
       "<style scoped>\n",
       "    .dataframe tbody tr th:only-of-type {\n",
       "        vertical-align: middle;\n",
       "    }\n",
       "\n",
       "    .dataframe tbody tr th {\n",
       "        vertical-align: top;\n",
       "    }\n",
       "\n",
       "    .dataframe thead th {\n",
       "        text-align: right;\n",
       "    }\n",
       "</style>\n",
       "<table border=\"1\" class=\"dataframe\">\n",
       "  <thead>\n",
       "    <tr style=\"text-align: right;\">\n",
       "      <th></th>\n",
       "      <th>index</th>\n",
       "      <th>tz</th>\n",
       "    </tr>\n",
       "  </thead>\n",
       "  <tbody>\n",
       "    <tr>\n",
       "      <th>0</th>\n",
       "      <td>America/New_York</td>\n",
       "      <td>1251</td>\n",
       "    </tr>\n",
       "    <tr>\n",
       "      <th>1</th>\n",
       "      <td></td>\n",
       "      <td>521</td>\n",
       "    </tr>\n",
       "    <tr>\n",
       "      <th>2</th>\n",
       "      <td>America/Chicago</td>\n",
       "      <td>400</td>\n",
       "    </tr>\n",
       "    <tr>\n",
       "      <th>3</th>\n",
       "      <td>America/Los_Angeles</td>\n",
       "      <td>382</td>\n",
       "    </tr>\n",
       "    <tr>\n",
       "      <th>4</th>\n",
       "      <td>America/Denver</td>\n",
       "      <td>191</td>\n",
       "    </tr>\n",
       "    <tr>\n",
       "      <th>...</th>\n",
       "      <td>...</td>\n",
       "      <td>...</td>\n",
       "    </tr>\n",
       "    <tr>\n",
       "      <th>92</th>\n",
       "      <td>Europe/Uzhgorod</td>\n",
       "      <td>1</td>\n",
       "    </tr>\n",
       "    <tr>\n",
       "      <th>93</th>\n",
       "      <td>Australia/Queensland</td>\n",
       "      <td>1</td>\n",
       "    </tr>\n",
       "    <tr>\n",
       "      <th>94</th>\n",
       "      <td>Europe/Sofia</td>\n",
       "      <td>1</td>\n",
       "    </tr>\n",
       "    <tr>\n",
       "      <th>95</th>\n",
       "      <td>America/Costa_Rica</td>\n",
       "      <td>1</td>\n",
       "    </tr>\n",
       "    <tr>\n",
       "      <th>96</th>\n",
       "      <td>America/Tegucigalpa</td>\n",
       "      <td>1</td>\n",
       "    </tr>\n",
       "  </tbody>\n",
       "</table>\n",
       "<p>97 rows × 2 columns</p>\n",
       "</div>"
      ],
      "text/plain": [
       "                   index    tz\n",
       "0       America/New_York  1251\n",
       "1                          521\n",
       "2        America/Chicago   400\n",
       "3    America/Los_Angeles   382\n",
       "4         America/Denver   191\n",
       "..                   ...   ...\n",
       "92       Europe/Uzhgorod     1\n",
       "93  Australia/Queensland     1\n",
       "94          Europe/Sofia     1\n",
       "95    America/Costa_Rica     1\n",
       "96   America/Tegucigalpa     1\n",
       "\n",
       "[97 rows x 2 columns]"
      ]
     },
     "execution_count": 21,
     "metadata": {},
     "output_type": "execute_result"
    }
   ],
   "source": [
    "import numpy as np\n",
    "\n",
    "tz = df[\"tz\"].value_counts().reset_index()\n",
    "tz"
   ]
  },
  {
   "cell_type": "code",
   "execution_count": 22,
   "id": "a22904ef",
   "metadata": {},
   "outputs": [
    {
     "data": {
      "text/plain": [
       "array(['America/New_York', '', 'America/Chicago', 'America/Los_Angeles',\n",
       "       'America/Denver', 'Europe/London', 'Asia/Tokyo',\n",
       "       'Pacific/Honolulu', 'Europe/Madrid', 'America/Sao_Paulo',\n",
       "       'Europe/Berlin', 'Europe/Rome', 'America/Rainy_River',\n",
       "       'Europe/Amsterdam', 'America/Phoenix', 'America/Indianapolis',\n",
       "       'Europe/Warsaw', 'America/Mexico_City', 'Europe/Stockholm',\n",
       "       'Europe/Paris', 'America/Vancouver', 'Pacific/Auckland',\n",
       "       'America/Puerto_Rico', 'Europe/Helsinki', 'Europe/Moscow',\n",
       "       'Europe/Prague', 'Asia/Hong_Kong', 'Europe/Oslo', 'Asia/Calcutta',\n",
       "       'Asia/Istanbul', 'America/Montreal', 'Europe/Lisbon',\n",
       "       'Europe/Vienna', 'Asia/Bangkok', 'Europe/Athens',\n",
       "       'America/Edmonton', 'Chile/Continental', 'Australia/NSW',\n",
       "       'Europe/Copenhagen', 'Asia/Seoul', 'America/Anchorage',\n",
       "       'Europe/Budapest', 'Europe/Brussels', 'America/Halifax',\n",
       "       'Europe/Zurich', 'Europe/Bucharest', 'America/Winnipeg',\n",
       "       'Asia/Dubai', 'Asia/Beirut', 'Asia/Harbin', 'America/Managua',\n",
       "       'Asia/Jakarta', 'Africa/Cairo', 'Europe/Dublin', 'Asia/Jerusalem',\n",
       "       'Europe/Bratislava', 'Asia/Kuala_Lumpur', 'America/Bogota',\n",
       "       'Asia/Karachi', 'Europe/Malta', 'America/Guayaquil', 'Asia/Amman',\n",
       "       'America/Chihuahua', 'Europe/Belgrade', 'Europe/Riga',\n",
       "       'America/Recife', 'Africa/Ceuta', 'Europe/Vilnius',\n",
       "       'Europe/Volgograd', 'Asia/Kuching', 'America/Argentina/Cordoba',\n",
       "       'America/Santo_Domingo', 'America/La_Paz', 'America/St_Kitts',\n",
       "       'Africa/Johannesburg', 'Africa/Casablanca', 'Asia/Nicosia',\n",
       "       'Africa/Lusaka', 'Europe/Ljubljana', 'Asia/Pontianak',\n",
       "       'America/Lima', 'Asia/Novosibirsk', 'Europe/Skopje',\n",
       "       'America/Monterrey', 'America/Argentina/Buenos_Aires',\n",
       "       'Asia/Yekaterinburg', 'Asia/Manila', 'America/Caracas',\n",
       "       'Asia/Riyadh', 'America/Montevideo', 'America/Argentina/Mendoza',\n",
       "       'America/Mazatlan', 'Europe/Uzhgorod', 'Australia/Queensland',\n",
       "       'Europe/Sofia', 'America/Costa_Rica', 'America/Tegucigalpa'],\n",
       "      dtype=object)"
      ]
     },
     "execution_count": 22,
     "metadata": {},
     "output_type": "execute_result"
    }
   ],
   "source": [
    "tz['index'].values"
   ]
  },
  {
   "cell_type": "code",
   "execution_count": 23,
   "id": "05a33d03",
   "metadata": {},
   "outputs": [
    {
     "data": {
      "text/html": [
       "<div>\n",
       "<style scoped>\n",
       "    .dataframe tbody tr th:only-of-type {\n",
       "        vertical-align: middle;\n",
       "    }\n",
       "\n",
       "    .dataframe tbody tr th {\n",
       "        vertical-align: top;\n",
       "    }\n",
       "\n",
       "    .dataframe thead th {\n",
       "        text-align: right;\n",
       "    }\n",
       "</style>\n",
       "<table border=\"1\" class=\"dataframe\">\n",
       "  <thead>\n",
       "    <tr style=\"text-align: right;\">\n",
       "      <th></th>\n",
       "      <th>index</th>\n",
       "      <th>tz</th>\n",
       "    </tr>\n",
       "  </thead>\n",
       "  <tbody>\n",
       "    <tr>\n",
       "      <th>1</th>\n",
       "      <td></td>\n",
       "      <td>521</td>\n",
       "    </tr>\n",
       "  </tbody>\n",
       "</table>\n",
       "</div>"
      ],
      "text/plain": [
       "  index   tz\n",
       "1        521"
      ]
     },
     "execution_count": 23,
     "metadata": {},
     "output_type": "execute_result"
    }
   ],
   "source": [
    "tz[tz[\"index\"] == \"\"]"
   ]
  },
  {
   "cell_type": "code",
   "execution_count": 24,
   "id": "c86c7d55",
   "metadata": {},
   "outputs": [
    {
     "data": {
      "text/html": [
       "<div>\n",
       "<style scoped>\n",
       "    .dataframe tbody tr th:only-of-type {\n",
       "        vertical-align: middle;\n",
       "    }\n",
       "\n",
       "    .dataframe tbody tr th {\n",
       "        vertical-align: top;\n",
       "    }\n",
       "\n",
       "    .dataframe thead th {\n",
       "        text-align: right;\n",
       "    }\n",
       "</style>\n",
       "<table border=\"1\" class=\"dataframe\">\n",
       "  <thead>\n",
       "    <tr style=\"text-align: right;\">\n",
       "      <th></th>\n",
       "      <th>timezones</th>\n",
       "      <th>counts</th>\n",
       "    </tr>\n",
       "  </thead>\n",
       "  <tbody>\n",
       "    <tr>\n",
       "      <th>0</th>\n",
       "      <td>America/New_York</td>\n",
       "      <td>1251</td>\n",
       "    </tr>\n",
       "    <tr>\n",
       "      <th>1</th>\n",
       "      <td></td>\n",
       "      <td>521</td>\n",
       "    </tr>\n",
       "    <tr>\n",
       "      <th>2</th>\n",
       "      <td>America/Chicago</td>\n",
       "      <td>400</td>\n",
       "    </tr>\n",
       "    <tr>\n",
       "      <th>3</th>\n",
       "      <td>America/Los_Angeles</td>\n",
       "      <td>382</td>\n",
       "    </tr>\n",
       "    <tr>\n",
       "      <th>4</th>\n",
       "      <td>America/Denver</td>\n",
       "      <td>191</td>\n",
       "    </tr>\n",
       "    <tr>\n",
       "      <th>...</th>\n",
       "      <td>...</td>\n",
       "      <td>...</td>\n",
       "    </tr>\n",
       "    <tr>\n",
       "      <th>92</th>\n",
       "      <td>Europe/Uzhgorod</td>\n",
       "      <td>1</td>\n",
       "    </tr>\n",
       "    <tr>\n",
       "      <th>93</th>\n",
       "      <td>Australia/Queensland</td>\n",
       "      <td>1</td>\n",
       "    </tr>\n",
       "    <tr>\n",
       "      <th>94</th>\n",
       "      <td>Europe/Sofia</td>\n",
       "      <td>1</td>\n",
       "    </tr>\n",
       "    <tr>\n",
       "      <th>95</th>\n",
       "      <td>America/Costa_Rica</td>\n",
       "      <td>1</td>\n",
       "    </tr>\n",
       "    <tr>\n",
       "      <th>96</th>\n",
       "      <td>America/Tegucigalpa</td>\n",
       "      <td>1</td>\n",
       "    </tr>\n",
       "  </tbody>\n",
       "</table>\n",
       "<p>97 rows × 2 columns</p>\n",
       "</div>"
      ],
      "text/plain": [
       "               timezones  counts\n",
       "0       America/New_York    1251\n",
       "1                            521\n",
       "2        America/Chicago     400\n",
       "3    America/Los_Angeles     382\n",
       "4         America/Denver     191\n",
       "..                   ...     ...\n",
       "92       Europe/Uzhgorod       1\n",
       "93  Australia/Queensland       1\n",
       "94          Europe/Sofia       1\n",
       "95    America/Costa_Rica       1\n",
       "96   America/Tegucigalpa       1\n",
       "\n",
       "[97 rows x 2 columns]"
      ]
     },
     "execution_count": 24,
     "metadata": {},
     "output_type": "execute_result"
    }
   ],
   "source": [
    "tz.columns = [\"timezones\", \"counts\"]\n",
    "tz"
   ]
  },
  {
   "cell_type": "code",
   "execution_count": 25,
   "id": "7408cfe6",
   "metadata": {},
   "outputs": [],
   "source": [
    "array = []\n",
    "for i in tz[\"timezones\"].values:\n",
    "    if i == \"\":\n",
    "        a = \"unknown\"\n",
    "        array.append(a)\n",
    "    else:\n",
    "        array.append(i)\n",
    "#print(array)\n",
    "tz[\"timezones\"] = array"
   ]
  },
  {
   "cell_type": "code",
   "execution_count": 26,
   "id": "ce1f7d35",
   "metadata": {},
   "outputs": [
    {
     "data": {
      "text/plain": [
       "timezones    0\n",
       "counts       0\n",
       "dtype: int64"
      ]
     },
     "execution_count": 26,
     "metadata": {},
     "output_type": "execute_result"
    }
   ],
   "source": [
    "tz.isna().sum()"
   ]
  },
  {
   "cell_type": "code",
   "execution_count": 27,
   "id": "44a94901",
   "metadata": {},
   "outputs": [
    {
     "data": {
      "text/plain": [
       "<AxesSubplot:>"
      ]
     },
     "execution_count": 27,
     "metadata": {},
     "output_type": "execute_result"
    },
    {
     "data": {
      "image/png": "[encoded data removed]",
      "text/plain": [
       "<Figure size 640x480 with 1 Axes>"
      ]
     },
     "metadata": {},
     "output_type": "display_data"
    }
   ],
   "source": [
    "tz.head(10).plot(kind=\"barh\")"
   ]
  },
  {
   "cell_type": "code",
   "execution_count": 28,
   "id": "88108160",
   "metadata": {},
   "outputs": [
    {
     "data": {
      "text/plain": [
       "array(['America/New_York', 'unknown', 'America/Chicago',\n",
       "       'America/Los_Angeles', 'America/Denver', 'Europe/London',\n",
       "       'Asia/Tokyo', 'Pacific/Honolulu', 'Europe/Madrid',\n",
       "       'America/Sao_Paulo', 'Europe/Berlin', 'Europe/Rome',\n",
       "       'America/Rainy_River', 'Europe/Amsterdam', 'America/Phoenix',\n",
       "       'America/Indianapolis', 'Europe/Warsaw', 'America/Mexico_City',\n",
       "       'Europe/Stockholm', 'Europe/Paris', 'America/Vancouver',\n",
       "       'Pacific/Auckland', 'America/Puerto_Rico', 'Europe/Helsinki',\n",
       "       'Europe/Moscow', 'Europe/Prague', 'Asia/Hong_Kong', 'Europe/Oslo',\n",
       "       'Asia/Calcutta', 'Asia/Istanbul', 'America/Montreal',\n",
       "       'Europe/Lisbon', 'Europe/Vienna', 'Asia/Bangkok', 'Europe/Athens',\n",
       "       'America/Edmonton', 'Chile/Continental', 'Australia/NSW',\n",
       "       'Europe/Copenhagen', 'Asia/Seoul', 'America/Anchorage',\n",
       "       'Europe/Budapest', 'Europe/Brussels', 'America/Halifax',\n",
       "       'Europe/Zurich', 'Europe/Bucharest', 'America/Winnipeg',\n",
       "       'Asia/Dubai', 'Asia/Beirut', 'Asia/Harbin', 'America/Managua',\n",
       "       'Asia/Jakarta', 'Africa/Cairo', 'Europe/Dublin', 'Asia/Jerusalem',\n",
       "       'Europe/Bratislava', 'Asia/Kuala_Lumpur', 'America/Bogota',\n",
       "       'Asia/Karachi', 'Europe/Malta', 'America/Guayaquil', 'Asia/Amman',\n",
       "       'America/Chihuahua', 'Europe/Belgrade', 'Europe/Riga',\n",
       "       'America/Recife', 'Africa/Ceuta', 'Europe/Vilnius',\n",
       "       'Europe/Volgograd', 'Asia/Kuching', 'America/Argentina/Cordoba',\n",
       "       'America/Santo_Domingo', 'America/La_Paz', 'America/St_Kitts',\n",
       "       'Africa/Johannesburg', 'Africa/Casablanca', 'Asia/Nicosia',\n",
       "       'Africa/Lusaka', 'Europe/Ljubljana', 'Asia/Pontianak',\n",
       "       'America/Lima', 'Asia/Novosibirsk', 'Europe/Skopje',\n",
       "       'America/Monterrey', 'America/Argentina/Buenos_Aires',\n",
       "       'Asia/Yekaterinburg', 'Asia/Manila', 'America/Caracas',\n",
       "       'Asia/Riyadh', 'America/Montevideo', 'America/Argentina/Mendoza',\n",
       "       'America/Mazatlan', 'Europe/Uzhgorod', 'Australia/Queensland',\n",
       "       'Europe/Sofia', 'America/Costa_Rica', 'America/Tegucigalpa'],\n",
       "      dtype=object)"
      ]
     },
     "execution_count": 28,
     "metadata": {},
     "output_type": "execute_result"
    }
   ],
   "source": [
    "tz[\"timezones\"].values"
   ]
  },
  {
   "cell_type": "code",
   "execution_count": 31,
   "id": "88a0e3e3",
   "metadata": {},
   "outputs": [
    {
     "name": "stdout",
     "output_type": "stream",
     "text": [
      "['Mozilla/5.0', '(Windows', 'NT', '6.1;', 'WOW64)', 'AppleWebKit/535.11', '(KHTML,', 'like', 'Gecko)', 'Chrome/17.0.963.78', 'Safari/535.11']\n",
      "['GoogleMaps/RochesterNY']\n",
      "['Mozilla/4.0', '(compatible;', 'MSIE', '8.0;', 'Windows', 'NT', '6.1;', 'WOW64;', 'Trident/4.0;', 'SLCC2;', '.NET', 'CLR', '2.0.50727;', '.NET', 'CLR', '3.5.30729;', '.NET', 'CLR', '3.0.30729;', 'Media', 'Center', 'PC', '6.0;', '.NET4.0C;', '.NET4.0E;', 'InfoPath.3)']\n",
      "['Mozilla/5.0', '(Macintosh;', 'Intel', 'Mac', 'OS', 'X', '10_6_8)', 'AppleWebKit/534.52.7', '(KHTML,', 'like', 'Gecko)', 'Version/5.1.2', 'Safari/534.52.7']\n",
      "['Mozilla/5.0', '(Windows', 'NT', '6.1;', 'WOW64)', 'AppleWebKit/535.11', '(KHTML,', 'like', 'Gecko)', 'Chrome/17.0.963.79', 'Safari/535.11']\n",
      "['Mozilla/5.0', '(Windows', 'NT', '6.1;', 'WOW64)', 'AppleWebKit/535.11', '(KHTML,', 'like', 'Gecko)', 'Chrome/17.0.963.79', 'Safari/535.11']\n",
      "['Mozilla/5.0', '(Windows', 'NT', '5.1)', 'AppleWebKit/535.11', '(KHTML,', 'like', 'Gecko)', 'Chrome/17.0.963.79', 'Safari/535.11']\n",
      "['Mozilla/5.0', '(Windows', 'NT', '6.1;', 'rv:2.0.1)', 'Gecko/20100101', 'Firefox/4.0.1']\n",
      "['Opera/9.80', '(X11;', 'Linux', 'zbov;', 'U;', 'en)', 'Presto/2.10.254', 'Version/12.00']\n",
      "['Mozilla/5.0', '(Windows', 'NT', '6.1;', 'WOW64)', 'AppleWebKit/535.11', '(KHTML,', 'like', 'Gecko)', 'Chrome/17.0.963.79', 'Safari/535.11']\n",
      "['Mozilla/5.0', '(Windows', 'NT', '6.1;', 'WOW64;', 'rv:10.0.2)', 'Gecko/20100101', 'Firefox/10.0.2']\n",
      "['Mozilla/5.0', '(Macintosh;', 'U;', 'Intel', 'Mac', 'OS', 'X', '10.4;', 'en-US;', 'rv:1.9.2.27)', 'Gecko/20120216', 'Firefox/3.6.27']\n",
      "['Mozilla/5.0', '(Windows', 'NT', '6.1;', 'WOW64;', 'rv:10.0.2)', 'Gecko/20100101', 'Firefox/10.0.2']\n"
     ]
    },
    {
     "ename": "AttributeError",
     "evalue": "'float' object has no attribute 'split'",
     "output_type": "error",
     "traceback": [
      "\u001b[1;31m---------------------------------------------------------------------------\u001b[0m",
      "\u001b[1;31mAttributeError\u001b[0m                            Traceback (most recent call last)",
      "\u001b[1;32m~\\AppData\\Local\\Temp\\ipykernel_9056\\3386481055.py\u001b[0m in \u001b[0;36m<module>\u001b[1;34m\u001b[0m\n\u001b[0;32m      1\u001b[0m \u001b[1;32mfor\u001b[0m \u001b[0mi\u001b[0m \u001b[1;32min\u001b[0m \u001b[0mdf\u001b[0m\u001b[1;33m[\u001b[0m\u001b[1;34m'a'\u001b[0m\u001b[1;33m]\u001b[0m\u001b[1;33m.\u001b[0m\u001b[0mvalues\u001b[0m\u001b[1;33m:\u001b[0m\u001b[1;33m\u001b[0m\u001b[1;33m\u001b[0m\u001b[0m\n\u001b[1;32m----> 2\u001b[1;33m     \u001b[0mprint\u001b[0m\u001b[1;33m(\u001b[0m\u001b[0mi\u001b[0m\u001b[1;33m.\u001b[0m\u001b[0msplit\u001b[0m\u001b[1;33m(\u001b[0m\u001b[1;33m)\u001b[0m\u001b[1;33m)\u001b[0m\u001b[1;33m\u001b[0m\u001b[1;33m\u001b[0m\u001b[0m\n\u001b[0m",
      "\u001b[1;31mAttributeError\u001b[0m: 'float' object has no attribute 'split'"
     ]
    }
   ],
   "source": [
    "for i in df['a'].values:\n",
    "    print(i.split())"
   ]
  },
  {
   "cell_type": "code",
   "execution_count": 32,
   "id": "7aa7ba5a",
   "metadata": {},
   "outputs": [
    {
     "data": {
      "text/plain": [
       "120"
      ]
     },
     "execution_count": 32,
     "metadata": {},
     "output_type": "execute_result"
    }
   ],
   "source": [
    "df[\"a\"].isna().sum()"
   ]
  },
  {
   "cell_type": "code",
   "execution_count": 41,
   "id": "78eed0be",
   "metadata": {},
   "outputs": [
    {
     "data": {
      "text/plain": [
       "3540    Mozilla/5.0 (Windows NT 6.1; WOW64) AppleWebKi...\n",
       "3541    Mozilla/5.0 (X11; U; OpenVMS AlphaServer_ES40;...\n",
       "3542    Mozilla/5.0 (compatible; MSIE 9.0; Windows NT ...\n",
       "3543                                                  NaN\n",
       "3544    Mozilla/5.0 (Windows NT 6.1; WOW64; rv:5.0.1) ...\n",
       "3545    Mozilla/5.0 (Windows NT 6.1; WOW64; rv:10.0.2)...\n",
       "3546    Mozilla/5.0 (iPhone; CPU iPhone OS 5_1 like Ma...\n",
       "3547    Mozilla/5.0 (Macintosh; Intel Mac OS X 10_6_8)...\n",
       "3548    Mozilla/5.0 (iPhone; CPU iPhone OS 5_1 like Ma...\n",
       "3549    Mozilla/5.0 (Windows NT 6.1; WOW64) AppleWebKi...\n",
       "3550    Mozilla/4.0 (compatible; MSIE 8.0; Windows NT ...\n",
       "3551    Mozilla/5.0 (Windows NT 6.1; WOW64) AppleWebKi...\n",
       "3552    Mozilla/5.0 (Windows; U; Windows NT 6.1; en-US...\n",
       "3553    Mozilla/4.0 (compatible; MSIE 7.0; Windows NT ...\n",
       "3554    Mozilla/4.0 (compatible; MSIE 7.0; Windows NT ...\n",
       "3555    Mozilla/4.0 (compatible; MSIE 9.0; Windows NT ...\n",
       "3556    Mozilla/5.0 (Windows NT 5.1) AppleWebKit/535.1...\n",
       "3557                               GoogleMaps/RochesterNY\n",
       "3558                                       GoogleProducer\n",
       "3559    Mozilla/4.0 (compatible; MSIE 8.0; Windows NT ...\n",
       "Name: a, dtype: object"
      ]
     },
     "execution_count": 41,
     "metadata": {},
     "output_type": "execute_result"
    }
   ],
   "source": [
    "df['a'].tail(20)"
   ]
  },
  {
   "cell_type": "code",
   "execution_count": 55,
   "id": "4b48b666",
   "metadata": {},
   "outputs": [
    {
     "data": {
      "text/plain": [
       "0     Mozilla/5.0 (Windows NT 6.1; WOW64) AppleWebKi...\n",
       "1                                GoogleMaps/RochesterNY\n",
       "2     Mozilla/4.0 (compatible; MSIE 8.0; Windows NT ...\n",
       "3     Mozilla/5.0 (Macintosh; Intel Mac OS X 10_6_8)...\n",
       "4     Mozilla/5.0 (Windows NT 6.1; WOW64) AppleWebKi...\n",
       "5     Mozilla/5.0 (Windows NT 6.1; WOW64) AppleWebKi...\n",
       "6     Mozilla/5.0 (Windows NT 5.1) AppleWebKit/535.1...\n",
       "7     Mozilla/5.0 (Windows NT 6.1; rv:2.0.1) Gecko/2...\n",
       "8     Opera/9.80 (X11; Linux zbov; U; en) Presto/2.1...\n",
       "9     Mozilla/5.0 (Windows NT 6.1; WOW64) AppleWebKi...\n",
       "10    Mozilla/5.0 (Windows NT 6.1; WOW64; rv:10.0.2)...\n",
       "11    Mozilla/5.0 (Macintosh; U; Intel Mac OS X 10.4...\n",
       "12    Mozilla/5.0 (Windows NT 6.1; WOW64; rv:10.0.2)...\n",
       "14    Mozilla/5.0 (Windows; U; Windows NT 6.1; en-US...\n",
       "15    Mozilla/5.0 (Windows NT 6.1) AppleWebKit/535.1...\n",
       "16    Mozilla/5.0 (Windows NT 6.1) AppleWebKit/535.1...\n",
       "17    Mozilla/5.0 (Macintosh; Intel Mac OS X 10.5; r...\n",
       "18                               GoogleMaps/RochesterNY\n",
       "19    Mozilla/5.0 (Windows NT 6.1; WOW64) AppleWebKi...\n",
       "20    Mozilla/5.0 (compatible; MSIE 9.0; Windows NT ...\n",
       "21    Mozilla/5.0 (Macintosh; U; Intel Mac OS X 10.6...\n",
       "22    Mozilla/4.0 (compatible; MSIE 8.0; Windows NT ...\n",
       "23    Mozilla/5.0 (Macintosh; Intel Mac OS X 10_7_3)...\n",
       "24    Mozilla/5.0 (Windows; U; Windows NT 5.1; es-ES...\n",
       "25    Mozilla/5.0 (Windows NT 6.1) AppleWebKit/535.1...\n",
       "26    Mozilla/5.0 (Windows NT 6.1) AppleWebKit/535.1...\n",
       "27    Mozilla/5.0 (Macintosh; Intel Mac OS X 10_6_8)...\n",
       "28    Mozilla/5.0 (iPad; CPU OS 5_0_1 like Mac OS X)...\n",
       "29    Mozilla/5.0 (iPad; U; CPU OS 3_2 like Mac OS X...\n",
       "30    Mozilla/5.0 (Windows NT 5.1) AppleWebKit/535.1...\n",
       "31    Mozilla/5.0 (Windows NT 5.1) AppleWebKit/535.1...\n",
       "32    Mozilla/4.0 (compatible; MSIE 7.0; Windows NT ...\n",
       "33    Mozilla/5.0 (Macintosh; U; Intel Mac OS X 10.4...\n",
       "34    Mozilla/5.0 (Windows NT 5.1) AppleWebKit/535.1...\n",
       "35    Mozilla/5.0 (Windows NT 6.1; WOW64) AppleWebKi...\n",
       "36    Mozilla/4.0 (compatible; MSIE 7.0; Windows NT ...\n",
       "37    Mozilla/5.0 (Windows NT 6.1; WOW64; rv:10.0.2)...\n",
       "38    Mozilla/4.0 (compatible; MSIE 8.0; Windows NT ...\n",
       "39    Mozilla/5.0 (Windows NT 6.1; WOW64; rv:10.0.2)...\n",
       "40    Mozilla/5.0 (iPhone; CPU iPhone OS 5_1 like Ma...\n",
       "Name: a, dtype: object"
      ]
     },
     "execution_count": 55,
     "metadata": {},
     "output_type": "execute_result"
    }
   ],
   "source": [
    "a_df = df['a'].dropna()\n",
    "a_df.head(40)"
   ]
  },
  {
   "cell_type": "code",
   "execution_count": 57,
   "id": "4915aabf",
   "metadata": {},
   "outputs": [
    {
     "data": {
      "text/plain": [
       "<AxesSubplot:>"
      ]
     },
     "execution_count": 57,
     "metadata": {},
     "output_type": "execute_result"
    },
    {
     "data": {
      "image/png": "[encoded data removed]",
      "text/plain": [
       "<Figure size 640x480 with 1 Axes>"
      ]
     },
     "metadata": {},
     "output_type": "display_data"
    }
   ],
   "source": [
    "moz_ver = a_df[a_df.str.contains(\"iPhone\")]\n",
    "moz_ver.head(6).value_counts().plot(kind=\"barh\")"
   ]
  },
  {
   "cell_type": "code",
   "execution_count": 58,
   "id": "21eb0300",
   "metadata": {},
   "outputs": [
    {
     "data": {
      "text/plain": [
       "0"
      ]
     },
     "execution_count": 58,
     "metadata": {},
     "output_type": "execute_result"
    }
   ],
   "source": [
    "df_u = df[\"u\"].dropna()\n",
    "df_u.isna().sum()"
   ]
  },
  {
   "cell_type": "code",
   "execution_count": 59,
   "id": "66e8d7b6",
   "metadata": {},
   "outputs": [
    {
     "data": {
      "text/plain": [
       "Series([], Name: u, dtype: object)"
      ]
     },
     "execution_count": 59,
     "metadata": {},
     "output_type": "execute_result"
    }
   ],
   "source": [
    "df_u[df_u == \"\"]"
   ]
  },
  {
   "cell_type": "code",
   "execution_count": 60,
   "id": "0d68ae6a",
   "metadata": {},
   "outputs": [
    {
     "data": {
      "text/plain": [
       "0             http://www.ncbi.nlm.nih.gov/pubmed/22415991\n",
       "1             http://www.monroecounty.gov/etc/911/rss.php\n",
       "2       http://boxer.senate.gov/en/press/releases/0316...\n",
       "3                 http://apod.nasa.gov/apod/ap120312.html\n",
       "4       http://www.shrewsbury-ma.gov/egov/gallery/1341...\n",
       "                              ...                        \n",
       "3555    http://www.fda.gov/AdvisoryCommittees/Committe...\n",
       "3556    http://www.okc.gov/PublicNotificationSystem/Fo...\n",
       "3557          http://www.monroecounty.gov/etc/911/rss.php\n",
       "3558                  http://www.ahrq.gov/qual/qitoolkit/\n",
       "3559    http://herndon-va.gov/Content/public_safety/Pu...\n",
       "Name: u, Length: 3298, dtype: object"
      ]
     },
     "execution_count": 60,
     "metadata": {},
     "output_type": "execute_result"
    }
   ],
   "source": [
    "gov_web = df_u[df_u.str.contains(\".gov\")]\n",
    "gov_web"
   ]
  },
  {
   "cell_type": "code",
   "execution_count": 63,
   "id": "1a5300d0",
   "metadata": {},
   "outputs": [
    {
     "data": {
      "text/plain": [
       "3298"
      ]
     },
     "execution_count": 63,
     "metadata": {},
     "output_type": "execute_result"
    }
   ],
   "source": [
    "gov_web.value_counts().sum()"
   ]
  },
  {
   "cell_type": "code",
   "execution_count": 66,
   "id": "08653b37",
   "metadata": {},
   "outputs": [],
   "source": [
    "file = open(\"gov_web.txt\", \"w\")\n",
    "for i in gov_web.values:\n",
    "    file.write(f\"{i}\\n\")"
   ]
  },
  {
   "cell_type": "code",
   "execution_count": 67,
   "id": "9ff28bc1",
   "metadata": {},
   "outputs": [
    {
     "data": {
      "text/plain": [
       "10      https://www.nysdot.gov/rexdesign/design/commun...\n",
       "12      https://www.nysdot.gov/rexdesign/design/commun...\n",
       "28      https://www.nysdot.gov/rexdesign/design/commun...\n",
       "37      https://www.nysdot.gov/rexdesign/design/commun...\n",
       "39      https://www.nysdot.gov/rexdesign/design/commun...\n",
       "                              ...                        \n",
       "3529    https://www.nysdot.gov/rexdesign/design/commun...\n",
       "3534    https://www.nysdot.gov/rexdesign/design/commun...\n",
       "3542    http://www.sba.gov/community/blogs/community-b...\n",
       "3544    https://www.nysdot.gov/rexdesign/design/commun...\n",
       "3545    https://www.nysdot.gov/rexdesign/design/commun...\n",
       "Name: u, Length: 926, dtype: object"
      ]
     },
     "execution_count": 67,
     "metadata": {},
     "output_type": "execute_result"
    }
   ],
   "source": [
    "normal_web = df_u[df_u.str.contains(\".com\")]\n",
    "normal_web"
   ]
  },
  {
   "cell_type": "code",
   "execution_count": 35,
   "id": "30fd6b44",
   "metadata": {},
   "outputs": [],
   "source": [
    "new_web = df[\"u\"].dropna()"
   ]
  },
  {
   "cell_type": "code",
   "execution_count": 36,
   "id": "873ee9e9",
   "metadata": {},
   "outputs": [
    {
     "data": {
      "text/plain": [
       "142"
      ]
     },
     "execution_count": 36,
     "metadata": {},
     "output_type": "execute_result"
    }
   ],
   "source": [
    "non_gov = []\n",
    "for i in new_web.values:\n",
    "    if \".gov\" not in str(i):\n",
    "        non_gov.append(i)\n",
    "        \n",
    "df_nongov = pd.DataFrame(non_gov)\n",
    "df_nongov.columns = [\"non_government\"]\n",
    "df_nongov[\"non_government\"].value_counts().sum()"
   ]
  },
  {
   "cell_type": "code",
   "execution_count": 37,
   "id": "1bbdd4c2",
   "metadata": {},
   "outputs": [
    {
     "data": {
      "text/html": [
       "<div>\n",
       "<style scoped>\n",
       "    .dataframe tbody tr th:only-of-type {\n",
       "        vertical-align: middle;\n",
       "    }\n",
       "\n",
       "    .dataframe tbody tr th {\n",
       "        vertical-align: top;\n",
       "    }\n",
       "\n",
       "    .dataframe thead th {\n",
       "        text-align: right;\n",
       "    }\n",
       "</style>\n",
       "<table border=\"1\" class=\"dataframe\">\n",
       "  <thead>\n",
       "    <tr style=\"text-align: right;\">\n",
       "      <th></th>\n",
       "      <th>non_government</th>\n",
       "    </tr>\n",
       "  </thead>\n",
       "  <tbody>\n",
       "    <tr>\n",
       "      <th>0</th>\n",
       "      <td>http://www.usno.navy.mil/NOOC/nmfc-ph/RSS/jtwc...</td>\n",
       "    </tr>\n",
       "    <tr>\n",
       "      <th>1</th>\n",
       "      <td>http://www.tricare.mil/mybenefit/ProfileFilter...</td>\n",
       "    </tr>\n",
       "    <tr>\n",
       "      <th>2</th>\n",
       "      <td>http://www.cnic.navy.mil/navycni/groups/public...</td>\n",
       "    </tr>\n",
       "    <tr>\n",
       "      <th>3</th>\n",
       "      <td>http://www.army.mil/article/75464/Marksmanship...</td>\n",
       "    </tr>\n",
       "    <tr>\n",
       "      <th>4</th>\n",
       "      <td>http://www.cnic.navy.mil/navycni/groups/public...</td>\n",
       "    </tr>\n",
       "    <tr>\n",
       "      <th>...</th>\n",
       "      <td>...</td>\n",
       "    </tr>\n",
       "    <tr>\n",
       "      <th>137</th>\n",
       "      <td>https://www.benning.army.mil/common/faqs/Gener...</td>\n",
       "    </tr>\n",
       "    <tr>\n",
       "      <th>138</th>\n",
       "      <td>http://www.usps.com/shipping/trackandconfirm.htm</td>\n",
       "    </tr>\n",
       "    <tr>\n",
       "      <th>139</th>\n",
       "      <td>http://www.army.mil/news/africa/</td>\n",
       "    </tr>\n",
       "    <tr>\n",
       "      <th>140</th>\n",
       "      <td>http://www.stripes.com/news/58-bodies-found-in...</td>\n",
       "    </tr>\n",
       "    <tr>\n",
       "      <th>141</th>\n",
       "      <td>http://www.cnic.navy.mil/navycni/groups/public...</td>\n",
       "    </tr>\n",
       "  </tbody>\n",
       "</table>\n",
       "<p>142 rows × 1 columns</p>\n",
       "</div>"
      ],
      "text/plain": [
       "                                        non_government\n",
       "0    http://www.usno.navy.mil/NOOC/nmfc-ph/RSS/jtwc...\n",
       "1    http://www.tricare.mil/mybenefit/ProfileFilter...\n",
       "2    http://www.cnic.navy.mil/navycni/groups/public...\n",
       "3    http://www.army.mil/article/75464/Marksmanship...\n",
       "4    http://www.cnic.navy.mil/navycni/groups/public...\n",
       "..                                                 ...\n",
       "137  https://www.benning.army.mil/common/faqs/Gener...\n",
       "138   http://www.usps.com/shipping/trackandconfirm.htm\n",
       "139                   http://www.army.mil/news/africa/\n",
       "140  http://www.stripes.com/news/58-bodies-found-in...\n",
       "141  http://www.cnic.navy.mil/navycni/groups/public...\n",
       "\n",
       "[142 rows x 1 columns]"
      ]
     },
     "execution_count": 37,
     "metadata": {},
     "output_type": "execute_result"
    }
   ],
   "source": [
    "df_nongov"
   ]
  },
  {
   "cell_type": "code",
   "execution_count": null,
   "id": "a08680a9",
   "metadata": {},
   "outputs": [],
   "source": []
  }
 ],
 "metadata": {
  "kernelspec": {
   "display_name": "Python 3 (ipykernel)",
   "language": "python",
   "name": "python3"
  },
  "language_info": {
   "codemirror_mode": {
    "name": "ipython",
    "version": 3
   },
   "file_extension": ".py",
   "mimetype": "text/x-python",
   "name": "python",
   "nbconvert_exporter": "python",
   "pygments_lexer": "ipython3",
   "version": "3.9.13"
  }
 },
 "nbformat": 4,
 "nbformat_minor": 5
}
