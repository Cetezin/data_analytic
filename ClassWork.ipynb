{
 "cells": [
  {
   "cell_type": "code",
   "execution_count": 41,
   "id": "90e6402a",
   "metadata": {},
   "outputs": [
    {
     "name": "stdout",
     "output_type": "stream",
     "text": [
      "John is 30 years old\n",
      "Lola is 43 years old\n",
      "Bayo is 25 years old\n"
     ]
    }
   ],
   "source": [
    "name = [\"john\", \"lola\", \"bayo\"]\n",
    "ages = [30, 43, 25]\n",
    "\n",
    "Name = []\n",
    "for i in name:\n",
    "    a = i[0].upper() + i.split()[0][1:]\n",
    "    Name.append(a)\n",
    "\n",
    "for n in range(len(name)):\n",
    "    print(f\"{Name[n]} is {ages[n]} years old\")"
   ]
  },
  {
   "cell_type": "code",
   "execution_count": 10,
   "id": "4f62c9a5",
   "metadata": {},
   "outputs": [],
   "source": [
    "firstname = [\"katie\", \"bicah\", \"lemah\", \"judie\" ]\n",
    "surname = [\"tamuno\"]"
   ]
  },
  {
   "cell_type": "code",
   "execution_count": 11,
   "id": "2bdcbec7",
   "metadata": {},
   "outputs": [
    {
     "name": "stdout",
     "output_type": "stream",
     "text": [
      "['katie tamuno', 'bicah tamuno', 'lemah tamuno', 'judie tamuno']\n"
     ]
    }
   ],
   "source": [
    "fullname = []\n",
    "for j in range(len(firstname)):\n",
    "    name_array = firstname[j] + \" \" + surname[0]\n",
    "    fullname.append(name_array)\n",
    "print(fullname)"
   ]
  },
  {
   "cell_type": "code",
   "execution_count": 3,
   "id": "b0daed74",
   "metadata": {},
   "outputs": [],
   "source": [
    "import os"
   ]
  },
  {
   "cell_type": "code",
   "execution_count": 12,
   "id": "283493cd",
   "metadata": {},
   "outputs": [
    {
     "name": "stdout",
     "output_type": "stream",
     "text": [
      " Volume in drive C has no label.\n",
      " Volume Serial Number is E608-7F89\n",
      "\n",
      " Directory of C:\\Users\\AS\\Desktop\\data_analytic\\pythonCodes\n",
      "\n",
      "11/08/2022  02:46 PM    <DIR>          .\n",
      "11/08/2022  02:46 PM    <DIR>          ..\n",
      "11/04/2022  06:55 PM    <DIR>          .ipynb_checkpoints\n",
      "11/08/2022  11:53 AM            28,861 Assignments.ipynb\n",
      "11/07/2022  04:58 PM                22 dataSheets.txt\n",
      "11/08/2022  12:00 PM                56 newname.txt\n",
      "11/08/2022  11:58 AM               112 new_filename.txt\n",
      "11/07/2022  05:08 PM               384 new_temp.txt\n",
      "11/08/2022  02:46 PM             4,541 Practice.ipynb\n",
      "11/08/2022  11:54 AM    <DIR>          Untitled Folder\n",
      "11/08/2022  11:54 AM    <DIR>          Untitled Folder 1\n",
      "               6 File(s)         33,976 bytes\n",
      "               5 Dir(s)  254,180,364,288 bytes free\n"
     ]
    }
   ],
   "source": [
    "!dir"
   ]
  },
  {
   "cell_type": "code",
   "execution_count": 8,
   "id": "a32e5806",
   "metadata": {},
   "outputs": [],
   "source": [
    "print_file = open(\"newname.txt\", \"a\")\n",
    "for n in fullname:\n",
    "    print_file.write(f\"{n}\\n\")"
   ]
  },
  {
   "cell_type": "code",
   "execution_count": null,
   "id": "1111003f",
   "metadata": {},
   "outputs": [],
   "source": []
  },
  {
   "cell_type": "markdown",
   "id": "064feded",
   "metadata": {},
   "source": [
    "### Matrices"
   ]
  },
  {
   "cell_type": "code",
   "execution_count": 1,
   "id": "8ffad40e",
   "metadata": {},
   "outputs": [
    {
     "name": "stdout",
     "output_type": "stream",
     "text": [
      "name\n",
      "funmi\n",
      "bola\n"
     ]
    }
   ],
   "source": [
    "a = [[\"name\", \"age\", \"score\"],\n",
    "     [\"funmi\", \"27\", \"78\"],\n",
    "     [\"bola\", \"30\", \"90\"]]\n",
    "\n",
    "print(a[0][0])\n",
    "print(a[1][0])\n",
    "print(a[2][0])"
   ]
  },
  {
   "cell_type": "code",
   "execution_count": 2,
   "id": "2829f18a",
   "metadata": {},
   "outputs": [
    {
     "name": "stdout",
     "output_type": "stream",
     "text": [
      "age\n",
      "27\n",
      "30\n"
     ]
    }
   ],
   "source": [
    "print(a[0][1])\n",
    "print(a[1][1])\n",
    "print(a[2][1])"
   ]
  },
  {
   "cell_type": "code",
   "execution_count": 3,
   "id": "b8d54796",
   "metadata": {},
   "outputs": [
    {
     "name": "stdout",
     "output_type": "stream",
     "text": [
      "0 0\n",
      "1 0\n",
      "2 0\n",
      "0 1\n",
      "1 1\n",
      "2 1\n",
      "0 2\n",
      "1 2\n",
      "2 2\n"
     ]
    }
   ],
   "source": [
    "for i in range(0, 3):\n",
    "    for a in range(0, 3):\n",
    "        print(a, i)"
   ]
  },
  {
   "cell_type": "code",
   "execution_count": 6,
   "id": "25cc0913",
   "metadata": {},
   "outputs": [],
   "source": [
    "a = [[\"name\", \"age\", \"score\"],\n",
    "     [\"funmi\", \"27\", \"78\"],\n",
    "     [\"bola\", \"30\", \"90\"]]"
   ]
  },
  {
   "cell_type": "code",
   "execution_count": 7,
   "id": "2291029a",
   "metadata": {},
   "outputs": [
    {
     "data": {
      "text/html": [
       "<div>\n",
       "<style scoped>\n",
       "    .dataframe tbody tr th:only-of-type {\n",
       "        vertical-align: middle;\n",
       "    }\n",
       "\n",
       "    .dataframe tbody tr th {\n",
       "        vertical-align: top;\n",
       "    }\n",
       "\n",
       "    .dataframe thead th {\n",
       "        text-align: right;\n",
       "    }\n",
       "</style>\n",
       "<table border=\"1\" class=\"dataframe\">\n",
       "  <thead>\n",
       "    <tr style=\"text-align: right;\">\n",
       "      <th></th>\n",
       "      <th>name</th>\n",
       "      <th>age</th>\n",
       "      <th>score</th>\n",
       "    </tr>\n",
       "  </thead>\n",
       "  <tbody>\n",
       "    <tr>\n",
       "      <th>0</th>\n",
       "      <td>funmi</td>\n",
       "      <td>27</td>\n",
       "      <td>78</td>\n",
       "    </tr>\n",
       "    <tr>\n",
       "      <th>1</th>\n",
       "      <td>bola</td>\n",
       "      <td>30</td>\n",
       "      <td>90</td>\n",
       "    </tr>\n",
       "  </tbody>\n",
       "</table>\n",
       "</div>"
      ],
      "text/plain": [
       "    name age score\n",
       "0  funmi  27    78\n",
       "1   bola  30    90"
      ]
     },
     "execution_count": 7,
     "metadata": {},
     "output_type": "execute_result"
    }
   ],
   "source": [
    "import pandas as pd\n",
    "df = pd.DataFrame(a[1:], columns=a[0])\n",
    "df"
   ]
  },
  {
   "cell_type": "code",
   "execution_count": 8,
   "id": "4f258f1c",
   "metadata": {},
   "outputs": [
    {
     "data": {
      "text/plain": [
       "'bola'"
      ]
     },
     "execution_count": 8,
     "metadata": {},
     "output_type": "execute_result"
    }
   ],
   "source": [
    "a[2][0]"
   ]
  },
  {
   "cell_type": "code",
   "execution_count": 44,
   "id": "8e1925f3",
   "metadata": {},
   "outputs": [
    {
     "name": "stdout",
     "output_type": "stream",
     "text": [
      "['name', 'funmi', 'bola']\n",
      "['age', '27', '30']\n",
      "['score', '78', '90']\n"
     ]
    }
   ],
   "source": [
    "for i in range(0, len(a)):\n",
    "    index_value = []\n",
    "    for n in a:\n",
    "        index_value.append(n[i])\n",
    "    print(index_value)"
   ]
  },
  {
   "cell_type": "code",
   "execution_count": 62,
   "id": "6236a076",
   "metadata": {},
   "outputs": [
    {
     "name": "stdout",
     "output_type": "stream",
     "text": [
      "[['name', 'funmi', 'bola'], ['age', '27', '30'], ['score', '78', '90']]\n"
     ]
    }
   ],
   "source": [
    "new_arr = []\n",
    "for i in range(0, 3):\n",
    "    arr = []\n",
    "    for n in a:\n",
    "        arr.append(n[i])\n",
    "    new_arr.append(arr)\n",
    "print(new_arr)"
   ]
  },
  {
   "cell_type": "code",
   "execution_count": 11,
   "id": "a1da7acb",
   "metadata": {},
   "outputs": [
    {
     "name": "stdout",
     "output_type": "stream",
     "text": [
      "0 3\n",
      "0 4\n",
      "0 5\n",
      "1 3\n",
      "1 4\n",
      "1 5\n",
      "2 3\n",
      "2 4\n",
      "2 5\n"
     ]
    }
   ],
   "source": [
    "for a in range(0, 3):\n",
    "    for n in range(3, 6):\n",
    "        print(a, n)"
   ]
  },
  {
   "cell_type": "code",
   "execution_count": 82,
   "id": "b4a8802b",
   "metadata": {},
   "outputs": [
    {
     "name": "stdout",
     "output_type": "stream",
     "text": [
      "9 11\n"
     ]
    }
   ],
   "source": [
    "b = [9, 10, 11, 2, 7]\n",
    "\n",
    "#sum any index that would give you 18\n",
    "\n",
    "for j in range(0, len(b)):\n",
    "    for d in range(j+1, len(b)):\n",
    "        k = [b[j], b[d]]\n",
    "        if sum(k) == 20:\n",
    "            print(b[j], b[d])"
   ]
  },
  {
   "cell_type": "code",
   "execution_count": 13,
   "id": "1183c716",
   "metadata": {},
   "outputs": [],
   "source": [
    "a = [[\"name\", \"age\", \"score\"],\n",
    "     [\"funmi\", \"27\", \"78\"],\n",
    "     [\"bola\", \"30\", \"90\"]]"
   ]
  },
  {
   "cell_type": "code",
   "execution_count": 14,
   "id": "6607c176",
   "metadata": {},
   "outputs": [
    {
     "data": {
      "text/plain": [
       "('score', '27', 'bola')"
      ]
     },
     "execution_count": 14,
     "metadata": {},
     "output_type": "execute_result"
    }
   ],
   "source": [
    "a[0][2], a[1][1], a[2][0]"
   ]
  },
  {
   "cell_type": "code",
   "execution_count": 15,
   "id": "5f9971f6",
   "metadata": {},
   "outputs": [
    {
     "data": {
      "text/plain": [
       "['bola', '30', '90']"
      ]
     },
     "execution_count": 15,
     "metadata": {},
     "output_type": "execute_result"
    }
   ],
   "source": [
    "a[i]"
   ]
  },
  {
   "cell_type": "code",
   "execution_count": 16,
   "id": "7ee57618",
   "metadata": {},
   "outputs": [
    {
     "name": "stdout",
     "output_type": "stream",
     "text": [
      "[[1, 2, 4, 9], [9, 10, 12, 8], [4, 43, 11, 7]]\n"
     ]
    }
   ],
   "source": [
    "list_arr = [[1, 2, 4, 9],\n",
    "           [9, 10, 12, 8],\n",
    "           [4, 43, 11, 7]]\n",
    "print(list_arr)"
   ]
  },
  {
   "cell_type": "code",
   "execution_count": 17,
   "id": "a08df9e4",
   "metadata": {},
   "outputs": [
    {
     "name": "stdout",
     "output_type": "stream",
     "text": [
      "[[1, 9, 4], [2, 10, 43], [4, 12, 11], [9, 8, 7]]\n"
     ]
    }
   ],
   "source": [
    "new_arr = []\n",
    "for i in range(0, len(list_arr[0])):\n",
    "    arr = []\n",
    "    for n in list_arr:\n",
    "        arr.append(n[i])\n",
    "    new_arr.append(arr)\n",
    "print(new_arr)"
   ]
  },
  {
   "cell_type": "code",
   "execution_count": 45,
   "id": "c2de64d2",
   "metadata": {},
   "outputs": [],
   "source": [
    "a = [[\"name\", \"age\", \"score\"],\n",
    "     [\"funmi\", \"27\", \"78\"],\n",
    "     [\"bola\", \"30\", \"90\"]]"
   ]
  },
  {
   "cell_type": "markdown",
   "id": "44dabd0d",
   "metadata": {},
   "source": [
    "### Assignment"
   ]
  },
  {
   "cell_type": "code",
   "execution_count": 60,
   "id": "76bdb8b0",
   "metadata": {},
   "outputs": [
    {
     "name": "stdout",
     "output_type": "stream",
     "text": [
      "['score', '27', 'bola']\n"
     ]
    }
   ],
   "source": [
    "arr_list = []\n",
    "for i in range(0, 3):\n",
    "    for j in range(0, 3):\n",
    "        k = i + j\n",
    "        if (k == 2):\n",
    "            arr_list.append(a[i][j])\n",
    "print(arr_list)"
   ]
  },
  {
   "cell_type": "code",
   "execution_count": null,
   "id": "b841e64e",
   "metadata": {},
   "outputs": [],
   "source": []
  },
  {
   "cell_type": "code",
   "execution_count": null,
   "id": "a55467f2",
   "metadata": {},
   "outputs": [],
   "source": []
  }
 ],
 "metadata": {
  "kernelspec": {
   "display_name": "Python 3 (ipykernel)",
   "language": "python",
   "name": "python3"
  },
  "language_info": {
   "codemirror_mode": {
    "name": "ipython",
    "version": 3
   },
   "file_extension": ".py",
   "mimetype": "text/x-python",
   "name": "python",
   "nbconvert_exporter": "python",
   "pygments_lexer": "ipython3",
   "version": "3.9.13"
  }
 },
 "nbformat": 4,
 "nbformat_minor": 5
}
