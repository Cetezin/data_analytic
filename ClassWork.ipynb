{
 "cells": [
  {
   "cell_type": "code",
   "execution_count": 5,
   "id": "90e6402a",
   "metadata": {},
   "outputs": [
    {
     "name": "stdout",
     "output_type": "stream",
     "text": [
      "John is 30 years old\n",
      "Lola is 43 years old\n",
      "Bayo is 25 years old\n"
     ]
    }
   ],
   "source": [
    "name = [\"john\", \"lola\", \"bayo\"]\n",
    "ages = [30, 43, 25]\n",
    "\n",
    "Name = []\n",
    "for i in name:\n",
    "    a = i[0].upper() + i.split()[0][1:]\n",
    "    Name.append(a)\n",
    "\n",
    "for n in range(len(name)):\n",
    "    print(f\"{Name[n]} is {ages[n]} years old\")"
   ]
  },
  {
   "cell_type": "code",
   "execution_count": 10,
   "id": "4f62c9a5",
   "metadata": {},
   "outputs": [],
   "source": [
    "firstname = [\"katie\", \"bicah\", \"lemah\", \"judie\" ]\n",
    "surname = [\"tamuno\"]"
   ]
  },
  {
   "cell_type": "code",
   "execution_count": 11,
   "id": "2bdcbec7",
   "metadata": {},
   "outputs": [
    {
     "name": "stdout",
     "output_type": "stream",
     "text": [
      "['katie tamuno', 'bicah tamuno', 'lemah tamuno', 'judie tamuno']\n"
     ]
    }
   ],
   "source": [
    "fullname = []\n",
    "for j in range(len(firstname)):\n",
    "    name_array = firstname[j] + \" \" + surname[0]\n",
    "    fullname.append(name_array)\n",
    "print(fullname)"
   ]
  },
  {
   "cell_type": "code",
   "execution_count": 3,
   "id": "b0daed74",
   "metadata": {},
   "outputs": [],
   "source": [
    "import os"
   ]
  },
  {
   "cell_type": "code",
   "execution_count": 12,
   "id": "283493cd",
   "metadata": {},
   "outputs": [
    {
     "name": "stdout",
     "output_type": "stream",
     "text": [
      " Volume in drive C has no label.\n",
      " Volume Serial Number is E608-7F89\n",
      "\n",
      " Directory of C:\\Users\\AS\\Desktop\\data_analytic\\pythonCodes\n",
      "\n",
      "11/08/2022  02:46 PM    <DIR>          .\n",
      "11/08/2022  02:46 PM    <DIR>          ..\n",
      "11/04/2022  06:55 PM    <DIR>          .ipynb_checkpoints\n",
      "11/08/2022  11:53 AM            28,861 Assignments.ipynb\n",
      "11/07/2022  04:58 PM                22 dataSheets.txt\n",
      "11/08/2022  12:00 PM                56 newname.txt\n",
      "11/08/2022  11:58 AM               112 new_filename.txt\n",
      "11/07/2022  05:08 PM               384 new_temp.txt\n",
      "11/08/2022  02:46 PM             4,541 Practice.ipynb\n",
      "11/08/2022  11:54 AM    <DIR>          Untitled Folder\n",
      "11/08/2022  11:54 AM    <DIR>          Untitled Folder 1\n",
      "               6 File(s)         33,976 bytes\n",
      "               5 Dir(s)  254,180,364,288 bytes free\n"
     ]
    }
   ],
   "source": [
    "!dir"
   ]
  },
  {
   "cell_type": "code",
   "execution_count": 8,
   "id": "a32e5806",
   "metadata": {},
   "outputs": [],
   "source": [
    "print_file = open(\"newname.txt\", \"a\")\n",
    "for n in fullname:\n",
    "    print_file.write(f\"{n}\\n\")"
   ]
  },
  {
   "cell_type": "code",
   "execution_count": null,
   "id": "1111003f",
   "metadata": {},
   "outputs": [],
   "source": []
  },
  {
   "cell_type": "markdown",
   "id": "abcfde42",
   "metadata": {},
   "source": [
    "### Matrices"
   ]
  },
  {
   "cell_type": "code",
   "execution_count": 1,
   "id": "587b70ad",
   "metadata": {},
   "outputs": [
    {
     "name": "stdout",
     "output_type": "stream",
     "text": [
      "name\n",
      "funmi\n",
      "bola\n"
     ]
    }
   ],
   "source": [
    "a = [[\"name\", \"age\", \"score\"],\n",
    "     [\"funmi\", \"27\", \"78\"],\n",
    "     [\"bola\", \"30\", \"90\"]]\n",
    "\n",
    "print(a[0][0])\n",
    "print(a[1][0])\n",
    "print(a[2][0])"
   ]
  },
  {
   "cell_type": "code",
   "execution_count": 2,
   "id": "87105c5d",
   "metadata": {},
   "outputs": [
    {
     "name": "stdout",
     "output_type": "stream",
     "text": [
      "age\n",
      "27\n",
      "30\n"
     ]
    }
   ],
   "source": [
    "print(a[0][1])\n",
    "print(a[1][1])\n",
    "print(a[2][1])"
   ]
  },
  {
   "cell_type": "code",
   "execution_count": 90,
   "id": "24bf5ebc",
   "metadata": {},
   "outputs": [
    {
     "name": "stdout",
     "output_type": "stream",
     "text": [
      "0 0\n",
      "0 1\n",
      "0 2\n",
      "1 0\n",
      "1 1\n",
      "1 2\n",
      "2 0\n",
      "2 1\n",
      "2 2\n"
     ]
    }
   ],
   "source": [
    "for i in range(0, 3):\n",
    "    for j in range(0, 3):\n",
    "        print(i, j)\n",
    "        #print(a[i][j])"
   ]
  },
  {
   "cell_type": "code",
   "execution_count": 8,
   "id": "c6c24dcc",
   "metadata": {},
   "outputs": [],
   "source": [
    "a = [[\"name\", \"age\", \"score\"],\n",
    "     [\"funmi\", \"27\", \"78\"],\n",
    "     [\"bola\", \"30\", \"90\"]]"
   ]
  },
  {
   "cell_type": "code",
   "execution_count": 26,
   "id": "a3a0c319",
   "metadata": {},
   "outputs": [
    {
     "data": {
      "text/html": [
       "<div>\n",
       "<style scoped>\n",
       "    .dataframe tbody tr th:only-of-type {\n",
       "        vertical-align: middle;\n",
       "    }\n",
       "\n",
       "    .dataframe tbody tr th {\n",
       "        vertical-align: top;\n",
       "    }\n",
       "\n",
       "    .dataframe thead th {\n",
       "        text-align: right;\n",
       "    }\n",
       "</style>\n",
       "<table border=\"1\" class=\"dataframe\">\n",
       "  <thead>\n",
       "    <tr style=\"text-align: right;\">\n",
       "      <th></th>\n",
       "      <th>name</th>\n",
       "      <th>age</th>\n",
       "      <th>score</th>\n",
       "    </tr>\n",
       "  </thead>\n",
       "  <tbody>\n",
       "    <tr>\n",
       "      <th>0</th>\n",
       "      <td>funmi</td>\n",
       "      <td>27</td>\n",
       "      <td>78</td>\n",
       "    </tr>\n",
       "    <tr>\n",
       "      <th>1</th>\n",
       "      <td>bola</td>\n",
       "      <td>30</td>\n",
       "      <td>90</td>\n",
       "    </tr>\n",
       "  </tbody>\n",
       "</table>\n",
       "</div>"
      ],
      "text/plain": [
       "    name age score\n",
       "0  funmi  27    78\n",
       "1   bola  30    90"
      ]
     },
     "execution_count": 26,
     "metadata": {},
     "output_type": "execute_result"
    }
   ],
   "source": [
    "import pandas as pd\n",
    "df = pd.DataFrame(a[1:], columns=a[0])\n",
    "df"
   ]
  },
  {
   "cell_type": "code",
   "execution_count": 8,
   "id": "27a85743",
   "metadata": {},
   "outputs": [
    {
     "data": {
      "text/plain": [
       "'bola'"
      ]
     },
     "execution_count": 8,
     "metadata": {},
     "output_type": "execute_result"
    }
   ],
   "source": [
    "a[2][0]"
   ]
  },
  {
   "cell_type": "code",
   "execution_count": 44,
   "id": "0d31f9b4",
   "metadata": {},
   "outputs": [
    {
     "name": "stdout",
     "output_type": "stream",
     "text": [
      "['name', 'funmi', 'bola']\n",
      "['age', '27', '30']\n",
      "['score', '78', '90']\n"
     ]
    }
   ],
   "source": [
    "for i in range(0, len(a)):\n",
    "    index_value = []\n",
    "    for n in a:\n",
    "        index_value.append(n[i])\n",
    "    print(index_value)"
   ]
  },
  {
   "cell_type": "code",
   "execution_count": 62,
   "id": "8e6385f9",
   "metadata": {},
   "outputs": [
    {
     "name": "stdout",
     "output_type": "stream",
     "text": [
      "[['name', 'funmi', 'bola'], ['age', '27', '30'], ['score', '78', '90']]\n"
     ]
    }
   ],
   "source": [
    "new_arr = []\n",
    "for i in range(0, 3):\n",
    "    arr = []\n",
    "    for n in a:\n",
    "        arr.append(n[i])\n",
    "    new_arr.append(arr)\n",
    "print(new_arr)"
   ]
  },
  {
   "cell_type": "code",
   "execution_count": 11,
   "id": "81ec75a7",
   "metadata": {},
   "outputs": [
    {
     "name": "stdout",
     "output_type": "stream",
     "text": [
      "0 3\n",
      "0 4\n",
      "0 5\n",
      "1 3\n",
      "1 4\n",
      "1 5\n",
      "2 3\n",
      "2 4\n",
      "2 5\n"
     ]
    }
   ],
   "source": [
    "for a in range(0, 3):\n",
    "    for n in range(3, 6):\n",
    "        print(a, n)"
   ]
  },
  {
   "cell_type": "code",
   "execution_count": 82,
   "id": "52efceb4",
   "metadata": {},
   "outputs": [
    {
     "name": "stdout",
     "output_type": "stream",
     "text": [
      "9 11\n"
     ]
    }
   ],
   "source": [
    "b = [9, 10, 11, 2, 7]\n",
    "\n",
    "#sum any index that would give you 18\n",
    "\n",
    "for j in range(0, len(b)):\n",
    "    for d in range(j+1, len(b)):\n",
    "        k = [b[j], b[d]]\n",
    "        if sum(k) == 20:\n",
    "            print(b[j], b[d])"
   ]
  },
  {
   "cell_type": "code",
   "execution_count": 13,
   "id": "03dd4636",
   "metadata": {},
   "outputs": [],
   "source": [
    "a = [[\"name\", \"age\", \"score\"],\n",
    "     [\"funmi\", \"27\", \"78\"],\n",
    "     [\"bola\", \"30\", \"90\"]]"
   ]
  },
  {
   "cell_type": "code",
   "execution_count": 14,
   "id": "57200e0b",
   "metadata": {},
   "outputs": [
    {
     "data": {
      "text/plain": [
       "('score', '27', 'bola')"
      ]
     },
     "execution_count": 14,
     "metadata": {},
     "output_type": "execute_result"
    }
   ],
   "source": [
    "a[0][2], a[1][1], a[2][0]"
   ]
  },
  {
   "cell_type": "code",
   "execution_count": 15,
   "id": "4e4fcb04",
   "metadata": {},
   "outputs": [
    {
     "data": {
      "text/plain": [
       "['bola', '30', '90']"
      ]
     },
     "execution_count": 15,
     "metadata": {},
     "output_type": "execute_result"
    }
   ],
   "source": [
    "a[i]"
   ]
  },
  {
   "cell_type": "code",
   "execution_count": 16,
   "id": "4076326f",
   "metadata": {},
   "outputs": [
    {
     "name": "stdout",
     "output_type": "stream",
     "text": [
      "[[1, 2, 4, 9], [9, 10, 12, 8], [4, 43, 11, 7]]\n"
     ]
    }
   ],
   "source": [
    "list_arr = [[1, 2, 4, 9],\n",
    "           [9, 10, 12, 8],\n",
    "           [4, 43, 11, 7]]\n",
    "print(list_arr)"
   ]
  },
  {
   "cell_type": "code",
   "execution_count": 17,
   "id": "e1f56c43",
   "metadata": {},
   "outputs": [
    {
     "name": "stdout",
     "output_type": "stream",
     "text": [
      "[[1, 9, 4], [2, 10, 43], [4, 12, 11], [9, 8, 7]]\n"
     ]
    }
   ],
   "source": [
    "new_arr = []\n",
    "for i in range(0, len(list_arr[0])):\n",
    "    arr = []\n",
    "    for n in list_arr:\n",
    "        arr.append(n[i])\n",
    "    new_arr.append(arr)\n",
    "print(new_arr)"
   ]
  },
  {
   "cell_type": "code",
   "execution_count": 99,
   "id": "7f852aae",
   "metadata": {},
   "outputs": [],
   "source": [
    "a = [[\"name\", \"age\", \"score\"],\n",
    "     [\"funmi\", \"27\", \"78\"],\n",
    "     [\"bola\", \"30\", \"90\"],\n",
    "     [\"bola\", \"30\", \"90\"]]"
   ]
  },
  {
   "cell_type": "markdown",
   "id": "0299c0a2",
   "metadata": {},
   "source": [
    "### Assignment"
   ]
  },
  {
   "cell_type": "code",
   "execution_count": 115,
   "id": "58d35be8",
   "metadata": {},
   "outputs": [
    {
     "name": "stdout",
     "output_type": "stream",
     "text": [
      "0\n",
      "['name', 'age', 'score'] [0]\n",
      "['name', 'age', 'score'] [1]\n",
      "['name', 'age', 'score'] [2]\n",
      "1\n",
      "['funmi', '27', '78'] [0]\n",
      "['funmi', '27', '78'] [1]\n",
      "['funmi', '27', '78'] [2]\n",
      "2\n",
      "['bola', '30', '90'] [0]\n",
      "['bola', '30', '90'] [1]\n",
      "['bola', '30', '90'] [2]\n",
      "3\n",
      "['bola', '30', '90'] [0]\n",
      "['bola', '30', '90'] [1]\n",
      "['bola', '30', '90'] [2]\n"
     ]
    }
   ],
   "source": [
    "arr_list = []\n",
    "for i in range(0, len(a)):\n",
    "    print(i)\n",
    "    for j in range(0, len(a[0])):\n",
    "        print(a[i], [j])\n",
    "        #print(k)\n",
    "        if (k == 2):\n",
    "            arr_list.append(a[i][j])\n",
    "#print(arr_list)"
   ]
  },
  {
   "cell_type": "code",
   "execution_count": 80,
   "id": "f22f936d",
   "metadata": {},
   "outputs": [
    {
     "name": "stdout",
     "output_type": "stream",
     "text": [
      "19\n"
     ]
    }
   ],
   "source": [
    "num = (1, 3, 5, 6, 4)\n",
    "\n",
    "sum = 0\n",
    "for i in num:\n",
    "    sum = sum + i\n",
    "print(sum)"
   ]
  },
  {
   "cell_type": "code",
   "execution_count": 78,
   "id": "c5061c8b",
   "metadata": {},
   "outputs": [
    {
     "name": "stdout",
     "output_type": "stream",
     "text": [
      "['name', 'age', 'score', 'funmi', '27', '78', 'bola', '30', '90']\n"
     ]
    }
   ],
   "source": [
    "name = []\n",
    "for i in range(0, 3):\n",
    "    for j in range(0, 3):\n",
    "        name.append(a[i][j])\n",
    "print(name)"
   ]
  },
  {
   "cell_type": "code",
   "execution_count": 93,
   "id": "ccad1991",
   "metadata": {},
   "outputs": [
    {
     "name": "stdout",
     "output_type": "stream",
     "text": [
      "score\n",
      "27\n",
      "bola\n"
     ]
    }
   ],
   "source": [
    "for i in range(0, len(a)):\n",
    "    b = len(a)-1\n",
    "    for d in range(0, len(a)):\n",
    "        b = -b -(-i)\n",
    "    print(a[i][-b])"
   ]
  },
  {
   "cell_type": "code",
   "execution_count": 81,
   "id": "c0017dba",
   "metadata": {},
   "outputs": [
    {
     "name": "stdout",
     "output_type": "stream",
     "text": [
      "score\n",
      "27\n",
      "bola\n"
     ]
    }
   ],
   "source": [
    "for i in range(0, 3):\n",
    "    print(a[i][2-i])"
   ]
  },
  {
   "cell_type": "markdown",
   "id": "23fe801c",
   "metadata": {},
   "source": [
    "### Dictionaries"
   ]
  },
  {
   "cell_type": "code",
   "execution_count": 13,
   "id": "9e795885",
   "metadata": {},
   "outputs": [
    {
     "name": "stdout",
     "output_type": "stream",
     "text": [
      "{'name': 'ola', 'age': 50, 'occupation': 'datascientist'}\n"
     ]
    }
   ],
   "source": [
    "# Dictioneries are key-value pairs\n",
    "\n",
    "dict_val = {\"name\": \"ola\", \"age\": 50, \"occupation\": \"datascientist\"}\n",
    "print(dict_val)"
   ]
  },
  {
   "cell_type": "code",
   "execution_count": 14,
   "id": "ef456794",
   "metadata": {},
   "outputs": [
    {
     "name": "stdout",
     "output_type": "stream",
     "text": [
      "{'name': 'ola', 'age': 50, 'occupation': 'datascientist'}\n"
     ]
    }
   ],
   "source": [
    "print(dict_val)"
   ]
  },
  {
   "cell_type": "code",
   "execution_count": 120,
   "id": "57c05329",
   "metadata": {},
   "outputs": [
    {
     "name": "stdout",
     "output_type": "stream",
     "text": [
      "{'name': 'ola', 'age': 50, 'occupation': 'datascientist', 'salary': 5500}\n"
     ]
    }
   ],
   "source": [
    "dict_val[\"salary\"] = 5500\n",
    "print(dict_val)"
   ]
  },
  {
   "cell_type": "code",
   "execution_count": 16,
   "id": "fdf11ad2",
   "metadata": {},
   "outputs": [
    {
     "name": "stdout",
     "output_type": "stream",
     "text": [
      "name ola\n",
      "age 50\n",
      "occupation datascientist\n"
     ]
    }
   ],
   "source": [
    "for i, b in dict_val.items():\n",
    "    print(i, b)"
   ]
  },
  {
   "cell_type": "code",
   "execution_count": 125,
   "id": "cbde8cdb",
   "metadata": {},
   "outputs": [
    {
     "name": "stdout",
     "output_type": "stream",
     "text": [
      "{'name': ['james', 'kate', 'made'], 'age': [20, 30, 40], 'marital_status': [True, False, True]}\n"
     ]
    }
   ],
   "source": [
    "f_dic = {\"name\":[\"james\", \"kate\", \"made\"], \"age\":[20, 30, 40], \"marital_status\":[True, False, True]}\n",
    "print(f_dic)"
   ]
  },
  {
   "cell_type": "code",
   "execution_count": 126,
   "id": "d7513ac1",
   "metadata": {},
   "outputs": [],
   "source": [
    "import pandas as pd"
   ]
  },
  {
   "cell_type": "code",
   "execution_count": 127,
   "id": "7479dc96",
   "metadata": {},
   "outputs": [
    {
     "data": {
      "text/html": [
       "<div>\n",
       "<style scoped>\n",
       "    .dataframe tbody tr th:only-of-type {\n",
       "        vertical-align: middle;\n",
       "    }\n",
       "\n",
       "    .dataframe tbody tr th {\n",
       "        vertical-align: top;\n",
       "    }\n",
       "\n",
       "    .dataframe thead th {\n",
       "        text-align: right;\n",
       "    }\n",
       "</style>\n",
       "<table border=\"1\" class=\"dataframe\">\n",
       "  <thead>\n",
       "    <tr style=\"text-align: right;\">\n",
       "      <th></th>\n",
       "      <th>name</th>\n",
       "      <th>age</th>\n",
       "      <th>marital_status</th>\n",
       "    </tr>\n",
       "  </thead>\n",
       "  <tbody>\n",
       "    <tr>\n",
       "      <th>0</th>\n",
       "      <td>james</td>\n",
       "      <td>20</td>\n",
       "      <td>True</td>\n",
       "    </tr>\n",
       "    <tr>\n",
       "      <th>1</th>\n",
       "      <td>kate</td>\n",
       "      <td>30</td>\n",
       "      <td>False</td>\n",
       "    </tr>\n",
       "    <tr>\n",
       "      <th>2</th>\n",
       "      <td>made</td>\n",
       "      <td>40</td>\n",
       "      <td>True</td>\n",
       "    </tr>\n",
       "  </tbody>\n",
       "</table>\n",
       "</div>"
      ],
      "text/plain": [
       "    name  age  marital_status\n",
       "0  james   20            True\n",
       "1   kate   30           False\n",
       "2   made   40            True"
      ]
     },
     "execution_count": 127,
     "metadata": {},
     "output_type": "execute_result"
    }
   ],
   "source": [
    "pd.DataFrame(f_dic)"
   ]
  },
  {
   "cell_type": "code",
   "execution_count": 129,
   "id": "10f35654",
   "metadata": {},
   "outputs": [
    {
     "data": {
      "text/html": [
       "<div>\n",
       "<style scoped>\n",
       "    .dataframe tbody tr th:only-of-type {\n",
       "        vertical-align: middle;\n",
       "    }\n",
       "\n",
       "    .dataframe tbody tr th {\n",
       "        vertical-align: top;\n",
       "    }\n",
       "\n",
       "    .dataframe thead th {\n",
       "        text-align: right;\n",
       "    }\n",
       "</style>\n",
       "<table border=\"1\" class=\"dataframe\">\n",
       "  <thead>\n",
       "    <tr style=\"text-align: right;\">\n",
       "      <th></th>\n",
       "      <th>name</th>\n",
       "      <th>age</th>\n",
       "      <th>occupation</th>\n",
       "      <th>salary</th>\n",
       "    </tr>\n",
       "  </thead>\n",
       "  <tbody>\n",
       "    <tr>\n",
       "      <th>0</th>\n",
       "      <td>ola</td>\n",
       "      <td>50</td>\n",
       "      <td>datascientist</td>\n",
       "      <td>5500</td>\n",
       "    </tr>\n",
       "  </tbody>\n",
       "</table>\n",
       "</div>"
      ],
      "text/plain": [
       "  name  age     occupation  salary\n",
       "0  ola   50  datascientist    5500"
      ]
     },
     "execution_count": 129,
     "metadata": {},
     "output_type": "execute_result"
    }
   ],
   "source": [
    "pd.DataFrame([dict_val])"
   ]
  },
  {
   "cell_type": "code",
   "execution_count": 28,
   "id": "209c2d56",
   "metadata": {},
   "outputs": [
    {
     "name": "stdout",
     "output_type": "stream",
     "text": [
      "[{'name': 'john', 'age': 30, 'credit_score': 20}, {'name': 'jake', 'age': 40, 'credit_score': 55}, {'name': 'ada', 'age': 25, 'credit_score': 44}]\n"
     ]
    }
   ],
   "source": [
    "dict_arr = [{\"name\":\"john\", \"age\":30, \"credit_score\":20},\n",
    "            {\"name\":\"jake\", \"age\":40, \"credit_score\":55},\n",
    "            {\"name\":\"ada\", \"age\":25, \"credit_score\":44}]\n",
    "print(dict_arr)"
   ]
  },
  {
   "cell_type": "code",
   "execution_count": 29,
   "id": "6bb625db",
   "metadata": {},
   "outputs": [
    {
     "data": {
      "text/html": [
       "<div>\n",
       "<style scoped>\n",
       "    .dataframe tbody tr th:only-of-type {\n",
       "        vertical-align: middle;\n",
       "    }\n",
       "\n",
       "    .dataframe tbody tr th {\n",
       "        vertical-align: top;\n",
       "    }\n",
       "\n",
       "    .dataframe thead th {\n",
       "        text-align: right;\n",
       "    }\n",
       "</style>\n",
       "<table border=\"1\" class=\"dataframe\">\n",
       "  <thead>\n",
       "    <tr style=\"text-align: right;\">\n",
       "      <th></th>\n",
       "      <th>name</th>\n",
       "      <th>age</th>\n",
       "      <th>credit_score</th>\n",
       "    </tr>\n",
       "  </thead>\n",
       "  <tbody>\n",
       "    <tr>\n",
       "      <th>0</th>\n",
       "      <td>john</td>\n",
       "      <td>30</td>\n",
       "      <td>20</td>\n",
       "    </tr>\n",
       "    <tr>\n",
       "      <th>1</th>\n",
       "      <td>jake</td>\n",
       "      <td>40</td>\n",
       "      <td>55</td>\n",
       "    </tr>\n",
       "    <tr>\n",
       "      <th>2</th>\n",
       "      <td>ada</td>\n",
       "      <td>25</td>\n",
       "      <td>44</td>\n",
       "    </tr>\n",
       "  </tbody>\n",
       "</table>\n",
       "</div>"
      ],
      "text/plain": [
       "   name  age  credit_score\n",
       "0  john   30            20\n",
       "1  jake   40            55\n",
       "2   ada   25            44"
      ]
     },
     "execution_count": 29,
     "metadata": {},
     "output_type": "execute_result"
    }
   ],
   "source": [
    "pd.DataFrame(dict_arr)"
   ]
  },
  {
   "cell_type": "code",
   "execution_count": 149,
   "id": "4d671fc4",
   "metadata": {},
   "outputs": [
    {
     "name": "stdout",
     "output_type": "stream",
     "text": [
      "{'name': 'john', 'age': 30, 'credit_score': 47.158953819999994}\n",
      "{'name': 'jake', 'age': 40, 'credit_score': 129.687123005}\n"
     ]
    }
   ],
   "source": [
    "for i in dict_arr:\n",
    "    for a, b in i.items():\n",
    "        if i[\"age\"] >=30:\n",
    "            i[\"credit_score\"] = i[\"credit_score\"] + i[\"credit_score\"] * 0.1\n",
    "            print(i)\n",
    "        break"
   ]
  },
  {
   "cell_type": "code",
   "execution_count": 139,
   "id": "a2f999e8",
   "metadata": {},
   "outputs": [],
   "source": [
    "a = [10, 10, 10, \"John\", True, False, False, 3, 10, False, False, False]"
   ]
  },
  {
   "cell_type": "code",
   "execution_count": 23,
   "id": "2626b800",
   "metadata": {},
   "outputs": [
    {
     "name": "stdout",
     "output_type": "stream",
     "text": [
      "{10: 4, 'John': 1, True: 1, False: 5, 3: 1}\n"
     ]
    }
   ],
   "source": [
    "hash_tab = {}\n",
    "for i in b:\n",
    "    hash_tab[i] = hash_tab.get(i,0) + 1\n",
    "print(hash_tab)"
   ]
  },
  {
   "cell_type": "code",
   "execution_count": 25,
   "id": "6069e72e",
   "metadata": {},
   "outputs": [
    {
     "name": "stdout",
     "output_type": "stream",
     "text": [
      "[4, 1, 1, 5, 1]\n"
     ]
    }
   ],
   "source": [
    "vals = []\n",
    "for n,m in hash_tab.items():\n",
    "    vals.append(m)\n",
    "print(vals)"
   ]
  },
  {
   "cell_type": "code",
   "execution_count": null,
   "id": "e0d42a60",
   "metadata": {},
   "outputs": [],
   "source": []
  },
  {
   "cell_type": "code",
   "execution_count": 45,
   "id": "af26db21",
   "metadata": {},
   "outputs": [
    {
     "name": "stdout",
     "output_type": "stream",
     "text": [
      "4\n",
      "4\n",
      "4\n",
      "5\n",
      "5\n"
     ]
    }
   ],
   "source": [
    "max_vals = vals[0]\n",
    "for i in vals:\n",
    "    if i > max_vals:\n",
    "        max_vals = i\n",
    "    print(max_vals)"
   ]
  },
  {
   "cell_type": "code",
   "execution_count": 68,
   "id": "563ccbdb",
   "metadata": {},
   "outputs": [
    {
     "name": "stdout",
     "output_type": "stream",
     "text": [
      "False\n"
     ]
    }
   ],
   "source": [
    "for i, j in hash_tab.items():\n",
    "    if j == max_vals:\n",
    "        print(i)"
   ]
  },
  {
   "cell_type": "code",
   "execution_count": 153,
   "id": "80cece98",
   "metadata": {},
   "outputs": [
    {
     "ename": "IndexError",
     "evalue": "list index out of range",
     "output_type": "error",
     "traceback": [
      "\u001b[1;31m---------------------------------------------------------------------------\u001b[0m",
      "\u001b[1;31mIndexError\u001b[0m                                Traceback (most recent call last)",
      "\u001b[1;32m~\\AppData\\Local\\Temp\\ipykernel_9780\\3639296218.py\u001b[0m in \u001b[0;36m<module>\u001b[1;34m\u001b[0m\n\u001b[0;32m      1\u001b[0m \u001b[0mhash_tab\u001b[0m \u001b[1;33m=\u001b[0m \u001b[1;33m{\u001b[0m\u001b[1;33m}\u001b[0m\u001b[1;33m\u001b[0m\u001b[1;33m\u001b[0m\u001b[0m\n\u001b[0;32m      2\u001b[0m \u001b[0mvals\u001b[0m \u001b[1;33m=\u001b[0m \u001b[1;33m[\u001b[0m\u001b[1;33m]\u001b[0m\u001b[1;33m\u001b[0m\u001b[1;33m\u001b[0m\u001b[0m\n\u001b[1;32m----> 3\u001b[1;33m \u001b[0mmax_vals\u001b[0m \u001b[1;33m=\u001b[0m \u001b[0mvals\u001b[0m\u001b[1;33m[\u001b[0m\u001b[1;36m0\u001b[0m\u001b[1;33m]\u001b[0m\u001b[1;33m\u001b[0m\u001b[1;33m\u001b[0m\u001b[0m\n\u001b[0m\u001b[0;32m      4\u001b[0m \u001b[1;33m\u001b[0m\u001b[0m\n\u001b[0;32m      5\u001b[0m \u001b[1;32mfor\u001b[0m \u001b[0mi\u001b[0m \u001b[1;32min\u001b[0m \u001b[0ma\u001b[0m\u001b[1;33m:\u001b[0m\u001b[1;33m\u001b[0m\u001b[1;33m\u001b[0m\u001b[0m\n",
      "\u001b[1;31mIndexError\u001b[0m: list index out of range"
     ]
    }
   ],
   "source": [
    "hash_tab = {}\n",
    "vals = []\n",
    "max_vals = vals[0]\n",
    "\n",
    "for i in a:\n",
    "    hash_tab[i] = hash_tab.get(i,0)+1\n",
    "for n,m in hash_tab.items():\n",
    "    vals.append(m)\n",
    "\n",
    "for i in vals:\n",
    "    if i > max_vals:\n",
    "        max_vals = i\n",
    "        \n",
    "for i, j in hash_tab.items():\n",
    "    if j == max_vals:\n",
    "        print(f\"{i} and the count of {i} is ==> than {j}\")"
   ]
  },
  {
   "cell_type": "code",
   "execution_count": 148,
   "id": "65d281a4",
   "metadata": {},
   "outputs": [
    {
     "name": "stdout",
     "output_type": "stream",
     "text": [
      "{10: 4, 'John': 1, True: 1, False: 5, 3: 1}\n"
     ]
    }
   ],
   "source": [
    "hash_table = {}\n",
    "for i in a:\n",
    "    hash_table[i] = hash_table.get(i, 0) + 1\n",
    "print(hash_table)"
   ]
  },
  {
   "cell_type": "code",
   "execution_count": 150,
   "id": "003d0539",
   "metadata": {},
   "outputs": [
    {
     "name": "stdout",
     "output_type": "stream",
     "text": [
      "[4, 1, 1, 5, 1]\n"
     ]
    }
   ],
   "source": [
    "val = []\n",
    "for m,n in hash_table.items():\n",
    "    val.append(n)\n",
    "print(val)"
   ]
  },
  {
   "cell_type": "code",
   "execution_count": 151,
   "id": "84937391",
   "metadata": {},
   "outputs": [
    {
     "name": "stdout",
     "output_type": "stream",
     "text": [
      "5\n"
     ]
    }
   ],
   "source": [
    "max_val = val[0]\n",
    "for i in val:\n",
    "    if i > max_val:\n",
    "        max_val = i\n",
    "print(max_val)"
   ]
  },
  {
   "cell_type": "code",
   "execution_count": 152,
   "id": "af0d58b5",
   "metadata": {},
   "outputs": [
    {
     "name": "stdout",
     "output_type": "stream",
     "text": [
      "The highest count of values is 'False' which occurs 5 times\n"
     ]
    }
   ],
   "source": [
    "for m,n in hash_table.items():\n",
    "    if n == max_val:\n",
    "        print(f\"The highest count of values is '{m}' which occurs {n} times\")"
   ]
  },
  {
   "cell_type": "markdown",
   "id": "d7c4839c",
   "metadata": {},
   "source": [
    "## Functions "
   ]
  },
  {
   "cell_type": "code",
   "execution_count": 1,
   "id": "ebc38a3c",
   "metadata": {},
   "outputs": [
    {
     "name": "stdout",
     "output_type": "stream",
     "text": [
      "cindy\n"
     ]
    }
   ],
   "source": [
    "print(\"cindy\")"
   ]
  },
  {
   "cell_type": "code",
   "execution_count": 2,
   "id": "6d5e78ae",
   "metadata": {},
   "outputs": [
    {
     "name": "stdout",
     "output_type": "stream",
     "text": [
      "cindy\n"
     ]
    }
   ],
   "source": [
    "def name_val():\n",
    "    return \"cindy\"\n",
    "\n",
    "print(name_val())"
   ]
  },
  {
   "cell_type": "code",
   "execution_count": 3,
   "id": "2067cc67",
   "metadata": {},
   "outputs": [
    {
     "name": "stdout",
     "output_type": "stream",
     "text": [
      "cindy\n"
     ]
    }
   ],
   "source": [
    "def name_val(name):\n",
    "    return name\n",
    "\n",
    "print(name_val(\"cindy\"))"
   ]
  },
  {
   "cell_type": "code",
   "execution_count": 3,
   "id": "0f9d8ad2",
   "metadata": {},
   "outputs": [
    {
     "ename": "NameError",
     "evalue": "name 'time' is not defined",
     "output_type": "error",
     "traceback": [
      "\u001b[1;31m---------------------------------------------------------------------------\u001b[0m",
      "\u001b[1;31mNameError\u001b[0m                                 Traceback (most recent call last)",
      "\u001b[1;32m~\\AppData\\Local\\Temp\\ipykernel_9780\\1540327403.py\u001b[0m in \u001b[0;36m<module>\u001b[1;34m\u001b[0m\n\u001b[1;32m----> 1\u001b[1;33m \u001b[0ma\u001b[0m \u001b[1;33m=\u001b[0m \u001b[0mvelocity\u001b[0m\u001b[1;33m/\u001b[0m\u001b[0mtime\u001b[0m\u001b[1;33m\u001b[0m\u001b[1;33m\u001b[0m\u001b[0m\n\u001b[0m\u001b[0;32m      2\u001b[0m \u001b[0mvelocity\u001b[0m \u001b[1;33m=\u001b[0m \u001b[0md\u001b[0m\u001b[1;33m/\u001b[0m\u001b[0mt\u001b[0m\u001b[1;33m\u001b[0m\u001b[1;33m\u001b[0m\u001b[0m\n",
      "\u001b[1;31mNameError\u001b[0m: name 'time' is not defined"
     ]
    }
   ],
   "source": [
    "a = velocity/time\n",
    "velocity = d/t"
   ]
  },
  {
   "cell_type": "code",
   "execution_count": 2,
   "id": "dd3f8f0c",
   "metadata": {},
   "outputs": [
    {
     "name": "stdout",
     "output_type": "stream",
     "text": [
      "10.0\n"
     ]
    }
   ],
   "source": [
    "def velocity(d, t):\n",
    "    vel = d/t\n",
    "    return vel\n",
    "\n",
    "velocity = velocity(200, 20)\n",
    "print(velocity)"
   ]
  },
  {
   "cell_type": "code",
   "execution_count": 6,
   "id": "849f28c2",
   "metadata": {},
   "outputs": [
    {
     "name": "stdout",
     "output_type": "stream",
     "text": [
      "2.0\n"
     ]
    }
   ],
   "source": [
    "def accel(vel, t):\n",
    "    acc = vel/t\n",
    "    return acc\n",
    "\n",
    "accel = accel(velocity, 5)\n",
    "print(accel)"
   ]
  },
  {
   "cell_type": "code",
   "execution_count": 8,
   "id": "4fc9ae9b",
   "metadata": {},
   "outputs": [
    {
     "name": "stdout",
     "output_type": "stream",
     "text": [
      "10.0\n",
      "0.6666666666666666\n",
      "33.33333333333333\n"
     ]
    }
   ],
   "source": [
    "def force_val(mass, acc):\n",
    "    f = mass * acc\n",
    "    return f\n",
    "\n",
    "velocity = velocity(200, 20)\n",
    "accl = accel(velocity, 15)\n",
    "force = force_val(50, accl)\n",
    "print(velocity)\n",
    "print(accl)\n",
    "print(force)"
   ]
  },
  {
   "cell_type": "code",
   "execution_count": 74,
   "id": "db1b0e9b",
   "metadata": {},
   "outputs": [
    {
     "name": "stdout",
     "output_type": "stream",
     "text": [
      "{20: 4, 14: 2, 'emma': 2, True: 1}\n",
      "[4, 2, 2, 1]\n",
      "4\n",
      "20\n"
     ]
    }
   ],
   "source": [
    "def count_array(array_val):\n",
    "    dict_arr = {}\n",
    "    for i in array_val:\n",
    "        dict_arr[i] = dict_arr.get(i, 0) + 1\n",
    "    return dict_arr\n",
    "\n",
    "def get_values(dict_arr):\n",
    "    vals = []\n",
    "    for a, b in dict_arr.items():\n",
    "        vals.append(b)\n",
    "    return vals\n",
    "\n",
    "def max_vals_func(vals):\n",
    "    b = vals[0]\n",
    "    for i in vals:\n",
    "        if i > b:\n",
    "            b = i\n",
    "    return b\n",
    "\n",
    "def compare_array(dict_arr, b):\n",
    "    for l, n in dict_arr.items():\n",
    "        if n == b:\n",
    "            return l\n",
    "\n",
    "new_val = [20, 14, 20, \"emma\", 20, 14, True, \"emma\", 20]\n",
    "arr_g = [False, False, 8, 15, 8, 9, 8, 15, 8, False]\n",
    "\n",
    "x = count_array(new_val)\n",
    "k = get_values(x)\n",
    "max_t = max_vals_func(k)\n",
    "final_ans = compare_array(x, max_t)\n",
    "print(x)\n",
    "print(k)\n",
    "print(max_t)\n",
    "print(final_ans)"
   ]
  },
  {
   "cell_type": "markdown",
   "id": "ca303a7e",
   "metadata": {},
   "source": [
    "\n",
    "### DataFrames"
   ]
  },
  {
   "cell_type": "code",
   "execution_count": 12,
   "id": "612f882d",
   "metadata": {},
   "outputs": [
    {
     "name": "stdout",
     "output_type": "stream",
     "text": [
      "[5, 10, 15, 20]\n"
     ]
    }
   ],
   "source": [
    "arr = [5, 10, 15, 20]\n",
    "print(arr)"
   ]
  },
  {
   "cell_type": "code",
   "execution_count": 77,
   "id": "43ddf828",
   "metadata": {},
   "outputs": [
    {
     "name": "stdout",
     "output_type": "stream",
     "text": [
      "[[30, 19, 17, 18], ['a', 'b', 'c', 'd'], [10, 20, 30, 40], [8, 9, 10, 11]]\n"
     ]
    }
   ],
   "source": [
    "dt = [[30, 19, 17, 18], [\"a\", \"b\", \"c\", \"d\"], [10, 20, 30, 40], [8, 9, 10, 11]]\n",
    "print(dt)"
   ]
  },
  {
   "cell_type": "code",
   "execution_count": 86,
   "id": "be847c8a",
   "metadata": {},
   "outputs": [
    {
     "data": {
      "text/html": [
       "<div>\n",
       "<style scoped>\n",
       "    .dataframe tbody tr th:only-of-type {\n",
       "        vertical-align: middle;\n",
       "    }\n",
       "\n",
       "    .dataframe tbody tr th {\n",
       "        vertical-align: top;\n",
       "    }\n",
       "\n",
       "    .dataframe thead th {\n",
       "        text-align: right;\n",
       "    }\n",
       "</style>\n",
       "<table border=\"1\" class=\"dataframe\">\n",
       "  <thead>\n",
       "    <tr style=\"text-align: right;\">\n",
       "      <th></th>\n",
       "      <th>a</th>\n",
       "      <th>b</th>\n",
       "      <th>c</th>\n",
       "      <th>d</th>\n",
       "    </tr>\n",
       "  </thead>\n",
       "  <tbody>\n",
       "    <tr>\n",
       "      <th>1</th>\n",
       "      <td>10</td>\n",
       "      <td>20</td>\n",
       "      <td>30</td>\n",
       "      <td>40</td>\n",
       "    </tr>\n",
       "    <tr>\n",
       "      <th>2</th>\n",
       "      <td>8</td>\n",
       "      <td>9</td>\n",
       "      <td>10</td>\n",
       "      <td>11</td>\n",
       "    </tr>\n",
       "  </tbody>\n",
       "</table>\n",
       "</div>"
      ],
      "text/plain": [
       "    a   b   c   d\n",
       "1  10  20  30  40\n",
       "2   8   9  10  11"
      ]
     },
     "execution_count": 86,
     "metadata": {},
     "output_type": "execute_result"
    }
   ],
   "source": [
    "import pandas as pd\n",
    "df = pd.DataFrame(dt[1:], columns=dt[1])\n",
    "df = df.drop(0)\n",
    "df"
   ]
  },
  {
   "cell_type": "code",
   "execution_count": 90,
   "id": "7dd6f070",
   "metadata": {},
   "outputs": [
    {
     "data": {
      "text/html": [
       "<div>\n",
       "<style scoped>\n",
       "    .dataframe tbody tr th:only-of-type {\n",
       "        vertical-align: middle;\n",
       "    }\n",
       "\n",
       "    .dataframe tbody tr th {\n",
       "        vertical-align: top;\n",
       "    }\n",
       "\n",
       "    .dataframe thead th {\n",
       "        text-align: right;\n",
       "    }\n",
       "</style>\n",
       "<table border=\"1\" class=\"dataframe\">\n",
       "  <thead>\n",
       "    <tr style=\"text-align: right;\">\n",
       "      <th></th>\n",
       "      <th>index</th>\n",
       "      <th>a</th>\n",
       "      <th>b</th>\n",
       "      <th>c</th>\n",
       "    </tr>\n",
       "  </thead>\n",
       "  <tbody>\n",
       "    <tr>\n",
       "      <th>0</th>\n",
       "      <td>1</td>\n",
       "      <td>10</td>\n",
       "      <td>20</td>\n",
       "      <td>30</td>\n",
       "    </tr>\n",
       "    <tr>\n",
       "      <th>1</th>\n",
       "      <td>2</td>\n",
       "      <td>8</td>\n",
       "      <td>9</td>\n",
       "      <td>10</td>\n",
       "    </tr>\n",
       "  </tbody>\n",
       "</table>\n",
       "</div>"
      ],
      "text/plain": [
       "   index   a   b   c\n",
       "0      1  10  20  30\n",
       "1      2   8   9  10"
      ]
     },
     "execution_count": 90,
     "metadata": {},
     "output_type": "execute_result"
    }
   ],
   "source": [
    "a_df = df.drop('d', axis=1)\n",
    "new_df = a_df.reset_index()\n",
    "new_df"
   ]
  },
  {
   "cell_type": "code",
   "execution_count": 51,
   "id": "8bc14a98",
   "metadata": {},
   "outputs": [
    {
     "data": {
      "text/html": [
       "<div>\n",
       "<style scoped>\n",
       "    .dataframe tbody tr th:only-of-type {\n",
       "        vertical-align: middle;\n",
       "    }\n",
       "\n",
       "    .dataframe tbody tr th {\n",
       "        vertical-align: top;\n",
       "    }\n",
       "\n",
       "    .dataframe thead th {\n",
       "        text-align: right;\n",
       "    }\n",
       "</style>\n",
       "<table border=\"1\" class=\"dataframe\">\n",
       "  <thead>\n",
       "    <tr style=\"text-align: right;\">\n",
       "      <th></th>\n",
       "      <th>a</th>\n",
       "      <th>b</th>\n",
       "      <th>c</th>\n",
       "    </tr>\n",
       "  </thead>\n",
       "  <tbody>\n",
       "    <tr>\n",
       "      <th>0</th>\n",
       "      <td>10</td>\n",
       "      <td>20</td>\n",
       "      <td>30</td>\n",
       "    </tr>\n",
       "    <tr>\n",
       "      <th>1</th>\n",
       "      <td>8</td>\n",
       "      <td>9</td>\n",
       "      <td>10</td>\n",
       "    </tr>\n",
       "  </tbody>\n",
       "</table>\n",
       "</div>"
      ],
      "text/plain": [
       "    a   b   c\n",
       "0  10  20  30\n",
       "1   8   9  10"
      ]
     },
     "execution_count": 51,
     "metadata": {},
     "output_type": "execute_result"
    }
   ],
   "source": [
    "new_df = new_df.drop('index', axis=1)\n",
    "new_df"
   ]
  },
  {
   "cell_type": "code",
   "execution_count": 40,
   "id": "98f20756",
   "metadata": {},
   "outputs": [
    {
     "data": {
      "text/plain": [
       "array([20, 9], dtype=object)"
      ]
     },
     "execution_count": 40,
     "metadata": {},
     "output_type": "execute_result"
    }
   ],
   "source": [
    "a_df['b'].values"
   ]
  },
  {
   "cell_type": "code",
   "execution_count": 41,
   "id": "92b11e4b",
   "metadata": {},
   "outputs": [
    {
     "data": {
      "text/plain": [
       "array([10, 20, 30], dtype=object)"
      ]
     },
     "execution_count": 41,
     "metadata": {},
     "output_type": "execute_result"
    }
   ],
   "source": [
    "a_df.iloc[0].values"
   ]
  },
  {
   "cell_type": "code",
   "execution_count": 75,
   "id": "9ab61411",
   "metadata": {},
   "outputs": [
    {
     "data": {
      "text/html": [
       "<div>\n",
       "<style scoped>\n",
       "    .dataframe tbody tr th:only-of-type {\n",
       "        vertical-align: middle;\n",
       "    }\n",
       "\n",
       "    .dataframe tbody tr th {\n",
       "        vertical-align: top;\n",
       "    }\n",
       "\n",
       "    .dataframe thead th {\n",
       "        text-align: right;\n",
       "    }\n",
       "</style>\n",
       "<table border=\"1\" class=\"dataframe\">\n",
       "  <thead>\n",
       "    <tr style=\"text-align: right;\">\n",
       "      <th></th>\n",
       "      <th>a</th>\n",
       "      <th>b</th>\n",
       "      <th>c</th>\n",
       "      <th>d</th>\n",
       "    </tr>\n",
       "  </thead>\n",
       "  <tbody>\n",
       "    <tr>\n",
       "      <th>1</th>\n",
       "      <td>10</td>\n",
       "      <td>20</td>\n",
       "      <td>30</td>\n",
       "      <td>40</td>\n",
       "    </tr>\n",
       "    <tr>\n",
       "      <th>2</th>\n",
       "      <td>8</td>\n",
       "      <td>9</td>\n",
       "      <td>10</td>\n",
       "      <td>11</td>\n",
       "    </tr>\n",
       "  </tbody>\n",
       "</table>\n",
       "</div>"
      ],
      "text/plain": [
       "    a   b   c   d\n",
       "1  10  20  30  40\n",
       "2   8   9  10  11"
      ]
     },
     "execution_count": 75,
     "metadata": {},
     "output_type": "execute_result"
    }
   ],
   "source": [
    "df"
   ]
  },
  {
   "cell_type": "code",
   "execution_count": 179,
   "id": "fac07118",
   "metadata": {},
   "outputs": [
    {
     "data": {
      "text/html": [
       "<div>\n",
       "<style scoped>\n",
       "    .dataframe tbody tr th:only-of-type {\n",
       "        vertical-align: middle;\n",
       "    }\n",
       "\n",
       "    .dataframe tbody tr th {\n",
       "        vertical-align: top;\n",
       "    }\n",
       "\n",
       "    .dataframe thead th {\n",
       "        text-align: right;\n",
       "    }\n",
       "</style>\n",
       "<table border=\"1\" class=\"dataframe\">\n",
       "  <thead>\n",
       "    <tr style=\"text-align: right;\">\n",
       "      <th></th>\n",
       "      <th>id</th>\n",
       "      <th>name</th>\n",
       "      <th>credit_score</th>\n",
       "    </tr>\n",
       "  </thead>\n",
       "  <tbody>\n",
       "    <tr>\n",
       "      <th>0</th>\n",
       "      <td>1001</td>\n",
       "      <td>kate</td>\n",
       "      <td>102</td>\n",
       "    </tr>\n",
       "    <tr>\n",
       "      <th>1</th>\n",
       "      <td>1002</td>\n",
       "      <td>mark</td>\n",
       "      <td>105</td>\n",
       "    </tr>\n",
       "    <tr>\n",
       "      <th>2</th>\n",
       "      <td>1003</td>\n",
       "      <td>janeth</td>\n",
       "      <td>97</td>\n",
       "    </tr>\n",
       "  </tbody>\n",
       "</table>\n",
       "</div>"
      ],
      "text/plain": [
       "     id    name credit_score\n",
       "0  1001    kate          102\n",
       "1  1002    mark          105\n",
       "2  1003  janeth           97"
      ]
     },
     "execution_count": 179,
     "metadata": {},
     "output_type": "execute_result"
    }
   ],
   "source": [
    "id_info = [[1001, 1002, 1003], ['kate', 'mark', 'janeth'], [102, 105, 97]]\n",
    "data_df = pd.DataFrame(id_info).T\n",
    "data_df.columns = [\"id\", \"name\", \"credit_score\"]\n",
    "data_df"
   ]
  },
  {
   "cell_type": "code",
   "execution_count": 65,
   "id": "6c328467",
   "metadata": {},
   "outputs": [
    {
     "data": {
      "text/html": [
       "<div>\n",
       "<style scoped>\n",
       "    .dataframe tbody tr th:only-of-type {\n",
       "        vertical-align: middle;\n",
       "    }\n",
       "\n",
       "    .dataframe tbody tr th {\n",
       "        vertical-align: top;\n",
       "    }\n",
       "\n",
       "    .dataframe thead th {\n",
       "        text-align: right;\n",
       "    }\n",
       "</style>\n",
       "<table border=\"1\" class=\"dataframe\">\n",
       "  <thead>\n",
       "    <tr style=\"text-align: right;\">\n",
       "      <th></th>\n",
       "      <th>id</th>\n",
       "      <th>payment_info</th>\n",
       "    </tr>\n",
       "  </thead>\n",
       "  <tbody>\n",
       "    <tr>\n",
       "      <th>0</th>\n",
       "      <td>1002</td>\n",
       "      <td>paid</td>\n",
       "    </tr>\n",
       "    <tr>\n",
       "      <th>1</th>\n",
       "      <td>1001</td>\n",
       "      <td>pending</td>\n",
       "    </tr>\n",
       "    <tr>\n",
       "      <th>2</th>\n",
       "      <td>1003</td>\n",
       "      <td>reversed</td>\n",
       "    </tr>\n",
       "  </tbody>\n",
       "</table>\n",
       "</div>"
      ],
      "text/plain": [
       "     id payment_info\n",
       "0  1002         paid\n",
       "1  1001      pending\n",
       "2  1003     reversed"
      ]
     },
     "execution_count": 65,
     "metadata": {},
     "output_type": "execute_result"
    }
   ],
   "source": [
    "arr_dict = {\"id\":[1002, 1001, 1003],\n",
    "           \"payment_info\": [\"paid\", \"pending\", \"reversed\"]}\n",
    "df_data = pd.DataFrame(arr_dict)\n",
    "df_data"
   ]
  },
  {
   "cell_type": "code",
   "execution_count": 55,
   "id": "fdbac3ad",
   "metadata": {},
   "outputs": [
    {
     "data": {
      "text/html": [
       "<div>\n",
       "<style scoped>\n",
       "    .dataframe tbody tr th:only-of-type {\n",
       "        vertical-align: middle;\n",
       "    }\n",
       "\n",
       "    .dataframe tbody tr th {\n",
       "        vertical-align: top;\n",
       "    }\n",
       "\n",
       "    .dataframe thead th {\n",
       "        text-align: right;\n",
       "    }\n",
       "</style>\n",
       "<table border=\"1\" class=\"dataframe\">\n",
       "  <thead>\n",
       "    <tr style=\"text-align: right;\">\n",
       "      <th></th>\n",
       "      <th>id</th>\n",
       "      <th>name</th>\n",
       "      <th>credit_score</th>\n",
       "      <th>payment_info</th>\n",
       "    </tr>\n",
       "  </thead>\n",
       "  <tbody>\n",
       "    <tr>\n",
       "      <th>0</th>\n",
       "      <td>1001</td>\n",
       "      <td>kate</td>\n",
       "      <td>102</td>\n",
       "      <td>pending</td>\n",
       "    </tr>\n",
       "    <tr>\n",
       "      <th>1</th>\n",
       "      <td>1002</td>\n",
       "      <td>mark</td>\n",
       "      <td>105</td>\n",
       "      <td>paid</td>\n",
       "    </tr>\n",
       "    <tr>\n",
       "      <th>2</th>\n",
       "      <td>1003</td>\n",
       "      <td>janeth</td>\n",
       "      <td>97</td>\n",
       "      <td>reversed</td>\n",
       "    </tr>\n",
       "  </tbody>\n",
       "</table>\n",
       "</div>"
      ],
      "text/plain": [
       "     id    name credit_score payment_info\n",
       "0  1001    kate          102      pending\n",
       "1  1002    mark          105         paid\n",
       "2  1003  janeth           97     reversed"
      ]
     },
     "execution_count": 55,
     "metadata": {},
     "output_type": "execute_result"
    }
   ],
   "source": [
    "merged_data = pd.merge(data_df, df_data, on = \"id\")\n",
    "merged_data"
   ]
  },
  {
   "cell_type": "code",
   "execution_count": 64,
   "id": "58d25570",
   "metadata": {},
   "outputs": [
    {
     "data": {
      "text/html": [
       "<div>\n",
       "<style scoped>\n",
       "    .dataframe tbody tr th:only-of-type {\n",
       "        vertical-align: middle;\n",
       "    }\n",
       "\n",
       "    .dataframe tbody tr th {\n",
       "        vertical-align: top;\n",
       "    }\n",
       "\n",
       "    .dataframe thead th {\n",
       "        text-align: right;\n",
       "    }\n",
       "</style>\n",
       "<table border=\"1\" class=\"dataframe\">\n",
       "  <thead>\n",
       "    <tr style=\"text-align: right;\">\n",
       "      <th></th>\n",
       "      <th>id</th>\n",
       "      <th>payment_info</th>\n",
       "    </tr>\n",
       "  </thead>\n",
       "  <tbody>\n",
       "    <tr>\n",
       "      <th>0</th>\n",
       "      <td>1004</td>\n",
       "      <td>paid fully</td>\n",
       "    </tr>\n",
       "    <tr>\n",
       "      <th>1</th>\n",
       "      <td>1005</td>\n",
       "      <td>pending</td>\n",
       "    </tr>\n",
       "    <tr>\n",
       "      <th>2</th>\n",
       "      <td>1006</td>\n",
       "      <td>loaned</td>\n",
       "    </tr>\n",
       "  </tbody>\n",
       "</table>\n",
       "</div>"
      ],
      "text/plain": [
       "     id payment_info\n",
       "0  1004   paid fully\n",
       "1  1005      pending\n",
       "2  1006       loaned"
      ]
     },
     "execution_count": 64,
     "metadata": {},
     "output_type": "execute_result"
    }
   ],
   "source": [
    "dt = {\"id\":[1004, 1005, 1006],\n",
    "     \"payment_info\": [\"paid fully\", \"pending\", \"loaned\"]}\n",
    "df_dt = pd.DataFrame(dt)\n",
    "df_dt"
   ]
  },
  {
   "cell_type": "code",
   "execution_count": 58,
   "id": "84fc7f9f",
   "metadata": {},
   "outputs": [
    {
     "name": "stderr",
     "output_type": "stream",
     "text": [
      "C:\\Users\\AS\\AppData\\Local\\Temp\\ipykernel_14100\\3145957713.py:1: FutureWarning: The frame.append method is deprecated and will be removed from pandas in a future version. Use pandas.concat instead.\n",
      "  my_df = df_data.append(df_dt)\n"
     ]
    },
    {
     "data": {
      "text/html": [
       "<div>\n",
       "<style scoped>\n",
       "    .dataframe tbody tr th:only-of-type {\n",
       "        vertical-align: middle;\n",
       "    }\n",
       "\n",
       "    .dataframe tbody tr th {\n",
       "        vertical-align: top;\n",
       "    }\n",
       "\n",
       "    .dataframe thead th {\n",
       "        text-align: right;\n",
       "    }\n",
       "</style>\n",
       "<table border=\"1\" class=\"dataframe\">\n",
       "  <thead>\n",
       "    <tr style=\"text-align: right;\">\n",
       "      <th></th>\n",
       "      <th>id</th>\n",
       "      <th>payment_info</th>\n",
       "    </tr>\n",
       "  </thead>\n",
       "  <tbody>\n",
       "    <tr>\n",
       "      <th>0</th>\n",
       "      <td>1002</td>\n",
       "      <td>paid</td>\n",
       "    </tr>\n",
       "    <tr>\n",
       "      <th>1</th>\n",
       "      <td>1001</td>\n",
       "      <td>pending</td>\n",
       "    </tr>\n",
       "    <tr>\n",
       "      <th>2</th>\n",
       "      <td>1003</td>\n",
       "      <td>reversed</td>\n",
       "    </tr>\n",
       "    <tr>\n",
       "      <th>0</th>\n",
       "      <td>1004</td>\n",
       "      <td>paid fully</td>\n",
       "    </tr>\n",
       "    <tr>\n",
       "      <th>1</th>\n",
       "      <td>1005</td>\n",
       "      <td>pending</td>\n",
       "    </tr>\n",
       "    <tr>\n",
       "      <th>2</th>\n",
       "      <td>1006</td>\n",
       "      <td>loaned</td>\n",
       "    </tr>\n",
       "  </tbody>\n",
       "</table>\n",
       "</div>"
      ],
      "text/plain": [
       "     id payment_info\n",
       "0  1002         paid\n",
       "1  1001      pending\n",
       "2  1003     reversed\n",
       "0  1004   paid fully\n",
       "1  1005      pending\n",
       "2  1006       loaned"
      ]
     },
     "execution_count": 58,
     "metadata": {},
     "output_type": "execute_result"
    }
   ],
   "source": [
    "my_df = df_data.append(df_dt)\n",
    "my_df"
   ]
  },
  {
   "cell_type": "code",
   "execution_count": 60,
   "id": "109bef5d",
   "metadata": {},
   "outputs": [
    {
     "data": {
      "text/html": [
       "<div>\n",
       "<style scoped>\n",
       "    .dataframe tbody tr th:only-of-type {\n",
       "        vertical-align: middle;\n",
       "    }\n",
       "\n",
       "    .dataframe tbody tr th {\n",
       "        vertical-align: top;\n",
       "    }\n",
       "\n",
       "    .dataframe thead th {\n",
       "        text-align: right;\n",
       "    }\n",
       "</style>\n",
       "<table border=\"1\" class=\"dataframe\">\n",
       "  <thead>\n",
       "    <tr style=\"text-align: right;\">\n",
       "      <th></th>\n",
       "      <th>id</th>\n",
       "      <th>name</th>\n",
       "      <th>credit_score</th>\n",
       "      <th>id</th>\n",
       "      <th>payment_info</th>\n",
       "    </tr>\n",
       "  </thead>\n",
       "  <tbody>\n",
       "    <tr>\n",
       "      <th>0</th>\n",
       "      <td>1001</td>\n",
       "      <td>kate</td>\n",
       "      <td>102</td>\n",
       "      <td>1002</td>\n",
       "      <td>paid</td>\n",
       "    </tr>\n",
       "    <tr>\n",
       "      <th>1</th>\n",
       "      <td>1002</td>\n",
       "      <td>mark</td>\n",
       "      <td>105</td>\n",
       "      <td>1001</td>\n",
       "      <td>pending</td>\n",
       "    </tr>\n",
       "    <tr>\n",
       "      <th>2</th>\n",
       "      <td>1003</td>\n",
       "      <td>janeth</td>\n",
       "      <td>97</td>\n",
       "      <td>1003</td>\n",
       "      <td>reversed</td>\n",
       "    </tr>\n",
       "  </tbody>\n",
       "</table>\n",
       "</div>"
      ],
      "text/plain": [
       "     id    name credit_score    id payment_info\n",
       "0  1001    kate          102  1002         paid\n",
       "1  1002    mark          105  1001      pending\n",
       "2  1003  janeth           97  1003     reversed"
      ]
     },
     "execution_count": 60,
     "metadata": {},
     "output_type": "execute_result"
    }
   ],
   "source": [
    "concat_data = pd.concat([data_df, df_data], axis=1)\n",
    "concat_data"
   ]
  },
  {
   "cell_type": "markdown",
   "id": "3bfef1a3",
   "metadata": {},
   "source": [
    "### Python Data Manipulation libraries (Pandas and rumpy)."
   ]
  },
  {
   "cell_type": "code",
   "execution_count": 2,
   "id": "9c9cfec9",
   "metadata": {},
   "outputs": [],
   "source": [
    "import pandas as pd\n",
    "import numpy as np"
   ]
  },
  {
   "cell_type": "code",
   "execution_count": 3,
   "id": "42807d03",
   "metadata": {},
   "outputs": [],
   "source": [
    "data = \"Online Retail.xlsx\""
   ]
  },
  {
   "cell_type": "code",
   "execution_count": 7,
   "id": "43421fe9",
   "metadata": {},
   "outputs": [
    {
     "data": {
      "text/html": [
       "<div>\n",
       "<style scoped>\n",
       "    .dataframe tbody tr th:only-of-type {\n",
       "        vertical-align: middle;\n",
       "    }\n",
       "\n",
       "    .dataframe tbody tr th {\n",
       "        vertical-align: top;\n",
       "    }\n",
       "\n",
       "    .dataframe thead th {\n",
       "        text-align: right;\n",
       "    }\n",
       "</style>\n",
       "<table border=\"1\" class=\"dataframe\">\n",
       "  <thead>\n",
       "    <tr style=\"text-align: right;\">\n",
       "      <th></th>\n",
       "      <th>InvoiceNo</th>\n",
       "      <th>StockCode</th>\n",
       "      <th>Description</th>\n",
       "      <th>Quantity</th>\n",
       "      <th>InvoiceDate</th>\n",
       "      <th>UnitPrice</th>\n",
       "      <th>CustomerID</th>\n",
       "      <th>Country</th>\n",
       "    </tr>\n",
       "  </thead>\n",
       "  <tbody>\n",
       "    <tr>\n",
       "      <th>0</th>\n",
       "      <td>536365</td>\n",
       "      <td>85123A</td>\n",
       "      <td>WHITE HANGING HEART T-LIGHT HOLDER</td>\n",
       "      <td>6</td>\n",
       "      <td>2010-12-01 08:26:00</td>\n",
       "      <td>2.55</td>\n",
       "      <td>17850.0</td>\n",
       "      <td>United Kingdom</td>\n",
       "    </tr>\n",
       "    <tr>\n",
       "      <th>1</th>\n",
       "      <td>536365</td>\n",
       "      <td>71053</td>\n",
       "      <td>WHITE METAL LANTERN</td>\n",
       "      <td>6</td>\n",
       "      <td>2010-12-01 08:26:00</td>\n",
       "      <td>3.39</td>\n",
       "      <td>17850.0</td>\n",
       "      <td>United Kingdom</td>\n",
       "    </tr>\n",
       "    <tr>\n",
       "      <th>2</th>\n",
       "      <td>536365</td>\n",
       "      <td>84406B</td>\n",
       "      <td>CREAM CUPID HEARTS COAT HANGER</td>\n",
       "      <td>8</td>\n",
       "      <td>2010-12-01 08:26:00</td>\n",
       "      <td>2.75</td>\n",
       "      <td>17850.0</td>\n",
       "      <td>United Kingdom</td>\n",
       "    </tr>\n",
       "    <tr>\n",
       "      <th>3</th>\n",
       "      <td>536365</td>\n",
       "      <td>84029G</td>\n",
       "      <td>KNITTED UNION FLAG HOT WATER BOTTLE</td>\n",
       "      <td>6</td>\n",
       "      <td>2010-12-01 08:26:00</td>\n",
       "      <td>3.39</td>\n",
       "      <td>17850.0</td>\n",
       "      <td>United Kingdom</td>\n",
       "    </tr>\n",
       "    <tr>\n",
       "      <th>4</th>\n",
       "      <td>536365</td>\n",
       "      <td>84029E</td>\n",
       "      <td>RED WOOLLY HOTTIE WHITE HEART.</td>\n",
       "      <td>6</td>\n",
       "      <td>2010-12-01 08:26:00</td>\n",
       "      <td>3.39</td>\n",
       "      <td>17850.0</td>\n",
       "      <td>United Kingdom</td>\n",
       "    </tr>\n",
       "    <tr>\n",
       "      <th>5</th>\n",
       "      <td>536365</td>\n",
       "      <td>22752</td>\n",
       "      <td>SET 7 BABUSHKA NESTING BOXES</td>\n",
       "      <td>2</td>\n",
       "      <td>2010-12-01 08:26:00</td>\n",
       "      <td>7.65</td>\n",
       "      <td>17850.0</td>\n",
       "      <td>United Kingdom</td>\n",
       "    </tr>\n",
       "    <tr>\n",
       "      <th>6</th>\n",
       "      <td>536365</td>\n",
       "      <td>21730</td>\n",
       "      <td>GLASS STAR FROSTED T-LIGHT HOLDER</td>\n",
       "      <td>6</td>\n",
       "      <td>2010-12-01 08:26:00</td>\n",
       "      <td>4.25</td>\n",
       "      <td>17850.0</td>\n",
       "      <td>United Kingdom</td>\n",
       "    </tr>\n",
       "    <tr>\n",
       "      <th>7</th>\n",
       "      <td>536366</td>\n",
       "      <td>22633</td>\n",
       "      <td>HAND WARMER UNION JACK</td>\n",
       "      <td>6</td>\n",
       "      <td>2010-12-01 08:28:00</td>\n",
       "      <td>1.85</td>\n",
       "      <td>17850.0</td>\n",
       "      <td>United Kingdom</td>\n",
       "    </tr>\n",
       "    <tr>\n",
       "      <th>8</th>\n",
       "      <td>536366</td>\n",
       "      <td>22632</td>\n",
       "      <td>HAND WARMER RED POLKA DOT</td>\n",
       "      <td>6</td>\n",
       "      <td>2010-12-01 08:28:00</td>\n",
       "      <td>1.85</td>\n",
       "      <td>17850.0</td>\n",
       "      <td>United Kingdom</td>\n",
       "    </tr>\n",
       "    <tr>\n",
       "      <th>9</th>\n",
       "      <td>536367</td>\n",
       "      <td>84879</td>\n",
       "      <td>ASSORTED COLOUR BIRD ORNAMENT</td>\n",
       "      <td>32</td>\n",
       "      <td>2010-12-01 08:34:00</td>\n",
       "      <td>1.69</td>\n",
       "      <td>13047.0</td>\n",
       "      <td>United Kingdom</td>\n",
       "    </tr>\n",
       "    <tr>\n",
       "      <th>10</th>\n",
       "      <td>536367</td>\n",
       "      <td>22745</td>\n",
       "      <td>POPPY'S PLAYHOUSE BEDROOM</td>\n",
       "      <td>6</td>\n",
       "      <td>2010-12-01 08:34:00</td>\n",
       "      <td>2.10</td>\n",
       "      <td>13047.0</td>\n",
       "      <td>United Kingdom</td>\n",
       "    </tr>\n",
       "    <tr>\n",
       "      <th>11</th>\n",
       "      <td>536367</td>\n",
       "      <td>22748</td>\n",
       "      <td>POPPY'S PLAYHOUSE KITCHEN</td>\n",
       "      <td>6</td>\n",
       "      <td>2010-12-01 08:34:00</td>\n",
       "      <td>2.10</td>\n",
       "      <td>13047.0</td>\n",
       "      <td>United Kingdom</td>\n",
       "    </tr>\n",
       "    <tr>\n",
       "      <th>12</th>\n",
       "      <td>536367</td>\n",
       "      <td>22749</td>\n",
       "      <td>FELTCRAFT PRINCESS CHARLOTTE DOLL</td>\n",
       "      <td>8</td>\n",
       "      <td>2010-12-01 08:34:00</td>\n",
       "      <td>3.75</td>\n",
       "      <td>13047.0</td>\n",
       "      <td>United Kingdom</td>\n",
       "    </tr>\n",
       "    <tr>\n",
       "      <th>13</th>\n",
       "      <td>536367</td>\n",
       "      <td>22310</td>\n",
       "      <td>IVORY KNITTED MUG COSY</td>\n",
       "      <td>6</td>\n",
       "      <td>2010-12-01 08:34:00</td>\n",
       "      <td>1.65</td>\n",
       "      <td>13047.0</td>\n",
       "      <td>United Kingdom</td>\n",
       "    </tr>\n",
       "    <tr>\n",
       "      <th>14</th>\n",
       "      <td>536367</td>\n",
       "      <td>84969</td>\n",
       "      <td>BOX OF 6 ASSORTED COLOUR TEASPOONS</td>\n",
       "      <td>6</td>\n",
       "      <td>2010-12-01 08:34:00</td>\n",
       "      <td>4.25</td>\n",
       "      <td>13047.0</td>\n",
       "      <td>United Kingdom</td>\n",
       "    </tr>\n",
       "    <tr>\n",
       "      <th>15</th>\n",
       "      <td>536367</td>\n",
       "      <td>22623</td>\n",
       "      <td>BOX OF VINTAGE JIGSAW BLOCKS</td>\n",
       "      <td>3</td>\n",
       "      <td>2010-12-01 08:34:00</td>\n",
       "      <td>4.95</td>\n",
       "      <td>13047.0</td>\n",
       "      <td>United Kingdom</td>\n",
       "    </tr>\n",
       "    <tr>\n",
       "      <th>16</th>\n",
       "      <td>536367</td>\n",
       "      <td>22622</td>\n",
       "      <td>BOX OF VINTAGE ALPHABET BLOCKS</td>\n",
       "      <td>2</td>\n",
       "      <td>2010-12-01 08:34:00</td>\n",
       "      <td>9.95</td>\n",
       "      <td>13047.0</td>\n",
       "      <td>United Kingdom</td>\n",
       "    </tr>\n",
       "    <tr>\n",
       "      <th>17</th>\n",
       "      <td>536367</td>\n",
       "      <td>21754</td>\n",
       "      <td>HOME BUILDING BLOCK WORD</td>\n",
       "      <td>3</td>\n",
       "      <td>2010-12-01 08:34:00</td>\n",
       "      <td>5.95</td>\n",
       "      <td>13047.0</td>\n",
       "      <td>United Kingdom</td>\n",
       "    </tr>\n",
       "    <tr>\n",
       "      <th>18</th>\n",
       "      <td>536367</td>\n",
       "      <td>21755</td>\n",
       "      <td>LOVE BUILDING BLOCK WORD</td>\n",
       "      <td>3</td>\n",
       "      <td>2010-12-01 08:34:00</td>\n",
       "      <td>5.95</td>\n",
       "      <td>13047.0</td>\n",
       "      <td>United Kingdom</td>\n",
       "    </tr>\n",
       "    <tr>\n",
       "      <th>19</th>\n",
       "      <td>536367</td>\n",
       "      <td>21777</td>\n",
       "      <td>RECIPE BOX WITH METAL HEART</td>\n",
       "      <td>4</td>\n",
       "      <td>2010-12-01 08:34:00</td>\n",
       "      <td>7.95</td>\n",
       "      <td>13047.0</td>\n",
       "      <td>United Kingdom</td>\n",
       "    </tr>\n",
       "    <tr>\n",
       "      <th>20</th>\n",
       "      <td>536367</td>\n",
       "      <td>48187</td>\n",
       "      <td>DOORMAT NEW ENGLAND</td>\n",
       "      <td>4</td>\n",
       "      <td>2010-12-01 08:34:00</td>\n",
       "      <td>7.95</td>\n",
       "      <td>13047.0</td>\n",
       "      <td>United Kingdom</td>\n",
       "    </tr>\n",
       "    <tr>\n",
       "      <th>21</th>\n",
       "      <td>536368</td>\n",
       "      <td>22960</td>\n",
       "      <td>JAM MAKING SET WITH JARS</td>\n",
       "      <td>6</td>\n",
       "      <td>2010-12-01 08:34:00</td>\n",
       "      <td>4.25</td>\n",
       "      <td>13047.0</td>\n",
       "      <td>United Kingdom</td>\n",
       "    </tr>\n",
       "    <tr>\n",
       "      <th>22</th>\n",
       "      <td>536368</td>\n",
       "      <td>22913</td>\n",
       "      <td>RED COAT RACK PARIS FASHION</td>\n",
       "      <td>3</td>\n",
       "      <td>2010-12-01 08:34:00</td>\n",
       "      <td>4.95</td>\n",
       "      <td>13047.0</td>\n",
       "      <td>United Kingdom</td>\n",
       "    </tr>\n",
       "    <tr>\n",
       "      <th>23</th>\n",
       "      <td>536368</td>\n",
       "      <td>22912</td>\n",
       "      <td>YELLOW COAT RACK PARIS FASHION</td>\n",
       "      <td>3</td>\n",
       "      <td>2010-12-01 08:34:00</td>\n",
       "      <td>4.95</td>\n",
       "      <td>13047.0</td>\n",
       "      <td>United Kingdom</td>\n",
       "    </tr>\n",
       "    <tr>\n",
       "      <th>24</th>\n",
       "      <td>536368</td>\n",
       "      <td>22914</td>\n",
       "      <td>BLUE COAT RACK PARIS FASHION</td>\n",
       "      <td>3</td>\n",
       "      <td>2010-12-01 08:34:00</td>\n",
       "      <td>4.95</td>\n",
       "      <td>13047.0</td>\n",
       "      <td>United Kingdom</td>\n",
       "    </tr>\n",
       "    <tr>\n",
       "      <th>25</th>\n",
       "      <td>536369</td>\n",
       "      <td>21756</td>\n",
       "      <td>BATH BUILDING BLOCK WORD</td>\n",
       "      <td>3</td>\n",
       "      <td>2010-12-01 08:35:00</td>\n",
       "      <td>5.95</td>\n",
       "      <td>13047.0</td>\n",
       "      <td>United Kingdom</td>\n",
       "    </tr>\n",
       "    <tr>\n",
       "      <th>26</th>\n",
       "      <td>536370</td>\n",
       "      <td>22728</td>\n",
       "      <td>ALARM CLOCK BAKELIKE PINK</td>\n",
       "      <td>24</td>\n",
       "      <td>2010-12-01 08:45:00</td>\n",
       "      <td>3.75</td>\n",
       "      <td>12583.0</td>\n",
       "      <td>France</td>\n",
       "    </tr>\n",
       "    <tr>\n",
       "      <th>27</th>\n",
       "      <td>536370</td>\n",
       "      <td>22727</td>\n",
       "      <td>ALARM CLOCK BAKELIKE RED</td>\n",
       "      <td>24</td>\n",
       "      <td>2010-12-01 08:45:00</td>\n",
       "      <td>3.75</td>\n",
       "      <td>12583.0</td>\n",
       "      <td>France</td>\n",
       "    </tr>\n",
       "    <tr>\n",
       "      <th>28</th>\n",
       "      <td>536370</td>\n",
       "      <td>22726</td>\n",
       "      <td>ALARM CLOCK BAKELIKE GREEN</td>\n",
       "      <td>12</td>\n",
       "      <td>2010-12-01 08:45:00</td>\n",
       "      <td>3.75</td>\n",
       "      <td>12583.0</td>\n",
       "      <td>France</td>\n",
       "    </tr>\n",
       "    <tr>\n",
       "      <th>29</th>\n",
       "      <td>536370</td>\n",
       "      <td>21724</td>\n",
       "      <td>PANDA AND BUNNIES STICKER SHEET</td>\n",
       "      <td>12</td>\n",
       "      <td>2010-12-01 08:45:00</td>\n",
       "      <td>0.85</td>\n",
       "      <td>12583.0</td>\n",
       "      <td>France</td>\n",
       "    </tr>\n",
       "  </tbody>\n",
       "</table>\n",
       "</div>"
      ],
      "text/plain": [
       "   InvoiceNo StockCode                          Description  Quantity  \\\n",
       "0     536365    85123A   WHITE HANGING HEART T-LIGHT HOLDER         6   \n",
       "1     536365     71053                  WHITE METAL LANTERN         6   \n",
       "2     536365    84406B       CREAM CUPID HEARTS COAT HANGER         8   \n",
       "3     536365    84029G  KNITTED UNION FLAG HOT WATER BOTTLE         6   \n",
       "4     536365    84029E       RED WOOLLY HOTTIE WHITE HEART.         6   \n",
       "5     536365     22752         SET 7 BABUSHKA NESTING BOXES         2   \n",
       "6     536365     21730    GLASS STAR FROSTED T-LIGHT HOLDER         6   \n",
       "7     536366     22633               HAND WARMER UNION JACK         6   \n",
       "8     536366     22632            HAND WARMER RED POLKA DOT         6   \n",
       "9     536367     84879        ASSORTED COLOUR BIRD ORNAMENT        32   \n",
       "10    536367     22745           POPPY'S PLAYHOUSE BEDROOM          6   \n",
       "11    536367     22748            POPPY'S PLAYHOUSE KITCHEN         6   \n",
       "12    536367     22749    FELTCRAFT PRINCESS CHARLOTTE DOLL         8   \n",
       "13    536367     22310              IVORY KNITTED MUG COSY          6   \n",
       "14    536367     84969   BOX OF 6 ASSORTED COLOUR TEASPOONS         6   \n",
       "15    536367     22623        BOX OF VINTAGE JIGSAW BLOCKS          3   \n",
       "16    536367     22622       BOX OF VINTAGE ALPHABET BLOCKS         2   \n",
       "17    536367     21754             HOME BUILDING BLOCK WORD         3   \n",
       "18    536367     21755             LOVE BUILDING BLOCK WORD         3   \n",
       "19    536367     21777          RECIPE BOX WITH METAL HEART         4   \n",
       "20    536367     48187                  DOORMAT NEW ENGLAND         4   \n",
       "21    536368     22960             JAM MAKING SET WITH JARS         6   \n",
       "22    536368     22913          RED COAT RACK PARIS FASHION         3   \n",
       "23    536368     22912       YELLOW COAT RACK PARIS FASHION         3   \n",
       "24    536368     22914         BLUE COAT RACK PARIS FASHION         3   \n",
       "25    536369     21756             BATH BUILDING BLOCK WORD         3   \n",
       "26    536370     22728            ALARM CLOCK BAKELIKE PINK        24   \n",
       "27    536370     22727            ALARM CLOCK BAKELIKE RED         24   \n",
       "28    536370     22726           ALARM CLOCK BAKELIKE GREEN        12   \n",
       "29    536370     21724      PANDA AND BUNNIES STICKER SHEET        12   \n",
       "\n",
       "           InvoiceDate  UnitPrice  CustomerID         Country  \n",
       "0  2010-12-01 08:26:00       2.55     17850.0  United Kingdom  \n",
       "1  2010-12-01 08:26:00       3.39     17850.0  United Kingdom  \n",
       "2  2010-12-01 08:26:00       2.75     17850.0  United Kingdom  \n",
       "3  2010-12-01 08:26:00       3.39     17850.0  United Kingdom  \n",
       "4  2010-12-01 08:26:00       3.39     17850.0  United Kingdom  \n",
       "5  2010-12-01 08:26:00       7.65     17850.0  United Kingdom  \n",
       "6  2010-12-01 08:26:00       4.25     17850.0  United Kingdom  \n",
       "7  2010-12-01 08:28:00       1.85     17850.0  United Kingdom  \n",
       "8  2010-12-01 08:28:00       1.85     17850.0  United Kingdom  \n",
       "9  2010-12-01 08:34:00       1.69     13047.0  United Kingdom  \n",
       "10 2010-12-01 08:34:00       2.10     13047.0  United Kingdom  \n",
       "11 2010-12-01 08:34:00       2.10     13047.0  United Kingdom  \n",
       "12 2010-12-01 08:34:00       3.75     13047.0  United Kingdom  \n",
       "13 2010-12-01 08:34:00       1.65     13047.0  United Kingdom  \n",
       "14 2010-12-01 08:34:00       4.25     13047.0  United Kingdom  \n",
       "15 2010-12-01 08:34:00       4.95     13047.0  United Kingdom  \n",
       "16 2010-12-01 08:34:00       9.95     13047.0  United Kingdom  \n",
       "17 2010-12-01 08:34:00       5.95     13047.0  United Kingdom  \n",
       "18 2010-12-01 08:34:00       5.95     13047.0  United Kingdom  \n",
       "19 2010-12-01 08:34:00       7.95     13047.0  United Kingdom  \n",
       "20 2010-12-01 08:34:00       7.95     13047.0  United Kingdom  \n",
       "21 2010-12-01 08:34:00       4.25     13047.0  United Kingdom  \n",
       "22 2010-12-01 08:34:00       4.95     13047.0  United Kingdom  \n",
       "23 2010-12-01 08:34:00       4.95     13047.0  United Kingdom  \n",
       "24 2010-12-01 08:34:00       4.95     13047.0  United Kingdom  \n",
       "25 2010-12-01 08:35:00       5.95     13047.0  United Kingdom  \n",
       "26 2010-12-01 08:45:00       3.75     12583.0          France  \n",
       "27 2010-12-01 08:45:00       3.75     12583.0          France  \n",
       "28 2010-12-01 08:45:00       3.75     12583.0          France  \n",
       "29 2010-12-01 08:45:00       0.85     12583.0          France  "
      ]
     },
     "execution_count": 7,
     "metadata": {},
     "output_type": "execute_result"
    }
   ],
   "source": [
    "df = pd.read_excel(data)\n",
    "df.head(30)"
   ]
  },
  {
   "cell_type": "code",
   "execution_count": 10,
   "id": "62b83b73",
   "metadata": {},
   "outputs": [
    {
     "data": {
      "text/plain": [
       "(541909, 8)"
      ]
     },
     "execution_count": 10,
     "metadata": {},
     "output_type": "execute_result"
    }
   ],
   "source": [
    "df.shape"
   ]
  },
  {
   "cell_type": "code",
   "execution_count": 11,
   "id": "50b33a11",
   "metadata": {},
   "outputs": [
    {
     "data": {
      "text/plain": [
       "InvoiceNo           0\n",
       "StockCode           0\n",
       "Description      1454\n",
       "Quantity            0\n",
       "InvoiceDate         0\n",
       "UnitPrice           0\n",
       "CustomerID     135080\n",
       "Country             0\n",
       "dtype: int64"
      ]
     },
     "execution_count": 11,
     "metadata": {},
     "output_type": "execute_result"
    }
   ],
   "source": [
    "df.isna().sum()"
   ]
  },
  {
   "cell_type": "code",
   "execution_count": 52,
   "id": "7478e42d",
   "metadata": {},
   "outputs": [
    {
     "data": {
      "text/plain": [
       "Index(['InvoiceNo', 'StockCode', 'Description', 'Quantity', 'InvoiceDate',\n",
       "       'UnitPrice', 'CustomerID', 'Country', 'total_sale'],\n",
       "      dtype='object')"
      ]
     },
     "execution_count": 52,
     "metadata": {},
     "output_type": "execute_result"
    }
   ],
   "source": [
    "df.columns"
   ]
  },
  {
   "cell_type": "markdown",
   "id": "5d2ecd2d",
   "metadata": {},
   "source": [
    "##### Question 1: Find the Country that purchase the highest quantity of item."
   ]
  },
  {
   "cell_type": "code",
   "execution_count": 53,
   "id": "a12097da",
   "metadata": {},
   "outputs": [
    {
     "data": {
      "text/plain": [
       "<AxesSubplot:title={'center':'highest purchasing countries'}>"
      ]
     },
     "execution_count": 53,
     "metadata": {},
     "output_type": "execute_result"
    },
    {
     "data": {
      "image/png": "[encoded data removed]",
      "text/plain": [
       "<Figure size 640x480 with 1 Axes>"
      ]
     },
     "metadata": {},
     "output_type": "display_data"
    }
   ],
   "source": [
    "df['Country'].value_counts().head(10).plot(kind=\"barh\", title=\"highest purchasing countries\")"
   ]
  },
  {
   "cell_type": "markdown",
   "id": "a5a89f1a",
   "metadata": {},
   "source": [
    "#### Question 2: The Country that purchased the least item."
   ]
  },
  {
   "cell_type": "code",
   "execution_count": 14,
   "id": "cac723d0",
   "metadata": {},
   "outputs": [
    {
     "data": {
      "text/plain": [
       "<AxesSubplot:title={'center':'least purchasing countries'}>"
      ]
     },
     "execution_count": 14,
     "metadata": {},
     "output_type": "execute_result"
    },
    {
     "data": {
      "image/png": "[encoded data removed]",
      "text/plain": [
       "<Figure size 640x480 with 1 Axes>"
      ]
     },
     "metadata": {},
     "output_type": "display_data"
    }
   ],
   "source": [
    "df['Country'].value_counts().tail(10).plot(kind=\"barh\", title=\"least purchasing countries\")"
   ]
  },
  {
   "cell_type": "markdown",
   "id": "64092a19",
   "metadata": {},
   "source": [
    "#### Find the Countries that made the highest sales"
   ]
  },
  {
   "cell_type": "code",
   "execution_count": 10,
   "id": "8e068871",
   "metadata": {},
   "outputs": [
    {
     "data": {
      "text/html": [
       "<div>\n",
       "<style scoped>\n",
       "    .dataframe tbody tr th:only-of-type {\n",
       "        vertical-align: middle;\n",
       "    }\n",
       "\n",
       "    .dataframe tbody tr th {\n",
       "        vertical-align: top;\n",
       "    }\n",
       "\n",
       "    .dataframe thead th {\n",
       "        text-align: right;\n",
       "    }\n",
       "</style>\n",
       "<table border=\"1\" class=\"dataframe\">\n",
       "  <thead>\n",
       "    <tr style=\"text-align: right;\">\n",
       "      <th></th>\n",
       "      <th>InvoiceNo</th>\n",
       "      <th>StockCode</th>\n",
       "      <th>Description</th>\n",
       "      <th>Quantity</th>\n",
       "      <th>InvoiceDate</th>\n",
       "      <th>UnitPrice</th>\n",
       "      <th>CustomerID</th>\n",
       "      <th>Country</th>\n",
       "      <th>total_sale</th>\n",
       "    </tr>\n",
       "  </thead>\n",
       "  <tbody>\n",
       "    <tr>\n",
       "      <th>0</th>\n",
       "      <td>536365</td>\n",
       "      <td>85123A</td>\n",
       "      <td>WHITE HANGING HEART T-LIGHT HOLDER</td>\n",
       "      <td>6</td>\n",
       "      <td>2010-12-01 08:26:00</td>\n",
       "      <td>2.55</td>\n",
       "      <td>17850.0</td>\n",
       "      <td>United Kingdom</td>\n",
       "      <td>15.30</td>\n",
       "    </tr>\n",
       "    <tr>\n",
       "      <th>1</th>\n",
       "      <td>536365</td>\n",
       "      <td>71053</td>\n",
       "      <td>WHITE METAL LANTERN</td>\n",
       "      <td>6</td>\n",
       "      <td>2010-12-01 08:26:00</td>\n",
       "      <td>3.39</td>\n",
       "      <td>17850.0</td>\n",
       "      <td>United Kingdom</td>\n",
       "      <td>20.34</td>\n",
       "    </tr>\n",
       "    <tr>\n",
       "      <th>2</th>\n",
       "      <td>536365</td>\n",
       "      <td>84406B</td>\n",
       "      <td>CREAM CUPID HEARTS COAT HANGER</td>\n",
       "      <td>8</td>\n",
       "      <td>2010-12-01 08:26:00</td>\n",
       "      <td>2.75</td>\n",
       "      <td>17850.0</td>\n",
       "      <td>United Kingdom</td>\n",
       "      <td>22.00</td>\n",
       "    </tr>\n",
       "    <tr>\n",
       "      <th>3</th>\n",
       "      <td>536365</td>\n",
       "      <td>84029G</td>\n",
       "      <td>KNITTED UNION FLAG HOT WATER BOTTLE</td>\n",
       "      <td>6</td>\n",
       "      <td>2010-12-01 08:26:00</td>\n",
       "      <td>3.39</td>\n",
       "      <td>17850.0</td>\n",
       "      <td>United Kingdom</td>\n",
       "      <td>20.34</td>\n",
       "    </tr>\n",
       "    <tr>\n",
       "      <th>4</th>\n",
       "      <td>536365</td>\n",
       "      <td>84029E</td>\n",
       "      <td>RED WOOLLY HOTTIE WHITE HEART.</td>\n",
       "      <td>6</td>\n",
       "      <td>2010-12-01 08:26:00</td>\n",
       "      <td>3.39</td>\n",
       "      <td>17850.0</td>\n",
       "      <td>United Kingdom</td>\n",
       "      <td>20.34</td>\n",
       "    </tr>\n",
       "    <tr>\n",
       "      <th>5</th>\n",
       "      <td>536365</td>\n",
       "      <td>22752</td>\n",
       "      <td>SET 7 BABUSHKA NESTING BOXES</td>\n",
       "      <td>2</td>\n",
       "      <td>2010-12-01 08:26:00</td>\n",
       "      <td>7.65</td>\n",
       "      <td>17850.0</td>\n",
       "      <td>United Kingdom</td>\n",
       "      <td>15.30</td>\n",
       "    </tr>\n",
       "    <tr>\n",
       "      <th>6</th>\n",
       "      <td>536365</td>\n",
       "      <td>21730</td>\n",
       "      <td>GLASS STAR FROSTED T-LIGHT HOLDER</td>\n",
       "      <td>6</td>\n",
       "      <td>2010-12-01 08:26:00</td>\n",
       "      <td>4.25</td>\n",
       "      <td>17850.0</td>\n",
       "      <td>United Kingdom</td>\n",
       "      <td>25.50</td>\n",
       "    </tr>\n",
       "    <tr>\n",
       "      <th>7</th>\n",
       "      <td>536366</td>\n",
       "      <td>22633</td>\n",
       "      <td>HAND WARMER UNION JACK</td>\n",
       "      <td>6</td>\n",
       "      <td>2010-12-01 08:28:00</td>\n",
       "      <td>1.85</td>\n",
       "      <td>17850.0</td>\n",
       "      <td>United Kingdom</td>\n",
       "      <td>11.10</td>\n",
       "    </tr>\n",
       "    <tr>\n",
       "      <th>8</th>\n",
       "      <td>536366</td>\n",
       "      <td>22632</td>\n",
       "      <td>HAND WARMER RED POLKA DOT</td>\n",
       "      <td>6</td>\n",
       "      <td>2010-12-01 08:28:00</td>\n",
       "      <td>1.85</td>\n",
       "      <td>17850.0</td>\n",
       "      <td>United Kingdom</td>\n",
       "      <td>11.10</td>\n",
       "    </tr>\n",
       "    <tr>\n",
       "      <th>9</th>\n",
       "      <td>536367</td>\n",
       "      <td>84879</td>\n",
       "      <td>ASSORTED COLOUR BIRD ORNAMENT</td>\n",
       "      <td>32</td>\n",
       "      <td>2010-12-01 08:34:00</td>\n",
       "      <td>1.69</td>\n",
       "      <td>13047.0</td>\n",
       "      <td>United Kingdom</td>\n",
       "      <td>54.08</td>\n",
       "    </tr>\n",
       "  </tbody>\n",
       "</table>\n",
       "</div>"
      ],
      "text/plain": [
       "  InvoiceNo StockCode                          Description  Quantity  \\\n",
       "0    536365    85123A   WHITE HANGING HEART T-LIGHT HOLDER         6   \n",
       "1    536365     71053                  WHITE METAL LANTERN         6   \n",
       "2    536365    84406B       CREAM CUPID HEARTS COAT HANGER         8   \n",
       "3    536365    84029G  KNITTED UNION FLAG HOT WATER BOTTLE         6   \n",
       "4    536365    84029E       RED WOOLLY HOTTIE WHITE HEART.         6   \n",
       "5    536365     22752         SET 7 BABUSHKA NESTING BOXES         2   \n",
       "6    536365     21730    GLASS STAR FROSTED T-LIGHT HOLDER         6   \n",
       "7    536366     22633               HAND WARMER UNION JACK         6   \n",
       "8    536366     22632            HAND WARMER RED POLKA DOT         6   \n",
       "9    536367     84879        ASSORTED COLOUR BIRD ORNAMENT        32   \n",
       "\n",
       "          InvoiceDate  UnitPrice  CustomerID         Country  total_sale  \n",
       "0 2010-12-01 08:26:00       2.55     17850.0  United Kingdom       15.30  \n",
       "1 2010-12-01 08:26:00       3.39     17850.0  United Kingdom       20.34  \n",
       "2 2010-12-01 08:26:00       2.75     17850.0  United Kingdom       22.00  \n",
       "3 2010-12-01 08:26:00       3.39     17850.0  United Kingdom       20.34  \n",
       "4 2010-12-01 08:26:00       3.39     17850.0  United Kingdom       20.34  \n",
       "5 2010-12-01 08:26:00       7.65     17850.0  United Kingdom       15.30  \n",
       "6 2010-12-01 08:26:00       4.25     17850.0  United Kingdom       25.50  \n",
       "7 2010-12-01 08:28:00       1.85     17850.0  United Kingdom       11.10  \n",
       "8 2010-12-01 08:28:00       1.85     17850.0  United Kingdom       11.10  \n",
       "9 2010-12-01 08:34:00       1.69     13047.0  United Kingdom       54.08  "
      ]
     },
     "execution_count": 10,
     "metadata": {},
     "output_type": "execute_result"
    }
   ],
   "source": [
    "df[\"total_sale\"] = df[\"Quantity\"] * df[\"UnitPrice\"]\n",
    "df.head(10)"
   ]
  },
  {
   "cell_type": "code",
   "execution_count": null,
   "id": "8c6f285e",
   "metadata": {},
   "outputs": [],
   "source": []
  },
  {
   "cell_type": "code",
   "execution_count": 23,
   "id": "ba71a728",
   "metadata": {},
   "outputs": [
    {
     "data": {
      "text/plain": [
       "['WHITE HANGING HEART T-LIGHT HOLDER',\n",
       " 'WHITE METAL LANTERN',\n",
       " 'CREAM CUPID HEARTS COAT HANGER',\n",
       " 'KNITTED UNION FLAG HOT WATER BOTTLE',\n",
       " 'RED WOOLLY HOTTIE WHITE HEART.',\n",
       " 'SET 7 BABUSHKA NESTING BOXES',\n",
       " 'GLASS STAR FROSTED T-LIGHT HOLDER',\n",
       " 'HAND WARMER UNION JACK',\n",
       " 'HAND WARMER RED POLKA DOT',\n",
       " 'ASSORTED COLOUR BIRD ORNAMENT',\n",
       " \"POPPY'S PLAYHOUSE BEDROOM \",\n",
       " \"POPPY'S PLAYHOUSE KITCHEN\",\n",
       " 'FELTCRAFT PRINCESS CHARLOTTE DOLL',\n",
       " 'IVORY KNITTED MUG COSY ',\n",
       " 'BOX OF 6 ASSORTED COLOUR TEASPOONS',\n",
       " 'BOX OF VINTAGE JIGSAW BLOCKS ',\n",
       " 'BOX OF VINTAGE ALPHABET BLOCKS',\n",
       " 'HOME BUILDING BLOCK WORD',\n",
       " 'LOVE BUILDING BLOCK WORD',\n",
       " 'RECIPE BOX WITH METAL HEART',\n",
       " 'DOORMAT NEW ENGLAND',\n",
       " 'JAM MAKING SET WITH JARS',\n",
       " 'RED COAT RACK PARIS FASHION',\n",
       " 'YELLOW COAT RACK PARIS FASHION',\n",
       " 'BLUE COAT RACK PARIS FASHION',\n",
       " 'BATH BUILDING BLOCK WORD',\n",
       " 'ALARM CLOCK BAKELIKE PINK',\n",
       " 'ALARM CLOCK BAKELIKE RED ',\n",
       " 'ALARM CLOCK BAKELIKE GREEN',\n",
       " 'PANDA AND BUNNIES STICKER SHEET',\n",
       " 'STARS GIFT TAPE ',\n",
       " 'INFLATABLE POLITICAL GLOBE ',\n",
       " 'VINTAGE HEADS AND TAILS CARD GAME ',\n",
       " 'SET/2 RED RETROSPOT TEA TOWELS ',\n",
       " 'ROUND SNACK BOXES SET OF4 WOODLAND ',\n",
       " 'SPACEBOY LUNCH BOX ',\n",
       " 'LUNCH BOX I LOVE LONDON',\n",
       " 'CIRCUS PARADE LUNCH BOX ',\n",
       " 'CHARLOTTE BAG DOLLY GIRL DESIGN',\n",
       " 'RED TOADSTOOL LED NIGHT LIGHT',\n",
       " ' SET 2 TEA TOWELS I LOVE LONDON ',\n",
       " 'VINTAGE SEASIDE JIGSAW PUZZLES',\n",
       " 'MINI JIGSAW CIRCUS PARADE ',\n",
       " 'MINI JIGSAW SPACEBOY',\n",
       " 'MINI PAINT SET VINTAGE ',\n",
       " 'POSTAGE',\n",
       " \"PAPER CHAIN KIT 50'S CHRISTMAS \",\n",
       " 'EDWARDIAN PARASOL RED',\n",
       " 'RETRO COFFEE MUGS ASSORTED',\n",
       " 'SAVE THE PLANET MUG',\n",
       " 'VINTAGE BILLBOARD DRINK ME MUG',\n",
       " 'VINTAGE BILLBOARD LOVE/HATE MUG',\n",
       " 'WOOD 2 DRAWER CABINET WHITE FINISH',\n",
       " 'WOOD S/3 CABINET ANT WHITE FINISH',\n",
       " 'WOODEN PICTURE FRAME WHITE FINISH',\n",
       " 'WOODEN FRAME ANTIQUE WHITE ',\n",
       " 'VICTORIAN SEWING BOX LARGE',\n",
       " 'HOT WATER BOTTLE TEA AND SYMPATHY',\n",
       " 'RED HANGING HEART T-LIGHT HOLDER',\n",
       " 'JUMBO BAG PINK POLKADOT',\n",
       " 'JUMBO  BAG BAROQUE BLACK WHITE',\n",
       " 'JUMBO BAG CHARLIE AND LOLA TOYS',\n",
       " 'STRAWBERRY CHARLOTTE BAG',\n",
       " 'RED 3 PIECE RETROSPOT CUTLERY SET',\n",
       " 'BLUE 3 PIECE POLKADOT CUTLERY SET',\n",
       " 'SET/6 RED SPOTTY PAPER PLATES',\n",
       " 'LUNCH BAG RED RETROSPOT',\n",
       " 'STRAWBERRY LUNCH BOX WITH CUTLERY',\n",
       " 'LUNCH BOX WITH CUTLERY RETROSPOT ',\n",
       " 'PACK OF 72 RETROSPOT CAKE CASES',\n",
       " 'PACK OF 60 DINOSAUR CAKE CASES',\n",
       " 'PACK OF 60 PINK PAISLEY CAKE CASES',\n",
       " '60 TEATIME FAIRY CAKE CASES',\n",
       " 'TOMATO CHARLIE+LOLA COASTER SET',\n",
       " 'CHARLIE & LOLA WASTEPAPER BIN FLORA',\n",
       " 'RED CHARLIE+LOLA PERSONAL DOORSIGN',\n",
       " 'JUMBO STORAGE BAG SUKI',\n",
       " 'JUMBO BAG PINK VINTAGE PAISLEY',\n",
       " 'JAM MAKING SET PRINTED',\n",
       " 'RETROSPOT TEA SET CERAMIC 11 PC ',\n",
       " 'GIRLY PINK TOOL SET',\n",
       " 'JUMBO SHOPPER VINTAGE RED PAISLEY',\n",
       " 'AIRLINE LOUNGE,METAL SIGN',\n",
       " 'WHITE SPOT RED CERAMIC DRAWER KNOB',\n",
       " 'RED DRAWER KNOB ACRYLIC EDWARDIAN',\n",
       " 'CLEAR DRAWER KNOB ACRYLIC EDWARDIAN',\n",
       " 'PHOTO CLIP LINE',\n",
       " 'FELT EGG COSY CHICKEN',\n",
       " 'PIGGY BANK RETROSPOT ',\n",
       " 'SKULL SHOULDER BAG',\n",
       " \"YOU'RE CONFUSING ME METAL SIGN \",\n",
       " 'COOK WITH WINE METAL SIGN ',\n",
       " 'GIN + TONIC DIET METAL SIGN',\n",
       " 'YELLOW BREAKFAST CUP AND SAUCER',\n",
       " 'PINK BREAKFAST CUP AND SAUCER ',\n",
       " 'PAPER CHAIN KIT RETROSPOT',\n",
       " 'SMALL HEART FLOWERS HOOK ',\n",
       " 'TEA TIME DES TEA COSY',\n",
       " 'FELT EGG COSY WHITE RABBIT ',\n",
       " 'ZINC WILLIE WINKIE  CANDLE STICK',\n",
       " 'CERAMIC CHERRY CAKE MONEY BANK',\n",
       " 'RETROSPOT LARGE MILK JUG',\n",
       " 'SET OF 6 FUNKY BEAKERS',\n",
       " 'EDWARDIAN PARASOL BLACK',\n",
       " 'EDWARDIAN PARASOL NATURAL',\n",
       " 'CERAMIC STRAWBERRY CAKE MONEY BANK',\n",
       " 'BLUE OWL SOFT TOY',\n",
       " 'BALLOON ART MAKE YOUR OWN FLOWERS',\n",
       " 'GLASS CLOCHE SMALL',\n",
       " 'GUMBALL MONOCHROME COAT RACK',\n",
       " 'DOORMAT FANCY FONT HOME SWEET HOME',\n",
       " 'Discount',\n",
       " 'VINTAGE SNAKES & LADDERS',\n",
       " 'CHOCOLATE CALCULATOR',\n",
       " 'RECYCLING BAG RETROSPOT ',\n",
       " 'TOY TIDY PINK POLKADOT',\n",
       " 'ANTIQUE GLASS DRESSING TABLE POT',\n",
       " 'IVORY GIANT GARDEN THERMOMETER',\n",
       " '3 TIER CAKE TIN GREEN AND CREAM',\n",
       " '3 TIER CAKE TIN RED AND CREAM',\n",
       " 'SET 3 WICKER OVAL BASKETS W LIDS',\n",
       " 'SET OF 3 COLOURED  FLYING DUCKS',\n",
       " 'WOOD BLACK BOARD ANT WHITE FINISH',\n",
       " 'COLOUR GLASS T-LIGHT HOLDER HANGING',\n",
       " 'HANGING METAL HEART LANTERN',\n",
       " 'HANGING MEDINA LANTERN SMALL',\n",
       " 'NATURAL SLATE HEART CHALKBOARD ',\n",
       " 'HEART OF WICKER SMALL',\n",
       " 'HEART OF WICKER LARGE',\n",
       " 'WHITE LOVEBIRD LANTERN',\n",
       " 'CLASSIC METAL BIRDCAGE PLANT HOLDER',\n",
       " 'CREAM HEART CARD HOLDER',\n",
       " 'ENAMEL FLOWER JUG CREAM',\n",
       " 'ENAMEL FIRE BUCKET CREAM',\n",
       " 'ENAMEL BREAD BIN CREAM',\n",
       " 'JUMBO BAG DOLLY GIRL DESIGN',\n",
       " 'TRADITIONAL CHRISTMAS RIBBONS',\n",
       " 'ORGANISER WOOD ANTIQUE WHITE ',\n",
       " 'LUNCH BAG DOLLY GIRL DESIGN',\n",
       " 'WHITE WIRE EGG HOLDER',\n",
       " 'JUMBO BAG RED RETROSPOT',\n",
       " 'CHILLI LIGHTS',\n",
       " 'LIGHT GARLAND BUTTERFILES PINK',\n",
       " 'WOODEN OWLS LIGHT GARLAND ',\n",
       " 'FAIRY TALE COTTAGE NIGHTLIGHT',\n",
       " 'HOME SMALL WOOD LETTERS',\n",
       " 'GINGHAM HEART  DOORSTOP RED',\n",
       " 'FIVE HEART HANGING DECORATION',\n",
       " 'ASSORTED BOTTLE TOP  MAGNETS ',\n",
       " 'FRIDGE MAGNETS US DINER ASSORTED',\n",
       " 'HOMEMADE JAM SCENTED CANDLES',\n",
       " 'FRIDGE MAGNETS LES ENFANTS ASSORTED',\n",
       " 'ROSE CARAVAN DOORSTOP',\n",
       " '5 HOOK HANGER MAGIC TOADSTOOL',\n",
       " 'CHRISTMAS LIGHTS 10 REINDEER',\n",
       " 'VINTAGE UNION JACK CUSHION COVER',\n",
       " 'SET OF 3 GOLD FLYING DUCKS',\n",
       " 'RED RETROSPOT UMBRELLA',\n",
       " 'BLACK/BLUE POLKADOT UMBRELLA',\n",
       " 'RED DINER WALL CLOCK',\n",
       " 'BLUE DINER WALL CLOCK',\n",
       " 'IVORY DINER WALL CLOCK',\n",
       " 'LARGE HEART MEASURING SPOONS',\n",
       " 'SMALL HEART MEASURING SPOONS',\n",
       " 'JAM JAR WITH PINK LID',\n",
       " 'JAM JAR WITH GREEN LID',\n",
       " 'ROSE COTTAGE KEEPSAKE BOX ',\n",
       " 'HANGING HEART ZINC T-LIGHT HOLDER',\n",
       " 'PAPER CHAIN KIT VINTAGE CHRISTMAS',\n",
       " 'DISCO BALL CHRISTMAS DECORATION',\n",
       " 'SMALL POPCORN HOLDER',\n",
       " 'LARGE POPCORN HOLDER ',\n",
       " 'SET/20 RED RETROSPOT PAPER NAPKINS ',\n",
       " 'SET/6 RED SPOTTY PAPER CUPS',\n",
       " 'POLKADOT RAIN HAT ',\n",
       " 'DELUXE SEWING KIT ',\n",
       " 'RETROSPOT HEART HOT WATER BOTTLE',\n",
       " 'ENGLISH ROSE HOT WATER BOTTLE',\n",
       " 'PHOTO CUBE',\n",
       " 'PLASTERS IN TIN CIRCUS PARADE ',\n",
       " 'PACK OF 12 PINK PAISLEY TISSUES ',\n",
       " 'PACK OF 12 BLUE PAISLEY TISSUES ',\n",
       " 'PACK OF 12 RED RETROSPOT TISSUES ',\n",
       " 'CHICK GREY HOT WATER BOTTLE',\n",
       " 'PLASTERS IN TIN VINTAGE PAISLEY ',\n",
       " 'PLASTERS IN TIN SKULLS',\n",
       " '3 STRIPEY MICE FELTCRAFT',\n",
       " 'SET OF 6 SOLDIER SKITTLES',\n",
       " 'TRADITIONAL WOODEN SKIPPING ROPE',\n",
       " 'WOODEN BOX OF DOMINOES',\n",
       " 'RUSTIC  SEVENTEEN DRAWER SIDEBOARD',\n",
       " 'PARTY CONES CARNIVAL ASSORTED',\n",
       " 'PARTY CONES CANDY ASSORTED',\n",
       " 'PICNIC BASKET WICKER SMALL',\n",
       " 'STAR DECORATION PAINTED ZINC ',\n",
       " 'RETROSPOT LAMP',\n",
       " 'FANCY FONT BIRTHDAY CARD, ',\n",
       " 'HAND WARMER SCOTTY DOG DESIGN',\n",
       " 'HAND WARMER OWL DESIGN',\n",
       " 'HAND WARMER RED RETROSPOT',\n",
       " 'DOG BOWL CHASING BALL DESIGN',\n",
       " 'CLOTHES PEGS RETROSPOT PACK 24 ',\n",
       " 'HAND OVER THE CHOCOLATE   SIGN ',\n",
       " 'TRAVEL SEWING KIT',\n",
       " 'BLACK HEART CARD HOLDER',\n",
       " 'SMALL GLASS HEART TRINKET POT',\n",
       " 'ALARM CLOCK BAKELIKE IVORY',\n",
       " 'ALARM CLOCK BAKELIKE ORANGE',\n",
       " 'HAND WARMER BIRD DESIGN',\n",
       " 'IVORY EMBROIDERED QUILT ',\n",
       " 'SET OF 3 BLACK FLYING DUCKS',\n",
       " 'RED RETROSPOT MUG',\n",
       " 'BABUSHKA LIGHTS STRING OF 10',\n",
       " 'DOORMAT FAIRY CAKE',\n",
       " 'STRAWBERRY CERAMIC TRINKET BOX',\n",
       " 'PINK DOUGHNUT TRINKET POT ',\n",
       " 'SILK PURSE BABUSHKA PINK',\n",
       " 'HOT WATER BOTTLE I AM SO POORLY',\n",
       " 'CHOCOLATE HOT WATER BOTTLE',\n",
       " 'WHITE SKULL HOT WATER BOTTLE ',\n",
       " 'SCOTTIE DOG HOT WATER BOTTLE',\n",
       " 'BIRD HOUSE HOT WATER BOTTLE',\n",
       " 'BOUDOIR SQUARE TISSUE BOX',\n",
       " 'SKULLS SQUARE TISSUE BOX',\n",
       " 'PHOTO FRAME CORNICE',\n",
       " 'SILK PURSE BABUSHKA RED',\n",
       " 'PICTURE DOMINOES',\n",
       " 'S/6 SEW ON CROCHET FLOWERS',\n",
       " 'SCANDINAVIAN REDS RIBBONS',\n",
       " 'BALLOONS  WRITING SET ',\n",
       " 'LAVENDER INCENSE IN TIN',\n",
       " 'TV DINNER TRAY VINTAGE PAISLEY',\n",
       " 'SET OF 4 ENGLISH ROSE PLACEMATS',\n",
       " 'SET OF 4 ENGLISH ROSE COASTERS',\n",
       " 'TRIPLE PHOTO FRAME CORNICE ',\n",
       " 'FAMILY PHOTO FRAME CORNICE',\n",
       " 'MIRRORED DISCO BALL ',\n",
       " 'DISCO BALL ROTATOR BATTERY OPERATED',\n",
       " 'SILVER LOOKING MIRROR',\n",
       " 'LADIES & GENTLEMEN METAL SIGN',\n",
       " 'METAL SIGN HER DINNER IS SERVED ',\n",
       " 'DOORMAT TOPIARY',\n",
       " 'BATHROOM METAL SIGN',\n",
       " 'KITCHEN METAL SIGN',\n",
       " 'TOILET METAL SIGN',\n",
       " 'METAL SIGN TAKE IT OR LEAVE IT ',\n",
       " \"I'M ON HOLIDAY METAL SIGN\",\n",
       " 'GROW YOUR OWN BASIL IN ENAMEL MUG',\n",
       " 'SET/10 PINK POLKADOT PARTY CANDLES',\n",
       " 'SET 20 NAPKINS FAIRY CAKES DESIGN ',\n",
       " 'SET OF 6 T-LIGHTS SNOWMEN',\n",
       " 'SET OF 6 T-LIGHTS SANTA',\n",
       " 'SET OF 9 HEART SHAPED BALLOONS',\n",
       " 'SANDWICH BATH SPONGE',\n",
       " 'APPLE BATH SPONGE',\n",
       " 'STRAWBERRY BATH SPONGE ',\n",
       " 'BLACK PIRATE TREASURE CHEST',\n",
       " 'STAR PORTABLE TABLE LIGHT ',\n",
       " 'SNOWFLAKE PORTABLE TABLE LIGHT ',\n",
       " 'PINK OVAL JEWELLED MIRROR',\n",
       " 'RETROSPOT CIGAR BOX MATCHES ',\n",
       " 'COSY HOUR GIANT TUBE MATCHES',\n",
       " 'JAZZ HEARTS PURSE NOTEBOOK',\n",
       " 'CANDLEHOLDER PINK HANGING HEART',\n",
       " 'ASSORTED COLOUR MINI CASES',\n",
       " 'LUNCH BAG SPACEBOY DESIGN ',\n",
       " 'LUNCH BAG WOODLAND',\n",
       " 'LUNCH BAG PINK POLKADOT',\n",
       " 'GUMBALL COAT RACK',\n",
       " 'BLUE NEW BAROQUE CANDLESTICK CANDLE',\n",
       " 'PINK NEW BAROQUECANDLESTICK CANDLE',\n",
       " 'FAIRY CAKE FLANNEL ASSORTED COLOUR',\n",
       " 'BREAD BIN DINER STYLE PINK',\n",
       " 'TEA TIME TABLE CLOTH',\n",
       " 'HOT WATER BOTTLE BABUSHKA ',\n",
       " 'HEART IVORY TRELLIS SMALL',\n",
       " 'PINK DRAWER KNOB ACRYLIC EDWARDIAN',\n",
       " 'GREEN DRAWER KNOB ACRYLIC EDWARDIAN',\n",
       " 'BLUE DRAWER KNOB ACRYLIC EDWARDIAN',\n",
       " 'SET 6 FOOTBALL CELEBRATION CANDLES',\n",
       " 'SET OF 6 GIRLS CELEBRATION CANDLES',\n",
       " 'ROMANTIC PINKS RIBBONS ',\n",
       " 'BRIGHT BLUES RIBBONS ',\n",
       " 'CHOCOLATE BOX RIBBONS ',\n",
       " 'PARTY INVITES FOOTBALL',\n",
       " 'PARTY INVITES JAZZ HEARTS',\n",
       " 'PARTY INVITES SPACEMAN',\n",
       " 'SET OF 3 BUTTERFLY COOKIE CUTTERS',\n",
       " 'SET OF 3 HEART COOKIE CUTTERS',\n",
       " '3 PIECE SPACEBOY COOKIE CUTTER SET',\n",
       " 'PACK OF 72 SKULL CAKE CASES',\n",
       " 'PACK OF 60 SPACEBOY CAKE CASES',\n",
       " '72 SWEETHEART FAIRY CAKE CASES',\n",
       " 'LUNCH BAG SUKI  DESIGN ',\n",
       " 'LUNCH BAG CARS BLUE',\n",
       " 'LUNCH BAG  BLACK SKULL.',\n",
       " 'HEART IVORY TRELLIS LARGE',\n",
       " 'SET/5 RED RETROSPOT LID GLASS BOWLS',\n",
       " 'MAGIC DRAWING SLATE DINOSAUR',\n",
       " 'MAGIC DRAWING SLATE BAKE A CAKE ',\n",
       " '12 PENCILS TALL TUBE SKULLS',\n",
       " 'RED  HARMONICA IN BOX ',\n",
       " 'BLUE HARMONICA IN BOX ',\n",
       " 'SKULLS  WATER TRANSFER TATTOOS ',\n",
       " 'PACK 3 BOXES BIRD PANNETONE ',\n",
       " 'SET OF 20 KIDS COOKIE CUTTERS',\n",
       " '10 COLOUR SPACEBOY PEN',\n",
       " 'VICTORIAN GLASS HANGING T-LIGHT',\n",
       " 'SINGLE HEART ZINC T-LIGHT HOLDER',\n",
       " 'HANGING METAL STAR LANTERN',\n",
       " 'SILVER HANGING T-LIGHT HOLDER',\n",
       " 'DOORMAT RED RETROSPOT',\n",
       " 'DOORMAT HEARTS',\n",
       " 'NATURAL SLATE RECTANGLE CHALKBOARD',\n",
       " 'LOVEBIRD HANGING DECORATION WHITE ',\n",
       " 'PENS ASSORTED FUNNY FACE',\n",
       " 'CARD CIRCUS PARADE',\n",
       " 'WRAP COWBOYS  ',\n",
       " 'AIRLINE BAG VINTAGE TOKYO 78',\n",
       " 'SET OF 72 RETROSPOT PAPER  DOILIES',\n",
       " 'SLEEPING CAT ERASERS',\n",
       " 'CARD BIRTHDAY COWBOY',\n",
       " 'PACK 3 BOXES CHRISTMAS PANNETONE',\n",
       " 'ROTATING SILVER ANGELS T-LIGHT HLDR',\n",
       " 'RIBBON REEL MAKING SNOWMEN ',\n",
       " '4 TRADITIONAL SPINNING TOPS',\n",
       " 'BAG 500g SWIRLY MARBLES',\n",
       " '5 STRAND GLASS NECKLACE CRYSTAL',\n",
       " 'SQUARECUSHION COVER PINK UNION FLAG',\n",
       " 'SPACEBOY CHILDRENS EGG CUP',\n",
       " \"CHILDREN'S SPACEBOY MUG\",\n",
       " 'FELTCRAFT CUSHION OWL',\n",
       " 'BLACK CANDELABRA T-LIGHT HOLDER',\n",
       " 'TOY TIDY DOLLY GIRL DESIGN',\n",
       " 'SET 12 LAVENDER  BOTANICAL T-LIGHTS',\n",
       " 'UNION JACK FLAG LUGGAGE TAG',\n",
       " 'RED HEART LUGGAGE TAG',\n",
       " 'RED GLASS TASSLE BAG CHARM',\n",
       " 'CLEAR ACRYLIC FACETED BANGLE',\n",
       " 'DOORMAT UNION JACK GUNS AND ROSES',\n",
       " 'VANILLA SCENT CANDLE JEWELLED BOX',\n",
       " 'FULL ENGLISH BREAKFAST PLATE',\n",
       " 'MAGIC DRAWING SLATE CIRCUS PARADE  ',\n",
       " 'CHRISTMAS HANGING HEART WITH BELL',\n",
       " 'CAKE STAND VICTORIAN FILIGREE MED',\n",
       " 'PAISLEY PATTERN  STICKERS',\n",
       " 'FLOWERS  STICKERS',\n",
       " 'BLACK LOVE BIRD CANDLE',\n",
       " 'PARTY TIME PENCIL ERASERS',\n",
       " \"PINK B'FLY C/COVER W BOBBLES\",\n",
       " 'PINK UNION JACK  LUGGAGE TAG',\n",
       " '6 RIBBONS ELEGANT CHRISTMAS ',\n",
       " 'AGED GLASS SILVER T-LIGHT HOLDER',\n",
       " 'BOOM BOX SPEAKER GIRLS',\n",
       " '6 RIBBONS SHIMMERING PINKS ',\n",
       " 'JUMBO BAG OWLS',\n",
       " 'OWL DOORSTOP',\n",
       " 'PAINTED METAL STAR WITH HOLLY BELLS',\n",
       " 'PAINTED METAL HEART WITH HOLLY BELL',\n",
       " 'ANGEL DECORATION STARS ON DRESS',\n",
       " 'JUMBO BAG STRAWBERRY',\n",
       " 'STRAWBERRY SHOPPER BAG',\n",
       " 'ROUND SNACK BOXES SET OF 4 FRUITS ',\n",
       " 'ROUND SNACK BOXES SET OF 4 SKULLS',\n",
       " 'DOLLY GIRL LUNCH BOX',\n",
       " 'GREEN POLKADOT PLATE ',\n",
       " 'BLUE POLKADOT PLATE ',\n",
       " 'RED RETROSPOT PLATE ',\n",
       " 'PINK  POLKADOT PLATE ',\n",
       " 'FELTCRAFT DOLL MOLLY',\n",
       " 'FELTCRAFT CHRISTMAS FAIRY',\n",
       " 'SET OF 3 NOTEBOOKS IN PARCEL',\n",
       " 'RED RETROSPOT TAPE',\n",
       " 'COSY SLIPPER SHOES SMALL  RED ',\n",
       " '6 RIBBONS RUSTIC CHARM',\n",
       " '12 DAISY PEGS IN WOOD BOX',\n",
       " '5 HOOK HANGER RED MAGIC TOADSTOOL',\n",
       " 'CHRISTMAS CRAFT TREE TOP ANGEL',\n",
       " 'CHRISTMAS CRAFT LITTLE FRIENDS',\n",
       " 'COSY SLIPPER SHOES SMALL GREEN',\n",
       " 'FELTCRAFT DOLL ROSIE',\n",
       " 'FELTCRAFT DOLL EMILY',\n",
       " 'FELTCRAFT PRINCESS OLIVIA DOLL',\n",
       " 'REX CASH+CARRY JUMBO SHOPPER',\n",
       " 'FELTCRAFT CUSHION RABBIT',\n",
       " 'FELTCRAFT CUSHION BUTTERFLY',\n",
       " 'TOTE BAG I LOVE LONDON',\n",
       " 'FOLDING UMBRELLA PINKWHITE POLKADOT',\n",
       " 'FOLDING UMBRELLA CREAM POLKADOT',\n",
       " 'FOLDING UMBRELLA WHITE/RED POLKADOT',\n",
       " 'SET 10 LIGHTS NIGHT OWL',\n",
       " 'FOLDING UMBRELLA RED/WHITE POLKADOT',\n",
       " 'S/4 VALENTINE DECOUPAGE HEART BOX',\n",
       " 'SOLDIERS EGG CUP ',\n",
       " 'RED RETROSPOT MINI CASES',\n",
       " nan,\n",
       " '60 CAKE CASES VINTAGE CHRISTMAS',\n",
       " 'RIBBON REEL CHRISTMAS SOCK BAUBLE',\n",
       " 'RIBBON REEL SNOWY VILLAGE',\n",
       " 'SET OF 20 VINTAGE CHRISTMAS NAPKINS',\n",
       " 'TURQUOISE CHRISTMAS TREE ',\n",
       " 'RED STAR CARD HOLDER',\n",
       " 'WICKER WREATH SMALL',\n",
       " 'ADVENT CALENDAR GINGHAM SACK',\n",
       " 'FELTCRAFT BUTTERFLY HEARTS',\n",
       " 'PARTY CONE CHRISTMAS DECORATION ',\n",
       " 'WICKER STAR ',\n",
       " 'VINTAGE SNAP CARDS',\n",
       " 'FELTCRAFT 6 FLOWER FRIENDS',\n",
       " 'BIRD DECORATION RED RETROSPOT',\n",
       " 'CHRISTMAS GINGHAM TREE',\n",
       " 'CHRISTMAS GINGHAM STAR',\n",
       " 'CHRISTMAS GINGHAM HEART',\n",
       " 'PACK OF 12 PINK POLKADOT TISSUES',\n",
       " 'FELTCRAFT PRINCESS LOLA DOLL',\n",
       " 'PACK OF 12 LONDON TISSUES ',\n",
       " 'PURPLE DRAWERKNOB ACRYLIC EDWARDIAN',\n",
       " \"CHILDREN'S APRON DOLLY GIRL \",\n",
       " 'CHILDRENS APRON SPACEBOY DESIGN',\n",
       " 'CHRISTMAS LIGHTS 10 SANTAS ',\n",
       " 'PACK OF 60 MUSHROOM CAKE CASES',\n",
       " '60 CAKE CASES DOLLY GIRL DESIGN',\n",
       " 'HAND WARMER BABUSHKA DESIGN',\n",
       " 'SET 12 RETRO WHITE CHALK STICKS',\n",
       " 'FELTCRAFT HAIRBAND RED AND BLUE',\n",
       " 'FELTCRAFT HAIRBAND PINK AND PURPLE',\n",
       " 'FELTCRAFT HAIRBANDS PINK AND WHITE ',\n",
       " 'TV DINNER TRAY DOLLY GIRL',\n",
       " 'PLASTERS IN TIN SPACEBOY',\n",
       " 'PLASTERS IN TIN WOODLAND ANIMALS',\n",
       " 'MAGIC DRAWING SLATE SPACEBOY ',\n",
       " 'MAGIC DRAWING SLATE GO TO THE FAIR ',\n",
       " 'MAGIC DRAWING SLATE DOLLY GIRL ',\n",
       " 'CHARLIE + LOLA RED HOT WATER BOTTLE',\n",
       " 'URBAN BLACK RIBBONS ',\n",
       " 'SET OF 6 T-LIGHTS TOADSTOOLS',\n",
       " 'ROTATING LEAVES T-LIGHT HOLDER',\n",
       " 'CUPCAKE LACE PAPER SET 6',\n",
       " 'TRADITIONAL WOODEN CATCH CUP GAME ',\n",
       " 'S/6 WOODEN SKITTLES IN COTTON BAG',\n",
       " 'RED METAL BEACH SPADE ',\n",
       " 'BOYS VINTAGE TIN SEASIDE BUCKET',\n",
       " 'GIRLS VINTAGE TIN SEASIDE BUCKET',\n",
       " 'GREY HEART HOT WATER BOTTLE',\n",
       " 'KINGS CHOICE TEA CADDY ',\n",
       " 'KINGS CHOICE BISCUIT TIN',\n",
       " 'METAL SIGN EMPIRE TEA',\n",
       " 'FAWN BLUE HOT WATER BOTTLE',\n",
       " 'PACK OF 6 BIRDY GIFT TAGS',\n",
       " 'CERAMIC STRAWBERRY MONEY BOX',\n",
       " 'CERAMIC HEART FAIRY CAKE MONEY BANK',\n",
       " 'CERAMIC PIRATE CHEST MONEY BANK',\n",
       " 'DOORSTOP RETROSPOT HEART',\n",
       " 'RETROSPOT BABUSHKA DOORSTOP',\n",
       " 'SWEETHEART WIRE WALL TIDY',\n",
       " 'RED RETROSPOT OVEN GLOVE ',\n",
       " 'NAMASTE SWAGAT INCENSE',\n",
       " 'CERAMIC STRAWBERRY DESIGN MUG',\n",
       " 'CLASSICAL ROSE SMALL VASE',\n",
       " 'HYACINTH BULB T-LIGHT CANDLES',\n",
       " 'CHRISTMAS CRAFT WHITE FAIRY ',\n",
       " 'COSY HOUR CIGAR BOX MATCHES ',\n",
       " 'RED TEA TOWEL CLASSIC DESIGN',\n",
       " 'HEART FILIGREE DOVE  SMALL',\n",
       " 'RETROSPOT CHILDRENS APRON',\n",
       " 'COLOURING PENCILS BROWN TUBE',\n",
       " '4 IVORY DINNER CANDLES SILVER FLOCK',\n",
       " 'ZINC METAL HEART DECORATION',\n",
       " 'GREEN FERN NOTEBOOK',\n",
       " 'BLUE PAISLEY NOTEBOOK',\n",
       " 'CHRYSANTHEMUM NOTEBOOK',\n",
       " 'LARGE CHINESE STYLE SCISSOR',\n",
       " 'SMALL CHINESE STYLE SCISSOR',\n",
       " 'HANGING GLASS ETCHED TEALIGHT',\n",
       " 'COOKING SET RETROSPOT',\n",
       " 'KINGS CHOICE GIANT TUBE MATCHES',\n",
       " 'PLACE SETTING WHITE STAR',\n",
       " 'S/15 SILVER GLASS BAUBLES IN BAG',\n",
       " 'FRENCH WC SIGN BLUE METAL',\n",
       " 'FAIRY SOAP SOAP HOLDER',\n",
       " 'GREEN GIANT GARDEN THERMOMETER',\n",
       " 'BLUE GIANT GARDEN THERMOMETER',\n",
       " 'VICTORIAN SEWING BOX SMALL ',\n",
       " 'VICTORIAN SEWING BOX MEDIUM',\n",
       " 'SET/10 RED POLKADOT PARTY CANDLES',\n",
       " 'WASHROOM METAL SIGN',\n",
       " 'BLACK SWEETHEART BRACELET',\n",
       " 'DIAMANTE HAIR GRIP PACK/2 BLACK DIA',\n",
       " 'BLACK DIAMANTE EXPANDABLE RING',\n",
       " 'DIAMANTE HAIR GRIP PACK/2 RUBY',\n",
       " 'DIAMANTE HAIR GRIP PACK/2 MONTANA',\n",
       " 'BLUE SWEETHEART BRACELET',\n",
       " 'PINK SWEETHEART BRACELET',\n",
       " 'PURPLE SWEETHEART BRACELET',\n",
       " 'RIBBON REEL CHRISTMAS PRESENT ',\n",
       " 'FIRST AID TIN',\n",
       " 'MAKE YOUR OWN MONSOON CARD KIT',\n",
       " 'PACK OF 12 HEARTS DESIGN TISSUES ',\n",
       " 'HEART FILIGREE DOVE LARGE',\n",
       " 'SWIRLY CIRCULAR RUBBERS IN BAG',\n",
       " 'VINTAGE PAISLEY STATIONERY SET',\n",
       " 'SET/10 BLUE POLKADOT PARTY CANDLES',\n",
       " 'RIBBON REEL SOCKS AND MITTENS',\n",
       " 'CHRISTMAS METAL TAGS ASSORTED ',\n",
       " 'CHRISTMAS TREE T-LIGHT HOLDER',\n",
       " 'STAR  T-LIGHT HOLDER ',\n",
       " 'HEART T-LIGHT HOLDER ',\n",
       " 'MINI FUNKY DESIGN TAPES',\n",
       " 'STAR WOODEN CHRISTMAS DECORATION',\n",
       " 'WOODEN HEART CHRISTMAS SCANDINAVIAN',\n",
       " 'CHRISTMAS RETROSPOT TREE WOOD',\n",
       " 'SET/9 CHRISTMAS T-LIGHTS SCENTED ',\n",
       " 'BLUE ROSE FABRIC MIRROR',\n",
       " 'THREE CANVAS LUGGAGE TAGS',\n",
       " 'RETROSPOT PARTY BAG + STICKER SET',\n",
       " 'RETROSPOT SMALL TUBE MATCHES',\n",
       " '3D CHRISTMAS STAMPS STICKERS ',\n",
       " '36 FOIL HEART CAKE CASES',\n",
       " 'PACK OF 6 SWEETIE GIFT BOXES',\n",
       " 'CINAMMON SET OF 9 T-LIGHTS',\n",
       " 'ORANGE SCENTED SET/9 T-LIGHTS',\n",
       " 'RIBBON REEL STRIPES DESIGN ',\n",
       " 'SET OF 2 TINS JARDIN DE PROVENCE',\n",
       " 'MAKE YOUR OWN PLAYTIME CARD KIT',\n",
       " 'DINOSAURS  WRITING SET ',\n",
       " 'SKULLS WRITING SET ',\n",
       " 'DOORMAT BLACK FLOCK ',\n",
       " 'CHRISTMAS DECOUPAGE CANDLE',\n",
       " 'OFFICE MUG WARMER POLKADOT',\n",
       " 'BLACK RECORD COVER FRAME',\n",
       " 'RECORD FRAME 7\" SINGLE SIZE ',\n",
       " '36 PENCILS TUBE RED RETROSPOT',\n",
       " '36 PENCILS TUBE WOODLAND',\n",
       " 'ROCKING HORSE RED CHRISTMAS ',\n",
       " 'REGENCY CAKESTAND 3 TIER',\n",
       " 'VINTAGE UNION JACK BUNTING',\n",
       " 'RETRO LONGBOARD IRONING BOARD COVER',\n",
       " '3D DOG PICTURE PLAYING CARDS',\n",
       " 'SAVE THE PLANET COTTON TOTE BAG',\n",
       " 'PAPER BUNTING WHITE LACE',\n",
       " 'GENTLEMAN SHIRT REPAIR KIT ',\n",
       " 'CARD I LOVE LONDON ',\n",
       " 'MIRRORED WALL ART FOXY',\n",
       " 'MIRRORED WALL ART GENTS',\n",
       " 'AIRLINE BAG VINTAGE JET SET WHITE',\n",
       " \"POTTING SHED SOW 'N' GROW SET\",\n",
       " 'AIRLINE BAG VINTAGE WORLD CHAMPION ',\n",
       " 'PINK HEARTS PAPER GARLAND',\n",
       " 'POTTING SHED SEED ENVELOPES',\n",
       " 'HI TEC ALPINE HAND WARMER',\n",
       " 'POLYESTER FILLER PAD 45x45cm',\n",
       " 'CARD DOLLY GIRL ',\n",
       " 'CARD BILLBOARD FONT',\n",
       " 'RAINY LADIES BIRTHDAY CARD',\n",
       " 'RED WHITE SCARF  HOT WATER BOTTLE',\n",
       " 'SET OF 2 TEA TOWELS APPLE AND PEARS',\n",
       " 'LANTERN CREAM GAZEBO ',\n",
       " 'BLUE BIRDHOUSE DECORATION',\n",
       " 'ANTIQUE SILVER TEA GLASS ENGRAVED',\n",
       " 'SET OF 2 WOODEN MARKET CRATES',\n",
       " 'CLASSIC FRENCH STYLE BASKET NATURAL',\n",
       " 'CRAZY DAISY HEART DECORATION',\n",
       " 'CARD HOLDER GINGHAM HEART',\n",
       " 'SMALL STRIPES CHOCOLATE GIFT BAG ',\n",
       " 'TRAY, BREAKFAST IN BED',\n",
       " 'PIZZA PLATE IN BOX',\n",
       " 'PINK HEART DOTS HOT WATER BOTTLE',\n",
       " 'PLACE SETTING WHITE HEART',\n",
       " 'SET OF 4 NAPKIN CHARMS LEAVES   ',\n",
       " 'SET OF 4 NAPKIN CHARMS STARS   ',\n",
       " 'SET OF 4 NAPKIN CHARMS CUTLERY',\n",
       " 'CARAVAN SQUARE TISSUE BOX',\n",
       " 'BUTTON BOX ',\n",
       " '12 MESSAGE CARDS WITH ENVELOPES',\n",
       " 'SMALL RED BABUSHKA NOTEBOOK ',\n",
       " 'HERB MARKER MINT',\n",
       " 'HERB MARKER ROSEMARY',\n",
       " 'HERB MARKER BASIL',\n",
       " 'HERB MARKER CHIVES ',\n",
       " 'HERB MARKER PARSLEY',\n",
       " 'HERB MARKER THYME',\n",
       " 'METAL MERRY CHRISTMAS WREATH',\n",
       " 'WHITE CHRISTMAS GARLAND STARS TREES',\n",
       " 'RETROSPOT GIANT TUBE MATCHES',\n",
       " '36 FOIL STAR CAKE CASES ',\n",
       " 'PACK OF 6 HANDBAG GIFT BOXES',\n",
       " 'GARLAND WOODEN HAPPY EASTER',\n",
       " 'CALENDAR PAPER CUT DESIGN',\n",
       " 'CALENDAR IN SEASON DESIGN',\n",
       " 'BLUE PAISLEY TISSUE BOX',\n",
       " 'PINK PAISLEY SQUARE TISSUE BOX ',\n",
       " 'TOAST ITS - HAPPY BIRTHDAY',\n",
       " 'SET/10 IVORY POLKADOT PARTY CANDLES',\n",
       " 'SKULLS STORAGE BOX SMALL',\n",
       " 'JUMBO STORAGE BAG SKULLS',\n",
       " 'GARDEN PATH JOURNAL',\n",
       " 'BLACK ORANGE SQUEEZER',\n",
       " 'SET OF 72 GREEN PAPER DOILIES',\n",
       " 'RETROSPOT RED WASHING UP GLOVES',\n",
       " 'SMALL LICORICE DES PINK BOWL',\n",
       " 'SWISS ROLL TOWEL, CHOCOLATE  SPOTS',\n",
       " 'PICNIC BASKET WICKER LARGE',\n",
       " 'CREAM SWEETHEART EGG HOLDER',\n",
       " 'PINK 3 PIECE POLKADOT CUTLERY SET',\n",
       " 'PINK PARTY BAGS',\n",
       " 'BLUE PARTY BAGS ',\n",
       " 'PINK CREAM FELT CRAFT TRINKET BOX ',\n",
       " 'RED RETROSPOT OVEN GLOVE DOUBLE',\n",
       " 'RIDGED GLASS STORAGE JAR CREAM LID',\n",
       " 'PACK OF 20 NAPKINS PANTRY DESIGN',\n",
       " 'SWEETHEART CAKESTAND 3 TIER',\n",
       " 'CHRISTMAS HANGING STAR WITH BELL',\n",
       " 'MULTICOLOUR  CONFETTI IN TUBE',\n",
       " 'CHOCOLATE 3 WICK MORRIS BOX CANDLE',\n",
       " 'SET OF 16 VINTAGE PISTACHIO CUTLERY',\n",
       " 'CHRISTMAS TOILET ROLL',\n",
       " 'WHITE BELL HONEYCOMB PAPER ',\n",
       " ' 4 PURPLE FLOCK DINNER CANDLES',\n",
       " 'PINK & WHITE BREAKFAST TRAY',\n",
       " 'ENGLISH ROSE SPIRIT LEVEL ',\n",
       " 'LARGE ROUND WICKER PLATTER ',\n",
       " 'BLACK TEA TOWEL CLASSIC DESIGN',\n",
       " 'CHRISTMAS LIGHTS 10 VINTAGE BAUBLES',\n",
       " 'ROSES REGENCY TEACUP AND SAUCER ',\n",
       " 'T-LIGHT HOLDER HANGING LACE',\n",
       " 'HANGING HEART MIRROR DECORATION ',\n",
       " 'CREAM SLICE FLANNEL CHOCOLATE SPOT ',\n",
       " 'CREAM SLICE FLANNEL PINK SPOT ',\n",
       " 'GREEN REGENCY TEACUP AND SAUCER',\n",
       " 'EIGHT PIECE DINOSAUR SET',\n",
       " 'HEADS AND TAILS SPORTING FUN',\n",
       " \"ASS COL SMALL SAND GECKO P'WEIGHT\",\n",
       " 'ENAMEL MEASURING JUG CREAM',\n",
       " '12 PENCILS SMALL TUBE SKULL',\n",
       " '12 PENCIL SMALL TUBE WOODLAND',\n",
       " 'BLUE PAPER PARASOL ',\n",
       " 'VICTORIAN  METAL POSTCARD SPRING',\n",
       " 'METAL 4 HOOK HANGER FRENCH CHATEAU',\n",
       " 'BLACK KITCHEN SCALES',\n",
       " 'RED KITCHEN SCALES',\n",
       " 'IVORY KITCHEN SCALES',\n",
       " 'MULTI COLOUR SILVER T-LIGHT HOLDER',\n",
       " '3 HOOK HANGER MAGIC GARDEN',\n",
       " 'ASSORTED COLOUR LIZARD SUCTION HOOK',\n",
       " 'JUMBO BAG WOODLAND ANIMALS',\n",
       " \"CHILDREN'S CIRCUS PARADE MUG\",\n",
       " 'PACK 3 FIRE ENGINE/CAR PATCHES',\n",
       " 'CARD PSYCHEDELIC APPLES',\n",
       " 'IVORY ENCHANTED FOREST PLACEMAT',\n",
       " 'PACK OF 6 PANNETONE GIFT BOXES',\n",
       " 'MEASURING TAPE BABUSHKA RED',\n",
       " 'RED ENCHANTED FOREST PLACEMAT',\n",
       " 'CHILDRENS DOLLY GIRL MUG',\n",
       " 'TOADSTOOL MONEY BOX',\n",
       " 'MAKE YOUR OWN FLOWERPOWER CARD KIT',\n",
       " 'PAPER CHAIN KIT LONDON',\n",
       " 'MEASURING TAPE BABUSHKA BLUE',\n",
       " 'PENCIL CASE LIFE IS BEAUTIFUL',\n",
       " 'WOODEN ROUNDERS GARDEN SET ',\n",
       " 'CHILDS BREAKFAST SET DOLLY GIRL ',\n",
       " 'CHILDS BREAKFAST SET SPACEBOY ',\n",
       " 'CAKE PLATE LOVEBIRD WHITE',\n",
       " 'WOODEN ADVENT CALENDAR RED',\n",
       " 'GREEN CHRISTMAS TREE CARD HOLDER',\n",
       " 'STRING OF STARS CARD HOLDER',\n",
       " 'SET/12 TAPER CANDLES',\n",
       " 'MINT KITCHEN SCALES',\n",
       " 'WHITE WOOD GARDEN PLANT LADDER',\n",
       " 'GLASS JAR ENGLISH CONFECTIONERY',\n",
       " 'GLASS JAR DIGESTIVE BISCUITS',\n",
       " 'MILK BOTTLE WITH GLASS STOPPER ',\n",
       " 'WELCOME  WOODEN BLOCK LETTERS',\n",
       " 'SET/4 MODERN VINTAGE COTTON NAPKINS',\n",
       " 'VINTAGE UNION JACK APRON',\n",
       " 'SWALLOW SQUARE TISSUE BOX',\n",
       " 'NO JUNK MAIL METAL SIGN',\n",
       " 'SLATE TILE NATURAL HANGING',\n",
       " 'VINTAGE GLASS COFFEE CADDY',\n",
       " 'SILVER GLASS T-LIGHT SET',\n",
       " 'RIDGED GLASS FINGER BOWL',\n",
       " 'GLASS  BEURRE DISH',\n",
       " 'GIN & TONIC DIET GREETING CARD ',\n",
       " 'BIRTHDAY CARD, RETRO SPOT',\n",
       " 'WRAP RED APPLES ',\n",
       " 'RED RETROSPOT WRAP ',\n",
       " 'WRAP CHRISTMAS SCREEN PRINT',\n",
       " 'FANCY FONTS BIRTHDAY WRAP',\n",
       " 'CLASSIC WHITE FRAME',\n",
       " 'BLACK DINER WALL CLOCK',\n",
       " 'DOORMAT PEACE ON EARTH BLUE',\n",
       " 'BOX OF 24 COCKTAIL PARASOLS',\n",
       " 'GROW YOUR OWN PLANT IN A CAN ',\n",
       " 'PLASTERS IN TIN STRONGMAN',\n",
       " 'MINI JIGSAW DINOSAUR ',\n",
       " 'MINI JIGSAW BAKE A CAKE ',\n",
       " 'MINI JIGSAW DOLLY GIRL',\n",
       " 'WOODEN SCHOOL COLOURING SET',\n",
       " 'PACK OF 12 TRADITIONAL CRAYONS',\n",
       " 'CARD PARTY GAMES ',\n",
       " 'BOOZE & WOMEN GREETING CARD ',\n",
       " 'PACK OF 12 SUKI TISSUES ',\n",
       " 'PACK OF 12 WOODLAND TISSUES ',\n",
       " 'PACK OF 12 SKULL TISSUES',\n",
       " 'PACK OF 12 CIRCUS PARADE TISSUES ',\n",
       " 'PACK OF 12 SPACEBOY TISSUES',\n",
       " 'LADS ONLY TISSUE BOX',\n",
       " 'RED RETROSPOT TISSUE BOX',\n",
       " 'GINGERBREAD MAN COOKIE CUTTER',\n",
       " 'GIN AND TONIC MUG',\n",
       " \"IF YOU CAN'T STAND THE HEAT MUG\",\n",
       " 'I CAN ONLY PLEASE ONE PERSON MUG',\n",
       " 'PINK HEART SHAPE EGG FRYING PAN',\n",
       " '200 RED + WHITE BENDY STRAWS',\n",
       " 'RECIPE BOX RETROSPOT ',\n",
       " 'RECIPE BOX PANTRY YELLOW DESIGN',\n",
       " 'RECIPE BOX BLUE SKETCHBOOK DESIGN',\n",
       " '20 DOLLY PEGS RETROSPOT',\n",
       " 'NO SINGING METAL SIGN',\n",
       " 'BISCUIT TIN VINTAGE RED',\n",
       " 'EMERGENCY FIRST AID TIN ',\n",
       " 'POLKADOT PEN',\n",
       " 'DECORATIVE PLANT POT WITH FRIEZE',\n",
       " 'FRENCH BLUE METAL DOOR SIGN 5',\n",
       " 'CHEST OF DRAWERS GINGHAM HEART ',\n",
       " 'RED RETROSPOT CAKE STAND',\n",
       " 'JOY WOODEN BLOCK LETTERS',\n",
       " 'NOEL WOODEN BLOCK LETTERS ',\n",
       " 'PEACE WOODEN BLOCK LETTERS',\n",
       " 'OFFICE MUG WARMER BLACK+SILVER ',\n",
       " 'SET OF 2 CHRISTMAS DECOUPAGE CANDLE',\n",
       " 'COSMETIC BAG VINTAGE ROSE PAISLEY',\n",
       " 'PINK ROSE FABRIC MIRROR',\n",
       " 'SILVER PLATE CANDLE BOWL SMALL',\n",
       " 'SMALL REGAL  SILVER CANDLEPOT ',\n",
       " 'ANTIQUE TALL SWIRLGLASS TRINKET POT',\n",
       " 'ANTIQUE GLASS PEDESTAL BOWL',\n",
       " 'GUMBALL MAGAZINE RACK',\n",
       " 'RED FLOWER CROCHET FOOD COVER',\n",
       " 'CHERRY CROCHET FOOD COVER',\n",
       " 'STRAWBERRY RAFFIA FOOD COVER',\n",
       " 'POLKA DOT RAFFIA FOOD COVER',\n",
       " 'DOORMAT SPOTTY HOME SWEET HOME',\n",
       " 'T-LIGHT GLASS FLUTED ANTIQUE',\n",
       " 'SILVER  CANDLEPOT JARDIN ',\n",
       " 'POLKADOT MUG PINK ',\n",
       " 'PAPER BUNTING COLOURED LACE',\n",
       " 'ANTIQUE GLASS HEART DECORATION ',\n",
       " 'SET OF 6 KASHMIR FOLKART BAUBLES',\n",
       " 'CHRISTMAS RETROSPOT ANGEL WOOD',\n",
       " 'CHRISTMAS RETROSPOT STAR WOOD',\n",
       " 'HEART WOODEN CHRISTMAS DECORATION',\n",
       " 'LARGE HANGING IVORY & RED WOOD BIRD',\n",
       " 'SMALL HANGING IVORY/RED WOOD BIRD',\n",
       " 'GRAND CHOCOLATECANDLE',\n",
       " 'FAIRY CAKE BIRTHDAY CANDLE SET',\n",
       " '3 HOOK PHOTO SHELF ANTIQUE WHITE',\n",
       " 'CREAM SWEETHEART WALL CABINET',\n",
       " 'DOORMAT ENGLISH ROSE ',\n",
       " 'DOORMAT UNION FLAG',\n",
       " 'ROMANTIC IMAGES NOTEBOOK SET',\n",
       " 'CURIOUS  IMAGES NOTEBOOK SET',\n",
       " 'VINTAGE KEEPSAKE BOX PARIS DAYS',\n",
       " 'RED GINGHAM ROSE JEWELLERY BOX',\n",
       " 'BLUE CHARLIE+LOLA PERSONAL DOORSIGN',\n",
       " 'CHARLIE+LOLA\"EXTREMELY BUSY\" SIGN',\n",
       " 'CHARLOTTE BAG SUKI DESIGN',\n",
       " 'LOLITA  DESIGN  COTTON TOTE BAG',\n",
       " 'LETS GO SHOPPING COTTON TOTE BAG',\n",
       " 'PAINT YOUR OWN CANVAS SET',\n",
       " 'CAMOUFLAGE LED TORCH',\n",
       " 'BLUE DRAGONFLY HELICOPTER',\n",
       " 'YELLOW SHARK HELICOPTER',\n",
       " 'RED SHARK HELICOPTER',\n",
       " 'TOOL BOX SOFT TOY ',\n",
       " \"DOCTOR'S BAG SOFT TOY\",\n",
       " 'CARRIAGE',\n",
       " 'JUMBO BAG SCANDINAVIAN PAISLEY',\n",
       " 'JUMBO BAG TOYS ',\n",
       " 'DECORATIVE ROSE BATHROOM BOTTLE',\n",
       " 'DECORATIVE CATS BATHROOM BOTTLE',\n",
       " 'RAIN PONCHO RETROSPOT',\n",
       " 'CHRISTMAS TREE DECORATION WITH BELL',\n",
       " 'CHRISTMAS TREE HEART DECORATION',\n",
       " 'CHRISTMAS TREE STAR DECORATION',\n",
       " 'CHRISTMAS HANGING TREE WITH BELL',\n",
       " 'GLITTER STAR GARLAND WITH BELLS ',\n",
       " 'GLITTER CHRISTMAS TREE WITH BELLS',\n",
       " 'LILAC DIAMANTE PEN IN GIFT BOX',\n",
       " 'HEARTS GIFT TAPE',\n",
       " 'CAKES AND BOWS GIFT  TAPE',\n",
       " 'BINGO SET',\n",
       " 'GARDEN METAL SIGN ',\n",
       " 'UNION STRIPE WITH FRINGE  HAMMOCK',\n",
       " 'SUKI  SHOULDER BAG',\n",
       " 'SKULLS DESIGN FLANNEL',\n",
       " 'KITTENS DESIGN FLANNEL',\n",
       " 'SET OF 6 STRAWBERRY CHOPSTICKS',\n",
       " 'MODERN FLORAL STATIONERY SET',\n",
       " 'BOHEMIAN COLLAGE STATIONERY SET',\n",
       " 'FLORAL FOLK STATIONERY SET',\n",
       " 'ROBOT BIRTHDAY CARD',\n",
       " 'CHRISTMAS CARD SCREEN PRINT ',\n",
       " 'CHRISTMAS PUDDING TRINKET POT ',\n",
       " 'CHOC TRUFFLE GOLD TRINKET POT ',\n",
       " 'BROWN  PIRATE TREASURE CHEST ',\n",
       " 'SMALL WHITE RETROSPOT MUG IN BOX ',\n",
       " '6 RIBBONS EMPIRE  ',\n",
       " 'RIBBON REEL POLKADOTS ',\n",
       " 'RIBBON REEL FLORA + FAUNA ',\n",
       " 'PAPER BUNTING RETROSPOT',\n",
       " 'LADLE LOVE HEART RED ',\n",
       " 'LADLE LOVE HEART PINK',\n",
       " 'ANGEL DECORATION 3 BUTTONS ',\n",
       " 'STAR DECORATION RUSTIC',\n",
       " 'HEART DECORATION WITH PEARLS ',\n",
       " 'HEART DECORATION RUSTIC HANGING ',\n",
       " 'HEART GARLAND RUSTIC PADDED',\n",
       " 'FAMILY ALBUM WHITE PICTURE FRAME',\n",
       " 'CAKE STAND VICTORIAN FILIGREE SMALL',\n",
       " 'LOCAL CAFE MUG',\n",
       " 'MILK PAN RED RETROSPOT',\n",
       " 'FRYING PAN UNION FLAG',\n",
       " 'EASTER DECORATION NATURAL CHICK',\n",
       " 'WASH BAG VINTAGE ROSE PAISLEY',\n",
       " 'PIG KEYRING WITH LIGHT & SOUND ',\n",
       " 'COFFEE MUG DOG + BALL DESIGN',\n",
       " 'COFFEE MUG CAT + BIRD DESIGN',\n",
       " 'TEA COSY RED  STRIPE',\n",
       " 'OFFICE MUG WARMER CHOC+BLUE',\n",
       " 'HEART DECORATION PAINTED ZINC ',\n",
       " 'DOVE DECORATION PAINTED ZINC ',\n",
       " 'PARTY PIZZA DISH BLUE POLKADOT',\n",
       " 'TEA BAG PLATE RED RETROSPOT',\n",
       " 'CHARLOTTE BAG PINK POLKADOT',\n",
       " 'GLASS JAR KINGS CHOICE',\n",
       " 'GLASS JAR DAISY FRESH COTTON WOOL',\n",
       " 'AIRLINE BAG VINTAGE JET SET BROWN',\n",
       " 'WALL TIDY RETROSPOT ',\n",
       " 'TOY TIDY SPACEBOY  ',\n",
       " 'PAPERWEIGHT KINGS CHOICE ',\n",
       " 'MAGNETS PACK OF 4 RETRO PHOTO',\n",
       " 'LIPSTICK PEN RED',\n",
       " 'TOOTHPASTE TUBE PEN',\n",
       " 'ENAMEL WATERING CAN CREAM',\n",
       " 'WATERING CAN PINK BUNNY',\n",
       " 'SET OF 9 BLACK SKULL BALLOONS',\n",
       " 'TV DINNER TRAY AIR HOSTESS ',\n",
       " 'EMPIRE UNION JACK TV DINNER TRAY',\n",
       " 'WATERING CAN GARDEN MARKER',\n",
       " 'BIRDHOUSE GARDEN MARKER ',\n",
       " 'DAISY GARDEN MARKER',\n",
       " 'SET OF 2 TINS VINTAGE BATHROOM ',\n",
       " 'CHILDS GARDEN SPADE PINK',\n",
       " 'CHILDS GARDEN RAKE PINK',\n",
       " 'CHILDS GARDEN BRUSH PINK',\n",
       " 'MINI JIGSAW BUNNIES',\n",
       " 'HOLIDAY FUN LUDO',\n",
       " 'TRADITIONAL MODELLING CLAY',\n",
       " 'CARDHOLDER GINGHAM STAR',\n",
       " 'WOODEN CROQUET GARDEN SET',\n",
       " 'SET OF 4 NAPKIN CHARMS HEARTS',\n",
       " 'RED BABY BUNTING ',\n",
       " 'FRENCH KITCHEN SIGN BLUE METAL',\n",
       " 'SET OF 6 RIBBONS VINTAGE CHRISTMAS',\n",
       " 'FUNKY DIVA PEN',\n",
       " 'SMALL PURPLE BABUSHKA NOTEBOOK ',\n",
       " 'LARGE RED BABUSHKA NOTEBOOK ',\n",
       " 'LARGE PURPLE BABUSHKA NOTEBOOK  ',\n",
       " 'CHALKBOARD KITCHEN ORGANISER',\n",
       " 'FLUTED ANTIQUE CANDLE HOLDER',\n",
       " 'CARD MOTORBIKE SANTA',\n",
       " 'CARD CHRISTMAS VILLAGE',\n",
       " 'CREAM WALL PLANTER HEART SHAPED',\n",
       " 'VINTAGE CREAM DOG FOOD CONTAINER',\n",
       " 'BREAD BIN DINER STYLE IVORY',\n",
       " 'LOVE HEART NAPKIN BOX ',\n",
       " 'NUMBER TILE COTTAGE GARDEN 8',\n",
       " 'YELLOW GIANT GARDEN THERMOMETER',\n",
       " 'METAL DECORATION NAUGHTY CHILDREN ',\n",
       " '36 DOILIES DOLLY GIRL',\n",
       " 'CIRCUS PARADE CHILDRENS EGG CUP ',\n",
       " 'BLUE VICTORIAN FABRIC OVAL BOX',\n",
       " 'RED VICTORIAN FABRIC OVAL BOX',\n",
       " 'SET OF 3 BIRD LIGHT PINK FEATHER ',\n",
       " 'PINK/WHITE CHRISTMAS TREE 60CM',\n",
       " 'PINK AND WHITE CHRISTMAS TREE 120CM',\n",
       " 'PINK CHRISTMAS FLOCK DROPLET ',\n",
       " 'ACRYLIC JEWEL ICICLE, PINK',\n",
       " 'SMALLFOLKART BAUBLE CHRISTMAS DEC',\n",
       " 'FOLKART ZINC HEART CHRISTMAS DEC',\n",
       " 'ROSE FOLKART HEART DECORATIONS',\n",
       " 'CERAMIC CAKE STAND + HANGING CAKES',\n",
       " 'CONDIMENT TRAY 4 BOWLS AND 4 SPOONS',\n",
       " 'TEA TIME OVEN GLOVE',\n",
       " 'SCOTTIES CHILDRENS APRON',\n",
       " 'PINK FAIRY CAKE CHILDRENS APRON',\n",
       " 'SCOTTIE DOGS BABY BIB',\n",
       " 'DOORMAT WELCOME PUPPIES',\n",
       " 'HANGING JAM JAR T-LIGHT HOLDER',\n",
       " 'SET OF 6 HALLOWEEN GHOST T-LIGHTS',\n",
       " 'IVORY PILLAR CANDLE SILVER FLOCK',\n",
       " 'IVORY PILLAR CANDLE GOLD FLOCK',\n",
       " 'SET/3 ROSE CANDLE IN JEWELLED BOX',\n",
       " 'SET/3 OCEAN SCENT CANDLE JEWEL BOX',\n",
       " 'SET/3 VANILLA SCENTED CANDLE IN BOX',\n",
       " 'SET/3 CHRISTMAS DECOUPAGE CANDLES',\n",
       " 'TUMBLER, BAROQUE',\n",
       " 'TUMBLER, NEW ENGLAND',\n",
       " 'LAUNDRY 15C METAL SIGN',\n",
       " 'HOT BATHS METAL SIGN',\n",
       " 'METAL SIGN,CUPCAKE SINGLE HOOK',\n",
       " 'METAL SIGN CUPCAKE SINGLE HOOK',\n",
       " 'CHARLIE+LOLA RED HOT WATER BOTTLE ',\n",
       " 'CHARLIE LOLA BLUE HOT WATER BOTTLE ',\n",
       " 'CHARLIE+LOLA PINK HOT WATER BOTTLE',\n",
       " 'PINK/PURPLE RETRO RADIO',\n",
       " 'CHERRY BLOSSOM  DECORATIVE FLASK',\n",
       " 'SET OF 12  VINTAGE POSTCARD SET',\n",
       " 'SET OF 6 VINTAGE NOTELETS KIT',\n",
       " 'ENVELOPE 50 ROMANTIC IMAGES',\n",
       " 'ENVELOPE 50 BLOSSOM IMAGES',\n",
       " 'YULETIDE IMAGES GIFT WRAP SET',\n",
       " 'SET/4 RED MINI ROSE CANDLE IN BOWL',\n",
       " '15CM CHRISTMAS GLASS BALL 20 LIGHTS',\n",
       " 'CREAM SWEETHEART LETTER RACK',\n",
       " 'SMALL SQUARE CUT GLASS CANDLESTICK',\n",
       " 'BEADED CRYSTAL HEART PINK SMALL',\n",
       " 'BEADED CRYSTAL HEART GREEN ON STICK',\n",
       " 'CHARLIE + LOLA BISCUITS TINS',\n",
       " 'RED DRAGONFLY HELICOPTER',\n",
       " 'SEWING SUSAN 21 NEEDLE SET',\n",
       " 'BASKET OF FLOWERS SEWING KIT',\n",
       " 'VICTORIAN SEWING KIT',\n",
       " 'EASTER BUNNY GARLAND OF FLOWERS',\n",
       " 'SET OF 3 BABUSHKA STACKING TINS',\n",
       " 'MIDNIGHT BLUE PAIR HEART HAIR SLIDE',\n",
       " 'SILVER M.O.P ORBIT DROP EARRINGS',\n",
       " 'EDWARDIAN DROP EARRINGS JET BLACK',\n",
       " 'RUBY GLASS CLUSTER EARRINGS',\n",
       " 'NECKLACE+BRACELET SET BLUE HIBISCUS',\n",
       " 'FRUIT SALAD BAG CHARM',\n",
       " 'GREEN MURANO TWIST BRACELET',\n",
       " 'PINK GLASS TASSLE BAG CHARM ',\n",
       " 'TURQUOISE GLASS TASSLE BAG CHARM ',\n",
       " 'ANT COPPER RED BOUDICCA BRACELET',\n",
       " 'SILVER/AMETHYST DROP EARRINGS LEAF',\n",
       " 'SILVER LARIAT BLACK STONE EARRINGS',\n",
       " 'GREEN ENAMEL+GLASS HAIR COMB',\n",
       " 'LETTER \"D\" BLING KEY RING',\n",
       " 'LETTER \"G\" BLING KEY RING',\n",
       " 'LETTER \"H\" BLING KEY RING',\n",
       " 'LETTER \"J\" BLING KEY RING',\n",
       " 'LETTER \"R\" BLING KEY RING',\n",
       " 'DOTCOM POSTAGE',\n",
       " 'FAIRY CAKE NOTEBOOK A5 SIZE',\n",
       " 'FAIRY CAKES NOTEBOOK A6 SIZE',\n",
       " 'ENGLISH ROSE NOTEBOOK A7 SIZE',\n",
       " 'FAIRY CAKES NOTEBOOK A7 SIZE',\n",
       " 'MOUSE TOY WITH PINK T-SHIRT',\n",
       " 'DOG TOY WITH PINK CROCHET SKIRT',\n",
       " 'BOYS ALPHABET IRON ON PATCHES',\n",
       " 'GREEN ROSE WASHBAG',\n",
       " 'SOFT PINK ROSE TOWEL ',\n",
       " 'MINT GREEN ROSE TOWEL',\n",
       " 'PINK BUTTERFLY HANDBAG W BOBBLES',\n",
       " 'ANTIQUE SILVER TEA GLASS ETCHED',\n",
       " 'SET OF 72 PINK HEART PAPER DOILIES',\n",
       " 'DENIM PATCH PURSE PINK BUTTERFLY',\n",
       " 'BLUE PATCH PURSE PINK HEART',\n",
       " 'RED SPOTTY BISCUIT TIN',\n",
       " 'VINTAGE CREAM CAT FOOD CONTAINER',\n",
       " 'ASSTD DESIGN RACING CAR PEN',\n",
       " 'KITTY PENCIL ERASERS',\n",
       " 'BROCADE RING PURSE ',\n",
       " 'ORIGAMI SANDLEWOOD INCENSE+FLOWER',\n",
       " 'ORIGAMI VANILLA INCENSE/CANDLE SET ',\n",
       " 'ORIGAMI JASMINE INCENSE/CANDLE SET',\n",
       " 'ORIGAMI LAVENDER INCENSE/CANDL SET ',\n",
       " 'ORIGAMI ROSE INCENSE/CANDLE SET ',\n",
       " 'ORIGAMI OPIUM INCENSE/CANDLE SET ',\n",
       " 'ORIGAMI SANDLEWOOD INCENSE/CAND SET',\n",
       " 'BLUE GLASS GEMS IN BAG',\n",
       " 'PORCELAIN BUTTERFLY OIL BURNER',\n",
       " 'VIPPASSPORT COVER ',\n",
       " 'RED RETROSPOT LUGGAGE TAG',\n",
       " 'FIRST CLASS HOLIDAY PURSE ',\n",
       " 'RED RETROSPOT BOWL',\n",
       " 'STRAWBERRY DREAM CHILDS UMBRELLA',\n",
       " 'WOODLAND CHARLOTTE BAG',\n",
       " 'RED RETROSPOT CHARLOTTE BAG',\n",
       " 'GOLD MINI TAPE MEASURE ',\n",
       " 'BLACK MINI TAPE MEASURE ',\n",
       " 'ABSTRACT CIRCLE JOURNAL ',\n",
       " 'FRENCH LATTICE CUSHION COVER ',\n",
       " 'FRENCH PAISLEY CUSHION COVER ',\n",
       " 'FRENCH FLORAL CUSHION COVER ',\n",
       " 'PORCELAIN T-LIGHT HOLDERS ASSORTED',\n",
       " 'RED FLORAL FELTCRAFT SHOULDER BAG',\n",
       " 'PINK BLUE FELT CRAFT TRINKET BOX',\n",
       " '12 PENCILS SMALL TUBE RED RETROSPOT',\n",
       " ...]"
      ]
     },
     "execution_count": 23,
     "metadata": {},
     "output_type": "execute_result"
    }
   ],
   "source": [
    "k = [i for i in df[\"Description\"].unique()]\n",
    "k"
   ]
  },
  {
   "cell_type": "code",
   "execution_count": 24,
   "id": "81209038",
   "metadata": {},
   "outputs": [
    {
     "data": {
      "text/plain": [
       "4224"
      ]
     },
     "execution_count": 24,
     "metadata": {},
     "output_type": "execute_result"
    }
   ],
   "source": [
    "len(k)"
   ]
  },
  {
   "cell_type": "code",
   "execution_count": 25,
   "id": "b33b714c",
   "metadata": {},
   "outputs": [
    {
     "name": "stdout",
     "output_type": "stream",
     "text": [
      "<class 'pandas.core.frame.DataFrame'>\n",
      "RangeIndex: 541909 entries, 0 to 541908\n",
      "Data columns (total 9 columns):\n",
      " #   Column       Non-Null Count   Dtype         \n",
      "---  ------       --------------   -----         \n",
      " 0   InvoiceNo    541909 non-null  object        \n",
      " 1   StockCode    541909 non-null  object        \n",
      " 2   Description  540455 non-null  object        \n",
      " 3   Quantity     541909 non-null  int64         \n",
      " 4   InvoiceDate  541909 non-null  datetime64[ns]\n",
      " 5   UnitPrice    541909 non-null  float64       \n",
      " 6   CustomerID   406829 non-null  float64       \n",
      " 7   Country      541909 non-null  object        \n",
      " 8   total_sale   541909 non-null  float64       \n",
      "dtypes: datetime64[ns](1), float64(3), int64(1), object(4)\n",
      "memory usage: 37.2+ MB\n"
     ]
    }
   ],
   "source": [
    "df.info()"
   ]
  },
  {
   "cell_type": "code",
   "execution_count": 37,
   "id": "be078b11",
   "metadata": {},
   "outputs": [
    {
     "data": {
      "text/plain": [
       "Description\n",
       "DOTCOM POSTAGE                        206245.48\n",
       "REGENCY CAKESTAND 3 TIER              164762.19\n",
       "WHITE HANGING HEART T-LIGHT HOLDER     99668.47\n",
       "PARTY BUNTING                          98302.98\n",
       "JUMBO BAG RED RETROSPOT                92356.03\n",
       "RABBIT NIGHT LIGHT                     66756.59\n",
       "POSTAGE                                66230.64\n",
       "PAPER CHAIN KIT 50'S CHRISTMAS         63791.94\n",
       "ASSORTED COLOUR BIRD ORNAMENT          58959.73\n",
       "CHILLI LIGHTS                          53768.06\n",
       "SPOTTY BUNTING                         42065.32\n",
       "JUMBO BAG PINK POLKADOT                41619.66\n",
       "BLACK RECORD COVER FRAME               40596.96\n",
       "PICNIC BASKET WICKER 60 PIECES         39619.50\n",
       "SET OF 3 CAKE TINS PANTRY DESIGN       37413.44\n",
       "DOORMAT KEEP CALM AND COME IN          36565.39\n",
       "JAM MAKING SET WITH JARS               36116.09\n",
       "WOOD BLACK BOARD ANT WHITE FINISH      35859.27\n",
       "LUNCH BAG RED RETROSPOT                34897.31\n",
       "POPCORN HOLDER                         33969.46\n",
       "Name: total_sale, dtype: float64"
      ]
     },
     "execution_count": 37,
     "metadata": {},
     "output_type": "execute_result"
    }
   ],
   "source": [
    "top_count = df.groupby(\"Description\")[\"total_sale\"].sum().sort_values(ascending=False)\n",
    "top_count.head(20)"
   ]
  },
  {
   "cell_type": "code",
   "execution_count": 21,
   "id": "471d857c",
   "metadata": {},
   "outputs": [
    {
     "data": {
      "text/plain": [
       "<AxesSubplot:ylabel='total_sale'>"
      ]
     },
     "execution_count": 21,
     "metadata": {},
     "output_type": "execute_result"
    },
    {
     "data": {
      "image/png": "[encoded data removed]",
      "text/plain": [
       "<Figure size 640x480 with 1 Axes>"
      ]
     },
     "metadata": {},
     "output_type": "display_data"
    }
   ],
   "source": [
    "top_count.head(6).plot(kind=\"pie\")"
   ]
  },
  {
   "cell_type": "code",
   "execution_count": 30,
   "id": "d7fdca53",
   "metadata": {},
   "outputs": [
    {
     "data": {
      "text/plain": [
       "<AxesSubplot:ylabel='Country'>"
      ]
     },
     "execution_count": 30,
     "metadata": {},
     "output_type": "execute_result"
    },
    {
     "data": {
      "image/png": "[encoded data removed]",
      "text/plain": [
       "<Figure size 640x480 with 1 Axes>"
      ]
     },
     "metadata": {},
     "output_type": "display_data"
    }
   ],
   "source": [
    "top_count.head(5).plot(kind=\"barh\")"
   ]
  },
  {
   "cell_type": "code",
   "execution_count": 36,
   "id": "2770a86b",
   "metadata": {},
   "outputs": [
    {
     "data": {
      "text/html": [
       "<div>\n",
       "<style scoped>\n",
       "    .dataframe tbody tr th:only-of-type {\n",
       "        vertical-align: middle;\n",
       "    }\n",
       "\n",
       "    .dataframe tbody tr th {\n",
       "        vertical-align: top;\n",
       "    }\n",
       "\n",
       "    .dataframe thead th {\n",
       "        text-align: right;\n",
       "    }\n",
       "</style>\n",
       "<table border=\"1\" class=\"dataframe\">\n",
       "  <thead>\n",
       "    <tr style=\"text-align: right;\">\n",
       "      <th></th>\n",
       "      <th>InvoiceNo</th>\n",
       "      <th>StockCode</th>\n",
       "      <th>Description</th>\n",
       "      <th>Quantity</th>\n",
       "      <th>InvoiceDate</th>\n",
       "      <th>UnitPrice</th>\n",
       "      <th>CustomerID</th>\n",
       "      <th>Country</th>\n",
       "      <th>total_sale</th>\n",
       "      <th>months</th>\n",
       "    </tr>\n",
       "  </thead>\n",
       "  <tbody>\n",
       "    <tr>\n",
       "      <th>0</th>\n",
       "      <td>536365</td>\n",
       "      <td>85123A</td>\n",
       "      <td>WHITE HANGING HEART T-LIGHT HOLDER</td>\n",
       "      <td>6</td>\n",
       "      <td>2010-12-01 08:26:00</td>\n",
       "      <td>2.55</td>\n",
       "      <td>17850.0</td>\n",
       "      <td>United Kingdom</td>\n",
       "      <td>15.30</td>\n",
       "      <td>12</td>\n",
       "    </tr>\n",
       "    <tr>\n",
       "      <th>1</th>\n",
       "      <td>536365</td>\n",
       "      <td>71053</td>\n",
       "      <td>WHITE METAL LANTERN</td>\n",
       "      <td>6</td>\n",
       "      <td>2010-12-01 08:26:00</td>\n",
       "      <td>3.39</td>\n",
       "      <td>17850.0</td>\n",
       "      <td>United Kingdom</td>\n",
       "      <td>20.34</td>\n",
       "      <td>12</td>\n",
       "    </tr>\n",
       "    <tr>\n",
       "      <th>2</th>\n",
       "      <td>536365</td>\n",
       "      <td>84406B</td>\n",
       "      <td>CREAM CUPID HEARTS COAT HANGER</td>\n",
       "      <td>8</td>\n",
       "      <td>2010-12-01 08:26:00</td>\n",
       "      <td>2.75</td>\n",
       "      <td>17850.0</td>\n",
       "      <td>United Kingdom</td>\n",
       "      <td>22.00</td>\n",
       "      <td>12</td>\n",
       "    </tr>\n",
       "    <tr>\n",
       "      <th>3</th>\n",
       "      <td>536365</td>\n",
       "      <td>84029G</td>\n",
       "      <td>KNITTED UNION FLAG HOT WATER BOTTLE</td>\n",
       "      <td>6</td>\n",
       "      <td>2010-12-01 08:26:00</td>\n",
       "      <td>3.39</td>\n",
       "      <td>17850.0</td>\n",
       "      <td>United Kingdom</td>\n",
       "      <td>20.34</td>\n",
       "      <td>12</td>\n",
       "    </tr>\n",
       "    <tr>\n",
       "      <th>4</th>\n",
       "      <td>536365</td>\n",
       "      <td>84029E</td>\n",
       "      <td>RED WOOLLY HOTTIE WHITE HEART.</td>\n",
       "      <td>6</td>\n",
       "      <td>2010-12-01 08:26:00</td>\n",
       "      <td>3.39</td>\n",
       "      <td>17850.0</td>\n",
       "      <td>United Kingdom</td>\n",
       "      <td>20.34</td>\n",
       "      <td>12</td>\n",
       "    </tr>\n",
       "  </tbody>\n",
       "</table>\n",
       "</div>"
      ],
      "text/plain": [
       "  InvoiceNo StockCode                          Description  Quantity  \\\n",
       "0    536365    85123A   WHITE HANGING HEART T-LIGHT HOLDER         6   \n",
       "1    536365     71053                  WHITE METAL LANTERN         6   \n",
       "2    536365    84406B       CREAM CUPID HEARTS COAT HANGER         8   \n",
       "3    536365    84029G  KNITTED UNION FLAG HOT WATER BOTTLE         6   \n",
       "4    536365    84029E       RED WOOLLY HOTTIE WHITE HEART.         6   \n",
       "\n",
       "          InvoiceDate  UnitPrice  CustomerID         Country  total_sale  \\\n",
       "0 2010-12-01 08:26:00       2.55     17850.0  United Kingdom       15.30   \n",
       "1 2010-12-01 08:26:00       3.39     17850.0  United Kingdom       20.34   \n",
       "2 2010-12-01 08:26:00       2.75     17850.0  United Kingdom       22.00   \n",
       "3 2010-12-01 08:26:00       3.39     17850.0  United Kingdom       20.34   \n",
       "4 2010-12-01 08:26:00       3.39     17850.0  United Kingdom       20.34   \n",
       "\n",
       "  months  \n",
       "0     12  \n",
       "1     12  \n",
       "2     12  \n",
       "3     12  \n",
       "4     12  "
      ]
     },
     "execution_count": 36,
     "metadata": {},
     "output_type": "execute_result"
    }
   ],
   "source": [
    "toyin_df = df.copy()\n",
    "month_col =[]\n",
    "for i in toyin_df[\"InvoiceDate\"].values:\n",
    "    month_val = str(i).split(\"-\")[1]\n",
    "    month_col.append(month_val)\n",
    "data_month = pd.DataFrame(month_col, columns=[\"months\"])\n",
    "tdf = pd.concat([toyin_df, data_month], axis = 1)\n",
    "tdf.head()"
   ]
  },
  {
   "cell_type": "code",
   "execution_count": 34,
   "id": "be1ba2be",
   "metadata": {},
   "outputs": [
    {
     "data": {
      "text/plain": [
       "array(['12', '01', '02', '03', '04', '05', '06', '07', '08', '09', '10',\n",
       "       '11'], dtype=object)"
      ]
     },
     "execution_count": 34,
     "metadata": {},
     "output_type": "execute_result"
    }
   ],
   "source": [
    "tdf[\"months\"].unique()"
   ]
  },
  {
   "cell_type": "code",
   "execution_count": 36,
   "id": "f8583e47",
   "metadata": {},
   "outputs": [
    {
     "data": {
      "text/plain": [
       "array(['12'], dtype=object)"
      ]
     },
     "execution_count": 36,
     "metadata": {},
     "output_type": "execute_result"
    }
   ],
   "source": [
    "dec_data = tdf[tdf[\"months\"] == \"12\"]\n",
    "dec_data[\"months\"].unique()"
   ]
  },
  {
   "cell_type": "code",
   "execution_count": 37,
   "id": "ab29bf89",
   "metadata": {},
   "outputs": [
    {
     "data": {
      "text/plain": [
       "(68006, 10)"
      ]
     },
     "execution_count": 37,
     "metadata": {},
     "output_type": "execute_result"
    }
   ],
   "source": [
    "dec_data.shape"
   ]
  },
  {
   "cell_type": "code",
   "execution_count": 38,
   "id": "2a38a070",
   "metadata": {},
   "outputs": [
    {
     "data": {
      "text/plain": [
       "<AxesSubplot:title={'center':'Top dec sales'}, ylabel='Country'>"
      ]
     },
     "execution_count": 38,
     "metadata": {},
     "output_type": "execute_result"
    },
    {
     "data": {
      "image/png": "[encoded data removed]",
      "text/plain": [
       "<Figure size 640x480 with 1 Axes>"
      ]
     },
     "metadata": {},
     "output_type": "display_data"
    }
   ],
   "source": [
    "tdf_dec = dec_data.groupby(\"Country\")[\"total_sale\"].sum().sort_values(ascending=False)\n",
    "tdf_dec.head(5).plot(kind=\"barh\", title=\"Top dec sales\")"
   ]
  },
  {
   "cell_type": "code",
   "execution_count": 40,
   "id": "5034205a",
   "metadata": {},
   "outputs": [
    {
     "data": {
      "text/html": [
       "<div>\n",
       "<style scoped>\n",
       "    .dataframe tbody tr th:only-of-type {\n",
       "        vertical-align: middle;\n",
       "    }\n",
       "\n",
       "    .dataframe tbody tr th {\n",
       "        vertical-align: top;\n",
       "    }\n",
       "\n",
       "    .dataframe thead th {\n",
       "        text-align: right;\n",
       "    }\n",
       "</style>\n",
       "<table border=\"1\" class=\"dataframe\">\n",
       "  <thead>\n",
       "    <tr style=\"text-align: right;\">\n",
       "      <th></th>\n",
       "      <th>InvoiceNo</th>\n",
       "      <th>StockCode</th>\n",
       "      <th>Description</th>\n",
       "      <th>Quantity</th>\n",
       "      <th>InvoiceDate</th>\n",
       "      <th>UnitPrice</th>\n",
       "      <th>CustomerID</th>\n",
       "      <th>Country</th>\n",
       "      <th>total_sale</th>\n",
       "    </tr>\n",
       "  </thead>\n",
       "  <tbody>\n",
       "    <tr>\n",
       "      <th>0</th>\n",
       "      <td>536365</td>\n",
       "      <td>85123A</td>\n",
       "      <td>WHITE HANGING HEART T-LIGHT HOLDER</td>\n",
       "      <td>6</td>\n",
       "      <td>2010-12-01 08:26:00</td>\n",
       "      <td>2.55</td>\n",
       "      <td>17850.0</td>\n",
       "      <td>United Kingdom</td>\n",
       "      <td>15.30</td>\n",
       "    </tr>\n",
       "    <tr>\n",
       "      <th>1</th>\n",
       "      <td>536365</td>\n",
       "      <td>71053</td>\n",
       "      <td>WHITE METAL LANTERN</td>\n",
       "      <td>6</td>\n",
       "      <td>2010-12-01 08:26:00</td>\n",
       "      <td>3.39</td>\n",
       "      <td>17850.0</td>\n",
       "      <td>United Kingdom</td>\n",
       "      <td>20.34</td>\n",
       "    </tr>\n",
       "    <tr>\n",
       "      <th>2</th>\n",
       "      <td>536365</td>\n",
       "      <td>84406B</td>\n",
       "      <td>CREAM CUPID HEARTS COAT HANGER</td>\n",
       "      <td>8</td>\n",
       "      <td>2010-12-01 08:26:00</td>\n",
       "      <td>2.75</td>\n",
       "      <td>17850.0</td>\n",
       "      <td>United Kingdom</td>\n",
       "      <td>22.00</td>\n",
       "    </tr>\n",
       "    <tr>\n",
       "      <th>3</th>\n",
       "      <td>536365</td>\n",
       "      <td>84029G</td>\n",
       "      <td>KNITTED UNION FLAG HOT WATER BOTTLE</td>\n",
       "      <td>6</td>\n",
       "      <td>2010-12-01 08:26:00</td>\n",
       "      <td>3.39</td>\n",
       "      <td>17850.0</td>\n",
       "      <td>United Kingdom</td>\n",
       "      <td>20.34</td>\n",
       "    </tr>\n",
       "    <tr>\n",
       "      <th>4</th>\n",
       "      <td>536365</td>\n",
       "      <td>84029E</td>\n",
       "      <td>RED WOOLLY HOTTIE WHITE HEART.</td>\n",
       "      <td>6</td>\n",
       "      <td>2010-12-01 08:26:00</td>\n",
       "      <td>3.39</td>\n",
       "      <td>17850.0</td>\n",
       "      <td>United Kingdom</td>\n",
       "      <td>20.34</td>\n",
       "    </tr>\n",
       "  </tbody>\n",
       "</table>\n",
       "</div>"
      ],
      "text/plain": [
       "  InvoiceNo StockCode                          Description  Quantity  \\\n",
       "0    536365    85123A   WHITE HANGING HEART T-LIGHT HOLDER         6   \n",
       "1    536365     71053                  WHITE METAL LANTERN         6   \n",
       "2    536365    84406B       CREAM CUPID HEARTS COAT HANGER         8   \n",
       "3    536365    84029G  KNITTED UNION FLAG HOT WATER BOTTLE         6   \n",
       "4    536365    84029E       RED WOOLLY HOTTIE WHITE HEART.         6   \n",
       "\n",
       "          InvoiceDate  UnitPrice  CustomerID         Country  total_sale  \n",
       "0 2010-12-01 08:26:00       2.55     17850.0  United Kingdom       15.30  \n",
       "1 2010-12-01 08:26:00       3.39     17850.0  United Kingdom       20.34  \n",
       "2 2010-12-01 08:26:00       2.75     17850.0  United Kingdom       22.00  \n",
       "3 2010-12-01 08:26:00       3.39     17850.0  United Kingdom       20.34  \n",
       "4 2010-12-01 08:26:00       3.39     17850.0  United Kingdom       20.34  "
      ]
     },
     "execution_count": 40,
     "metadata": {},
     "output_type": "execute_result"
    }
   ],
   "source": [
    "jesse_df = df.copy()\n",
    "jesse_df.head()"
   ]
  },
  {
   "cell_type": "code",
   "execution_count": 42,
   "id": "8d92b2a2",
   "metadata": {},
   "outputs": [
    {
     "data": {
      "text/plain": [
       "<AxesSubplot:ylabel='Description'>"
      ]
     },
     "execution_count": 42,
     "metadata": {},
     "output_type": "execute_result"
    },
    {
     "data": {
      "image/png": "[encoded data removed]",
      "text/plain": [
       "<Figure size 640x480 with 1 Axes>"
      ]
     },
     "metadata": {},
     "output_type": "display_data"
    }
   ],
   "source": [
    "b = jesse_df.groupby(\"Description\")[\"total_sale\"].sum().sort_values(ascending=False)\n",
    "b.head(5).plot(kind=\"barh\")"
   ]
  },
  {
   "cell_type": "code",
   "execution_count": 46,
   "id": "7fa75c21",
   "metadata": {},
   "outputs": [
    {
     "data": {
      "text/plain": [
       "array(['08', '09', '10', '11', '12', '13', '14', '15', '16', '17', '07',\n",
       "       '18', '19', '20', '06'], dtype=object)"
      ]
     },
     "execution_count": 46,
     "metadata": {},
     "output_type": "execute_result"
    }
   ],
   "source": [
    "hours = []\n",
    "for i in jesse_df[\"InvoiceDate\"].values:\n",
    "    time_hour = str(i).split(\"T\")[1][:2]\n",
    "    hours.append(time_hour)\n",
    "hour_df = pd.DataFrame(hours, columns=[\"hourly_sales\"])\n",
    "hour_df[\"hourly_sales\"].unique()"
   ]
  },
  {
   "cell_type": "code",
   "execution_count": 47,
   "id": "b3701ede",
   "metadata": {},
   "outputs": [
    {
     "data": {
      "text/html": [
       "<div>\n",
       "<style scoped>\n",
       "    .dataframe tbody tr th:only-of-type {\n",
       "        vertical-align: middle;\n",
       "    }\n",
       "\n",
       "    .dataframe tbody tr th {\n",
       "        vertical-align: top;\n",
       "    }\n",
       "\n",
       "    .dataframe thead th {\n",
       "        text-align: right;\n",
       "    }\n",
       "</style>\n",
       "<table border=\"1\" class=\"dataframe\">\n",
       "  <thead>\n",
       "    <tr style=\"text-align: right;\">\n",
       "      <th></th>\n",
       "      <th>InvoiceNo</th>\n",
       "      <th>StockCode</th>\n",
       "      <th>Description</th>\n",
       "      <th>Quantity</th>\n",
       "      <th>InvoiceDate</th>\n",
       "      <th>UnitPrice</th>\n",
       "      <th>CustomerID</th>\n",
       "      <th>Country</th>\n",
       "      <th>total_sale</th>\n",
       "      <th>hourly_sales</th>\n",
       "    </tr>\n",
       "  </thead>\n",
       "  <tbody>\n",
       "    <tr>\n",
       "      <th>0</th>\n",
       "      <td>536365</td>\n",
       "      <td>85123A</td>\n",
       "      <td>WHITE HANGING HEART T-LIGHT HOLDER</td>\n",
       "      <td>6</td>\n",
       "      <td>2010-12-01 08:26:00</td>\n",
       "      <td>2.55</td>\n",
       "      <td>17850.0</td>\n",
       "      <td>United Kingdom</td>\n",
       "      <td>15.30</td>\n",
       "      <td>08</td>\n",
       "    </tr>\n",
       "    <tr>\n",
       "      <th>1</th>\n",
       "      <td>536365</td>\n",
       "      <td>71053</td>\n",
       "      <td>WHITE METAL LANTERN</td>\n",
       "      <td>6</td>\n",
       "      <td>2010-12-01 08:26:00</td>\n",
       "      <td>3.39</td>\n",
       "      <td>17850.0</td>\n",
       "      <td>United Kingdom</td>\n",
       "      <td>20.34</td>\n",
       "      <td>08</td>\n",
       "    </tr>\n",
       "    <tr>\n",
       "      <th>2</th>\n",
       "      <td>536365</td>\n",
       "      <td>84406B</td>\n",
       "      <td>CREAM CUPID HEARTS COAT HANGER</td>\n",
       "      <td>8</td>\n",
       "      <td>2010-12-01 08:26:00</td>\n",
       "      <td>2.75</td>\n",
       "      <td>17850.0</td>\n",
       "      <td>United Kingdom</td>\n",
       "      <td>22.00</td>\n",
       "      <td>08</td>\n",
       "    </tr>\n",
       "    <tr>\n",
       "      <th>3</th>\n",
       "      <td>536365</td>\n",
       "      <td>84029G</td>\n",
       "      <td>KNITTED UNION FLAG HOT WATER BOTTLE</td>\n",
       "      <td>6</td>\n",
       "      <td>2010-12-01 08:26:00</td>\n",
       "      <td>3.39</td>\n",
       "      <td>17850.0</td>\n",
       "      <td>United Kingdom</td>\n",
       "      <td>20.34</td>\n",
       "      <td>08</td>\n",
       "    </tr>\n",
       "    <tr>\n",
       "      <th>4</th>\n",
       "      <td>536365</td>\n",
       "      <td>84029E</td>\n",
       "      <td>RED WOOLLY HOTTIE WHITE HEART.</td>\n",
       "      <td>6</td>\n",
       "      <td>2010-12-01 08:26:00</td>\n",
       "      <td>3.39</td>\n",
       "      <td>17850.0</td>\n",
       "      <td>United Kingdom</td>\n",
       "      <td>20.34</td>\n",
       "      <td>08</td>\n",
       "    </tr>\n",
       "  </tbody>\n",
       "</table>\n",
       "</div>"
      ],
      "text/plain": [
       "  InvoiceNo StockCode                          Description  Quantity  \\\n",
       "0    536365    85123A   WHITE HANGING HEART T-LIGHT HOLDER         6   \n",
       "1    536365     71053                  WHITE METAL LANTERN         6   \n",
       "2    536365    84406B       CREAM CUPID HEARTS COAT HANGER         8   \n",
       "3    536365    84029G  KNITTED UNION FLAG HOT WATER BOTTLE         6   \n",
       "4    536365    84029E       RED WOOLLY HOTTIE WHITE HEART.         6   \n",
       "\n",
       "          InvoiceDate  UnitPrice  CustomerID         Country  total_sale  \\\n",
       "0 2010-12-01 08:26:00       2.55     17850.0  United Kingdom       15.30   \n",
       "1 2010-12-01 08:26:00       3.39     17850.0  United Kingdom       20.34   \n",
       "2 2010-12-01 08:26:00       2.75     17850.0  United Kingdom       22.00   \n",
       "3 2010-12-01 08:26:00       3.39     17850.0  United Kingdom       20.34   \n",
       "4 2010-12-01 08:26:00       3.39     17850.0  United Kingdom       20.34   \n",
       "\n",
       "  hourly_sales  \n",
       "0           08  \n",
       "1           08  \n",
       "2           08  \n",
       "3           08  \n",
       "4           08  "
      ]
     },
     "execution_count": 47,
     "metadata": {},
     "output_type": "execute_result"
    }
   ],
   "source": [
    "df_val = pd.concat([jesse_df, hour_df], axis=1)\n",
    "df_val.head()"
   ]
  },
  {
   "cell_type": "code",
   "execution_count": 48,
   "id": "4851f605",
   "metadata": {},
   "outputs": [
    {
     "data": {
      "text/plain": [
       "<AxesSubplot:>"
      ]
     },
     "execution_count": 48,
     "metadata": {},
     "output_type": "execute_result"
    },
    {
     "data": {
      "image/png": "[encoded data removed]",
      "text/plain": [
       "<Figure size 640x480 with 1 Axes>"
      ]
     },
     "metadata": {},
     "output_type": "display_data"
    }
   ],
   "source": [
    "df_val[\"hourly_sales\"].value_counts().sort_values(ascending=False).plot(kind=\"barh\")"
   ]
  },
  {
   "cell_type": "code",
   "execution_count": 49,
   "id": "ad356a94",
   "metadata": {},
   "outputs": [
    {
     "data": {
      "text/plain": [
       "Index(['InvoiceNo', 'StockCode', 'Description', 'Quantity', 'InvoiceDate',\n",
       "       'UnitPrice', 'CustomerID', 'Country', 'total_sale', 'hourly_sales'],\n",
       "      dtype='object')"
      ]
     },
     "execution_count": 49,
     "metadata": {},
     "output_type": "execute_result"
    }
   ],
   "source": [
    "df_val.columns"
   ]
  },
  {
   "cell_type": "code",
   "execution_count": 50,
   "id": "dd4f94bf",
   "metadata": {},
   "outputs": [
    {
     "data": {
      "text/html": [
       "<div>\n",
       "<style scoped>\n",
       "    .dataframe tbody tr th:only-of-type {\n",
       "        vertical-align: middle;\n",
       "    }\n",
       "\n",
       "    .dataframe tbody tr th {\n",
       "        vertical-align: top;\n",
       "    }\n",
       "\n",
       "    .dataframe thead th {\n",
       "        text-align: right;\n",
       "    }\n",
       "</style>\n",
       "<table border=\"1\" class=\"dataframe\">\n",
       "  <thead>\n",
       "    <tr style=\"text-align: right;\">\n",
       "      <th></th>\n",
       "      <th>InvoiceNo</th>\n",
       "      <th>StockCode</th>\n",
       "      <th>Description</th>\n",
       "      <th>Quantity</th>\n",
       "      <th>InvoiceDate</th>\n",
       "      <th>UnitPrice</th>\n",
       "      <th>CustomerID</th>\n",
       "      <th>Country</th>\n",
       "      <th>total_sale</th>\n",
       "      <th>hourly_sales</th>\n",
       "    </tr>\n",
       "  </thead>\n",
       "  <tbody>\n",
       "    <tr>\n",
       "      <th>1814</th>\n",
       "      <td>536544</td>\n",
       "      <td>DOT</td>\n",
       "      <td>DOTCOM POSTAGE</td>\n",
       "      <td>1</td>\n",
       "      <td>2010-12-01 14:32:00</td>\n",
       "      <td>569.77</td>\n",
       "      <td>NaN</td>\n",
       "      <td>United Kingdom</td>\n",
       "      <td>569.77</td>\n",
       "      <td>14</td>\n",
       "    </tr>\n",
       "    <tr>\n",
       "      <th>3041</th>\n",
       "      <td>536592</td>\n",
       "      <td>DOT</td>\n",
       "      <td>DOTCOM POSTAGE</td>\n",
       "      <td>1</td>\n",
       "      <td>2010-12-01 17:06:00</td>\n",
       "      <td>607.49</td>\n",
       "      <td>NaN</td>\n",
       "      <td>United Kingdom</td>\n",
       "      <td>607.49</td>\n",
       "      <td>17</td>\n",
       "    </tr>\n",
       "    <tr>\n",
       "      <th>5450</th>\n",
       "      <td>536862</td>\n",
       "      <td>DOT</td>\n",
       "      <td>DOTCOM POSTAGE</td>\n",
       "      <td>1</td>\n",
       "      <td>2010-12-03 11:13:00</td>\n",
       "      <td>254.43</td>\n",
       "      <td>NaN</td>\n",
       "      <td>United Kingdom</td>\n",
       "      <td>254.43</td>\n",
       "      <td>11</td>\n",
       "    </tr>\n",
       "    <tr>\n",
       "      <th>5545</th>\n",
       "      <td>536864</td>\n",
       "      <td>DOT</td>\n",
       "      <td>DOTCOM POSTAGE</td>\n",
       "      <td>1</td>\n",
       "      <td>2010-12-03 11:27:00</td>\n",
       "      <td>121.06</td>\n",
       "      <td>NaN</td>\n",
       "      <td>United Kingdom</td>\n",
       "      <td>121.06</td>\n",
       "      <td>11</td>\n",
       "    </tr>\n",
       "    <tr>\n",
       "      <th>5685</th>\n",
       "      <td>536865</td>\n",
       "      <td>DOT</td>\n",
       "      <td>DOTCOM POSTAGE</td>\n",
       "      <td>1</td>\n",
       "      <td>2010-12-03 11:28:00</td>\n",
       "      <td>498.47</td>\n",
       "      <td>NaN</td>\n",
       "      <td>United Kingdom</td>\n",
       "      <td>498.47</td>\n",
       "      <td>11</td>\n",
       "    </tr>\n",
       "  </tbody>\n",
       "</table>\n",
       "</div>"
      ],
      "text/plain": [
       "     InvoiceNo StockCode     Description  Quantity         InvoiceDate  \\\n",
       "1814    536544       DOT  DOTCOM POSTAGE         1 2010-12-01 14:32:00   \n",
       "3041    536592       DOT  DOTCOM POSTAGE         1 2010-12-01 17:06:00   \n",
       "5450    536862       DOT  DOTCOM POSTAGE         1 2010-12-03 11:13:00   \n",
       "5545    536864       DOT  DOTCOM POSTAGE         1 2010-12-03 11:27:00   \n",
       "5685    536865       DOT  DOTCOM POSTAGE         1 2010-12-03 11:28:00   \n",
       "\n",
       "      UnitPrice  CustomerID         Country  total_sale hourly_sales  \n",
       "1814     569.77         NaN  United Kingdom      569.77           14  \n",
       "3041     607.49         NaN  United Kingdom      607.49           17  \n",
       "5450     254.43         NaN  United Kingdom      254.43           11  \n",
       "5545     121.06         NaN  United Kingdom      121.06           11  \n",
       "5685     498.47         NaN  United Kingdom      498.47           11  "
      ]
     },
     "execution_count": 50,
     "metadata": {},
     "output_type": "execute_result"
    }
   ],
   "source": [
    "dot_p = df_val[df_val['Description'] == \"DOTCOM POSTAGE\"]\n",
    "dot_p.head()"
   ]
  },
  {
   "cell_type": "code",
   "execution_count": 51,
   "id": "08487166",
   "metadata": {},
   "outputs": [
    {
     "data": {
      "text/plain": [
       "<AxesSubplot:>"
      ]
     },
     "execution_count": 51,
     "metadata": {},
     "output_type": "execute_result"
    },
    {
     "data": {
      "image/png": "[encoded data removed]",
      "text/plain": [
       "<Figure size 640x480 with 1 Axes>"
      ]
     },
     "metadata": {},
     "output_type": "display_data"
    }
   ],
   "source": [
    "dot_p[\"hourly_sales\"].value_counts().sort_values(ascending=False).plot(kind=\"barh\")"
   ]
  },
  {
   "cell_type": "code",
   "execution_count": null,
   "id": "64a84cd2",
   "metadata": {},
   "outputs": [],
   "source": []
  }
 ],
 "metadata": {
  "kernelspec": {
   "display_name": "Python 3 (ipykernel)",
   "language": "python",
   "name": "python3"
  },
  "language_info": {
   "codemirror_mode": {
    "name": "ipython",
    "version": 3
   },
   "file_extension": ".py",
   "mimetype": "text/x-python",
   "name": "python",
   "nbconvert_exporter": "python",
   "pygments_lexer": "ipython3",
   "version": "3.9.13"
  }
 },
 "nbformat": 4,
 "nbformat_minor": 5
}
