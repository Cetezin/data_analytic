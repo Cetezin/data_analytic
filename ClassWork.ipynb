{
 "cells": [
  {
   "cell_type": "code",
   "execution_count": 5,
   "id": "90e6402a",
   "metadata": {},
   "outputs": [
    {
     "name": "stdout",
     "output_type": "stream",
     "text": [
      "John is 30 years old\n",
      "Lola is 43 years old\n",
      "Bayo is 25 years old\n"
     ]
    }
   ],
   "source": [
    "name = [\"john\", \"lola\", \"bayo\"]\n",
    "ages = [30, 43, 25]\n",
    "\n",
    "Name = []\n",
    "for i in name:\n",
    "    a = i[0].upper() + i.split()[0][1:]\n",
    "    Name.append(a)\n",
    "\n",
    "for n in range(len(name)):\n",
    "    print(f\"{Name[n]} is {ages[n]} years old\")"
   ]
  },
  {
   "cell_type": "code",
   "execution_count": 10,
   "id": "4f62c9a5",
   "metadata": {},
   "outputs": [],
   "source": [
    "firstname = [\"katie\", \"bicah\", \"lemah\", \"judie\" ]\n",
    "surname = [\"tamuno\"]"
   ]
  },
  {
   "cell_type": "code",
   "execution_count": 11,
   "id": "2bdcbec7",
   "metadata": {},
   "outputs": [
    {
     "name": "stdout",
     "output_type": "stream",
     "text": [
      "['katie tamuno', 'bicah tamuno', 'lemah tamuno', 'judie tamuno']\n"
     ]
    }
   ],
   "source": [
    "fullname = []\n",
    "for j in range(len(firstname)):\n",
    "    name_array = firstname[j] + \" \" + surname[0]\n",
    "    fullname.append(name_array)\n",
    "print(fullname)"
   ]
  },
  {
   "cell_type": "code",
   "execution_count": 3,
   "id": "b0daed74",
   "metadata": {},
   "outputs": [],
   "source": [
    "import os"
   ]
  },
  {
   "cell_type": "code",
   "execution_count": 12,
   "id": "283493cd",
   "metadata": {},
   "outputs": [
    {
     "name": "stdout",
     "output_type": "stream",
     "text": [
      " Volume in drive C has no label.\n",
      " Volume Serial Number is E608-7F89\n",
      "\n",
      " Directory of C:\\Users\\AS\\Desktop\\data_analytic\\pythonCodes\n",
      "\n",
      "11/08/2022  02:46 PM    <DIR>          .\n",
      "11/08/2022  02:46 PM    <DIR>          ..\n",
      "11/04/2022  06:55 PM    <DIR>          .ipynb_checkpoints\n",
      "11/08/2022  11:53 AM            28,861 Assignments.ipynb\n",
      "11/07/2022  04:58 PM                22 dataSheets.txt\n",
      "11/08/2022  12:00 PM                56 newname.txt\n",
      "11/08/2022  11:58 AM               112 new_filename.txt\n",
      "11/07/2022  05:08 PM               384 new_temp.txt\n",
      "11/08/2022  02:46 PM             4,541 Practice.ipynb\n",
      "11/08/2022  11:54 AM    <DIR>          Untitled Folder\n",
      "11/08/2022  11:54 AM    <DIR>          Untitled Folder 1\n",
      "               6 File(s)         33,976 bytes\n",
      "               5 Dir(s)  254,180,364,288 bytes free\n"
     ]
    }
   ],
   "source": [
    "!dir"
   ]
  },
  {
   "cell_type": "code",
   "execution_count": 8,
   "id": "a32e5806",
   "metadata": {},
   "outputs": [],
   "source": [
    "print_file = open(\"newname.txt\", \"a\")\n",
    "for n in fullname:\n",
    "    print_file.write(f\"{n}\\n\")"
   ]
  },
  {
   "cell_type": "code",
   "execution_count": null,
   "id": "1111003f",
   "metadata": {},
   "outputs": [],
   "source": []
  },
  {
   "cell_type": "markdown",
   "id": "abcfde42",
   "metadata": {},
   "source": [
    "### Matrices"
   ]
  },
  {
   "cell_type": "code",
   "execution_count": 1,
   "id": "587b70ad",
   "metadata": {},
   "outputs": [
    {
     "name": "stdout",
     "output_type": "stream",
     "text": [
      "name\n",
      "funmi\n",
      "bola\n"
     ]
    }
   ],
   "source": [
    "a = [[\"name\", \"age\", \"score\"],\n",
    "     [\"funmi\", \"27\", \"78\"],\n",
    "     [\"bola\", \"30\", \"90\"]]\n",
    "\n",
    "print(a[0][0])\n",
    "print(a[1][0])\n",
    "print(a[2][0])"
   ]
  },
  {
   "cell_type": "code",
   "execution_count": 2,
   "id": "87105c5d",
   "metadata": {},
   "outputs": [
    {
     "name": "stdout",
     "output_type": "stream",
     "text": [
      "age\n",
      "27\n",
      "30\n"
     ]
    }
   ],
   "source": [
    "print(a[0][1])\n",
    "print(a[1][1])\n",
    "print(a[2][1])"
   ]
  },
  {
   "cell_type": "code",
   "execution_count": 90,
   "id": "24bf5ebc",
   "metadata": {},
   "outputs": [
    {
     "name": "stdout",
     "output_type": "stream",
     "text": [
      "0 0\n",
      "0 1\n",
      "0 2\n",
      "1 0\n",
      "1 1\n",
      "1 2\n",
      "2 0\n",
      "2 1\n",
      "2 2\n"
     ]
    }
   ],
   "source": [
    "for i in range(0, 3):\n",
    "    for j in range(0, 3):\n",
    "        print(i, j)\n",
    "        #print(a[i][j])"
   ]
  },
  {
   "cell_type": "code",
   "execution_count": 8,
   "id": "c6c24dcc",
   "metadata": {},
   "outputs": [],
   "source": [
    "a = [[\"name\", \"age\", \"score\"],\n",
    "     [\"funmi\", \"27\", \"78\"],\n",
    "     [\"bola\", \"30\", \"90\"]]"
   ]
  },
  {
   "cell_type": "code",
   "execution_count": 26,
   "id": "a3a0c319",
   "metadata": {},
   "outputs": [
    {
     "data": {
      "text/html": [
       "<div>\n",
       "<style scoped>\n",
       "    .dataframe tbody tr th:only-of-type {\n",
       "        vertical-align: middle;\n",
       "    }\n",
       "\n",
       "    .dataframe tbody tr th {\n",
       "        vertical-align: top;\n",
       "    }\n",
       "\n",
       "    .dataframe thead th {\n",
       "        text-align: right;\n",
       "    }\n",
       "</style>\n",
       "<table border=\"1\" class=\"dataframe\">\n",
       "  <thead>\n",
       "    <tr style=\"text-align: right;\">\n",
       "      <th></th>\n",
       "      <th>name</th>\n",
       "      <th>age</th>\n",
       "      <th>score</th>\n",
       "    </tr>\n",
       "  </thead>\n",
       "  <tbody>\n",
       "    <tr>\n",
       "      <th>0</th>\n",
       "      <td>funmi</td>\n",
       "      <td>27</td>\n",
       "      <td>78</td>\n",
       "    </tr>\n",
       "    <tr>\n",
       "      <th>1</th>\n",
       "      <td>bola</td>\n",
       "      <td>30</td>\n",
       "      <td>90</td>\n",
       "    </tr>\n",
       "  </tbody>\n",
       "</table>\n",
       "</div>"
      ],
      "text/plain": [
       "    name age score\n",
       "0  funmi  27    78\n",
       "1   bola  30    90"
      ]
     },
     "execution_count": 26,
     "metadata": {},
     "output_type": "execute_result"
    }
   ],
   "source": [
    "import pandas as pd\n",
    "df = pd.DataFrame(a[1:], columns=a[0])\n",
    "df"
   ]
  },
  {
   "cell_type": "code",
   "execution_count": 8,
   "id": "27a85743",
   "metadata": {},
   "outputs": [
    {
     "data": {
      "text/plain": [
       "'bola'"
      ]
     },
     "execution_count": 8,
     "metadata": {},
     "output_type": "execute_result"
    }
   ],
   "source": [
    "a[2][0]"
   ]
  },
  {
   "cell_type": "code",
   "execution_count": 44,
   "id": "0d31f9b4",
   "metadata": {},
   "outputs": [
    {
     "name": "stdout",
     "output_type": "stream",
     "text": [
      "['name', 'funmi', 'bola']\n",
      "['age', '27', '30']\n",
      "['score', '78', '90']\n"
     ]
    }
   ],
   "source": [
    "for i in range(0, len(a)):\n",
    "    index_value = []\n",
    "    for n in a:\n",
    "        index_value.append(n[i])\n",
    "    print(index_value)"
   ]
  },
  {
   "cell_type": "code",
   "execution_count": 62,
   "id": "8e6385f9",
   "metadata": {},
   "outputs": [
    {
     "name": "stdout",
     "output_type": "stream",
     "text": [
      "[['name', 'funmi', 'bola'], ['age', '27', '30'], ['score', '78', '90']]\n"
     ]
    }
   ],
   "source": [
    "new_arr = []\n",
    "for i in range(0, 3):\n",
    "    arr = []\n",
    "    for n in a:\n",
    "        arr.append(n[i])\n",
    "    new_arr.append(arr)\n",
    "print(new_arr)"
   ]
  },
  {
   "cell_type": "code",
   "execution_count": 11,
   "id": "81ec75a7",
   "metadata": {},
   "outputs": [
    {
     "name": "stdout",
     "output_type": "stream",
     "text": [
      "0 3\n",
      "0 4\n",
      "0 5\n",
      "1 3\n",
      "1 4\n",
      "1 5\n",
      "2 3\n",
      "2 4\n",
      "2 5\n"
     ]
    }
   ],
   "source": [
    "for a in range(0, 3):\n",
    "    for n in range(3, 6):\n",
    "        print(a, n)"
   ]
  },
  {
   "cell_type": "code",
   "execution_count": 82,
   "id": "52efceb4",
   "metadata": {},
   "outputs": [
    {
     "name": "stdout",
     "output_type": "stream",
     "text": [
      "9 11\n"
     ]
    }
   ],
   "source": [
    "b = [9, 10, 11, 2, 7]\n",
    "\n",
    "#sum any index that would give you 18\n",
    "\n",
    "for j in range(0, len(b)):\n",
    "    for d in range(j+1, len(b)):\n",
    "        k = [b[j], b[d]]\n",
    "        if sum(k) == 20:\n",
    "            print(b[j], b[d])"
   ]
  },
  {
   "cell_type": "code",
   "execution_count": 13,
   "id": "03dd4636",
   "metadata": {},
   "outputs": [],
   "source": [
    "a = [[\"name\", \"age\", \"score\"],\n",
    "     [\"funmi\", \"27\", \"78\"],\n",
    "     [\"bola\", \"30\", \"90\"]]"
   ]
  },
  {
   "cell_type": "code",
   "execution_count": 14,
   "id": "57200e0b",
   "metadata": {},
   "outputs": [
    {
     "data": {
      "text/plain": [
       "('score', '27', 'bola')"
      ]
     },
     "execution_count": 14,
     "metadata": {},
     "output_type": "execute_result"
    }
   ],
   "source": [
    "a[0][2], a[1][1], a[2][0]"
   ]
  },
  {
   "cell_type": "code",
   "execution_count": 15,
   "id": "4e4fcb04",
   "metadata": {},
   "outputs": [
    {
     "data": {
      "text/plain": [
       "['bola', '30', '90']"
      ]
     },
     "execution_count": 15,
     "metadata": {},
     "output_type": "execute_result"
    }
   ],
   "source": [
    "a[i]"
   ]
  },
  {
   "cell_type": "code",
   "execution_count": 16,
   "id": "4076326f",
   "metadata": {},
   "outputs": [
    {
     "name": "stdout",
     "output_type": "stream",
     "text": [
      "[[1, 2, 4, 9], [9, 10, 12, 8], [4, 43, 11, 7]]\n"
     ]
    }
   ],
   "source": [
    "list_arr = [[1, 2, 4, 9],\n",
    "           [9, 10, 12, 8],\n",
    "           [4, 43, 11, 7]]\n",
    "print(list_arr)"
   ]
  },
  {
   "cell_type": "code",
   "execution_count": 17,
   "id": "e1f56c43",
   "metadata": {},
   "outputs": [
    {
     "name": "stdout",
     "output_type": "stream",
     "text": [
      "[[1, 9, 4], [2, 10, 43], [4, 12, 11], [9, 8, 7]]\n"
     ]
    }
   ],
   "source": [
    "new_arr = []\n",
    "for i in range(0, len(list_arr[0])):\n",
    "    arr = []\n",
    "    for n in list_arr:\n",
    "        arr.append(n[i])\n",
    "    new_arr.append(arr)\n",
    "print(new_arr)"
   ]
  },
  {
   "cell_type": "code",
   "execution_count": 99,
   "id": "7f852aae",
   "metadata": {},
   "outputs": [],
   "source": [
    "a = [[\"name\", \"age\", \"score\"],\n",
    "     [\"funmi\", \"27\", \"78\"],\n",
    "     [\"bola\", \"30\", \"90\"],\n",
    "     [\"bola\", \"30\", \"90\"]]"
   ]
  },
  {
   "cell_type": "markdown",
   "id": "0299c0a2",
   "metadata": {},
   "source": [
    "### Assignment"
   ]
  },
  {
   "cell_type": "code",
   "execution_count": 115,
   "id": "58d35be8",
   "metadata": {},
   "outputs": [
    {
     "name": "stdout",
     "output_type": "stream",
     "text": [
      "0\n",
      "['name', 'age', 'score'] [0]\n",
      "['name', 'age', 'score'] [1]\n",
      "['name', 'age', 'score'] [2]\n",
      "1\n",
      "['funmi', '27', '78'] [0]\n",
      "['funmi', '27', '78'] [1]\n",
      "['funmi', '27', '78'] [2]\n",
      "2\n",
      "['bola', '30', '90'] [0]\n",
      "['bola', '30', '90'] [1]\n",
      "['bola', '30', '90'] [2]\n",
      "3\n",
      "['bola', '30', '90'] [0]\n",
      "['bola', '30', '90'] [1]\n",
      "['bola', '30', '90'] [2]\n"
     ]
    }
   ],
   "source": [
    "arr_list = []\n",
    "for i in range(0, len(a)):\n",
    "    print(i)\n",
    "    for j in range(0, len(a[0])):\n",
    "        print(a[i], [j])\n",
    "        #print(k)\n",
    "        if (k == 2):\n",
    "            arr_list.append(a[i][j])\n",
    "#print(arr_list)"
   ]
  },
  {
   "cell_type": "code",
   "execution_count": 80,
   "id": "f22f936d",
   "metadata": {},
   "outputs": [
    {
     "name": "stdout",
     "output_type": "stream",
     "text": [
      "19\n"
     ]
    }
   ],
   "source": [
    "num = (1, 3, 5, 6, 4)\n",
    "\n",
    "sum = 0\n",
    "for i in num:\n",
    "    sum = sum + i\n",
    "print(sum)"
   ]
  },
  {
   "cell_type": "code",
   "execution_count": 78,
   "id": "c5061c8b",
   "metadata": {},
   "outputs": [
    {
     "name": "stdout",
     "output_type": "stream",
     "text": [
      "['name', 'age', 'score', 'funmi', '27', '78', 'bola', '30', '90']\n"
     ]
    }
   ],
   "source": [
    "name = []\n",
    "for i in range(0, 3):\n",
    "    for j in range(0, 3):\n",
    "        name.append(a[i][j])\n",
    "print(name)"
   ]
  },
  {
   "cell_type": "code",
   "execution_count": 93,
   "id": "ccad1991",
   "metadata": {},
   "outputs": [
    {
     "name": "stdout",
     "output_type": "stream",
     "text": [
      "score\n",
      "27\n",
      "bola\n"
     ]
    }
   ],
   "source": [
    "for i in range(0, len(a)):\n",
    "    b = len(a)-1\n",
    "    for d in range(0, len(a)):\n",
    "        b = -b -(-i)\n",
    "    print(a[i][-b])"
   ]
  },
  {
   "cell_type": "code",
   "execution_count": 81,
   "id": "c0017dba",
   "metadata": {},
   "outputs": [
    {
     "name": "stdout",
     "output_type": "stream",
     "text": [
      "score\n",
      "27\n",
      "bola\n"
     ]
    }
   ],
   "source": [
    "for i in range(0, 3):\n",
    "    print(a[i][2-i])"
   ]
  },
  {
   "cell_type": "markdown",
   "id": "23fe801c",
   "metadata": {},
   "source": [
    "### Dictionaries"
   ]
  },
  {
   "cell_type": "code",
   "execution_count": 13,
   "id": "9e795885",
   "metadata": {},
   "outputs": [
    {
     "name": "stdout",
     "output_type": "stream",
     "text": [
      "{'name': 'ola', 'age': 50, 'occupation': 'datascientist'}\n"
     ]
    }
   ],
   "source": [
    "# Dictioneries are key-value pairs\n",
    "\n",
    "dict_val = {\"name\": \"ola\", \"age\": 50, \"occupation\": \"datascientist\"}\n",
    "print(dict_val)"
   ]
  },
  {
   "cell_type": "code",
   "execution_count": 14,
   "id": "ef456794",
   "metadata": {},
   "outputs": [
    {
     "name": "stdout",
     "output_type": "stream",
     "text": [
      "{'name': 'ola', 'age': 50, 'occupation': 'datascientist'}\n"
     ]
    }
   ],
   "source": [
    "print(dict_val)"
   ]
  },
  {
   "cell_type": "code",
   "execution_count": 120,
   "id": "57c05329",
   "metadata": {},
   "outputs": [
    {
     "name": "stdout",
     "output_type": "stream",
     "text": [
      "{'name': 'ola', 'age': 50, 'occupation': 'datascientist', 'salary': 5500}\n"
     ]
    }
   ],
   "source": [
    "dict_val[\"salary\"] = 5500\n",
    "print(dict_val)"
   ]
  },
  {
   "cell_type": "code",
   "execution_count": 16,
   "id": "fdf11ad2",
   "metadata": {},
   "outputs": [
    {
     "name": "stdout",
     "output_type": "stream",
     "text": [
      "name ola\n",
      "age 50\n",
      "occupation datascientist\n"
     ]
    }
   ],
   "source": [
    "for i, b in dict_val.items():\n",
    "    print(i, b)"
   ]
  },
  {
   "cell_type": "code",
   "execution_count": 125,
   "id": "cbde8cdb",
   "metadata": {},
   "outputs": [
    {
     "name": "stdout",
     "output_type": "stream",
     "text": [
      "{'name': ['james', 'kate', 'made'], 'age': [20, 30, 40], 'marital_status': [True, False, True]}\n"
     ]
    }
   ],
   "source": [
    "f_dic = {\"name\":[\"james\", \"kate\", \"made\"], \"age\":[20, 30, 40], \"marital_status\":[True, False, True]}\n",
    "print(f_dic)"
   ]
  },
  {
   "cell_type": "code",
   "execution_count": 126,
   "id": "d7513ac1",
   "metadata": {},
   "outputs": [],
   "source": [
    "import pandas as pd"
   ]
  },
  {
   "cell_type": "code",
   "execution_count": 127,
   "id": "7479dc96",
   "metadata": {},
   "outputs": [
    {
     "data": {
      "text/html": [
       "<div>\n",
       "<style scoped>\n",
       "    .dataframe tbody tr th:only-of-type {\n",
       "        vertical-align: middle;\n",
       "    }\n",
       "\n",
       "    .dataframe tbody tr th {\n",
       "        vertical-align: top;\n",
       "    }\n",
       "\n",
       "    .dataframe thead th {\n",
       "        text-align: right;\n",
       "    }\n",
       "</style>\n",
       "<table border=\"1\" class=\"dataframe\">\n",
       "  <thead>\n",
       "    <tr style=\"text-align: right;\">\n",
       "      <th></th>\n",
       "      <th>name</th>\n",
       "      <th>age</th>\n",
       "      <th>marital_status</th>\n",
       "    </tr>\n",
       "  </thead>\n",
       "  <tbody>\n",
       "    <tr>\n",
       "      <th>0</th>\n",
       "      <td>james</td>\n",
       "      <td>20</td>\n",
       "      <td>True</td>\n",
       "    </tr>\n",
       "    <tr>\n",
       "      <th>1</th>\n",
       "      <td>kate</td>\n",
       "      <td>30</td>\n",
       "      <td>False</td>\n",
       "    </tr>\n",
       "    <tr>\n",
       "      <th>2</th>\n",
       "      <td>made</td>\n",
       "      <td>40</td>\n",
       "      <td>True</td>\n",
       "    </tr>\n",
       "  </tbody>\n",
       "</table>\n",
       "</div>"
      ],
      "text/plain": [
       "    name  age  marital_status\n",
       "0  james   20            True\n",
       "1   kate   30           False\n",
       "2   made   40            True"
      ]
     },
     "execution_count": 127,
     "metadata": {},
     "output_type": "execute_result"
    }
   ],
   "source": [
    "pd.DataFrame(f_dic)"
   ]
  },
  {
   "cell_type": "code",
   "execution_count": 129,
   "id": "10f35654",
   "metadata": {},
   "outputs": [
    {
     "data": {
      "text/html": [
       "<div>\n",
       "<style scoped>\n",
       "    .dataframe tbody tr th:only-of-type {\n",
       "        vertical-align: middle;\n",
       "    }\n",
       "\n",
       "    .dataframe tbody tr th {\n",
       "        vertical-align: top;\n",
       "    }\n",
       "\n",
       "    .dataframe thead th {\n",
       "        text-align: right;\n",
       "    }\n",
       "</style>\n",
       "<table border=\"1\" class=\"dataframe\">\n",
       "  <thead>\n",
       "    <tr style=\"text-align: right;\">\n",
       "      <th></th>\n",
       "      <th>name</th>\n",
       "      <th>age</th>\n",
       "      <th>occupation</th>\n",
       "      <th>salary</th>\n",
       "    </tr>\n",
       "  </thead>\n",
       "  <tbody>\n",
       "    <tr>\n",
       "      <th>0</th>\n",
       "      <td>ola</td>\n",
       "      <td>50</td>\n",
       "      <td>datascientist</td>\n",
       "      <td>5500</td>\n",
       "    </tr>\n",
       "  </tbody>\n",
       "</table>\n",
       "</div>"
      ],
      "text/plain": [
       "  name  age     occupation  salary\n",
       "0  ola   50  datascientist    5500"
      ]
     },
     "execution_count": 129,
     "metadata": {},
     "output_type": "execute_result"
    }
   ],
   "source": [
    "pd.DataFrame([dict_val])"
   ]
  },
  {
   "cell_type": "code",
   "execution_count": 28,
   "id": "209c2d56",
   "metadata": {},
   "outputs": [
    {
     "name": "stdout",
     "output_type": "stream",
     "text": [
      "[{'name': 'john', 'age': 30, 'credit_score': 20}, {'name': 'jake', 'age': 40, 'credit_score': 55}, {'name': 'ada', 'age': 25, 'credit_score': 44}]\n"
     ]
    }
   ],
   "source": [
    "dict_arr = [{\"name\":\"john\", \"age\":30, \"credit_score\":20},\n",
    "            {\"name\":\"jake\", \"age\":40, \"credit_score\":55},\n",
    "            {\"name\":\"ada\", \"age\":25, \"credit_score\":44}]\n",
    "print(dict_arr)"
   ]
  },
  {
   "cell_type": "code",
   "execution_count": 29,
   "id": "6bb625db",
   "metadata": {},
   "outputs": [
    {
     "data": {
      "text/html": [
       "<div>\n",
       "<style scoped>\n",
       "    .dataframe tbody tr th:only-of-type {\n",
       "        vertical-align: middle;\n",
       "    }\n",
       "\n",
       "    .dataframe tbody tr th {\n",
       "        vertical-align: top;\n",
       "    }\n",
       "\n",
       "    .dataframe thead th {\n",
       "        text-align: right;\n",
       "    }\n",
       "</style>\n",
       "<table border=\"1\" class=\"dataframe\">\n",
       "  <thead>\n",
       "    <tr style=\"text-align: right;\">\n",
       "      <th></th>\n",
       "      <th>name</th>\n",
       "      <th>age</th>\n",
       "      <th>credit_score</th>\n",
       "    </tr>\n",
       "  </thead>\n",
       "  <tbody>\n",
       "    <tr>\n",
       "      <th>0</th>\n",
       "      <td>john</td>\n",
       "      <td>30</td>\n",
       "      <td>20</td>\n",
       "    </tr>\n",
       "    <tr>\n",
       "      <th>1</th>\n",
       "      <td>jake</td>\n",
       "      <td>40</td>\n",
       "      <td>55</td>\n",
       "    </tr>\n",
       "    <tr>\n",
       "      <th>2</th>\n",
       "      <td>ada</td>\n",
       "      <td>25</td>\n",
       "      <td>44</td>\n",
       "    </tr>\n",
       "  </tbody>\n",
       "</table>\n",
       "</div>"
      ],
      "text/plain": [
       "   name  age  credit_score\n",
       "0  john   30            20\n",
       "1  jake   40            55\n",
       "2   ada   25            44"
      ]
     },
     "execution_count": 29,
     "metadata": {},
     "output_type": "execute_result"
    }
   ],
   "source": [
    "pd.DataFrame(dict_arr)"
   ]
  },
  {
   "cell_type": "code",
   "execution_count": 149,
   "id": "4d671fc4",
   "metadata": {},
   "outputs": [
    {
     "name": "stdout",
     "output_type": "stream",
     "text": [
      "{'name': 'john', 'age': 30, 'credit_score': 47.158953819999994}\n",
      "{'name': 'jake', 'age': 40, 'credit_score': 129.687123005}\n"
     ]
    }
   ],
   "source": [
    "for i in dict_arr:\n",
    "    for a, b in i.items():\n",
    "        if i[\"age\"] >=30:\n",
    "            i[\"credit_score\"] = i[\"credit_score\"] + i[\"credit_score\"] * 0.1\n",
    "            print(i)\n",
    "        break"
   ]
  },
  {
   "cell_type": "code",
   "execution_count": 14,
   "id": "a2f999e8",
   "metadata": {},
   "outputs": [],
   "source": [
    "a = [10, 10, 10, \"John\", True, False, False, 3, 10, False, False, False]"
   ]
  },
  {
   "cell_type": "code",
   "execution_count": 23,
   "id": "2626b800",
   "metadata": {},
   "outputs": [
    {
     "name": "stdout",
     "output_type": "stream",
     "text": [
      "{10: 4, 'John': 1, True: 1, False: 5, 3: 1}\n"
     ]
    }
   ],
   "source": [
    "hash_tab = {}\n",
    "for i in a:\n",
    "    hash_tab[i] = hash_tab.get(i,0) + 1\n",
    "print(hash_tab)"
   ]
  },
  {
   "cell_type": "code",
   "execution_count": 25,
   "id": "6069e72e",
   "metadata": {},
   "outputs": [
    {
     "name": "stdout",
     "output_type": "stream",
     "text": [
      "[4, 1, 1, 5, 1]\n"
     ]
    }
   ],
   "source": [
    "vals = []\n",
    "for n,m in hash_tab.items():\n",
    "    vals.append(m)\n",
    "print(vals)"
   ]
  },
  {
   "cell_type": "code",
   "execution_count": null,
   "id": "e0d42a60",
   "metadata": {},
   "outputs": [],
   "source": []
  },
  {
   "cell_type": "code",
   "execution_count": 45,
   "id": "af26db21",
   "metadata": {},
   "outputs": [
    {
     "name": "stdout",
     "output_type": "stream",
     "text": [
      "4\n",
      "4\n",
      "4\n",
      "5\n",
      "5\n"
     ]
    }
   ],
   "source": [
    "max_vals = vals[0]\n",
    "for i in vals:\n",
    "    if i > max_vals:\n",
    "        max_vals = i\n",
    "    print(max_vals)"
   ]
  },
  {
   "cell_type": "code",
   "execution_count": 68,
   "id": "563ccbdb",
   "metadata": {},
   "outputs": [
    {
     "name": "stdout",
     "output_type": "stream",
     "text": [
      "False\n"
     ]
    }
   ],
   "source": [
    "for i, j in hash_tab.items():\n",
    "    if j == max_vals:\n",
    "        print(i)"
   ]
  },
  {
   "cell_type": "code",
   "execution_count": 163,
   "id": "80cece98",
   "metadata": {},
   "outputs": [
    {
     "name": "stdout",
     "output_type": "stream",
     "text": [
      "10 and the count of 10 is ==> than 7\n"
     ]
    }
   ],
   "source": [
    "hash_tab = {}\n",
    "max_vals = vals[0]\n",
    "vals = []\n",
    "\n",
    "for i in a:\n",
    "    hash_tab[i] = hash_tab.get(i,0)+1\n",
    "for n,m in hash_tab.items():\n",
    "    vals.append(m)\n",
    "max_vals = vals[0]\n",
    "for i in vals:\n",
    "    if i > max_vals:\n",
    "        max_vals = i\n",
    "for i, j in hash_tab.items():\n",
    "    if j == max_vals:\n",
    "        print(f\"{i} and the count of {i} is ==> than {j}\")"
   ]
  },
  {
   "cell_type": "code",
   "execution_count": 29,
   "id": "65d281a4",
   "metadata": {},
   "outputs": [
    {
     "name": "stdout",
     "output_type": "stream",
     "text": [
      "{10: 4, 'John': 1, True: 1, False: 5, 3: 1}\n"
     ]
    }
   ],
   "source": [
    "hash_table = {}\n",
    "for i in a:\n",
    "    hash_table[i] = hash_table.get(i, 0) + 1\n",
    "print(hash_table)"
   ]
  },
  {
   "cell_type": "code",
   "execution_count": 48,
   "id": "003d0539",
   "metadata": {},
   "outputs": [
    {
     "name": "stdout",
     "output_type": "stream",
     "text": [
      "[4, 1, 1, 5, 1]\n"
     ]
    }
   ],
   "source": [
    "val = []\n",
    "for m,n in hash_table.items():\n",
    "    val.append(n)\n",
    "print(val)"
   ]
  },
  {
   "cell_type": "code",
   "execution_count": 55,
   "id": "84937391",
   "metadata": {},
   "outputs": [
    {
     "name": "stdout",
     "output_type": "stream",
     "text": [
      "5\n"
     ]
    }
   ],
   "source": [
    "max_val = val[0]\n",
    "for i in val:\n",
    "    if i > max_val:\n",
    "        max_val = i\n",
    "print(max_val)"
   ]
  },
  {
   "cell_type": "code",
   "execution_count": 60,
   "id": "af0d58b5",
   "metadata": {},
   "outputs": [
    {
     "name": "stdout",
     "output_type": "stream",
     "text": [
      "The highest count of values is 'False' which occurs 5 times\n"
     ]
    }
   ],
   "source": [
    "for m,n in hash_table.items():\n",
    "    if n == max_val:\n",
    "        print(f\"The highest count of values is '{m}' which occurs {n} times\")"
   ]
  },
  {
   "cell_type": "markdown",
   "id": "2234856d",
   "metadata": {},
   "source": [
    "## Functions "
   ]
  },
  {
   "cell_type": "code",
   "execution_count": 1,
   "id": "ebc38a3c",
   "metadata": {},
   "outputs": [
    {
     "name": "stdout",
     "output_type": "stream",
     "text": [
      "cindy\n"
     ]
    }
   ],
   "source": [
    "print(\"cindy\")"
   ]
  },
  {
   "cell_type": "code",
   "execution_count": 2,
   "id": "29e48680",
   "metadata": {},
   "outputs": [
    {
     "name": "stdout",
     "output_type": "stream",
     "text": [
      "cindy\n"
     ]
    }
   ],
   "source": [
    "def name_val():\n",
    "    return \"cindy\"\n",
    "\n",
    "print(name_val())"
   ]
  },
  {
   "cell_type": "code",
   "execution_count": 3,
   "id": "0454f24f",
   "metadata": {},
   "outputs": [
    {
     "name": "stdout",
     "output_type": "stream",
     "text": [
      "cindy\n"
     ]
    }
   ],
   "source": [
    "def name_val(name):\n",
    "    return name\n",
    "\n",
    "print(name_val(\"cindy\"))"
   ]
  },
  {
   "cell_type": "code",
   "execution_count": 6,
   "id": "e47703c3",
   "metadata": {},
   "outputs": [],
   "source": [
    "#a = velocity/time\n",
    "#velocity = d/t"
   ]
  },
  {
   "cell_type": "code",
   "execution_count": 5,
   "id": "b63fec51",
   "metadata": {},
   "outputs": [],
   "source": [
    "def velocity(d, t):\n",
    "    vel = d/t\n",
    "    return vel\n",
    "\n",
    "#velocity - velocity(200, 20)\n",
    "#print(velocity)"
   ]
  },
  {
   "cell_type": "code",
   "execution_count": 7,
   "id": "cac3e59f",
   "metadata": {},
   "outputs": [],
   "source": [
    "def accel(vel, t):\n",
    "    acc = vel/t\n",
    "    return acc"
   ]
  },
  {
   "cell_type": "code",
   "execution_count": 8,
   "id": "80c47dff",
   "metadata": {},
   "outputs": [
    {
     "name": "stdout",
     "output_type": "stream",
     "text": [
      "10.0\n",
      "0.6666666666666666\n",
      "33.33333333333333\n"
     ]
    }
   ],
   "source": [
    "def force_val(mass, acc):\n",
    "    f = mass * acc\n",
    "    return f\n",
    "\n",
    "velocity = velocity(200, 20)\n",
    "accl = accel(velocity, 15)\n",
    "force = force_val(50, accl)\n",
    "print(velocity)\n",
    "print(accl)\n",
    "print(force)"
   ]
  },
  {
   "cell_type": "code",
   "execution_count": 74,
   "id": "d79c12d0",
   "metadata": {},
   "outputs": [
    {
     "name": "stdout",
     "output_type": "stream",
     "text": [
      "{20: 4, 14: 2, 'emma': 2, True: 1}\n",
      "[4, 2, 2, 1]\n",
      "4\n",
      "20\n"
     ]
    }
   ],
   "source": [
    "def count_array(array_val):\n",
    "    dict_arr = {}\n",
    "    for i in array_val:\n",
    "        dict_arr[i] = dict_arr.get(i, 0) + 1\n",
    "    return dict_arr\n",
    "\n",
    "def get_values(dict_arr):\n",
    "    vals = []\n",
    "    for a, b in dict_arr.items():\n",
    "        vals.append(b)\n",
    "    return vals\n",
    "\n",
    "def max_vals_func(vals):\n",
    "    b = vals[0]\n",
    "    for i in vals:\n",
    "        if i > b:\n",
    "            b = i\n",
    "    return b\n",
    "\n",
    "def compare_array(dict_arr, b):\n",
    "    for l, n in dict_arr.items():\n",
    "        if n == b:\n",
    "            return l\n",
    "\n",
    "new_val = [20, 14, 20, \"emma\", 20, 14, True, \"emma\", 20]\n",
    "arr_g = [False, False, 8, 15, 8, 9, 8, 15, 8, False]\n",
    "\n",
    "x = count_array(new_val)\n",
    "k = get_values(x)\n",
    "max_t = max_vals_func(k)\n",
    "final_ans = compare_array(x, max_t)\n",
    "print(x)\n",
    "print(k)\n",
    "print(max_t)\n",
    "print(final_ans)"
   ]
  },
  {
   "cell_type": "markdown",
   "id": "1392fb91",
   "metadata": {},
   "source": [
    "\n",
    "### DataFrames"
   ]
  },
  {
   "cell_type": "code",
   "execution_count": 12,
   "id": "7de0dafd",
   "metadata": {},
   "outputs": [
    {
     "name": "stdout",
     "output_type": "stream",
     "text": [
      "[5, 10, 15, 20]\n"
     ]
    }
   ],
   "source": [
    "arr = [5, 10, 15, 20]\n",
    "print(arr)"
   ]
  },
  {
   "cell_type": "code",
   "execution_count": 48,
   "id": "6de14582",
   "metadata": {},
   "outputs": [
    {
     "name": "stdout",
     "output_type": "stream",
     "text": [
      "[[30, 19, 17, 18], ['a', 'b', 'c', 'd'], [10, 20, 30, 40], [8, 9, 10, 11]]\n"
     ]
    }
   ],
   "source": [
    "dt = [[30, 19, 17, 18], [\"a\", \"b\", \"c\", \"d\"], [10, 20, 30, 40], [8, 9, 10, 11]]\n",
    "print(dt)"
   ]
  },
  {
   "cell_type": "code",
   "execution_count": 49,
   "id": "2f8114a6",
   "metadata": {},
   "outputs": [],
   "source": [
    "import pandas as pd\n",
    "df = pd.DataFrame(dt[1:], columns=dt[1])\n",
    "df = df.drop(0)"
   ]
  },
  {
   "cell_type": "code",
   "execution_count": 50,
   "id": "74df89cd",
   "metadata": {},
   "outputs": [],
   "source": [
    "a_df = df.drop('d', axis=1)\n",
    "new_df = a_df.reset_index()"
   ]
  },
  {
   "cell_type": "code",
   "execution_count": 51,
   "id": "21be5a0e",
   "metadata": {},
   "outputs": [
    {
     "data": {
      "text/html": [
       "<div>\n",
       "<style scoped>\n",
       "    .dataframe tbody tr th:only-of-type {\n",
       "        vertical-align: middle;\n",
       "    }\n",
       "\n",
       "    .dataframe tbody tr th {\n",
       "        vertical-align: top;\n",
       "    }\n",
       "\n",
       "    .dataframe thead th {\n",
       "        text-align: right;\n",
       "    }\n",
       "</style>\n",
       "<table border=\"1\" class=\"dataframe\">\n",
       "  <thead>\n",
       "    <tr style=\"text-align: right;\">\n",
       "      <th></th>\n",
       "      <th>a</th>\n",
       "      <th>b</th>\n",
       "      <th>c</th>\n",
       "    </tr>\n",
       "  </thead>\n",
       "  <tbody>\n",
       "    <tr>\n",
       "      <th>0</th>\n",
       "      <td>10</td>\n",
       "      <td>20</td>\n",
       "      <td>30</td>\n",
       "    </tr>\n",
       "    <tr>\n",
       "      <th>1</th>\n",
       "      <td>8</td>\n",
       "      <td>9</td>\n",
       "      <td>10</td>\n",
       "    </tr>\n",
       "  </tbody>\n",
       "</table>\n",
       "</div>"
      ],
      "text/plain": [
       "    a   b   c\n",
       "0  10  20  30\n",
       "1   8   9  10"
      ]
     },
     "execution_count": 51,
     "metadata": {},
     "output_type": "execute_result"
    }
   ],
   "source": [
    "new_df = new_df.drop('index', axis=1)\n",
    "new_df"
   ]
  },
  {
   "cell_type": "code",
   "execution_count": 40,
   "id": "bb6308b9",
   "metadata": {},
   "outputs": [
    {
     "data": {
      "text/plain": [
       "array([20, 9], dtype=object)"
      ]
     },
     "execution_count": 40,
     "metadata": {},
     "output_type": "execute_result"
    }
   ],
   "source": [
    "a_df['b'].values"
   ]
  },
  {
   "cell_type": "code",
   "execution_count": 41,
   "id": "ea5633d3",
   "metadata": {},
   "outputs": [
    {
     "data": {
      "text/plain": [
       "array([10, 20, 30], dtype=object)"
      ]
     },
     "execution_count": 41,
     "metadata": {},
     "output_type": "execute_result"
    }
   ],
   "source": [
    "a_df.iloc[0].values"
   ]
  },
  {
   "cell_type": "code",
   "execution_count": 42,
   "id": "ef733803",
   "metadata": {},
   "outputs": [
    {
     "data": {
      "text/html": [
       "<div>\n",
       "<style scoped>\n",
       "    .dataframe tbody tr th:only-of-type {\n",
       "        vertical-align: middle;\n",
       "    }\n",
       "\n",
       "    .dataframe tbody tr th {\n",
       "        vertical-align: top;\n",
       "    }\n",
       "\n",
       "    .dataframe thead th {\n",
       "        text-align: right;\n",
       "    }\n",
       "</style>\n",
       "<table border=\"1\" class=\"dataframe\">\n",
       "  <thead>\n",
       "    <tr style=\"text-align: right;\">\n",
       "      <th></th>\n",
       "      <th>1</th>\n",
       "      <th>2</th>\n",
       "    </tr>\n",
       "  </thead>\n",
       "  <tbody>\n",
       "    <tr>\n",
       "      <th>a</th>\n",
       "      <td>10</td>\n",
       "      <td>8</td>\n",
       "    </tr>\n",
       "    <tr>\n",
       "      <th>b</th>\n",
       "      <td>20</td>\n",
       "      <td>9</td>\n",
       "    </tr>\n",
       "    <tr>\n",
       "      <th>c</th>\n",
       "      <td>30</td>\n",
       "      <td>10</td>\n",
       "    </tr>\n",
       "    <tr>\n",
       "      <th>d</th>\n",
       "      <td>40</td>\n",
       "      <td>11</td>\n",
       "    </tr>\n",
       "  </tbody>\n",
       "</table>\n",
       "</div>"
      ],
      "text/plain": [
       "    1   2\n",
       "a  10   8\n",
       "b  20   9\n",
       "c  30  10\n",
       "d  40  11"
      ]
     },
     "execution_count": 42,
     "metadata": {},
     "output_type": "execute_result"
    }
   ],
   "source": [
    "df.T"
   ]
  },
  {
   "cell_type": "code",
   "execution_count": 53,
   "id": "4c54e2ad",
   "metadata": {},
   "outputs": [
    {
     "data": {
      "text/html": [
       "<div>\n",
       "<style scoped>\n",
       "    .dataframe tbody tr th:only-of-type {\n",
       "        vertical-align: middle;\n",
       "    }\n",
       "\n",
       "    .dataframe tbody tr th {\n",
       "        vertical-align: top;\n",
       "    }\n",
       "\n",
       "    .dataframe thead th {\n",
       "        text-align: right;\n",
       "    }\n",
       "</style>\n",
       "<table border=\"1\" class=\"dataframe\">\n",
       "  <thead>\n",
       "    <tr style=\"text-align: right;\">\n",
       "      <th></th>\n",
       "      <th>id</th>\n",
       "      <th>name</th>\n",
       "      <th>credit_score</th>\n",
       "    </tr>\n",
       "  </thead>\n",
       "  <tbody>\n",
       "    <tr>\n",
       "      <th>0</th>\n",
       "      <td>1001</td>\n",
       "      <td>kate</td>\n",
       "      <td>102</td>\n",
       "    </tr>\n",
       "    <tr>\n",
       "      <th>1</th>\n",
       "      <td>1002</td>\n",
       "      <td>mark</td>\n",
       "      <td>105</td>\n",
       "    </tr>\n",
       "    <tr>\n",
       "      <th>2</th>\n",
       "      <td>1003</td>\n",
       "      <td>janeth</td>\n",
       "      <td>97</td>\n",
       "    </tr>\n",
       "  </tbody>\n",
       "</table>\n",
       "</div>"
      ],
      "text/plain": [
       "     id    name credit_score\n",
       "0  1001    kate          102\n",
       "1  1002    mark          105\n",
       "2  1003  janeth           97"
      ]
     },
     "execution_count": 53,
     "metadata": {},
     "output_type": "execute_result"
    }
   ],
   "source": [
    "id_info = [[1001, 1002, 1003], ['kate', 'mark', 'janeth'], [102, 105, 97]]\n",
    "data_df = pd.DataFrame(id_info).T\n",
    "data_df.columns = [\"id\", \"name\", \"credit_score\"]\n",
    "data_df"
   ]
  },
  {
   "cell_type": "code",
   "execution_count": 65,
   "id": "cc011223",
   "metadata": {},
   "outputs": [
    {
     "data": {
      "text/html": [
       "<div>\n",
       "<style scoped>\n",
       "    .dataframe tbody tr th:only-of-type {\n",
       "        vertical-align: middle;\n",
       "    }\n",
       "\n",
       "    .dataframe tbody tr th {\n",
       "        vertical-align: top;\n",
       "    }\n",
       "\n",
       "    .dataframe thead th {\n",
       "        text-align: right;\n",
       "    }\n",
       "</style>\n",
       "<table border=\"1\" class=\"dataframe\">\n",
       "  <thead>\n",
       "    <tr style=\"text-align: right;\">\n",
       "      <th></th>\n",
       "      <th>id</th>\n",
       "      <th>payment_info</th>\n",
       "    </tr>\n",
       "  </thead>\n",
       "  <tbody>\n",
       "    <tr>\n",
       "      <th>0</th>\n",
       "      <td>1002</td>\n",
       "      <td>paid</td>\n",
       "    </tr>\n",
       "    <tr>\n",
       "      <th>1</th>\n",
       "      <td>1001</td>\n",
       "      <td>pending</td>\n",
       "    </tr>\n",
       "    <tr>\n",
       "      <th>2</th>\n",
       "      <td>1003</td>\n",
       "      <td>reversed</td>\n",
       "    </tr>\n",
       "  </tbody>\n",
       "</table>\n",
       "</div>"
      ],
      "text/plain": [
       "     id payment_info\n",
       "0  1002         paid\n",
       "1  1001      pending\n",
       "2  1003     reversed"
      ]
     },
     "execution_count": 65,
     "metadata": {},
     "output_type": "execute_result"
    }
   ],
   "source": [
    "arr_dict = {\"id\":[1002, 1001, 1003],\n",
    "           \"payment_info\": [\"paid\", \"pending\", \"reversed\"]}\n",
    "df_data = pd.DataFrame(arr_dict)\n",
    "df_data"
   ]
  },
  {
   "cell_type": "code",
   "execution_count": 55,
   "id": "f311dc1f",
   "metadata": {},
   "outputs": [
    {
     "data": {
      "text/html": [
       "<div>\n",
       "<style scoped>\n",
       "    .dataframe tbody tr th:only-of-type {\n",
       "        vertical-align: middle;\n",
       "    }\n",
       "\n",
       "    .dataframe tbody tr th {\n",
       "        vertical-align: top;\n",
       "    }\n",
       "\n",
       "    .dataframe thead th {\n",
       "        text-align: right;\n",
       "    }\n",
       "</style>\n",
       "<table border=\"1\" class=\"dataframe\">\n",
       "  <thead>\n",
       "    <tr style=\"text-align: right;\">\n",
       "      <th></th>\n",
       "      <th>id</th>\n",
       "      <th>name</th>\n",
       "      <th>credit_score</th>\n",
       "      <th>payment_info</th>\n",
       "    </tr>\n",
       "  </thead>\n",
       "  <tbody>\n",
       "    <tr>\n",
       "      <th>0</th>\n",
       "      <td>1001</td>\n",
       "      <td>kate</td>\n",
       "      <td>102</td>\n",
       "      <td>pending</td>\n",
       "    </tr>\n",
       "    <tr>\n",
       "      <th>1</th>\n",
       "      <td>1002</td>\n",
       "      <td>mark</td>\n",
       "      <td>105</td>\n",
       "      <td>paid</td>\n",
       "    </tr>\n",
       "    <tr>\n",
       "      <th>2</th>\n",
       "      <td>1003</td>\n",
       "      <td>janeth</td>\n",
       "      <td>97</td>\n",
       "      <td>reversed</td>\n",
       "    </tr>\n",
       "  </tbody>\n",
       "</table>\n",
       "</div>"
      ],
      "text/plain": [
       "     id    name credit_score payment_info\n",
       "0  1001    kate          102      pending\n",
       "1  1002    mark          105         paid\n",
       "2  1003  janeth           97     reversed"
      ]
     },
     "execution_count": 55,
     "metadata": {},
     "output_type": "execute_result"
    }
   ],
   "source": [
    "merged_data = pd.merge(data_df, df_data, on = \"id\")\n",
    "merged_data"
   ]
  },
  {
   "cell_type": "code",
   "execution_count": 64,
   "id": "eafbf03d",
   "metadata": {},
   "outputs": [
    {
     "data": {
      "text/html": [
       "<div>\n",
       "<style scoped>\n",
       "    .dataframe tbody tr th:only-of-type {\n",
       "        vertical-align: middle;\n",
       "    }\n",
       "\n",
       "    .dataframe tbody tr th {\n",
       "        vertical-align: top;\n",
       "    }\n",
       "\n",
       "    .dataframe thead th {\n",
       "        text-align: right;\n",
       "    }\n",
       "</style>\n",
       "<table border=\"1\" class=\"dataframe\">\n",
       "  <thead>\n",
       "    <tr style=\"text-align: right;\">\n",
       "      <th></th>\n",
       "      <th>id</th>\n",
       "      <th>payment_info</th>\n",
       "    </tr>\n",
       "  </thead>\n",
       "  <tbody>\n",
       "    <tr>\n",
       "      <th>0</th>\n",
       "      <td>1004</td>\n",
       "      <td>paid fully</td>\n",
       "    </tr>\n",
       "    <tr>\n",
       "      <th>1</th>\n",
       "      <td>1005</td>\n",
       "      <td>pending</td>\n",
       "    </tr>\n",
       "    <tr>\n",
       "      <th>2</th>\n",
       "      <td>1006</td>\n",
       "      <td>loaned</td>\n",
       "    </tr>\n",
       "  </tbody>\n",
       "</table>\n",
       "</div>"
      ],
      "text/plain": [
       "     id payment_info\n",
       "0  1004   paid fully\n",
       "1  1005      pending\n",
       "2  1006       loaned"
      ]
     },
     "execution_count": 64,
     "metadata": {},
     "output_type": "execute_result"
    }
   ],
   "source": [
    "dt = {\"id\":[1004, 1005, 1006],\n",
    "     \"payment_info\": [\"paid fully\", \"pending\", \"loaned\"]}\n",
    "df_dt = pd.DataFrame(dt)\n",
    "df_dt"
   ]
  },
  {
   "cell_type": "code",
   "execution_count": 58,
   "id": "bea364eb",
   "metadata": {},
   "outputs": [
    {
     "name": "stderr",
     "output_type": "stream",
     "text": [
      "C:\\Users\\AS\\AppData\\Local\\Temp\\ipykernel_14100\\3145957713.py:1: FutureWarning: The frame.append method is deprecated and will be removed from pandas in a future version. Use pandas.concat instead.\n",
      "  my_df = df_data.append(df_dt)\n"
     ]
    },
    {
     "data": {
      "text/html": [
       "<div>\n",
       "<style scoped>\n",
       "    .dataframe tbody tr th:only-of-type {\n",
       "        vertical-align: middle;\n",
       "    }\n",
       "\n",
       "    .dataframe tbody tr th {\n",
       "        vertical-align: top;\n",
       "    }\n",
       "\n",
       "    .dataframe thead th {\n",
       "        text-align: right;\n",
       "    }\n",
       "</style>\n",
       "<table border=\"1\" class=\"dataframe\">\n",
       "  <thead>\n",
       "    <tr style=\"text-align: right;\">\n",
       "      <th></th>\n",
       "      <th>id</th>\n",
       "      <th>payment_info</th>\n",
       "    </tr>\n",
       "  </thead>\n",
       "  <tbody>\n",
       "    <tr>\n",
       "      <th>0</th>\n",
       "      <td>1002</td>\n",
       "      <td>paid</td>\n",
       "    </tr>\n",
       "    <tr>\n",
       "      <th>1</th>\n",
       "      <td>1001</td>\n",
       "      <td>pending</td>\n",
       "    </tr>\n",
       "    <tr>\n",
       "      <th>2</th>\n",
       "      <td>1003</td>\n",
       "      <td>reversed</td>\n",
       "    </tr>\n",
       "    <tr>\n",
       "      <th>0</th>\n",
       "      <td>1004</td>\n",
       "      <td>paid fully</td>\n",
       "    </tr>\n",
       "    <tr>\n",
       "      <th>1</th>\n",
       "      <td>1005</td>\n",
       "      <td>pending</td>\n",
       "    </tr>\n",
       "    <tr>\n",
       "      <th>2</th>\n",
       "      <td>1006</td>\n",
       "      <td>loaned</td>\n",
       "    </tr>\n",
       "  </tbody>\n",
       "</table>\n",
       "</div>"
      ],
      "text/plain": [
       "     id payment_info\n",
       "0  1002         paid\n",
       "1  1001      pending\n",
       "2  1003     reversed\n",
       "0  1004   paid fully\n",
       "1  1005      pending\n",
       "2  1006       loaned"
      ]
     },
     "execution_count": 58,
     "metadata": {},
     "output_type": "execute_result"
    }
   ],
   "source": [
    "my_df = df_data.append(df_dt)\n",
    "my_df"
   ]
  },
  {
   "cell_type": "code",
   "execution_count": 60,
   "id": "83e81abc",
   "metadata": {},
   "outputs": [
    {
     "data": {
      "text/html": [
       "<div>\n",
       "<style scoped>\n",
       "    .dataframe tbody tr th:only-of-type {\n",
       "        vertical-align: middle;\n",
       "    }\n",
       "\n",
       "    .dataframe tbody tr th {\n",
       "        vertical-align: top;\n",
       "    }\n",
       "\n",
       "    .dataframe thead th {\n",
       "        text-align: right;\n",
       "    }\n",
       "</style>\n",
       "<table border=\"1\" class=\"dataframe\">\n",
       "  <thead>\n",
       "    <tr style=\"text-align: right;\">\n",
       "      <th></th>\n",
       "      <th>id</th>\n",
       "      <th>name</th>\n",
       "      <th>credit_score</th>\n",
       "      <th>id</th>\n",
       "      <th>payment_info</th>\n",
       "    </tr>\n",
       "  </thead>\n",
       "  <tbody>\n",
       "    <tr>\n",
       "      <th>0</th>\n",
       "      <td>1001</td>\n",
       "      <td>kate</td>\n",
       "      <td>102</td>\n",
       "      <td>1002</td>\n",
       "      <td>paid</td>\n",
       "    </tr>\n",
       "    <tr>\n",
       "      <th>1</th>\n",
       "      <td>1002</td>\n",
       "      <td>mark</td>\n",
       "      <td>105</td>\n",
       "      <td>1001</td>\n",
       "      <td>pending</td>\n",
       "    </tr>\n",
       "    <tr>\n",
       "      <th>2</th>\n",
       "      <td>1003</td>\n",
       "      <td>janeth</td>\n",
       "      <td>97</td>\n",
       "      <td>1003</td>\n",
       "      <td>reversed</td>\n",
       "    </tr>\n",
       "  </tbody>\n",
       "</table>\n",
       "</div>"
      ],
      "text/plain": [
       "     id    name credit_score    id payment_info\n",
       "0  1001    kate          102  1002         paid\n",
       "1  1002    mark          105  1001      pending\n",
       "2  1003  janeth           97  1003     reversed"
      ]
     },
     "execution_count": 60,
     "metadata": {},
     "output_type": "execute_result"
    }
   ],
   "source": [
    "concat_data = pd.concat([data_df, df_data], axis=1)\n",
    "concat_data"
   ]
  },
  {
   "cell_type": "code",
   "execution_count": null,
   "id": "8f0ccc31",
   "metadata": {},
   "outputs": [],
   "source": []
  }
 ],
 "metadata": {
  "kernelspec": {
   "display_name": "Python 3 (ipykernel)",
   "language": "python",
   "name": "python3"
  },
  "language_info": {
   "codemirror_mode": {
    "name": "ipython",
    "version": 3
   },
   "file_extension": ".py",
   "mimetype": "text/x-python",
   "name": "python",
   "nbconvert_exporter": "python",
   "pygments_lexer": "ipython3",
   "version": "3.9.13"
  }
 },
 "nbformat": 4,
 "nbformat_minor": 5
}
