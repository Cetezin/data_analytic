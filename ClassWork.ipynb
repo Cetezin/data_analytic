{
 "cells": [
  {
   "cell_type": "code",
   "execution_count": 5,
   "id": "90e6402a",
   "metadata": {},
   "outputs": [
    {
     "name": "stdout",
     "output_type": "stream",
     "text": [
      "John is 30 years old\n",
      "Lola is 43 years old\n",
      "Bayo is 25 years old\n"
     ]
    }
   ],
   "source": [
    "name = [\"john\", \"lola\", \"bayo\"]\n",
    "ages = [30, 43, 25]\n",
    "\n",
    "Name = []\n",
    "for i in name:\n",
    "    a = i[0].upper() + i.split()[0][1:]\n",
    "    Name.append(a)\n",
    "\n",
    "for n in range(len(name)):\n",
    "    print(f\"{Name[n]} is {ages[n]} years old\")"
   ]
  },
  {
   "cell_type": "code",
   "execution_count": 10,
   "id": "4f62c9a5",
   "metadata": {},
   "outputs": [],
   "source": [
    "firstname = [\"katie\", \"bicah\", \"lemah\", \"judie\" ]\n",
    "surname = [\"tamuno\"]"
   ]
  },
  {
   "cell_type": "code",
   "execution_count": 11,
   "id": "2bdcbec7",
   "metadata": {},
   "outputs": [
    {
     "name": "stdout",
     "output_type": "stream",
     "text": [
      "['katie tamuno', 'bicah tamuno', 'lemah tamuno', 'judie tamuno']\n"
     ]
    }
   ],
   "source": [
    "fullname = []\n",
    "for j in range(len(firstname)):\n",
    "    name_array = firstname[j] + \" \" + surname[0]\n",
    "    fullname.append(name_array)\n",
    "print(fullname)"
   ]
  },
  {
   "cell_type": "code",
   "execution_count": 3,
   "id": "b0daed74",
   "metadata": {},
   "outputs": [],
   "source": [
    "import os"
   ]
  },
  {
   "cell_type": "code",
   "execution_count": 12,
   "id": "283493cd",
   "metadata": {},
   "outputs": [
    {
     "name": "stdout",
     "output_type": "stream",
     "text": [
      " Volume in drive C has no label.\n",
      " Volume Serial Number is E608-7F89\n",
      "\n",
      " Directory of C:\\Users\\AS\\Desktop\\data_analytic\\pythonCodes\n",
      "\n",
      "11/08/2022  02:46 PM    <DIR>          .\n",
      "11/08/2022  02:46 PM    <DIR>          ..\n",
      "11/04/2022  06:55 PM    <DIR>          .ipynb_checkpoints\n",
      "11/08/2022  11:53 AM            28,861 Assignments.ipynb\n",
      "11/07/2022  04:58 PM                22 dataSheets.txt\n",
      "11/08/2022  12:00 PM                56 newname.txt\n",
      "11/08/2022  11:58 AM               112 new_filename.txt\n",
      "11/07/2022  05:08 PM               384 new_temp.txt\n",
      "11/08/2022  02:46 PM             4,541 Practice.ipynb\n",
      "11/08/2022  11:54 AM    <DIR>          Untitled Folder\n",
      "11/08/2022  11:54 AM    <DIR>          Untitled Folder 1\n",
      "               6 File(s)         33,976 bytes\n",
      "               5 Dir(s)  254,180,364,288 bytes free\n"
     ]
    }
   ],
   "source": [
    "!dir"
   ]
  },
  {
   "cell_type": "code",
   "execution_count": 8,
   "id": "a32e5806",
   "metadata": {},
   "outputs": [],
   "source": [
    "print_file = open(\"newname.txt\", \"a\")\n",
    "for n in fullname:\n",
    "    print_file.write(f\"{n}\\n\")"
   ]
  },
  {
   "cell_type": "code",
   "execution_count": null,
   "id": "1111003f",
   "metadata": {},
   "outputs": [],
   "source": []
  },
  {
   "cell_type": "markdown",
   "id": "abcfde42",
   "metadata": {},
   "source": [
    "### Matrices"
   ]
  },
  {
   "cell_type": "code",
   "execution_count": 1,
   "id": "587b70ad",
   "metadata": {},
   "outputs": [
    {
     "name": "stdout",
     "output_type": "stream",
     "text": [
      "name\n",
      "funmi\n",
      "bola\n"
     ]
    }
   ],
   "source": [
    "a = [[\"name\", \"age\", \"score\"],\n",
    "     [\"funmi\", \"27\", \"78\"],\n",
    "     [\"bola\", \"30\", \"90\"]]\n",
    "\n",
    "print(a[0][0])\n",
    "print(a[1][0])\n",
    "print(a[2][0])"
   ]
  },
  {
   "cell_type": "code",
   "execution_count": 2,
   "id": "87105c5d",
   "metadata": {},
   "outputs": [
    {
     "name": "stdout",
     "output_type": "stream",
     "text": [
      "age\n",
      "27\n",
      "30\n"
     ]
    }
   ],
   "source": [
    "print(a[0][1])\n",
    "print(a[1][1])\n",
    "print(a[2][1])"
   ]
  },
  {
   "cell_type": "code",
   "execution_count": 90,
   "id": "24bf5ebc",
   "metadata": {},
   "outputs": [
    {
     "name": "stdout",
     "output_type": "stream",
     "text": [
      "0 0\n",
      "0 1\n",
      "0 2\n",
      "1 0\n",
      "1 1\n",
      "1 2\n",
      "2 0\n",
      "2 1\n",
      "2 2\n"
     ]
    }
   ],
   "source": [
    "for i in range(0, 3):\n",
    "    for j in range(0, 3):\n",
    "        print(i, j)\n",
    "        #print(a[i][j])"
   ]
  },
  {
   "cell_type": "code",
   "execution_count": 8,
   "id": "c6c24dcc",
   "metadata": {},
   "outputs": [],
   "source": [
    "a = [[\"name\", \"age\", \"score\"],\n",
    "     [\"funmi\", \"27\", \"78\"],\n",
    "     [\"bola\", \"30\", \"90\"]]"
   ]
  },
  {
   "cell_type": "code",
   "execution_count": 26,
   "id": "a3a0c319",
   "metadata": {},
   "outputs": [
    {
     "data": {
      "text/html": [
       "<div>\n",
       "<style scoped>\n",
       "    .dataframe tbody tr th:only-of-type {\n",
       "        vertical-align: middle;\n",
       "    }\n",
       "\n",
       "    .dataframe tbody tr th {\n",
       "        vertical-align: top;\n",
       "    }\n",
       "\n",
       "    .dataframe thead th {\n",
       "        text-align: right;\n",
       "    }\n",
       "</style>\n",
       "<table border=\"1\" class=\"dataframe\">\n",
       "  <thead>\n",
       "    <tr style=\"text-align: right;\">\n",
       "      <th></th>\n",
       "      <th>name</th>\n",
       "      <th>age</th>\n",
       "      <th>score</th>\n",
       "    </tr>\n",
       "  </thead>\n",
       "  <tbody>\n",
       "    <tr>\n",
       "      <th>0</th>\n",
       "      <td>funmi</td>\n",
       "      <td>27</td>\n",
       "      <td>78</td>\n",
       "    </tr>\n",
       "    <tr>\n",
       "      <th>1</th>\n",
       "      <td>bola</td>\n",
       "      <td>30</td>\n",
       "      <td>90</td>\n",
       "    </tr>\n",
       "  </tbody>\n",
       "</table>\n",
       "</div>"
      ],
      "text/plain": [
       "    name age score\n",
       "0  funmi  27    78\n",
       "1   bola  30    90"
      ]
     },
     "execution_count": 26,
     "metadata": {},
     "output_type": "execute_result"
    }
   ],
   "source": [
    "import pandas as pd\n",
    "df = pd.DataFrame(a[1:], columns=a[0])\n",
    "df"
   ]
  },
  {
   "cell_type": "code",
   "execution_count": 8,
   "id": "27a85743",
   "metadata": {},
   "outputs": [
    {
     "data": {
      "text/plain": [
       "'bola'"
      ]
     },
     "execution_count": 8,
     "metadata": {},
     "output_type": "execute_result"
    }
   ],
   "source": [
    "a[2][0]"
   ]
  },
  {
   "cell_type": "code",
   "execution_count": 44,
   "id": "0d31f9b4",
   "metadata": {},
   "outputs": [
    {
     "name": "stdout",
     "output_type": "stream",
     "text": [
      "['name', 'funmi', 'bola']\n",
      "['age', '27', '30']\n",
      "['score', '78', '90']\n"
     ]
    }
   ],
   "source": [
    "for i in range(0, len(a)):\n",
    "    index_value = []\n",
    "    for n in a:\n",
    "        index_value.append(n[i])\n",
    "    print(index_value)"
   ]
  },
  {
   "cell_type": "code",
   "execution_count": 62,
   "id": "8e6385f9",
   "metadata": {},
   "outputs": [
    {
     "name": "stdout",
     "output_type": "stream",
     "text": [
      "[['name', 'funmi', 'bola'], ['age', '27', '30'], ['score', '78', '90']]\n"
     ]
    }
   ],
   "source": [
    "new_arr = []\n",
    "for i in range(0, 3):\n",
    "    arr = []\n",
    "    for n in a:\n",
    "        arr.append(n[i])\n",
    "    new_arr.append(arr)\n",
    "print(new_arr)"
   ]
  },
  {
   "cell_type": "code",
   "execution_count": 11,
   "id": "81ec75a7",
   "metadata": {},
   "outputs": [
    {
     "name": "stdout",
     "output_type": "stream",
     "text": [
      "0 3\n",
      "0 4\n",
      "0 5\n",
      "1 3\n",
      "1 4\n",
      "1 5\n",
      "2 3\n",
      "2 4\n",
      "2 5\n"
     ]
    }
   ],
   "source": [
    "for a in range(0, 3):\n",
    "    for n in range(3, 6):\n",
    "        print(a, n)"
   ]
  },
  {
   "cell_type": "code",
   "execution_count": 82,
   "id": "52efceb4",
   "metadata": {},
   "outputs": [
    {
     "name": "stdout",
     "output_type": "stream",
     "text": [
      "9 11\n"
     ]
    }
   ],
   "source": [
    "b = [9, 10, 11, 2, 7]\n",
    "\n",
    "#sum any index that would give you 18\n",
    "\n",
    "for j in range(0, len(b)):\n",
    "    for d in range(j+1, len(b)):\n",
    "        k = [b[j], b[d]]\n",
    "        if sum(k) == 20:\n",
    "            print(b[j], b[d])"
   ]
  },
  {
   "cell_type": "code",
   "execution_count": 13,
   "id": "03dd4636",
   "metadata": {},
   "outputs": [],
   "source": [
    "a = [[\"name\", \"age\", \"score\"],\n",
    "     [\"funmi\", \"27\", \"78\"],\n",
    "     [\"bola\", \"30\", \"90\"]]"
   ]
  },
  {
   "cell_type": "code",
   "execution_count": 14,
   "id": "57200e0b",
   "metadata": {},
   "outputs": [
    {
     "data": {
      "text/plain": [
       "('score', '27', 'bola')"
      ]
     },
     "execution_count": 14,
     "metadata": {},
     "output_type": "execute_result"
    }
   ],
   "source": [
    "a[0][2], a[1][1], a[2][0]"
   ]
  },
  {
   "cell_type": "code",
   "execution_count": 15,
   "id": "4e4fcb04",
   "metadata": {},
   "outputs": [
    {
     "data": {
      "text/plain": [
       "['bola', '30', '90']"
      ]
     },
     "execution_count": 15,
     "metadata": {},
     "output_type": "execute_result"
    }
   ],
   "source": [
    "a[i]"
   ]
  },
  {
   "cell_type": "code",
   "execution_count": 16,
   "id": "4076326f",
   "metadata": {},
   "outputs": [
    {
     "name": "stdout",
     "output_type": "stream",
     "text": [
      "[[1, 2, 4, 9], [9, 10, 12, 8], [4, 43, 11, 7]]\n"
     ]
    }
   ],
   "source": [
    "list_arr = [[1, 2, 4, 9],\n",
    "           [9, 10, 12, 8],\n",
    "           [4, 43, 11, 7]]\n",
    "print(list_arr)"
   ]
  },
  {
   "cell_type": "code",
   "execution_count": 17,
   "id": "e1f56c43",
   "metadata": {},
   "outputs": [
    {
     "name": "stdout",
     "output_type": "stream",
     "text": [
      "[[1, 9, 4], [2, 10, 43], [4, 12, 11], [9, 8, 7]]\n"
     ]
    }
   ],
   "source": [
    "new_arr = []\n",
    "for i in range(0, len(list_arr[0])):\n",
    "    arr = []\n",
    "    for n in list_arr:\n",
    "        arr.append(n[i])\n",
    "    new_arr.append(arr)\n",
    "print(new_arr)"
   ]
  },
  {
   "cell_type": "code",
   "execution_count": 99,
   "id": "7f852aae",
   "metadata": {},
   "outputs": [],
   "source": [
    "a = [[\"name\", \"age\", \"score\"],\n",
    "     [\"funmi\", \"27\", \"78\"],\n",
    "     [\"bola\", \"30\", \"90\"],\n",
    "     [\"bola\", \"30\", \"90\"]]"
   ]
  },
  {
   "cell_type": "markdown",
   "id": "0299c0a2",
   "metadata": {},
   "source": [
    "### Assignment"
   ]
  },
  {
   "cell_type": "code",
   "execution_count": 115,
   "id": "58d35be8",
   "metadata": {},
   "outputs": [
    {
     "name": "stdout",
     "output_type": "stream",
     "text": [
      "0\n",
      "['name', 'age', 'score'] [0]\n",
      "['name', 'age', 'score'] [1]\n",
      "['name', 'age', 'score'] [2]\n",
      "1\n",
      "['funmi', '27', '78'] [0]\n",
      "['funmi', '27', '78'] [1]\n",
      "['funmi', '27', '78'] [2]\n",
      "2\n",
      "['bola', '30', '90'] [0]\n",
      "['bola', '30', '90'] [1]\n",
      "['bola', '30', '90'] [2]\n",
      "3\n",
      "['bola', '30', '90'] [0]\n",
      "['bola', '30', '90'] [1]\n",
      "['bola', '30', '90'] [2]\n"
     ]
    }
   ],
   "source": [
    "arr_list = []\n",
    "for i in range(0, len(a)):\n",
    "    print(i)\n",
    "    for j in range(0, len(a[0])):\n",
    "        print(a[i], [j])\n",
    "        #print(k)\n",
    "        if (k == 2):\n",
    "            arr_list.append(a[i][j])\n",
    "#print(arr_list)"
   ]
  },
  {
   "cell_type": "code",
   "execution_count": 80,
   "id": "f22f936d",
   "metadata": {},
   "outputs": [
    {
     "name": "stdout",
     "output_type": "stream",
     "text": [
      "19\n"
     ]
    }
   ],
   "source": [
    "num = (1, 3, 5, 6, 4)\n",
    "\n",
    "sum = 0\n",
    "for i in num:\n",
    "    sum = sum + i\n",
    "print(sum)"
   ]
  },
  {
   "cell_type": "code",
   "execution_count": 78,
   "id": "c5061c8b",
   "metadata": {},
   "outputs": [
    {
     "name": "stdout",
     "output_type": "stream",
     "text": [
      "['name', 'age', 'score', 'funmi', '27', '78', 'bola', '30', '90']\n"
     ]
    }
   ],
   "source": [
    "name = []\n",
    "for i in range(0, 3):\n",
    "    for j in range(0, 3):\n",
    "        name.append(a[i][j])\n",
    "print(name)"
   ]
  },
  {
   "cell_type": "code",
   "execution_count": 93,
   "id": "ccad1991",
   "metadata": {},
   "outputs": [
    {
     "name": "stdout",
     "output_type": "stream",
     "text": [
      "score\n",
      "27\n",
      "bola\n"
     ]
    }
   ],
   "source": [
    "for i in range(0, len(a)):\n",
    "    b = len(a)-1\n",
    "    for d in range(0, len(a)):\n",
    "        b = -b -(-i)\n",
    "    print(a[i][-b])"
   ]
  },
  {
   "cell_type": "code",
   "execution_count": 81,
   "id": "c0017dba",
   "metadata": {},
   "outputs": [
    {
     "name": "stdout",
     "output_type": "stream",
     "text": [
      "score\n",
      "27\n",
      "bola\n"
     ]
    }
   ],
   "source": [
    "for i in range(0, 3):\n",
    "    print(a[i][2-i])"
   ]
  },
  {
   "cell_type": "markdown",
   "id": "23fe801c",
   "metadata": {},
   "source": [
    "### Dictionaries"
   ]
  },
  {
   "cell_type": "code",
   "execution_count": 13,
   "id": "9e795885",
   "metadata": {},
   "outputs": [
    {
     "name": "stdout",
     "output_type": "stream",
     "text": [
      "{'name': 'ola', 'age': 50, 'occupation': 'datascientist'}\n"
     ]
    }
   ],
   "source": [
    "# Dictioneries are key-value pairs\n",
    "\n",
    "dict_val = {\"name\": \"ola\", \"age\": 50, \"occupation\": \"datascientist\"}\n",
    "print(dict_val)"
   ]
  },
  {
   "cell_type": "code",
   "execution_count": 14,
   "id": "ef456794",
   "metadata": {},
   "outputs": [
    {
     "name": "stdout",
     "output_type": "stream",
     "text": [
      "{'name': 'ola', 'age': 50, 'occupation': 'datascientist'}\n"
     ]
    }
   ],
   "source": [
    "print(dict_val)"
   ]
  },
  {
   "cell_type": "code",
   "execution_count": 120,
   "id": "57c05329",
   "metadata": {},
   "outputs": [
    {
     "name": "stdout",
     "output_type": "stream",
     "text": [
      "{'name': 'ola', 'age': 50, 'occupation': 'datascientist', 'salary': 5500}\n"
     ]
    }
   ],
   "source": [
    "dict_val[\"salary\"] = 5500\n",
    "print(dict_val)"
   ]
  },
  {
   "cell_type": "code",
   "execution_count": 16,
   "id": "fdf11ad2",
   "metadata": {},
   "outputs": [
    {
     "name": "stdout",
     "output_type": "stream",
     "text": [
      "name ola\n",
      "age 50\n",
      "occupation datascientist\n"
     ]
    }
   ],
   "source": [
    "for i, b in dict_val.items():\n",
    "    print(i, b)"
   ]
  },
  {
   "cell_type": "code",
   "execution_count": 125,
   "id": "cbde8cdb",
   "metadata": {},
   "outputs": [
    {
     "name": "stdout",
     "output_type": "stream",
     "text": [
      "{'name': ['james', 'kate', 'made'], 'age': [20, 30, 40], 'marital_status': [True, False, True]}\n"
     ]
    }
   ],
   "source": [
    "f_dic = {\"name\":[\"james\", \"kate\", \"made\"], \"age\":[20, 30, 40], \"marital_status\":[True, False, True]}\n",
    "print(f_dic)"
   ]
  },
  {
   "cell_type": "code",
   "execution_count": 126,
   "id": "d7513ac1",
   "metadata": {},
   "outputs": [],
   "source": [
    "import pandas as pd"
   ]
  },
  {
   "cell_type": "code",
   "execution_count": 127,
   "id": "7479dc96",
   "metadata": {},
   "outputs": [
    {
     "data": {
      "text/html": [
       "<div>\n",
       "<style scoped>\n",
       "    .dataframe tbody tr th:only-of-type {\n",
       "        vertical-align: middle;\n",
       "    }\n",
       "\n",
       "    .dataframe tbody tr th {\n",
       "        vertical-align: top;\n",
       "    }\n",
       "\n",
       "    .dataframe thead th {\n",
       "        text-align: right;\n",
       "    }\n",
       "</style>\n",
       "<table border=\"1\" class=\"dataframe\">\n",
       "  <thead>\n",
       "    <tr style=\"text-align: right;\">\n",
       "      <th></th>\n",
       "      <th>name</th>\n",
       "      <th>age</th>\n",
       "      <th>marital_status</th>\n",
       "    </tr>\n",
       "  </thead>\n",
       "  <tbody>\n",
       "    <tr>\n",
       "      <th>0</th>\n",
       "      <td>james</td>\n",
       "      <td>20</td>\n",
       "      <td>True</td>\n",
       "    </tr>\n",
       "    <tr>\n",
       "      <th>1</th>\n",
       "      <td>kate</td>\n",
       "      <td>30</td>\n",
       "      <td>False</td>\n",
       "    </tr>\n",
       "    <tr>\n",
       "      <th>2</th>\n",
       "      <td>made</td>\n",
       "      <td>40</td>\n",
       "      <td>True</td>\n",
       "    </tr>\n",
       "  </tbody>\n",
       "</table>\n",
       "</div>"
      ],
      "text/plain": [
       "    name  age  marital_status\n",
       "0  james   20            True\n",
       "1   kate   30           False\n",
       "2   made   40            True"
      ]
     },
     "execution_count": 127,
     "metadata": {},
     "output_type": "execute_result"
    }
   ],
   "source": [
    "pd.DataFrame(f_dic)"
   ]
  },
  {
   "cell_type": "code",
   "execution_count": 129,
   "id": "10f35654",
   "metadata": {},
   "outputs": [
    {
     "data": {
      "text/html": [
       "<div>\n",
       "<style scoped>\n",
       "    .dataframe tbody tr th:only-of-type {\n",
       "        vertical-align: middle;\n",
       "    }\n",
       "\n",
       "    .dataframe tbody tr th {\n",
       "        vertical-align: top;\n",
       "    }\n",
       "\n",
       "    .dataframe thead th {\n",
       "        text-align: right;\n",
       "    }\n",
       "</style>\n",
       "<table border=\"1\" class=\"dataframe\">\n",
       "  <thead>\n",
       "    <tr style=\"text-align: right;\">\n",
       "      <th></th>\n",
       "      <th>name</th>\n",
       "      <th>age</th>\n",
       "      <th>occupation</th>\n",
       "      <th>salary</th>\n",
       "    </tr>\n",
       "  </thead>\n",
       "  <tbody>\n",
       "    <tr>\n",
       "      <th>0</th>\n",
       "      <td>ola</td>\n",
       "      <td>50</td>\n",
       "      <td>datascientist</td>\n",
       "      <td>5500</td>\n",
       "    </tr>\n",
       "  </tbody>\n",
       "</table>\n",
       "</div>"
      ],
      "text/plain": [
       "  name  age     occupation  salary\n",
       "0  ola   50  datascientist    5500"
      ]
     },
     "execution_count": 129,
     "metadata": {},
     "output_type": "execute_result"
    }
   ],
   "source": [
    "pd.DataFrame([dict_val])"
   ]
  },
  {
   "cell_type": "code",
   "execution_count": 28,
   "id": "209c2d56",
   "metadata": {},
   "outputs": [
    {
     "name": "stdout",
     "output_type": "stream",
     "text": [
      "[{'name': 'john', 'age': 30, 'credit_score': 20}, {'name': 'jake', 'age': 40, 'credit_score': 55}, {'name': 'ada', 'age': 25, 'credit_score': 44}]\n"
     ]
    }
   ],
   "source": [
    "dict_arr = [{\"name\":\"john\", \"age\":30, \"credit_score\":20},\n",
    "            {\"name\":\"jake\", \"age\":40, \"credit_score\":55},\n",
    "            {\"name\":\"ada\", \"age\":25, \"credit_score\":44}]\n",
    "print(dict_arr)"
   ]
  },
  {
   "cell_type": "code",
   "execution_count": 29,
   "id": "6bb625db",
   "metadata": {},
   "outputs": [
    {
     "data": {
      "text/html": [
       "<div>\n",
       "<style scoped>\n",
       "    .dataframe tbody tr th:only-of-type {\n",
       "        vertical-align: middle;\n",
       "    }\n",
       "\n",
       "    .dataframe tbody tr th {\n",
       "        vertical-align: top;\n",
       "    }\n",
       "\n",
       "    .dataframe thead th {\n",
       "        text-align: right;\n",
       "    }\n",
       "</style>\n",
       "<table border=\"1\" class=\"dataframe\">\n",
       "  <thead>\n",
       "    <tr style=\"text-align: right;\">\n",
       "      <th></th>\n",
       "      <th>name</th>\n",
       "      <th>age</th>\n",
       "      <th>credit_score</th>\n",
       "    </tr>\n",
       "  </thead>\n",
       "  <tbody>\n",
       "    <tr>\n",
       "      <th>0</th>\n",
       "      <td>john</td>\n",
       "      <td>30</td>\n",
       "      <td>20</td>\n",
       "    </tr>\n",
       "    <tr>\n",
       "      <th>1</th>\n",
       "      <td>jake</td>\n",
       "      <td>40</td>\n",
       "      <td>55</td>\n",
       "    </tr>\n",
       "    <tr>\n",
       "      <th>2</th>\n",
       "      <td>ada</td>\n",
       "      <td>25</td>\n",
       "      <td>44</td>\n",
       "    </tr>\n",
       "  </tbody>\n",
       "</table>\n",
       "</div>"
      ],
      "text/plain": [
       "   name  age  credit_score\n",
       "0  john   30            20\n",
       "1  jake   40            55\n",
       "2   ada   25            44"
      ]
     },
     "execution_count": 29,
     "metadata": {},
     "output_type": "execute_result"
    }
   ],
   "source": [
    "pd.DataFrame(dict_arr)"
   ]
  },
  {
   "cell_type": "code",
   "execution_count": 149,
   "id": "4d671fc4",
   "metadata": {},
   "outputs": [
    {
     "name": "stdout",
     "output_type": "stream",
     "text": [
      "{'name': 'john', 'age': 30, 'credit_score': 47.158953819999994}\n",
      "{'name': 'jake', 'age': 40, 'credit_score': 129.687123005}\n"
     ]
    }
   ],
   "source": [
    "for i in dict_arr:\n",
    "    for a, b in i.items():\n",
    "        if i[\"age\"] >=30:\n",
    "            i[\"credit_score\"] = i[\"credit_score\"] + i[\"credit_score\"] * 0.1\n",
    "            print(i)\n",
    "        break"
   ]
  },
  {
   "cell_type": "code",
   "execution_count": 139,
   "id": "a2f999e8",
   "metadata": {},
   "outputs": [],
   "source": [
    "a = [10, 10, 10, \"John\", True, False, False, 3, 10, False, False, False]"
   ]
  },
  {
   "cell_type": "code",
   "execution_count": 23,
   "id": "2626b800",
   "metadata": {},
   "outputs": [
    {
     "name": "stdout",
     "output_type": "stream",
     "text": [
      "{10: 4, 'John': 1, True: 1, False: 5, 3: 1}\n"
     ]
    }
   ],
   "source": [
    "hash_tab = {}\n",
    "for i in b:\n",
    "    hash_tab[i] = hash_tab.get(i,0) + 1\n",
    "print(hash_tab)"
   ]
  },
  {
   "cell_type": "code",
   "execution_count": 25,
   "id": "6069e72e",
   "metadata": {},
   "outputs": [
    {
     "name": "stdout",
     "output_type": "stream",
     "text": [
      "[4, 1, 1, 5, 1]\n"
     ]
    }
   ],
   "source": [
    "vals = []\n",
    "for n,m in hash_tab.items():\n",
    "    vals.append(m)\n",
    "print(vals)"
   ]
  },
  {
   "cell_type": "code",
   "execution_count": null,
   "id": "e0d42a60",
   "metadata": {},
   "outputs": [],
   "source": []
  },
  {
   "cell_type": "code",
   "execution_count": 45,
   "id": "af26db21",
   "metadata": {},
   "outputs": [
    {
     "name": "stdout",
     "output_type": "stream",
     "text": [
      "4\n",
      "4\n",
      "4\n",
      "5\n",
      "5\n"
     ]
    }
   ],
   "source": [
    "max_vals = vals[0]\n",
    "for i in vals:\n",
    "    if i > max_vals:\n",
    "        max_vals = i\n",
    "    print(max_vals)"
   ]
  },
  {
   "cell_type": "code",
   "execution_count": 68,
   "id": "563ccbdb",
   "metadata": {},
   "outputs": [
    {
     "name": "stdout",
     "output_type": "stream",
     "text": [
      "False\n"
     ]
    }
   ],
   "source": [
    "for i, j in hash_tab.items():\n",
    "    if j == max_vals:\n",
    "        print(i)"
   ]
  },
  {
   "cell_type": "code",
   "execution_count": 153,
   "id": "80cece98",
   "metadata": {},
   "outputs": [
    {
     "ename": "IndexError",
     "evalue": "list index out of range",
     "output_type": "error",
     "traceback": [
      "\u001b[1;31m---------------------------------------------------------------------------\u001b[0m",
      "\u001b[1;31mIndexError\u001b[0m                                Traceback (most recent call last)",
      "\u001b[1;32m~\\AppData\\Local\\Temp\\ipykernel_9780\\3639296218.py\u001b[0m in \u001b[0;36m<module>\u001b[1;34m\u001b[0m\n\u001b[0;32m      1\u001b[0m \u001b[0mhash_tab\u001b[0m \u001b[1;33m=\u001b[0m \u001b[1;33m{\u001b[0m\u001b[1;33m}\u001b[0m\u001b[1;33m\u001b[0m\u001b[1;33m\u001b[0m\u001b[0m\n\u001b[0;32m      2\u001b[0m \u001b[0mvals\u001b[0m \u001b[1;33m=\u001b[0m \u001b[1;33m[\u001b[0m\u001b[1;33m]\u001b[0m\u001b[1;33m\u001b[0m\u001b[1;33m\u001b[0m\u001b[0m\n\u001b[1;32m----> 3\u001b[1;33m \u001b[0mmax_vals\u001b[0m \u001b[1;33m=\u001b[0m \u001b[0mvals\u001b[0m\u001b[1;33m[\u001b[0m\u001b[1;36m0\u001b[0m\u001b[1;33m]\u001b[0m\u001b[1;33m\u001b[0m\u001b[1;33m\u001b[0m\u001b[0m\n\u001b[0m\u001b[0;32m      4\u001b[0m \u001b[1;33m\u001b[0m\u001b[0m\n\u001b[0;32m      5\u001b[0m \u001b[1;32mfor\u001b[0m \u001b[0mi\u001b[0m \u001b[1;32min\u001b[0m \u001b[0ma\u001b[0m\u001b[1;33m:\u001b[0m\u001b[1;33m\u001b[0m\u001b[1;33m\u001b[0m\u001b[0m\n",
      "\u001b[1;31mIndexError\u001b[0m: list index out of range"
     ]
    }
   ],
   "source": [
    "hash_tab = {}\n",
    "vals = []\n",
    "max_vals = vals[0]\n",
    "\n",
    "for i in a:\n",
    "    hash_tab[i] = hash_tab.get(i,0)+1\n",
    "for n,m in hash_tab.items():\n",
    "    vals.append(m)\n",
    "\n",
    "for i in vals:\n",
    "    if i > max_vals:\n",
    "        max_vals = i\n",
    "        \n",
    "for i, j in hash_tab.items():\n",
    "    if j == max_vals:\n",
    "        print(f\"{i} and the count of {i} is ==> than {j}\")"
   ]
  },
  {
   "cell_type": "code",
   "execution_count": 148,
   "id": "65d281a4",
   "metadata": {},
   "outputs": [
    {
     "name": "stdout",
     "output_type": "stream",
     "text": [
      "{10: 4, 'John': 1, True: 1, False: 5, 3: 1}\n"
     ]
    }
   ],
   "source": [
    "hash_table = {}\n",
    "for i in a:\n",
    "    hash_table[i] = hash_table.get(i, 0) + 1\n",
    "print(hash_table)"
   ]
  },
  {
   "cell_type": "code",
   "execution_count": 150,
   "id": "003d0539",
   "metadata": {},
   "outputs": [
    {
     "name": "stdout",
     "output_type": "stream",
     "text": [
      "[4, 1, 1, 5, 1]\n"
     ]
    }
   ],
   "source": [
    "val = []\n",
    "for m,n in hash_table.items():\n",
    "    val.append(n)\n",
    "print(val)"
   ]
  },
  {
   "cell_type": "code",
   "execution_count": 151,
   "id": "84937391",
   "metadata": {},
   "outputs": [
    {
     "name": "stdout",
     "output_type": "stream",
     "text": [
      "5\n"
     ]
    }
   ],
   "source": [
    "max_val = val[0]\n",
    "for i in val:\n",
    "    if i > max_val:\n",
    "        max_val = i\n",
    "print(max_val)"
   ]
  },
  {
   "cell_type": "code",
   "execution_count": 152,
   "id": "af0d58b5",
   "metadata": {},
   "outputs": [
    {
     "name": "stdout",
     "output_type": "stream",
     "text": [
      "The highest count of values is 'False' which occurs 5 times\n"
     ]
    }
   ],
   "source": [
    "for m,n in hash_table.items():\n",
    "    if n == max_val:\n",
    "        print(f\"The highest count of values is '{m}' which occurs {n} times\")"
   ]
  },
  {
   "cell_type": "markdown",
   "id": "d7c4839c",
   "metadata": {},
   "source": [
    "## Functions "
   ]
  },
  {
   "cell_type": "code",
   "execution_count": 1,
   "id": "ebc38a3c",
   "metadata": {},
   "outputs": [
    {
     "name": "stdout",
     "output_type": "stream",
     "text": [
      "cindy\n"
     ]
    }
   ],
   "source": [
    "print(\"cindy\")"
   ]
  },
  {
   "cell_type": "code",
   "execution_count": 2,
   "id": "6d5e78ae",
   "metadata": {},
   "outputs": [
    {
     "name": "stdout",
     "output_type": "stream",
     "text": [
      "cindy\n"
     ]
    }
   ],
   "source": [
    "def name_val():\n",
    "    return \"cindy\"\n",
    "\n",
    "print(name_val())"
   ]
  },
  {
   "cell_type": "code",
   "execution_count": 3,
   "id": "2067cc67",
   "metadata": {},
   "outputs": [
    {
     "name": "stdout",
     "output_type": "stream",
     "text": [
      "cindy\n"
     ]
    }
   ],
   "source": [
    "def name_val(name):\n",
    "    return name\n",
    "\n",
    "print(name_val(\"cindy\"))"
   ]
  },
  {
   "cell_type": "code",
   "execution_count": 3,
   "id": "0f9d8ad2",
   "metadata": {},
   "outputs": [
    {
     "ename": "NameError",
     "evalue": "name 'time' is not defined",
     "output_type": "error",
     "traceback": [
      "\u001b[1;31m---------------------------------------------------------------------------\u001b[0m",
      "\u001b[1;31mNameError\u001b[0m                                 Traceback (most recent call last)",
      "\u001b[1;32m~\\AppData\\Local\\Temp\\ipykernel_9780\\1540327403.py\u001b[0m in \u001b[0;36m<module>\u001b[1;34m\u001b[0m\n\u001b[1;32m----> 1\u001b[1;33m \u001b[0ma\u001b[0m \u001b[1;33m=\u001b[0m \u001b[0mvelocity\u001b[0m\u001b[1;33m/\u001b[0m\u001b[0mtime\u001b[0m\u001b[1;33m\u001b[0m\u001b[1;33m\u001b[0m\u001b[0m\n\u001b[0m\u001b[0;32m      2\u001b[0m \u001b[0mvelocity\u001b[0m \u001b[1;33m=\u001b[0m \u001b[0md\u001b[0m\u001b[1;33m/\u001b[0m\u001b[0mt\u001b[0m\u001b[1;33m\u001b[0m\u001b[1;33m\u001b[0m\u001b[0m\n",
      "\u001b[1;31mNameError\u001b[0m: name 'time' is not defined"
     ]
    }
   ],
   "source": [
    "a = velocity/time\n",
    "velocity = d/t"
   ]
  },
  {
   "cell_type": "code",
   "execution_count": 2,
   "id": "dd3f8f0c",
   "metadata": {},
   "outputs": [
    {
     "name": "stdout",
     "output_type": "stream",
     "text": [
      "10.0\n"
     ]
    }
   ],
   "source": [
    "def velocity(d, t):\n",
    "    vel = d/t\n",
    "    return vel\n",
    "\n",
    "velocity = velocity(200, 20)\n",
    "print(velocity)"
   ]
  },
  {
   "cell_type": "code",
   "execution_count": 6,
   "id": "849f28c2",
   "metadata": {},
   "outputs": [
    {
     "name": "stdout",
     "output_type": "stream",
     "text": [
      "2.0\n"
     ]
    }
   ],
   "source": [
    "def accel(vel, t):\n",
    "    acc = vel/t\n",
    "    return acc\n",
    "\n",
    "accel = accel(velocity, 5)\n",
    "print(accel)"
   ]
  },
  {
   "cell_type": "code",
   "execution_count": 8,
   "id": "4fc9ae9b",
   "metadata": {},
   "outputs": [
    {
     "name": "stdout",
     "output_type": "stream",
     "text": [
      "10.0\n",
      "0.6666666666666666\n",
      "33.33333333333333\n"
     ]
    }
   ],
   "source": [
    "def force_val(mass, acc):\n",
    "    f = mass * acc\n",
    "    return f\n",
    "\n",
    "velocity = velocity(200, 20)\n",
    "accl = accel(velocity, 15)\n",
    "force = force_val(50, accl)\n",
    "print(velocity)\n",
    "print(accl)\n",
    "print(force)"
   ]
  },
  {
   "cell_type": "code",
   "execution_count": 74,
   "id": "db1b0e9b",
   "metadata": {},
   "outputs": [
    {
     "name": "stdout",
     "output_type": "stream",
     "text": [
      "{20: 4, 14: 2, 'emma': 2, True: 1}\n",
      "[4, 2, 2, 1]\n",
      "4\n",
      "20\n"
     ]
    }
   ],
   "source": [
    "def count_array(array_val):\n",
    "    dict_arr = {}\n",
    "    for i in array_val:\n",
    "        dict_arr[i] = dict_arr.get(i, 0) + 1\n",
    "    return dict_arr\n",
    "\n",
    "def get_values(dict_arr):\n",
    "    vals = []\n",
    "    for a, b in dict_arr.items():\n",
    "        vals.append(b)\n",
    "    return vals\n",
    "\n",
    "def max_vals_func(vals):\n",
    "    b = vals[0]\n",
    "    for i in vals:\n",
    "        if i > b:\n",
    "            b = i\n",
    "    return b\n",
    "\n",
    "def compare_array(dict_arr, b):\n",
    "    for l, n in dict_arr.items():\n",
    "        if n == b:\n",
    "            return l\n",
    "\n",
    "new_val = [20, 14, 20, \"emma\", 20, 14, True, \"emma\", 20]\n",
    "arr_g = [False, False, 8, 15, 8, 9, 8, 15, 8, False]\n",
    "\n",
    "x = count_array(new_val)\n",
    "k = get_values(x)\n",
    "max_t = max_vals_func(k)\n",
    "final_ans = compare_array(x, max_t)\n",
    "print(x)\n",
    "print(k)\n",
    "print(max_t)\n",
    "print(final_ans)"
   ]
  },
  {
   "cell_type": "markdown",
   "id": "ca303a7e",
   "metadata": {},
   "source": [
    "\n",
    "### DataFrames"
   ]
  },
  {
   "cell_type": "code",
   "execution_count": 12,
   "id": "612f882d",
   "metadata": {},
   "outputs": [
    {
     "name": "stdout",
     "output_type": "stream",
     "text": [
      "[5, 10, 15, 20]\n"
     ]
    }
   ],
   "source": [
    "arr = [5, 10, 15, 20]\n",
    "print(arr)"
   ]
  },
  {
   "cell_type": "code",
   "execution_count": 77,
   "id": "43ddf828",
   "metadata": {},
   "outputs": [
    {
     "name": "stdout",
     "output_type": "stream",
     "text": [
      "[[30, 19, 17, 18], ['a', 'b', 'c', 'd'], [10, 20, 30, 40], [8, 9, 10, 11]]\n"
     ]
    }
   ],
   "source": [
    "dt = [[30, 19, 17, 18], [\"a\", \"b\", \"c\", \"d\"], [10, 20, 30, 40], [8, 9, 10, 11]]\n",
    "print(dt)"
   ]
  },
  {
   "cell_type": "code",
   "execution_count": 86,
   "id": "be847c8a",
   "metadata": {},
   "outputs": [
    {
     "data": {
      "text/html": [
       "<div>\n",
       "<style scoped>\n",
       "    .dataframe tbody tr th:only-of-type {\n",
       "        vertical-align: middle;\n",
       "    }\n",
       "\n",
       "    .dataframe tbody tr th {\n",
       "        vertical-align: top;\n",
       "    }\n",
       "\n",
       "    .dataframe thead th {\n",
       "        text-align: right;\n",
       "    }\n",
       "</style>\n",
       "<table border=\"1\" class=\"dataframe\">\n",
       "  <thead>\n",
       "    <tr style=\"text-align: right;\">\n",
       "      <th></th>\n",
       "      <th>a</th>\n",
       "      <th>b</th>\n",
       "      <th>c</th>\n",
       "      <th>d</th>\n",
       "    </tr>\n",
       "  </thead>\n",
       "  <tbody>\n",
       "    <tr>\n",
       "      <th>1</th>\n",
       "      <td>10</td>\n",
       "      <td>20</td>\n",
       "      <td>30</td>\n",
       "      <td>40</td>\n",
       "    </tr>\n",
       "    <tr>\n",
       "      <th>2</th>\n",
       "      <td>8</td>\n",
       "      <td>9</td>\n",
       "      <td>10</td>\n",
       "      <td>11</td>\n",
       "    </tr>\n",
       "  </tbody>\n",
       "</table>\n",
       "</div>"
      ],
      "text/plain": [
       "    a   b   c   d\n",
       "1  10  20  30  40\n",
       "2   8   9  10  11"
      ]
     },
     "execution_count": 86,
     "metadata": {},
     "output_type": "execute_result"
    }
   ],
   "source": [
    "import pandas as pd\n",
    "df = pd.DataFrame(dt[1:], columns=dt[1])\n",
    "df = df.drop(0)\n",
    "df"
   ]
  },
  {
   "cell_type": "code",
   "execution_count": 90,
   "id": "7dd6f070",
   "metadata": {},
   "outputs": [
    {
     "data": {
      "text/html": [
       "<div>\n",
       "<style scoped>\n",
       "    .dataframe tbody tr th:only-of-type {\n",
       "        vertical-align: middle;\n",
       "    }\n",
       "\n",
       "    .dataframe tbody tr th {\n",
       "        vertical-align: top;\n",
       "    }\n",
       "\n",
       "    .dataframe thead th {\n",
       "        text-align: right;\n",
       "    }\n",
       "</style>\n",
       "<table border=\"1\" class=\"dataframe\">\n",
       "  <thead>\n",
       "    <tr style=\"text-align: right;\">\n",
       "      <th></th>\n",
       "      <th>index</th>\n",
       "      <th>a</th>\n",
       "      <th>b</th>\n",
       "      <th>c</th>\n",
       "    </tr>\n",
       "  </thead>\n",
       "  <tbody>\n",
       "    <tr>\n",
       "      <th>0</th>\n",
       "      <td>1</td>\n",
       "      <td>10</td>\n",
       "      <td>20</td>\n",
       "      <td>30</td>\n",
       "    </tr>\n",
       "    <tr>\n",
       "      <th>1</th>\n",
       "      <td>2</td>\n",
       "      <td>8</td>\n",
       "      <td>9</td>\n",
       "      <td>10</td>\n",
       "    </tr>\n",
       "  </tbody>\n",
       "</table>\n",
       "</div>"
      ],
      "text/plain": [
       "   index   a   b   c\n",
       "0      1  10  20  30\n",
       "1      2   8   9  10"
      ]
     },
     "execution_count": 90,
     "metadata": {},
     "output_type": "execute_result"
    }
   ],
   "source": [
    "a_df = df.drop('d', axis=1)\n",
    "new_df = a_df.reset_index()\n",
    "new_df"
   ]
  },
  {
   "cell_type": "code",
   "execution_count": 51,
   "id": "8bc14a98",
   "metadata": {},
   "outputs": [
    {
     "data": {
      "text/html": [
       "<div>\n",
       "<style scoped>\n",
       "    .dataframe tbody tr th:only-of-type {\n",
       "        vertical-align: middle;\n",
       "    }\n",
       "\n",
       "    .dataframe tbody tr th {\n",
       "        vertical-align: top;\n",
       "    }\n",
       "\n",
       "    .dataframe thead th {\n",
       "        text-align: right;\n",
       "    }\n",
       "</style>\n",
       "<table border=\"1\" class=\"dataframe\">\n",
       "  <thead>\n",
       "    <tr style=\"text-align: right;\">\n",
       "      <th></th>\n",
       "      <th>a</th>\n",
       "      <th>b</th>\n",
       "      <th>c</th>\n",
       "    </tr>\n",
       "  </thead>\n",
       "  <tbody>\n",
       "    <tr>\n",
       "      <th>0</th>\n",
       "      <td>10</td>\n",
       "      <td>20</td>\n",
       "      <td>30</td>\n",
       "    </tr>\n",
       "    <tr>\n",
       "      <th>1</th>\n",
       "      <td>8</td>\n",
       "      <td>9</td>\n",
       "      <td>10</td>\n",
       "    </tr>\n",
       "  </tbody>\n",
       "</table>\n",
       "</div>"
      ],
      "text/plain": [
       "    a   b   c\n",
       "0  10  20  30\n",
       "1   8   9  10"
      ]
     },
     "execution_count": 51,
     "metadata": {},
     "output_type": "execute_result"
    }
   ],
   "source": [
    "new_df = new_df.drop('index', axis=1)\n",
    "new_df"
   ]
  },
  {
   "cell_type": "code",
   "execution_count": 40,
   "id": "98f20756",
   "metadata": {},
   "outputs": [
    {
     "data": {
      "text/plain": [
       "array([20, 9], dtype=object)"
      ]
     },
     "execution_count": 40,
     "metadata": {},
     "output_type": "execute_result"
    }
   ],
   "source": [
    "a_df['b'].values"
   ]
  },
  {
   "cell_type": "code",
   "execution_count": 41,
   "id": "92b11e4b",
   "metadata": {},
   "outputs": [
    {
     "data": {
      "text/plain": [
       "array([10, 20, 30], dtype=object)"
      ]
     },
     "execution_count": 41,
     "metadata": {},
     "output_type": "execute_result"
    }
   ],
   "source": [
    "a_df.iloc[0].values"
   ]
  },
  {
   "cell_type": "code",
   "execution_count": 75,
   "id": "9ab61411",
   "metadata": {},
   "outputs": [
    {
     "data": {
      "text/html": [
       "<div>\n",
       "<style scoped>\n",
       "    .dataframe tbody tr th:only-of-type {\n",
       "        vertical-align: middle;\n",
       "    }\n",
       "\n",
       "    .dataframe tbody tr th {\n",
       "        vertical-align: top;\n",
       "    }\n",
       "\n",
       "    .dataframe thead th {\n",
       "        text-align: right;\n",
       "    }\n",
       "</style>\n",
       "<table border=\"1\" class=\"dataframe\">\n",
       "  <thead>\n",
       "    <tr style=\"text-align: right;\">\n",
       "      <th></th>\n",
       "      <th>a</th>\n",
       "      <th>b</th>\n",
       "      <th>c</th>\n",
       "      <th>d</th>\n",
       "    </tr>\n",
       "  </thead>\n",
       "  <tbody>\n",
       "    <tr>\n",
       "      <th>1</th>\n",
       "      <td>10</td>\n",
       "      <td>20</td>\n",
       "      <td>30</td>\n",
       "      <td>40</td>\n",
       "    </tr>\n",
       "    <tr>\n",
       "      <th>2</th>\n",
       "      <td>8</td>\n",
       "      <td>9</td>\n",
       "      <td>10</td>\n",
       "      <td>11</td>\n",
       "    </tr>\n",
       "  </tbody>\n",
       "</table>\n",
       "</div>"
      ],
      "text/plain": [
       "    a   b   c   d\n",
       "1  10  20  30  40\n",
       "2   8   9  10  11"
      ]
     },
     "execution_count": 75,
     "metadata": {},
     "output_type": "execute_result"
    }
   ],
   "source": [
    "df"
   ]
  },
  {
   "cell_type": "code",
   "execution_count": 179,
   "id": "fac07118",
   "metadata": {},
   "outputs": [
    {
     "data": {
      "text/html": [
       "<div>\n",
       "<style scoped>\n",
       "    .dataframe tbody tr th:only-of-type {\n",
       "        vertical-align: middle;\n",
       "    }\n",
       "\n",
       "    .dataframe tbody tr th {\n",
       "        vertical-align: top;\n",
       "    }\n",
       "\n",
       "    .dataframe thead th {\n",
       "        text-align: right;\n",
       "    }\n",
       "</style>\n",
       "<table border=\"1\" class=\"dataframe\">\n",
       "  <thead>\n",
       "    <tr style=\"text-align: right;\">\n",
       "      <th></th>\n",
       "      <th>id</th>\n",
       "      <th>name</th>\n",
       "      <th>credit_score</th>\n",
       "    </tr>\n",
       "  </thead>\n",
       "  <tbody>\n",
       "    <tr>\n",
       "      <th>0</th>\n",
       "      <td>1001</td>\n",
       "      <td>kate</td>\n",
       "      <td>102</td>\n",
       "    </tr>\n",
       "    <tr>\n",
       "      <th>1</th>\n",
       "      <td>1002</td>\n",
       "      <td>mark</td>\n",
       "      <td>105</td>\n",
       "    </tr>\n",
       "    <tr>\n",
       "      <th>2</th>\n",
       "      <td>1003</td>\n",
       "      <td>janeth</td>\n",
       "      <td>97</td>\n",
       "    </tr>\n",
       "  </tbody>\n",
       "</table>\n",
       "</div>"
      ],
      "text/plain": [
       "     id    name credit_score\n",
       "0  1001    kate          102\n",
       "1  1002    mark          105\n",
       "2  1003  janeth           97"
      ]
     },
     "execution_count": 179,
     "metadata": {},
     "output_type": "execute_result"
    }
   ],
   "source": [
    "id_info = [[1001, 1002, 1003], ['kate', 'mark', 'janeth'], [102, 105, 97]]\n",
    "data_df = pd.DataFrame(id_info).T\n",
    "data_df.columns = [\"id\", \"name\", \"credit_score\"]\n",
    "data_df"
   ]
  },
  {
   "cell_type": "code",
   "execution_count": 65,
   "id": "6c328467",
   "metadata": {},
   "outputs": [
    {
     "data": {
      "text/html": [
       "<div>\n",
       "<style scoped>\n",
       "    .dataframe tbody tr th:only-of-type {\n",
       "        vertical-align: middle;\n",
       "    }\n",
       "\n",
       "    .dataframe tbody tr th {\n",
       "        vertical-align: top;\n",
       "    }\n",
       "\n",
       "    .dataframe thead th {\n",
       "        text-align: right;\n",
       "    }\n",
       "</style>\n",
       "<table border=\"1\" class=\"dataframe\">\n",
       "  <thead>\n",
       "    <tr style=\"text-align: right;\">\n",
       "      <th></th>\n",
       "      <th>id</th>\n",
       "      <th>payment_info</th>\n",
       "    </tr>\n",
       "  </thead>\n",
       "  <tbody>\n",
       "    <tr>\n",
       "      <th>0</th>\n",
       "      <td>1002</td>\n",
       "      <td>paid</td>\n",
       "    </tr>\n",
       "    <tr>\n",
       "      <th>1</th>\n",
       "      <td>1001</td>\n",
       "      <td>pending</td>\n",
       "    </tr>\n",
       "    <tr>\n",
       "      <th>2</th>\n",
       "      <td>1003</td>\n",
       "      <td>reversed</td>\n",
       "    </tr>\n",
       "  </tbody>\n",
       "</table>\n",
       "</div>"
      ],
      "text/plain": [
       "     id payment_info\n",
       "0  1002         paid\n",
       "1  1001      pending\n",
       "2  1003     reversed"
      ]
     },
     "execution_count": 65,
     "metadata": {},
     "output_type": "execute_result"
    }
   ],
   "source": [
    "arr_dict = {\"id\":[1002, 1001, 1003],\n",
    "           \"payment_info\": [\"paid\", \"pending\", \"reversed\"]}\n",
    "df_data = pd.DataFrame(arr_dict)\n",
    "df_data"
   ]
  },
  {
   "cell_type": "code",
   "execution_count": 55,
   "id": "fdbac3ad",
   "metadata": {},
   "outputs": [
    {
     "data": {
      "text/html": [
       "<div>\n",
       "<style scoped>\n",
       "    .dataframe tbody tr th:only-of-type {\n",
       "        vertical-align: middle;\n",
       "    }\n",
       "\n",
       "    .dataframe tbody tr th {\n",
       "        vertical-align: top;\n",
       "    }\n",
       "\n",
       "    .dataframe thead th {\n",
       "        text-align: right;\n",
       "    }\n",
       "</style>\n",
       "<table border=\"1\" class=\"dataframe\">\n",
       "  <thead>\n",
       "    <tr style=\"text-align: right;\">\n",
       "      <th></th>\n",
       "      <th>id</th>\n",
       "      <th>name</th>\n",
       "      <th>credit_score</th>\n",
       "      <th>payment_info</th>\n",
       "    </tr>\n",
       "  </thead>\n",
       "  <tbody>\n",
       "    <tr>\n",
       "      <th>0</th>\n",
       "      <td>1001</td>\n",
       "      <td>kate</td>\n",
       "      <td>102</td>\n",
       "      <td>pending</td>\n",
       "    </tr>\n",
       "    <tr>\n",
       "      <th>1</th>\n",
       "      <td>1002</td>\n",
       "      <td>mark</td>\n",
       "      <td>105</td>\n",
       "      <td>paid</td>\n",
       "    </tr>\n",
       "    <tr>\n",
       "      <th>2</th>\n",
       "      <td>1003</td>\n",
       "      <td>janeth</td>\n",
       "      <td>97</td>\n",
       "      <td>reversed</td>\n",
       "    </tr>\n",
       "  </tbody>\n",
       "</table>\n",
       "</div>"
      ],
      "text/plain": [
       "     id    name credit_score payment_info\n",
       "0  1001    kate          102      pending\n",
       "1  1002    mark          105         paid\n",
       "2  1003  janeth           97     reversed"
      ]
     },
     "execution_count": 55,
     "metadata": {},
     "output_type": "execute_result"
    }
   ],
   "source": [
    "merged_data = pd.merge(data_df, df_data, on = \"id\")\n",
    "merged_data"
   ]
  },
  {
   "cell_type": "code",
   "execution_count": 64,
   "id": "58d25570",
   "metadata": {},
   "outputs": [
    {
     "data": {
      "text/html": [
       "<div>\n",
       "<style scoped>\n",
       "    .dataframe tbody tr th:only-of-type {\n",
       "        vertical-align: middle;\n",
       "    }\n",
       "\n",
       "    .dataframe tbody tr th {\n",
       "        vertical-align: top;\n",
       "    }\n",
       "\n",
       "    .dataframe thead th {\n",
       "        text-align: right;\n",
       "    }\n",
       "</style>\n",
       "<table border=\"1\" class=\"dataframe\">\n",
       "  <thead>\n",
       "    <tr style=\"text-align: right;\">\n",
       "      <th></th>\n",
       "      <th>id</th>\n",
       "      <th>payment_info</th>\n",
       "    </tr>\n",
       "  </thead>\n",
       "  <tbody>\n",
       "    <tr>\n",
       "      <th>0</th>\n",
       "      <td>1004</td>\n",
       "      <td>paid fully</td>\n",
       "    </tr>\n",
       "    <tr>\n",
       "      <th>1</th>\n",
       "      <td>1005</td>\n",
       "      <td>pending</td>\n",
       "    </tr>\n",
       "    <tr>\n",
       "      <th>2</th>\n",
       "      <td>1006</td>\n",
       "      <td>loaned</td>\n",
       "    </tr>\n",
       "  </tbody>\n",
       "</table>\n",
       "</div>"
      ],
      "text/plain": [
       "     id payment_info\n",
       "0  1004   paid fully\n",
       "1  1005      pending\n",
       "2  1006       loaned"
      ]
     },
     "execution_count": 64,
     "metadata": {},
     "output_type": "execute_result"
    }
   ],
   "source": [
    "dt = {\"id\":[1004, 1005, 1006],\n",
    "     \"payment_info\": [\"paid fully\", \"pending\", \"loaned\"]}\n",
    "df_dt = pd.DataFrame(dt)\n",
    "df_dt"
   ]
  },
  {
   "cell_type": "code",
   "execution_count": 58,
   "id": "84fc7f9f",
   "metadata": {},
   "outputs": [
    {
     "name": "stderr",
     "output_type": "stream",
     "text": [
      "C:\\Users\\AS\\AppData\\Local\\Temp\\ipykernel_14100\\3145957713.py:1: FutureWarning: The frame.append method is deprecated and will be removed from pandas in a future version. Use pandas.concat instead.\n",
      "  my_df = df_data.append(df_dt)\n"
     ]
    },
    {
     "data": {
      "text/html": [
       "<div>\n",
       "<style scoped>\n",
       "    .dataframe tbody tr th:only-of-type {\n",
       "        vertical-align: middle;\n",
       "    }\n",
       "\n",
       "    .dataframe tbody tr th {\n",
       "        vertical-align: top;\n",
       "    }\n",
       "\n",
       "    .dataframe thead th {\n",
       "        text-align: right;\n",
       "    }\n",
       "</style>\n",
       "<table border=\"1\" class=\"dataframe\">\n",
       "  <thead>\n",
       "    <tr style=\"text-align: right;\">\n",
       "      <th></th>\n",
       "      <th>id</th>\n",
       "      <th>payment_info</th>\n",
       "    </tr>\n",
       "  </thead>\n",
       "  <tbody>\n",
       "    <tr>\n",
       "      <th>0</th>\n",
       "      <td>1002</td>\n",
       "      <td>paid</td>\n",
       "    </tr>\n",
       "    <tr>\n",
       "      <th>1</th>\n",
       "      <td>1001</td>\n",
       "      <td>pending</td>\n",
       "    </tr>\n",
       "    <tr>\n",
       "      <th>2</th>\n",
       "      <td>1003</td>\n",
       "      <td>reversed</td>\n",
       "    </tr>\n",
       "    <tr>\n",
       "      <th>0</th>\n",
       "      <td>1004</td>\n",
       "      <td>paid fully</td>\n",
       "    </tr>\n",
       "    <tr>\n",
       "      <th>1</th>\n",
       "      <td>1005</td>\n",
       "      <td>pending</td>\n",
       "    </tr>\n",
       "    <tr>\n",
       "      <th>2</th>\n",
       "      <td>1006</td>\n",
       "      <td>loaned</td>\n",
       "    </tr>\n",
       "  </tbody>\n",
       "</table>\n",
       "</div>"
      ],
      "text/plain": [
       "     id payment_info\n",
       "0  1002         paid\n",
       "1  1001      pending\n",
       "2  1003     reversed\n",
       "0  1004   paid fully\n",
       "1  1005      pending\n",
       "2  1006       loaned"
      ]
     },
     "execution_count": 58,
     "metadata": {},
     "output_type": "execute_result"
    }
   ],
   "source": [
    "my_df = df_data.append(df_dt)\n",
    "my_df"
   ]
  },
  {
   "cell_type": "code",
   "execution_count": 60,
   "id": "109bef5d",
   "metadata": {},
   "outputs": [
    {
     "data": {
      "text/html": [
       "<div>\n",
       "<style scoped>\n",
       "    .dataframe tbody tr th:only-of-type {\n",
       "        vertical-align: middle;\n",
       "    }\n",
       "\n",
       "    .dataframe tbody tr th {\n",
       "        vertical-align: top;\n",
       "    }\n",
       "\n",
       "    .dataframe thead th {\n",
       "        text-align: right;\n",
       "    }\n",
       "</style>\n",
       "<table border=\"1\" class=\"dataframe\">\n",
       "  <thead>\n",
       "    <tr style=\"text-align: right;\">\n",
       "      <th></th>\n",
       "      <th>id</th>\n",
       "      <th>name</th>\n",
       "      <th>credit_score</th>\n",
       "      <th>id</th>\n",
       "      <th>payment_info</th>\n",
       "    </tr>\n",
       "  </thead>\n",
       "  <tbody>\n",
       "    <tr>\n",
       "      <th>0</th>\n",
       "      <td>1001</td>\n",
       "      <td>kate</td>\n",
       "      <td>102</td>\n",
       "      <td>1002</td>\n",
       "      <td>paid</td>\n",
       "    </tr>\n",
       "    <tr>\n",
       "      <th>1</th>\n",
       "      <td>1002</td>\n",
       "      <td>mark</td>\n",
       "      <td>105</td>\n",
       "      <td>1001</td>\n",
       "      <td>pending</td>\n",
       "    </tr>\n",
       "    <tr>\n",
       "      <th>2</th>\n",
       "      <td>1003</td>\n",
       "      <td>janeth</td>\n",
       "      <td>97</td>\n",
       "      <td>1003</td>\n",
       "      <td>reversed</td>\n",
       "    </tr>\n",
       "  </tbody>\n",
       "</table>\n",
       "</div>"
      ],
      "text/plain": [
       "     id    name credit_score    id payment_info\n",
       "0  1001    kate          102  1002         paid\n",
       "1  1002    mark          105  1001      pending\n",
       "2  1003  janeth           97  1003     reversed"
      ]
     },
     "execution_count": 60,
     "metadata": {},
     "output_type": "execute_result"
    }
   ],
   "source": [
    "concat_data = pd.concat([data_df, df_data], axis=1)\n",
    "concat_data"
   ]
  },
  {
   "cell_type": "markdown",
   "id": "3bfef1a3",
   "metadata": {},
   "source": [
    "### Python Data Manipulation libraries (Pandas and rumpy)."
   ]
  },
  {
   "cell_type": "code",
   "execution_count": 102,
   "id": "9c9cfec9",
   "metadata": {},
   "outputs": [],
   "source": [
    "import pandas as pd\n",
    "import numpy as np"
   ]
  },
  {
   "cell_type": "code",
   "execution_count": 103,
   "id": "42807d03",
   "metadata": {},
   "outputs": [],
   "source": [
    "data = \"Online Retail.xlsx\""
   ]
  },
  {
   "cell_type": "code",
   "execution_count": 104,
   "id": "43421fe9",
   "metadata": {},
   "outputs": [
    {
     "data": {
      "text/html": [
       "<div>\n",
       "<style scoped>\n",
       "    .dataframe tbody tr th:only-of-type {\n",
       "        vertical-align: middle;\n",
       "    }\n",
       "\n",
       "    .dataframe tbody tr th {\n",
       "        vertical-align: top;\n",
       "    }\n",
       "\n",
       "    .dataframe thead th {\n",
       "        text-align: right;\n",
       "    }\n",
       "</style>\n",
       "<table border=\"1\" class=\"dataframe\">\n",
       "  <thead>\n",
       "    <tr style=\"text-align: right;\">\n",
       "      <th></th>\n",
       "      <th>InvoiceNo</th>\n",
       "      <th>StockCode</th>\n",
       "      <th>Description</th>\n",
       "      <th>Quantity</th>\n",
       "      <th>InvoiceDate</th>\n",
       "      <th>UnitPrice</th>\n",
       "      <th>CustomerID</th>\n",
       "      <th>Country</th>\n",
       "    </tr>\n",
       "  </thead>\n",
       "  <tbody>\n",
       "    <tr>\n",
       "      <th>0</th>\n",
       "      <td>536365</td>\n",
       "      <td>85123A</td>\n",
       "      <td>WHITE HANGING HEART T-LIGHT HOLDER</td>\n",
       "      <td>6</td>\n",
       "      <td>2010-12-01 08:26:00</td>\n",
       "      <td>2.55</td>\n",
       "      <td>17850.0</td>\n",
       "      <td>United Kingdom</td>\n",
       "    </tr>\n",
       "    <tr>\n",
       "      <th>1</th>\n",
       "      <td>536365</td>\n",
       "      <td>71053</td>\n",
       "      <td>WHITE METAL LANTERN</td>\n",
       "      <td>6</td>\n",
       "      <td>2010-12-01 08:26:00</td>\n",
       "      <td>3.39</td>\n",
       "      <td>17850.0</td>\n",
       "      <td>United Kingdom</td>\n",
       "    </tr>\n",
       "    <tr>\n",
       "      <th>2</th>\n",
       "      <td>536365</td>\n",
       "      <td>84406B</td>\n",
       "      <td>CREAM CUPID HEARTS COAT HANGER</td>\n",
       "      <td>8</td>\n",
       "      <td>2010-12-01 08:26:00</td>\n",
       "      <td>2.75</td>\n",
       "      <td>17850.0</td>\n",
       "      <td>United Kingdom</td>\n",
       "    </tr>\n",
       "    <tr>\n",
       "      <th>3</th>\n",
       "      <td>536365</td>\n",
       "      <td>84029G</td>\n",
       "      <td>KNITTED UNION FLAG HOT WATER BOTTLE</td>\n",
       "      <td>6</td>\n",
       "      <td>2010-12-01 08:26:00</td>\n",
       "      <td>3.39</td>\n",
       "      <td>17850.0</td>\n",
       "      <td>United Kingdom</td>\n",
       "    </tr>\n",
       "    <tr>\n",
       "      <th>4</th>\n",
       "      <td>536365</td>\n",
       "      <td>84029E</td>\n",
       "      <td>RED WOOLLY HOTTIE WHITE HEART.</td>\n",
       "      <td>6</td>\n",
       "      <td>2010-12-01 08:26:00</td>\n",
       "      <td>3.39</td>\n",
       "      <td>17850.0</td>\n",
       "      <td>United Kingdom</td>\n",
       "    </tr>\n",
       "    <tr>\n",
       "      <th>5</th>\n",
       "      <td>536365</td>\n",
       "      <td>22752</td>\n",
       "      <td>SET 7 BABUSHKA NESTING BOXES</td>\n",
       "      <td>2</td>\n",
       "      <td>2010-12-01 08:26:00</td>\n",
       "      <td>7.65</td>\n",
       "      <td>17850.0</td>\n",
       "      <td>United Kingdom</td>\n",
       "    </tr>\n",
       "    <tr>\n",
       "      <th>6</th>\n",
       "      <td>536365</td>\n",
       "      <td>21730</td>\n",
       "      <td>GLASS STAR FROSTED T-LIGHT HOLDER</td>\n",
       "      <td>6</td>\n",
       "      <td>2010-12-01 08:26:00</td>\n",
       "      <td>4.25</td>\n",
       "      <td>17850.0</td>\n",
       "      <td>United Kingdom</td>\n",
       "    </tr>\n",
       "    <tr>\n",
       "      <th>7</th>\n",
       "      <td>536366</td>\n",
       "      <td>22633</td>\n",
       "      <td>HAND WARMER UNION JACK</td>\n",
       "      <td>6</td>\n",
       "      <td>2010-12-01 08:28:00</td>\n",
       "      <td>1.85</td>\n",
       "      <td>17850.0</td>\n",
       "      <td>United Kingdom</td>\n",
       "    </tr>\n",
       "    <tr>\n",
       "      <th>8</th>\n",
       "      <td>536366</td>\n",
       "      <td>22632</td>\n",
       "      <td>HAND WARMER RED POLKA DOT</td>\n",
       "      <td>6</td>\n",
       "      <td>2010-12-01 08:28:00</td>\n",
       "      <td>1.85</td>\n",
       "      <td>17850.0</td>\n",
       "      <td>United Kingdom</td>\n",
       "    </tr>\n",
       "    <tr>\n",
       "      <th>9</th>\n",
       "      <td>536367</td>\n",
       "      <td>84879</td>\n",
       "      <td>ASSORTED COLOUR BIRD ORNAMENT</td>\n",
       "      <td>32</td>\n",
       "      <td>2010-12-01 08:34:00</td>\n",
       "      <td>1.69</td>\n",
       "      <td>13047.0</td>\n",
       "      <td>United Kingdom</td>\n",
       "    </tr>\n",
       "    <tr>\n",
       "      <th>10</th>\n",
       "      <td>536367</td>\n",
       "      <td>22745</td>\n",
       "      <td>POPPY'S PLAYHOUSE BEDROOM</td>\n",
       "      <td>6</td>\n",
       "      <td>2010-12-01 08:34:00</td>\n",
       "      <td>2.10</td>\n",
       "      <td>13047.0</td>\n",
       "      <td>United Kingdom</td>\n",
       "    </tr>\n",
       "    <tr>\n",
       "      <th>11</th>\n",
       "      <td>536367</td>\n",
       "      <td>22748</td>\n",
       "      <td>POPPY'S PLAYHOUSE KITCHEN</td>\n",
       "      <td>6</td>\n",
       "      <td>2010-12-01 08:34:00</td>\n",
       "      <td>2.10</td>\n",
       "      <td>13047.0</td>\n",
       "      <td>United Kingdom</td>\n",
       "    </tr>\n",
       "    <tr>\n",
       "      <th>12</th>\n",
       "      <td>536367</td>\n",
       "      <td>22749</td>\n",
       "      <td>FELTCRAFT PRINCESS CHARLOTTE DOLL</td>\n",
       "      <td>8</td>\n",
       "      <td>2010-12-01 08:34:00</td>\n",
       "      <td>3.75</td>\n",
       "      <td>13047.0</td>\n",
       "      <td>United Kingdom</td>\n",
       "    </tr>\n",
       "    <tr>\n",
       "      <th>13</th>\n",
       "      <td>536367</td>\n",
       "      <td>22310</td>\n",
       "      <td>IVORY KNITTED MUG COSY</td>\n",
       "      <td>6</td>\n",
       "      <td>2010-12-01 08:34:00</td>\n",
       "      <td>1.65</td>\n",
       "      <td>13047.0</td>\n",
       "      <td>United Kingdom</td>\n",
       "    </tr>\n",
       "    <tr>\n",
       "      <th>14</th>\n",
       "      <td>536367</td>\n",
       "      <td>84969</td>\n",
       "      <td>BOX OF 6 ASSORTED COLOUR TEASPOONS</td>\n",
       "      <td>6</td>\n",
       "      <td>2010-12-01 08:34:00</td>\n",
       "      <td>4.25</td>\n",
       "      <td>13047.0</td>\n",
       "      <td>United Kingdom</td>\n",
       "    </tr>\n",
       "    <tr>\n",
       "      <th>15</th>\n",
       "      <td>536367</td>\n",
       "      <td>22623</td>\n",
       "      <td>BOX OF VINTAGE JIGSAW BLOCKS</td>\n",
       "      <td>3</td>\n",
       "      <td>2010-12-01 08:34:00</td>\n",
       "      <td>4.95</td>\n",
       "      <td>13047.0</td>\n",
       "      <td>United Kingdom</td>\n",
       "    </tr>\n",
       "    <tr>\n",
       "      <th>16</th>\n",
       "      <td>536367</td>\n",
       "      <td>22622</td>\n",
       "      <td>BOX OF VINTAGE ALPHABET BLOCKS</td>\n",
       "      <td>2</td>\n",
       "      <td>2010-12-01 08:34:00</td>\n",
       "      <td>9.95</td>\n",
       "      <td>13047.0</td>\n",
       "      <td>United Kingdom</td>\n",
       "    </tr>\n",
       "    <tr>\n",
       "      <th>17</th>\n",
       "      <td>536367</td>\n",
       "      <td>21754</td>\n",
       "      <td>HOME BUILDING BLOCK WORD</td>\n",
       "      <td>3</td>\n",
       "      <td>2010-12-01 08:34:00</td>\n",
       "      <td>5.95</td>\n",
       "      <td>13047.0</td>\n",
       "      <td>United Kingdom</td>\n",
       "    </tr>\n",
       "    <tr>\n",
       "      <th>18</th>\n",
       "      <td>536367</td>\n",
       "      <td>21755</td>\n",
       "      <td>LOVE BUILDING BLOCK WORD</td>\n",
       "      <td>3</td>\n",
       "      <td>2010-12-01 08:34:00</td>\n",
       "      <td>5.95</td>\n",
       "      <td>13047.0</td>\n",
       "      <td>United Kingdom</td>\n",
       "    </tr>\n",
       "    <tr>\n",
       "      <th>19</th>\n",
       "      <td>536367</td>\n",
       "      <td>21777</td>\n",
       "      <td>RECIPE BOX WITH METAL HEART</td>\n",
       "      <td>4</td>\n",
       "      <td>2010-12-01 08:34:00</td>\n",
       "      <td>7.95</td>\n",
       "      <td>13047.0</td>\n",
       "      <td>United Kingdom</td>\n",
       "    </tr>\n",
       "    <tr>\n",
       "      <th>20</th>\n",
       "      <td>536367</td>\n",
       "      <td>48187</td>\n",
       "      <td>DOORMAT NEW ENGLAND</td>\n",
       "      <td>4</td>\n",
       "      <td>2010-12-01 08:34:00</td>\n",
       "      <td>7.95</td>\n",
       "      <td>13047.0</td>\n",
       "      <td>United Kingdom</td>\n",
       "    </tr>\n",
       "    <tr>\n",
       "      <th>21</th>\n",
       "      <td>536368</td>\n",
       "      <td>22960</td>\n",
       "      <td>JAM MAKING SET WITH JARS</td>\n",
       "      <td>6</td>\n",
       "      <td>2010-12-01 08:34:00</td>\n",
       "      <td>4.25</td>\n",
       "      <td>13047.0</td>\n",
       "      <td>United Kingdom</td>\n",
       "    </tr>\n",
       "    <tr>\n",
       "      <th>22</th>\n",
       "      <td>536368</td>\n",
       "      <td>22913</td>\n",
       "      <td>RED COAT RACK PARIS FASHION</td>\n",
       "      <td>3</td>\n",
       "      <td>2010-12-01 08:34:00</td>\n",
       "      <td>4.95</td>\n",
       "      <td>13047.0</td>\n",
       "      <td>United Kingdom</td>\n",
       "    </tr>\n",
       "    <tr>\n",
       "      <th>23</th>\n",
       "      <td>536368</td>\n",
       "      <td>22912</td>\n",
       "      <td>YELLOW COAT RACK PARIS FASHION</td>\n",
       "      <td>3</td>\n",
       "      <td>2010-12-01 08:34:00</td>\n",
       "      <td>4.95</td>\n",
       "      <td>13047.0</td>\n",
       "      <td>United Kingdom</td>\n",
       "    </tr>\n",
       "    <tr>\n",
       "      <th>24</th>\n",
       "      <td>536368</td>\n",
       "      <td>22914</td>\n",
       "      <td>BLUE COAT RACK PARIS FASHION</td>\n",
       "      <td>3</td>\n",
       "      <td>2010-12-01 08:34:00</td>\n",
       "      <td>4.95</td>\n",
       "      <td>13047.0</td>\n",
       "      <td>United Kingdom</td>\n",
       "    </tr>\n",
       "    <tr>\n",
       "      <th>25</th>\n",
       "      <td>536369</td>\n",
       "      <td>21756</td>\n",
       "      <td>BATH BUILDING BLOCK WORD</td>\n",
       "      <td>3</td>\n",
       "      <td>2010-12-01 08:35:00</td>\n",
       "      <td>5.95</td>\n",
       "      <td>13047.0</td>\n",
       "      <td>United Kingdom</td>\n",
       "    </tr>\n",
       "    <tr>\n",
       "      <th>26</th>\n",
       "      <td>536370</td>\n",
       "      <td>22728</td>\n",
       "      <td>ALARM CLOCK BAKELIKE PINK</td>\n",
       "      <td>24</td>\n",
       "      <td>2010-12-01 08:45:00</td>\n",
       "      <td>3.75</td>\n",
       "      <td>12583.0</td>\n",
       "      <td>France</td>\n",
       "    </tr>\n",
       "    <tr>\n",
       "      <th>27</th>\n",
       "      <td>536370</td>\n",
       "      <td>22727</td>\n",
       "      <td>ALARM CLOCK BAKELIKE RED</td>\n",
       "      <td>24</td>\n",
       "      <td>2010-12-01 08:45:00</td>\n",
       "      <td>3.75</td>\n",
       "      <td>12583.0</td>\n",
       "      <td>France</td>\n",
       "    </tr>\n",
       "    <tr>\n",
       "      <th>28</th>\n",
       "      <td>536370</td>\n",
       "      <td>22726</td>\n",
       "      <td>ALARM CLOCK BAKELIKE GREEN</td>\n",
       "      <td>12</td>\n",
       "      <td>2010-12-01 08:45:00</td>\n",
       "      <td>3.75</td>\n",
       "      <td>12583.0</td>\n",
       "      <td>France</td>\n",
       "    </tr>\n",
       "    <tr>\n",
       "      <th>29</th>\n",
       "      <td>536370</td>\n",
       "      <td>21724</td>\n",
       "      <td>PANDA AND BUNNIES STICKER SHEET</td>\n",
       "      <td>12</td>\n",
       "      <td>2010-12-01 08:45:00</td>\n",
       "      <td>0.85</td>\n",
       "      <td>12583.0</td>\n",
       "      <td>France</td>\n",
       "    </tr>\n",
       "  </tbody>\n",
       "</table>\n",
       "</div>"
      ],
      "text/plain": [
       "   InvoiceNo StockCode                          Description  Quantity  \\\n",
       "0     536365    85123A   WHITE HANGING HEART T-LIGHT HOLDER         6   \n",
       "1     536365     71053                  WHITE METAL LANTERN         6   \n",
       "2     536365    84406B       CREAM CUPID HEARTS COAT HANGER         8   \n",
       "3     536365    84029G  KNITTED UNION FLAG HOT WATER BOTTLE         6   \n",
       "4     536365    84029E       RED WOOLLY HOTTIE WHITE HEART.         6   \n",
       "5     536365     22752         SET 7 BABUSHKA NESTING BOXES         2   \n",
       "6     536365     21730    GLASS STAR FROSTED T-LIGHT HOLDER         6   \n",
       "7     536366     22633               HAND WARMER UNION JACK         6   \n",
       "8     536366     22632            HAND WARMER RED POLKA DOT         6   \n",
       "9     536367     84879        ASSORTED COLOUR BIRD ORNAMENT        32   \n",
       "10    536367     22745           POPPY'S PLAYHOUSE BEDROOM          6   \n",
       "11    536367     22748            POPPY'S PLAYHOUSE KITCHEN         6   \n",
       "12    536367     22749    FELTCRAFT PRINCESS CHARLOTTE DOLL         8   \n",
       "13    536367     22310              IVORY KNITTED MUG COSY          6   \n",
       "14    536367     84969   BOX OF 6 ASSORTED COLOUR TEASPOONS         6   \n",
       "15    536367     22623        BOX OF VINTAGE JIGSAW BLOCKS          3   \n",
       "16    536367     22622       BOX OF VINTAGE ALPHABET BLOCKS         2   \n",
       "17    536367     21754             HOME BUILDING BLOCK WORD         3   \n",
       "18    536367     21755             LOVE BUILDING BLOCK WORD         3   \n",
       "19    536367     21777          RECIPE BOX WITH METAL HEART         4   \n",
       "20    536367     48187                  DOORMAT NEW ENGLAND         4   \n",
       "21    536368     22960             JAM MAKING SET WITH JARS         6   \n",
       "22    536368     22913          RED COAT RACK PARIS FASHION         3   \n",
       "23    536368     22912       YELLOW COAT RACK PARIS FASHION         3   \n",
       "24    536368     22914         BLUE COAT RACK PARIS FASHION         3   \n",
       "25    536369     21756             BATH BUILDING BLOCK WORD         3   \n",
       "26    536370     22728            ALARM CLOCK BAKELIKE PINK        24   \n",
       "27    536370     22727            ALARM CLOCK BAKELIKE RED         24   \n",
       "28    536370     22726           ALARM CLOCK BAKELIKE GREEN        12   \n",
       "29    536370     21724      PANDA AND BUNNIES STICKER SHEET        12   \n",
       "\n",
       "           InvoiceDate  UnitPrice  CustomerID         Country  \n",
       "0  2010-12-01 08:26:00       2.55     17850.0  United Kingdom  \n",
       "1  2010-12-01 08:26:00       3.39     17850.0  United Kingdom  \n",
       "2  2010-12-01 08:26:00       2.75     17850.0  United Kingdom  \n",
       "3  2010-12-01 08:26:00       3.39     17850.0  United Kingdom  \n",
       "4  2010-12-01 08:26:00       3.39     17850.0  United Kingdom  \n",
       "5  2010-12-01 08:26:00       7.65     17850.0  United Kingdom  \n",
       "6  2010-12-01 08:26:00       4.25     17850.0  United Kingdom  \n",
       "7  2010-12-01 08:28:00       1.85     17850.0  United Kingdom  \n",
       "8  2010-12-01 08:28:00       1.85     17850.0  United Kingdom  \n",
       "9  2010-12-01 08:34:00       1.69     13047.0  United Kingdom  \n",
       "10 2010-12-01 08:34:00       2.10     13047.0  United Kingdom  \n",
       "11 2010-12-01 08:34:00       2.10     13047.0  United Kingdom  \n",
       "12 2010-12-01 08:34:00       3.75     13047.0  United Kingdom  \n",
       "13 2010-12-01 08:34:00       1.65     13047.0  United Kingdom  \n",
       "14 2010-12-01 08:34:00       4.25     13047.0  United Kingdom  \n",
       "15 2010-12-01 08:34:00       4.95     13047.0  United Kingdom  \n",
       "16 2010-12-01 08:34:00       9.95     13047.0  United Kingdom  \n",
       "17 2010-12-01 08:34:00       5.95     13047.0  United Kingdom  \n",
       "18 2010-12-01 08:34:00       5.95     13047.0  United Kingdom  \n",
       "19 2010-12-01 08:34:00       7.95     13047.0  United Kingdom  \n",
       "20 2010-12-01 08:34:00       7.95     13047.0  United Kingdom  \n",
       "21 2010-12-01 08:34:00       4.25     13047.0  United Kingdom  \n",
       "22 2010-12-01 08:34:00       4.95     13047.0  United Kingdom  \n",
       "23 2010-12-01 08:34:00       4.95     13047.0  United Kingdom  \n",
       "24 2010-12-01 08:34:00       4.95     13047.0  United Kingdom  \n",
       "25 2010-12-01 08:35:00       5.95     13047.0  United Kingdom  \n",
       "26 2010-12-01 08:45:00       3.75     12583.0          France  \n",
       "27 2010-12-01 08:45:00       3.75     12583.0          France  \n",
       "28 2010-12-01 08:45:00       3.75     12583.0          France  \n",
       "29 2010-12-01 08:45:00       0.85     12583.0          France  "
      ]
     },
     "execution_count": 104,
     "metadata": {},
     "output_type": "execute_result"
    }
   ],
   "source": [
    "df = pd.read_excel(data)\n",
    "df.head(30)"
   ]
  },
  {
   "cell_type": "code",
   "execution_count": 6,
   "id": "62b83b73",
   "metadata": {},
   "outputs": [
    {
     "data": {
      "text/plain": [
       "(541909, 8)"
      ]
     },
     "execution_count": 6,
     "metadata": {},
     "output_type": "execute_result"
    }
   ],
   "source": [
    "df.shape"
   ]
  },
  {
   "cell_type": "code",
   "execution_count": 7,
   "id": "50b33a11",
   "metadata": {},
   "outputs": [
    {
     "data": {
      "text/plain": [
       "InvoiceNo           0\n",
       "StockCode           0\n",
       "Description      1454\n",
       "Quantity            0\n",
       "InvoiceDate         0\n",
       "UnitPrice           0\n",
       "CustomerID     135080\n",
       "Country             0\n",
       "dtype: int64"
      ]
     },
     "execution_count": 7,
     "metadata": {},
     "output_type": "execute_result"
    }
   ],
   "source": [
    "df.isna().sum()"
   ]
  },
  {
   "cell_type": "code",
   "execution_count": 8,
   "id": "7478e42d",
   "metadata": {},
   "outputs": [
    {
     "data": {
      "text/plain": [
       "Index(['InvoiceNo', 'StockCode', 'Description', 'Quantity', 'InvoiceDate',\n",
       "       'UnitPrice', 'CustomerID', 'Country'],\n",
       "      dtype='object')"
      ]
     },
     "execution_count": 8,
     "metadata": {},
     "output_type": "execute_result"
    }
   ],
   "source": [
    "df.columns"
   ]
  },
  {
   "cell_type": "markdown",
   "id": "5d2ecd2d",
   "metadata": {},
   "source": [
    "##### Question 1: Find the Country that purchase the highest quantity of item."
   ]
  },
  {
   "cell_type": "code",
   "execution_count": 9,
   "id": "a12097da",
   "metadata": {},
   "outputs": [
    {
     "data": {
      "text/plain": [
       "United Kingdom    495478\n",
       "Germany             9495\n",
       "France              8557\n",
       "EIRE                8196\n",
       "Spain               2533\n",
       "Netherlands         2371\n",
       "Belgium             2069\n",
       "Switzerland         2002\n",
       "Portugal            1519\n",
       "Australia           1259\n",
       "Name: Country, dtype: int64"
      ]
     },
     "execution_count": 9,
     "metadata": {},
     "output_type": "execute_result"
    }
   ],
   "source": [
    "df['Country'].value_counts().head(10)"
   ]
  },
  {
   "cell_type": "markdown",
   "id": "a5a89f1a",
   "metadata": {},
   "source": [
    "#### Question 2: The Country that purchased the least item."
   ]
  },
  {
   "cell_type": "code",
   "execution_count": 10,
   "id": "cac723d0",
   "metadata": {},
   "outputs": [
    {
     "data": {
      "text/plain": [
       "<AxesSubplot:title={'center':'least purchasing countries'}>"
      ]
     },
     "execution_count": 10,
     "metadata": {},
     "output_type": "execute_result"
    },
    {
     "data": {
      "image/png": "[encoded data removed]",
      "text/plain": [
       "<Figure size 640x480 with 1 Axes>"
      ]
     },
     "metadata": {},
     "output_type": "display_data"
    }
   ],
   "source": [
    "df['Country'].value_counts().tail(10).plot(kind=\"barh\", title=\"least purchasing countries\")"
   ]
  },
  {
   "cell_type": "markdown",
   "id": "64092a19",
   "metadata": {},
   "source": [
    "#### Question 3: Find the Countries that made the highest sales"
   ]
  },
  {
   "cell_type": "code",
   "execution_count": 11,
   "id": "8e068871",
   "metadata": {},
   "outputs": [
    {
     "data": {
      "text/html": [
       "<div>\n",
       "<style scoped>\n",
       "    .dataframe tbody tr th:only-of-type {\n",
       "        vertical-align: middle;\n",
       "    }\n",
       "\n",
       "    .dataframe tbody tr th {\n",
       "        vertical-align: top;\n",
       "    }\n",
       "\n",
       "    .dataframe thead th {\n",
       "        text-align: right;\n",
       "    }\n",
       "</style>\n",
       "<table border=\"1\" class=\"dataframe\">\n",
       "  <thead>\n",
       "    <tr style=\"text-align: right;\">\n",
       "      <th></th>\n",
       "      <th>InvoiceNo</th>\n",
       "      <th>StockCode</th>\n",
       "      <th>Description</th>\n",
       "      <th>Quantity</th>\n",
       "      <th>InvoiceDate</th>\n",
       "      <th>UnitPrice</th>\n",
       "      <th>CustomerID</th>\n",
       "      <th>Country</th>\n",
       "      <th>total_sale</th>\n",
       "    </tr>\n",
       "  </thead>\n",
       "  <tbody>\n",
       "    <tr>\n",
       "      <th>0</th>\n",
       "      <td>536365</td>\n",
       "      <td>85123A</td>\n",
       "      <td>WHITE HANGING HEART T-LIGHT HOLDER</td>\n",
       "      <td>6</td>\n",
       "      <td>2010-12-01 08:26:00</td>\n",
       "      <td>2.55</td>\n",
       "      <td>17850.0</td>\n",
       "      <td>United Kingdom</td>\n",
       "      <td>15.30</td>\n",
       "    </tr>\n",
       "    <tr>\n",
       "      <th>1</th>\n",
       "      <td>536365</td>\n",
       "      <td>71053</td>\n",
       "      <td>WHITE METAL LANTERN</td>\n",
       "      <td>6</td>\n",
       "      <td>2010-12-01 08:26:00</td>\n",
       "      <td>3.39</td>\n",
       "      <td>17850.0</td>\n",
       "      <td>United Kingdom</td>\n",
       "      <td>20.34</td>\n",
       "    </tr>\n",
       "    <tr>\n",
       "      <th>2</th>\n",
       "      <td>536365</td>\n",
       "      <td>84406B</td>\n",
       "      <td>CREAM CUPID HEARTS COAT HANGER</td>\n",
       "      <td>8</td>\n",
       "      <td>2010-12-01 08:26:00</td>\n",
       "      <td>2.75</td>\n",
       "      <td>17850.0</td>\n",
       "      <td>United Kingdom</td>\n",
       "      <td>22.00</td>\n",
       "    </tr>\n",
       "    <tr>\n",
       "      <th>3</th>\n",
       "      <td>536365</td>\n",
       "      <td>84029G</td>\n",
       "      <td>KNITTED UNION FLAG HOT WATER BOTTLE</td>\n",
       "      <td>6</td>\n",
       "      <td>2010-12-01 08:26:00</td>\n",
       "      <td>3.39</td>\n",
       "      <td>17850.0</td>\n",
       "      <td>United Kingdom</td>\n",
       "      <td>20.34</td>\n",
       "    </tr>\n",
       "    <tr>\n",
       "      <th>4</th>\n",
       "      <td>536365</td>\n",
       "      <td>84029E</td>\n",
       "      <td>RED WOOLLY HOTTIE WHITE HEART.</td>\n",
       "      <td>6</td>\n",
       "      <td>2010-12-01 08:26:00</td>\n",
       "      <td>3.39</td>\n",
       "      <td>17850.0</td>\n",
       "      <td>United Kingdom</td>\n",
       "      <td>20.34</td>\n",
       "    </tr>\n",
       "    <tr>\n",
       "      <th>5</th>\n",
       "      <td>536365</td>\n",
       "      <td>22752</td>\n",
       "      <td>SET 7 BABUSHKA NESTING BOXES</td>\n",
       "      <td>2</td>\n",
       "      <td>2010-12-01 08:26:00</td>\n",
       "      <td>7.65</td>\n",
       "      <td>17850.0</td>\n",
       "      <td>United Kingdom</td>\n",
       "      <td>15.30</td>\n",
       "    </tr>\n",
       "    <tr>\n",
       "      <th>6</th>\n",
       "      <td>536365</td>\n",
       "      <td>21730</td>\n",
       "      <td>GLASS STAR FROSTED T-LIGHT HOLDER</td>\n",
       "      <td>6</td>\n",
       "      <td>2010-12-01 08:26:00</td>\n",
       "      <td>4.25</td>\n",
       "      <td>17850.0</td>\n",
       "      <td>United Kingdom</td>\n",
       "      <td>25.50</td>\n",
       "    </tr>\n",
       "    <tr>\n",
       "      <th>7</th>\n",
       "      <td>536366</td>\n",
       "      <td>22633</td>\n",
       "      <td>HAND WARMER UNION JACK</td>\n",
       "      <td>6</td>\n",
       "      <td>2010-12-01 08:28:00</td>\n",
       "      <td>1.85</td>\n",
       "      <td>17850.0</td>\n",
       "      <td>United Kingdom</td>\n",
       "      <td>11.10</td>\n",
       "    </tr>\n",
       "    <tr>\n",
       "      <th>8</th>\n",
       "      <td>536366</td>\n",
       "      <td>22632</td>\n",
       "      <td>HAND WARMER RED POLKA DOT</td>\n",
       "      <td>6</td>\n",
       "      <td>2010-12-01 08:28:00</td>\n",
       "      <td>1.85</td>\n",
       "      <td>17850.0</td>\n",
       "      <td>United Kingdom</td>\n",
       "      <td>11.10</td>\n",
       "    </tr>\n",
       "    <tr>\n",
       "      <th>9</th>\n",
       "      <td>536367</td>\n",
       "      <td>84879</td>\n",
       "      <td>ASSORTED COLOUR BIRD ORNAMENT</td>\n",
       "      <td>32</td>\n",
       "      <td>2010-12-01 08:34:00</td>\n",
       "      <td>1.69</td>\n",
       "      <td>13047.0</td>\n",
       "      <td>United Kingdom</td>\n",
       "      <td>54.08</td>\n",
       "    </tr>\n",
       "  </tbody>\n",
       "</table>\n",
       "</div>"
      ],
      "text/plain": [
       "  InvoiceNo StockCode                          Description  Quantity  \\\n",
       "0    536365    85123A   WHITE HANGING HEART T-LIGHT HOLDER         6   \n",
       "1    536365     71053                  WHITE METAL LANTERN         6   \n",
       "2    536365    84406B       CREAM CUPID HEARTS COAT HANGER         8   \n",
       "3    536365    84029G  KNITTED UNION FLAG HOT WATER BOTTLE         6   \n",
       "4    536365    84029E       RED WOOLLY HOTTIE WHITE HEART.         6   \n",
       "5    536365     22752         SET 7 BABUSHKA NESTING BOXES         2   \n",
       "6    536365     21730    GLASS STAR FROSTED T-LIGHT HOLDER         6   \n",
       "7    536366     22633               HAND WARMER UNION JACK         6   \n",
       "8    536366     22632            HAND WARMER RED POLKA DOT         6   \n",
       "9    536367     84879        ASSORTED COLOUR BIRD ORNAMENT        32   \n",
       "\n",
       "          InvoiceDate  UnitPrice  CustomerID         Country  total_sale  \n",
       "0 2010-12-01 08:26:00       2.55     17850.0  United Kingdom       15.30  \n",
       "1 2010-12-01 08:26:00       3.39     17850.0  United Kingdom       20.34  \n",
       "2 2010-12-01 08:26:00       2.75     17850.0  United Kingdom       22.00  \n",
       "3 2010-12-01 08:26:00       3.39     17850.0  United Kingdom       20.34  \n",
       "4 2010-12-01 08:26:00       3.39     17850.0  United Kingdom       20.34  \n",
       "5 2010-12-01 08:26:00       7.65     17850.0  United Kingdom       15.30  \n",
       "6 2010-12-01 08:26:00       4.25     17850.0  United Kingdom       25.50  \n",
       "7 2010-12-01 08:28:00       1.85     17850.0  United Kingdom       11.10  \n",
       "8 2010-12-01 08:28:00       1.85     17850.0  United Kingdom       11.10  \n",
       "9 2010-12-01 08:34:00       1.69     13047.0  United Kingdom       54.08  "
      ]
     },
     "execution_count": 11,
     "metadata": {},
     "output_type": "execute_result"
    }
   ],
   "source": [
    "df[\"total_sale\"] = df[\"Quantity\"] * df[\"UnitPrice\"]\n",
    "df.head(10)"
   ]
  },
  {
   "cell_type": "markdown",
   "id": "0c1f2176",
   "metadata": {},
   "source": [
    "#### Quesrion 4:  Find the products that made the highest sale"
   ]
  },
  {
   "cell_type": "code",
   "execution_count": 12,
   "id": "ba71a728",
   "metadata": {},
   "outputs": [
    {
     "name": "stdout",
     "output_type": "stream",
     "text": [
      "['WHITE HANGING HEART T-LIGHT HOLDER', 'WHITE METAL LANTERN', 'CREAM CUPID HEARTS COAT HANGER', 'KNITTED UNION FLAG HOT WATER BOTTLE', 'RED WOOLLY HOTTIE WHITE HEART.', 'SET 7 BABUSHKA NESTING BOXES', 'GLASS STAR FROSTED T-LIGHT HOLDER', 'HAND WARMER UNION JACK', 'HAND WARMER RED POLKA DOT', 'ASSORTED COLOUR BIRD ORNAMENT', \"POPPY'S PLAYHOUSE BEDROOM \", \"POPPY'S PLAYHOUSE KITCHEN\", 'FELTCRAFT PRINCESS CHARLOTTE DOLL', 'IVORY KNITTED MUG COSY ', 'BOX OF 6 ASSORTED COLOUR TEASPOONS', 'BOX OF VINTAGE JIGSAW BLOCKS ', 'BOX OF VINTAGE ALPHABET BLOCKS', 'HOME BUILDING BLOCK WORD', 'LOVE BUILDING BLOCK WORD', 'RECIPE BOX WITH METAL HEART', 'DOORMAT NEW ENGLAND', 'JAM MAKING SET WITH JARS', 'RED COAT RACK PARIS FASHION', 'YELLOW COAT RACK PARIS FASHION', 'BLUE COAT RACK PARIS FASHION', 'BATH BUILDING BLOCK WORD', 'ALARM CLOCK BAKELIKE PINK', 'ALARM CLOCK BAKELIKE RED ', 'ALARM CLOCK BAKELIKE GREEN', 'PANDA AND BUNNIES STICKER SHEET', 'STARS GIFT TAPE ', 'INFLATABLE POLITICAL GLOBE ', 'VINTAGE HEADS AND TAILS CARD GAME ', 'SET/2 RED RETROSPOT TEA TOWELS ', 'ROUND SNACK BOXES SET OF4 WOODLAND ', 'SPACEBOY LUNCH BOX ', 'LUNCH BOX I LOVE LONDON', 'CIRCUS PARADE LUNCH BOX ', 'CHARLOTTE BAG DOLLY GIRL DESIGN', 'RED TOADSTOOL LED NIGHT LIGHT', ' SET 2 TEA TOWELS I LOVE LONDON ', 'VINTAGE SEASIDE JIGSAW PUZZLES', 'MINI JIGSAW CIRCUS PARADE ', 'MINI JIGSAW SPACEBOY', 'MINI PAINT SET VINTAGE ', 'POSTAGE', \"PAPER CHAIN KIT 50'S CHRISTMAS \", 'EDWARDIAN PARASOL RED', 'RETRO COFFEE MUGS ASSORTED', 'SAVE THE PLANET MUG', 'VINTAGE BILLBOARD DRINK ME MUG', 'VINTAGE BILLBOARD LOVE/HATE MUG', 'WOOD 2 DRAWER CABINET WHITE FINISH', 'WOOD S/3 CABINET ANT WHITE FINISH', 'WOODEN PICTURE FRAME WHITE FINISH', 'WOODEN FRAME ANTIQUE WHITE ', 'VICTORIAN SEWING BOX LARGE', 'HOT WATER BOTTLE TEA AND SYMPATHY', 'RED HANGING HEART T-LIGHT HOLDER', 'JUMBO BAG PINK POLKADOT', 'JUMBO  BAG BAROQUE BLACK WHITE', 'JUMBO BAG CHARLIE AND LOLA TOYS', 'STRAWBERRY CHARLOTTE BAG', 'RED 3 PIECE RETROSPOT CUTLERY SET', 'BLUE 3 PIECE POLKADOT CUTLERY SET', 'SET/6 RED SPOTTY PAPER PLATES', 'LUNCH BAG RED RETROSPOT', 'STRAWBERRY LUNCH BOX WITH CUTLERY', 'LUNCH BOX WITH CUTLERY RETROSPOT ', 'PACK OF 72 RETROSPOT CAKE CASES', 'PACK OF 60 DINOSAUR CAKE CASES', 'PACK OF 60 PINK PAISLEY CAKE CASES', '60 TEATIME FAIRY CAKE CASES', 'TOMATO CHARLIE+LOLA COASTER SET', 'CHARLIE & LOLA WASTEPAPER BIN FLORA', 'RED CHARLIE+LOLA PERSONAL DOORSIGN', 'JUMBO STORAGE BAG SUKI', 'JUMBO BAG PINK VINTAGE PAISLEY', 'JAM MAKING SET PRINTED', 'RETROSPOT TEA SET CERAMIC 11 PC ', 'GIRLY PINK TOOL SET', 'JUMBO SHOPPER VINTAGE RED PAISLEY', 'AIRLINE LOUNGE,METAL SIGN', 'WHITE SPOT RED CERAMIC DRAWER KNOB', 'RED DRAWER KNOB ACRYLIC EDWARDIAN', 'CLEAR DRAWER KNOB ACRYLIC EDWARDIAN', 'PHOTO CLIP LINE', 'FELT EGG COSY CHICKEN', 'PIGGY BANK RETROSPOT ', 'SKULL SHOULDER BAG', \"YOU'RE CONFUSING ME METAL SIGN \", 'COOK WITH WINE METAL SIGN ', 'GIN + TONIC DIET METAL SIGN', 'YELLOW BREAKFAST CUP AND SAUCER', 'PINK BREAKFAST CUP AND SAUCER ', 'PAPER CHAIN KIT RETROSPOT', 'SMALL HEART FLOWERS HOOK ', 'TEA TIME DES TEA COSY', 'FELT EGG COSY WHITE RABBIT ', 'ZINC WILLIE WINKIE  CANDLE STICK', 'CERAMIC CHERRY CAKE MONEY BANK', 'RETROSPOT LARGE MILK JUG', 'SET OF 6 FUNKY BEAKERS', 'EDWARDIAN PARASOL BLACK', 'EDWARDIAN PARASOL NATURAL', 'CERAMIC STRAWBERRY CAKE MONEY BANK', 'BLUE OWL SOFT TOY', 'BALLOON ART MAKE YOUR OWN FLOWERS', 'GLASS CLOCHE SMALL', 'GUMBALL MONOCHROME COAT RACK', 'DOORMAT FANCY FONT HOME SWEET HOME', 'Discount', 'VINTAGE SNAKES & LADDERS', 'CHOCOLATE CALCULATOR', 'RECYCLING BAG RETROSPOT ', 'TOY TIDY PINK POLKADOT', 'ANTIQUE GLASS DRESSING TABLE POT', 'IVORY GIANT GARDEN THERMOMETER', '3 TIER CAKE TIN GREEN AND CREAM', '3 TIER CAKE TIN RED AND CREAM', 'SET 3 WICKER OVAL BASKETS W LIDS', 'SET OF 3 COLOURED  FLYING DUCKS', 'WOOD BLACK BOARD ANT WHITE FINISH', 'COLOUR GLASS T-LIGHT HOLDER HANGING', 'HANGING METAL HEART LANTERN', 'HANGING MEDINA LANTERN SMALL', 'NATURAL SLATE HEART CHALKBOARD ', 'HEART OF WICKER SMALL', 'HEART OF WICKER LARGE', 'WHITE LOVEBIRD LANTERN', 'CLASSIC METAL BIRDCAGE PLANT HOLDER', 'CREAM HEART CARD HOLDER', 'ENAMEL FLOWER JUG CREAM', 'ENAMEL FIRE BUCKET CREAM', 'ENAMEL BREAD BIN CREAM', 'JUMBO BAG DOLLY GIRL DESIGN', 'TRADITIONAL CHRISTMAS RIBBONS', 'ORGANISER WOOD ANTIQUE WHITE ', 'LUNCH BAG DOLLY GIRL DESIGN', 'WHITE WIRE EGG HOLDER', 'JUMBO BAG RED RETROSPOT', 'CHILLI LIGHTS', 'LIGHT GARLAND BUTTERFILES PINK', 'WOODEN OWLS LIGHT GARLAND ', 'FAIRY TALE COTTAGE NIGHTLIGHT', 'HOME SMALL WOOD LETTERS', 'GINGHAM HEART  DOORSTOP RED', 'FIVE HEART HANGING DECORATION', 'ASSORTED BOTTLE TOP  MAGNETS ', 'FRIDGE MAGNETS US DINER ASSORTED', 'HOMEMADE JAM SCENTED CANDLES', 'FRIDGE MAGNETS LES ENFANTS ASSORTED', 'ROSE CARAVAN DOORSTOP', '5 HOOK HANGER MAGIC TOADSTOOL', 'CHRISTMAS LIGHTS 10 REINDEER', 'VINTAGE UNION JACK CUSHION COVER', 'SET OF 3 GOLD FLYING DUCKS', 'RED RETROSPOT UMBRELLA', 'BLACK/BLUE POLKADOT UMBRELLA', 'RED DINER WALL CLOCK', 'BLUE DINER WALL CLOCK', 'IVORY DINER WALL CLOCK', 'LARGE HEART MEASURING SPOONS', 'SMALL HEART MEASURING SPOONS', 'JAM JAR WITH PINK LID', 'JAM JAR WITH GREEN LID', 'ROSE COTTAGE KEEPSAKE BOX ', 'HANGING HEART ZINC T-LIGHT HOLDER', 'PAPER CHAIN KIT VINTAGE CHRISTMAS', 'DISCO BALL CHRISTMAS DECORATION', 'SMALL POPCORN HOLDER', 'LARGE POPCORN HOLDER ', 'SET/20 RED RETROSPOT PAPER NAPKINS ', 'SET/6 RED SPOTTY PAPER CUPS', 'POLKADOT RAIN HAT ', 'DELUXE SEWING KIT ', 'RETROSPOT HEART HOT WATER BOTTLE', 'ENGLISH ROSE HOT WATER BOTTLE', 'PHOTO CUBE', 'PLASTERS IN TIN CIRCUS PARADE ', 'PACK OF 12 PINK PAISLEY TISSUES ', 'PACK OF 12 BLUE PAISLEY TISSUES ', 'PACK OF 12 RED RETROSPOT TISSUES ', 'CHICK GREY HOT WATER BOTTLE', 'PLASTERS IN TIN VINTAGE PAISLEY ', 'PLASTERS IN TIN SKULLS', '3 STRIPEY MICE FELTCRAFT', 'SET OF 6 SOLDIER SKITTLES', 'TRADITIONAL WOODEN SKIPPING ROPE', 'WOODEN BOX OF DOMINOES', 'RUSTIC  SEVENTEEN DRAWER SIDEBOARD', 'PARTY CONES CARNIVAL ASSORTED', 'PARTY CONES CANDY ASSORTED', 'PICNIC BASKET WICKER SMALL', 'STAR DECORATION PAINTED ZINC ', 'RETROSPOT LAMP', 'FANCY FONT BIRTHDAY CARD, ', 'HAND WARMER SCOTTY DOG DESIGN', 'HAND WARMER OWL DESIGN', 'HAND WARMER RED RETROSPOT', 'DOG BOWL CHASING BALL DESIGN', 'CLOTHES PEGS RETROSPOT PACK 24 ', 'HAND OVER THE CHOCOLATE   SIGN ', 'TRAVEL SEWING KIT', 'BLACK HEART CARD HOLDER', 'SMALL GLASS HEART TRINKET POT', 'ALARM CLOCK BAKELIKE IVORY', 'ALARM CLOCK BAKELIKE ORANGE', 'HAND WARMER BIRD DESIGN', 'IVORY EMBROIDERED QUILT ', 'SET OF 3 BLACK FLYING DUCKS', 'RED RETROSPOT MUG', 'BABUSHKA LIGHTS STRING OF 10', 'DOORMAT FAIRY CAKE', 'STRAWBERRY CERAMIC TRINKET BOX', 'PINK DOUGHNUT TRINKET POT ', 'SILK PURSE BABUSHKA PINK', 'HOT WATER BOTTLE I AM SO POORLY', 'CHOCOLATE HOT WATER BOTTLE', 'WHITE SKULL HOT WATER BOTTLE ', 'SCOTTIE DOG HOT WATER BOTTLE', 'BIRD HOUSE HOT WATER BOTTLE', 'BOUDOIR SQUARE TISSUE BOX', 'SKULLS SQUARE TISSUE BOX', 'PHOTO FRAME CORNICE', 'SILK PURSE BABUSHKA RED', 'PICTURE DOMINOES', 'S/6 SEW ON CROCHET FLOWERS', 'SCANDINAVIAN REDS RIBBONS', 'BALLOONS  WRITING SET ', 'LAVENDER INCENSE IN TIN', 'TV DINNER TRAY VINTAGE PAISLEY', 'SET OF 4 ENGLISH ROSE PLACEMATS', 'SET OF 4 ENGLISH ROSE COASTERS', 'TRIPLE PHOTO FRAME CORNICE ', 'FAMILY PHOTO FRAME CORNICE', 'MIRRORED DISCO BALL ', 'DISCO BALL ROTATOR BATTERY OPERATED', 'SILVER LOOKING MIRROR', 'LADIES & GENTLEMEN METAL SIGN', 'METAL SIGN HER DINNER IS SERVED ', 'DOORMAT TOPIARY', 'BATHROOM METAL SIGN', 'KITCHEN METAL SIGN', 'TOILET METAL SIGN', 'METAL SIGN TAKE IT OR LEAVE IT ', \"I'M ON HOLIDAY METAL SIGN\", 'GROW YOUR OWN BASIL IN ENAMEL MUG', 'SET/10 PINK POLKADOT PARTY CANDLES', 'SET 20 NAPKINS FAIRY CAKES DESIGN ', 'SET OF 6 T-LIGHTS SNOWMEN', 'SET OF 6 T-LIGHTS SANTA', 'SET OF 9 HEART SHAPED BALLOONS', 'SANDWICH BATH SPONGE', 'APPLE BATH SPONGE', 'STRAWBERRY BATH SPONGE ', 'BLACK PIRATE TREASURE CHEST', 'STAR PORTABLE TABLE LIGHT ', 'SNOWFLAKE PORTABLE TABLE LIGHT ', 'PINK OVAL JEWELLED MIRROR', 'RETROSPOT CIGAR BOX MATCHES ', 'COSY HOUR GIANT TUBE MATCHES', 'JAZZ HEARTS PURSE NOTEBOOK', 'CANDLEHOLDER PINK HANGING HEART', 'ASSORTED COLOUR MINI CASES', 'LUNCH BAG SPACEBOY DESIGN ', 'LUNCH BAG WOODLAND', 'LUNCH BAG PINK POLKADOT', 'GUMBALL COAT RACK', 'BLUE NEW BAROQUE CANDLESTICK CANDLE', 'PINK NEW BAROQUECANDLESTICK CANDLE', 'FAIRY CAKE FLANNEL ASSORTED COLOUR', 'BREAD BIN DINER STYLE PINK', 'TEA TIME TABLE CLOTH', 'HOT WATER BOTTLE BABUSHKA ', 'HEART IVORY TRELLIS SMALL', 'PINK DRAWER KNOB ACRYLIC EDWARDIAN', 'GREEN DRAWER KNOB ACRYLIC EDWARDIAN', 'BLUE DRAWER KNOB ACRYLIC EDWARDIAN', 'SET 6 FOOTBALL CELEBRATION CANDLES', 'SET OF 6 GIRLS CELEBRATION CANDLES', 'ROMANTIC PINKS RIBBONS ', 'BRIGHT BLUES RIBBONS ', 'CHOCOLATE BOX RIBBONS ', 'PARTY INVITES FOOTBALL', 'PARTY INVITES JAZZ HEARTS', 'PARTY INVITES SPACEMAN', 'SET OF 3 BUTTERFLY COOKIE CUTTERS', 'SET OF 3 HEART COOKIE CUTTERS', '3 PIECE SPACEBOY COOKIE CUTTER SET', 'PACK OF 72 SKULL CAKE CASES', 'PACK OF 60 SPACEBOY CAKE CASES', '72 SWEETHEART FAIRY CAKE CASES', 'LUNCH BAG SUKI  DESIGN ', 'LUNCH BAG CARS BLUE', 'LUNCH BAG  BLACK SKULL.', 'HEART IVORY TRELLIS LARGE', 'SET/5 RED RETROSPOT LID GLASS BOWLS', 'MAGIC DRAWING SLATE DINOSAUR', 'MAGIC DRAWING SLATE BAKE A CAKE ', '12 PENCILS TALL TUBE SKULLS', 'RED  HARMONICA IN BOX ', 'BLUE HARMONICA IN BOX ', 'SKULLS  WATER TRANSFER TATTOOS ', 'PACK 3 BOXES BIRD PANNETONE ', 'SET OF 20 KIDS COOKIE CUTTERS', '10 COLOUR SPACEBOY PEN', 'VICTORIAN GLASS HANGING T-LIGHT', 'SINGLE HEART ZINC T-LIGHT HOLDER', 'HANGING METAL STAR LANTERN', 'SILVER HANGING T-LIGHT HOLDER', 'DOORMAT RED RETROSPOT', 'DOORMAT HEARTS', 'NATURAL SLATE RECTANGLE CHALKBOARD', 'LOVEBIRD HANGING DECORATION WHITE ', 'PENS ASSORTED FUNNY FACE', 'CARD CIRCUS PARADE', 'WRAP COWBOYS  ', 'AIRLINE BAG VINTAGE TOKYO 78', 'SET OF 72 RETROSPOT PAPER  DOILIES', 'SLEEPING CAT ERASERS', 'CARD BIRTHDAY COWBOY', 'PACK 3 BOXES CHRISTMAS PANNETONE', 'ROTATING SILVER ANGELS T-LIGHT HLDR', 'RIBBON REEL MAKING SNOWMEN ', '4 TRADITIONAL SPINNING TOPS', 'BAG 500g SWIRLY MARBLES', '5 STRAND GLASS NECKLACE CRYSTAL', 'SQUARECUSHION COVER PINK UNION FLAG', 'SPACEBOY CHILDRENS EGG CUP', \"CHILDREN'S SPACEBOY MUG\", 'FELTCRAFT CUSHION OWL', 'BLACK CANDELABRA T-LIGHT HOLDER', 'TOY TIDY DOLLY GIRL DESIGN', 'SET 12 LAVENDER  BOTANICAL T-LIGHTS', 'UNION JACK FLAG LUGGAGE TAG', 'RED HEART LUGGAGE TAG', 'RED GLASS TASSLE BAG CHARM', 'CLEAR ACRYLIC FACETED BANGLE', 'DOORMAT UNION JACK GUNS AND ROSES', 'VANILLA SCENT CANDLE JEWELLED BOX', 'FULL ENGLISH BREAKFAST PLATE', 'MAGIC DRAWING SLATE CIRCUS PARADE  ', 'CHRISTMAS HANGING HEART WITH BELL', 'CAKE STAND VICTORIAN FILIGREE MED', 'PAISLEY PATTERN  STICKERS', 'FLOWERS  STICKERS', 'BLACK LOVE BIRD CANDLE', 'PARTY TIME PENCIL ERASERS', \"PINK B'FLY C/COVER W BOBBLES\", 'PINK UNION JACK  LUGGAGE TAG', '6 RIBBONS ELEGANT CHRISTMAS ', 'AGED GLASS SILVER T-LIGHT HOLDER', 'BOOM BOX SPEAKER GIRLS', '6 RIBBONS SHIMMERING PINKS ', 'JUMBO BAG OWLS', 'OWL DOORSTOP', 'PAINTED METAL STAR WITH HOLLY BELLS', 'PAINTED METAL HEART WITH HOLLY BELL', 'ANGEL DECORATION STARS ON DRESS', 'JUMBO BAG STRAWBERRY', 'STRAWBERRY SHOPPER BAG', 'ROUND SNACK BOXES SET OF 4 FRUITS ', 'ROUND SNACK BOXES SET OF 4 SKULLS', 'DOLLY GIRL LUNCH BOX', 'GREEN POLKADOT PLATE ', 'BLUE POLKADOT PLATE ', 'RED RETROSPOT PLATE ', 'PINK  POLKADOT PLATE ', 'FELTCRAFT DOLL MOLLY', 'FELTCRAFT CHRISTMAS FAIRY', 'SET OF 3 NOTEBOOKS IN PARCEL', 'RED RETROSPOT TAPE', 'COSY SLIPPER SHOES SMALL  RED ', '6 RIBBONS RUSTIC CHARM', '12 DAISY PEGS IN WOOD BOX', '5 HOOK HANGER RED MAGIC TOADSTOOL', 'CHRISTMAS CRAFT TREE TOP ANGEL', 'CHRISTMAS CRAFT LITTLE FRIENDS', 'COSY SLIPPER SHOES SMALL GREEN', 'FELTCRAFT DOLL ROSIE', 'FELTCRAFT DOLL EMILY', 'FELTCRAFT PRINCESS OLIVIA DOLL', 'REX CASH+CARRY JUMBO SHOPPER', 'FELTCRAFT CUSHION RABBIT', 'FELTCRAFT CUSHION BUTTERFLY', 'TOTE BAG I LOVE LONDON', 'FOLDING UMBRELLA PINKWHITE POLKADOT', 'FOLDING UMBRELLA CREAM POLKADOT', 'FOLDING UMBRELLA WHITE/RED POLKADOT', 'SET 10 LIGHTS NIGHT OWL', 'FOLDING UMBRELLA RED/WHITE POLKADOT', 'S/4 VALENTINE DECOUPAGE HEART BOX', 'SOLDIERS EGG CUP ', 'RED RETROSPOT MINI CASES', nan, '60 CAKE CASES VINTAGE CHRISTMAS', 'RIBBON REEL CHRISTMAS SOCK BAUBLE', 'RIBBON REEL SNOWY VILLAGE', 'SET OF 20 VINTAGE CHRISTMAS NAPKINS', 'TURQUOISE CHRISTMAS TREE ', 'RED STAR CARD HOLDER', 'WICKER WREATH SMALL', 'ADVENT CALENDAR GINGHAM SACK', 'FELTCRAFT BUTTERFLY HEARTS', 'PARTY CONE CHRISTMAS DECORATION ', 'WICKER STAR ', 'VINTAGE SNAP CARDS', 'FELTCRAFT 6 FLOWER FRIENDS', 'BIRD DECORATION RED RETROSPOT', 'CHRISTMAS GINGHAM TREE', 'CHRISTMAS GINGHAM STAR', 'CHRISTMAS GINGHAM HEART', 'PACK OF 12 PINK POLKADOT TISSUES', 'FELTCRAFT PRINCESS LOLA DOLL', 'PACK OF 12 LONDON TISSUES ', 'PURPLE DRAWERKNOB ACRYLIC EDWARDIAN', \"CHILDREN'S APRON DOLLY GIRL \", 'CHILDRENS APRON SPACEBOY DESIGN', 'CHRISTMAS LIGHTS 10 SANTAS ', 'PACK OF 60 MUSHROOM CAKE CASES', '60 CAKE CASES DOLLY GIRL DESIGN', 'HAND WARMER BABUSHKA DESIGN', 'SET 12 RETRO WHITE CHALK STICKS', 'FELTCRAFT HAIRBAND RED AND BLUE', 'FELTCRAFT HAIRBAND PINK AND PURPLE', 'FELTCRAFT HAIRBANDS PINK AND WHITE ', 'TV DINNER TRAY DOLLY GIRL', 'PLASTERS IN TIN SPACEBOY', 'PLASTERS IN TIN WOODLAND ANIMALS', 'MAGIC DRAWING SLATE SPACEBOY ', 'MAGIC DRAWING SLATE GO TO THE FAIR ', 'MAGIC DRAWING SLATE DOLLY GIRL ', 'CHARLIE + LOLA RED HOT WATER BOTTLE', 'URBAN BLACK RIBBONS ', 'SET OF 6 T-LIGHTS TOADSTOOLS', 'ROTATING LEAVES T-LIGHT HOLDER', 'CUPCAKE LACE PAPER SET 6', 'TRADITIONAL WOODEN CATCH CUP GAME ', 'S/6 WOODEN SKITTLES IN COTTON BAG', 'RED METAL BEACH SPADE ', 'BOYS VINTAGE TIN SEASIDE BUCKET', 'GIRLS VINTAGE TIN SEASIDE BUCKET', 'GREY HEART HOT WATER BOTTLE', 'KINGS CHOICE TEA CADDY ', 'KINGS CHOICE BISCUIT TIN', 'METAL SIGN EMPIRE TEA', 'FAWN BLUE HOT WATER BOTTLE', 'PACK OF 6 BIRDY GIFT TAGS', 'CERAMIC STRAWBERRY MONEY BOX', 'CERAMIC HEART FAIRY CAKE MONEY BANK', 'CERAMIC PIRATE CHEST MONEY BANK', 'DOORSTOP RETROSPOT HEART', 'RETROSPOT BABUSHKA DOORSTOP', 'SWEETHEART WIRE WALL TIDY', 'RED RETROSPOT OVEN GLOVE ', 'NAMASTE SWAGAT INCENSE', 'CERAMIC STRAWBERRY DESIGN MUG', 'CLASSICAL ROSE SMALL VASE', 'HYACINTH BULB T-LIGHT CANDLES', 'CHRISTMAS CRAFT WHITE FAIRY ', 'COSY HOUR CIGAR BOX MATCHES ', 'RED TEA TOWEL CLASSIC DESIGN', 'HEART FILIGREE DOVE  SMALL', 'RETROSPOT CHILDRENS APRON', 'COLOURING PENCILS BROWN TUBE', '4 IVORY DINNER CANDLES SILVER FLOCK', 'ZINC METAL HEART DECORATION', 'GREEN FERN NOTEBOOK', 'BLUE PAISLEY NOTEBOOK', 'CHRYSANTHEMUM NOTEBOOK', 'LARGE CHINESE STYLE SCISSOR', 'SMALL CHINESE STYLE SCISSOR', 'HANGING GLASS ETCHED TEALIGHT', 'COOKING SET RETROSPOT', 'KINGS CHOICE GIANT TUBE MATCHES', 'PLACE SETTING WHITE STAR', 'S/15 SILVER GLASS BAUBLES IN BAG', 'FRENCH WC SIGN BLUE METAL', 'FAIRY SOAP SOAP HOLDER', 'GREEN GIANT GARDEN THERMOMETER', 'BLUE GIANT GARDEN THERMOMETER', 'VICTORIAN SEWING BOX SMALL ', 'VICTORIAN SEWING BOX MEDIUM', 'SET/10 RED POLKADOT PARTY CANDLES', 'WASHROOM METAL SIGN', 'BLACK SWEETHEART BRACELET', 'DIAMANTE HAIR GRIP PACK/2 BLACK DIA', 'BLACK DIAMANTE EXPANDABLE RING', 'DIAMANTE HAIR GRIP PACK/2 RUBY', 'DIAMANTE HAIR GRIP PACK/2 MONTANA', 'BLUE SWEETHEART BRACELET', 'PINK SWEETHEART BRACELET', 'PURPLE SWEETHEART BRACELET', 'RIBBON REEL CHRISTMAS PRESENT ', 'FIRST AID TIN', 'MAKE YOUR OWN MONSOON CARD KIT', 'PACK OF 12 HEARTS DESIGN TISSUES ', 'HEART FILIGREE DOVE LARGE', 'SWIRLY CIRCULAR RUBBERS IN BAG', 'VINTAGE PAISLEY STATIONERY SET', 'SET/10 BLUE POLKADOT PARTY CANDLES', 'RIBBON REEL SOCKS AND MITTENS', 'CHRISTMAS METAL TAGS ASSORTED ', 'CHRISTMAS TREE T-LIGHT HOLDER', 'STAR  T-LIGHT HOLDER ', 'HEART T-LIGHT HOLDER ', 'MINI FUNKY DESIGN TAPES', 'STAR WOODEN CHRISTMAS DECORATION', 'WOODEN HEART CHRISTMAS SCANDINAVIAN', 'CHRISTMAS RETROSPOT TREE WOOD', 'SET/9 CHRISTMAS T-LIGHTS SCENTED ', 'BLUE ROSE FABRIC MIRROR', 'THREE CANVAS LUGGAGE TAGS', 'RETROSPOT PARTY BAG + STICKER SET', 'RETROSPOT SMALL TUBE MATCHES', '3D CHRISTMAS STAMPS STICKERS ', '36 FOIL HEART CAKE CASES', 'PACK OF 6 SWEETIE GIFT BOXES', 'CINAMMON SET OF 9 T-LIGHTS', 'ORANGE SCENTED SET/9 T-LIGHTS', 'RIBBON REEL STRIPES DESIGN ', 'SET OF 2 TINS JARDIN DE PROVENCE', 'MAKE YOUR OWN PLAYTIME CARD KIT', 'DINOSAURS  WRITING SET ', 'SKULLS WRITING SET ', 'DOORMAT BLACK FLOCK ', 'CHRISTMAS DECOUPAGE CANDLE', 'OFFICE MUG WARMER POLKADOT', 'BLACK RECORD COVER FRAME', 'RECORD FRAME 7\" SINGLE SIZE ', '36 PENCILS TUBE RED RETROSPOT', '36 PENCILS TUBE WOODLAND', 'ROCKING HORSE RED CHRISTMAS ', 'REGENCY CAKESTAND 3 TIER', 'VINTAGE UNION JACK BUNTING', 'RETRO LONGBOARD IRONING BOARD COVER', '3D DOG PICTURE PLAYING CARDS', 'SAVE THE PLANET COTTON TOTE BAG', 'PAPER BUNTING WHITE LACE', 'GENTLEMAN SHIRT REPAIR KIT ', 'CARD I LOVE LONDON ', 'MIRRORED WALL ART FOXY', 'MIRRORED WALL ART GENTS', 'AIRLINE BAG VINTAGE JET SET WHITE', \"POTTING SHED SOW 'N' GROW SET\", 'AIRLINE BAG VINTAGE WORLD CHAMPION ', 'PINK HEARTS PAPER GARLAND', 'POTTING SHED SEED ENVELOPES', 'HI TEC ALPINE HAND WARMER', 'POLYESTER FILLER PAD 45x45cm', 'CARD DOLLY GIRL ', 'CARD BILLBOARD FONT', 'RAINY LADIES BIRTHDAY CARD', 'RED WHITE SCARF  HOT WATER BOTTLE', 'SET OF 2 TEA TOWELS APPLE AND PEARS', 'LANTERN CREAM GAZEBO ', 'BLUE BIRDHOUSE DECORATION', 'ANTIQUE SILVER TEA GLASS ENGRAVED', 'SET OF 2 WOODEN MARKET CRATES', 'CLASSIC FRENCH STYLE BASKET NATURAL', 'CRAZY DAISY HEART DECORATION', 'CARD HOLDER GINGHAM HEART', 'SMALL STRIPES CHOCOLATE GIFT BAG ', 'TRAY, BREAKFAST IN BED', 'PIZZA PLATE IN BOX', 'PINK HEART DOTS HOT WATER BOTTLE', 'PLACE SETTING WHITE HEART', 'SET OF 4 NAPKIN CHARMS LEAVES   ', 'SET OF 4 NAPKIN CHARMS STARS   ', 'SET OF 4 NAPKIN CHARMS CUTLERY', 'CARAVAN SQUARE TISSUE BOX', 'BUTTON BOX ', '12 MESSAGE CARDS WITH ENVELOPES', 'SMALL RED BABUSHKA NOTEBOOK ', 'HERB MARKER MINT', 'HERB MARKER ROSEMARY', 'HERB MARKER BASIL', 'HERB MARKER CHIVES ', 'HERB MARKER PARSLEY', 'HERB MARKER THYME', 'METAL MERRY CHRISTMAS WREATH', 'WHITE CHRISTMAS GARLAND STARS TREES', 'RETROSPOT GIANT TUBE MATCHES', '36 FOIL STAR CAKE CASES ', 'PACK OF 6 HANDBAG GIFT BOXES', 'GARLAND WOODEN HAPPY EASTER', 'CALENDAR PAPER CUT DESIGN', 'CALENDAR IN SEASON DESIGN', 'BLUE PAISLEY TISSUE BOX', 'PINK PAISLEY SQUARE TISSUE BOX ', 'TOAST ITS - HAPPY BIRTHDAY', 'SET/10 IVORY POLKADOT PARTY CANDLES', 'SKULLS STORAGE BOX SMALL', 'JUMBO STORAGE BAG SKULLS', 'GARDEN PATH JOURNAL', 'BLACK ORANGE SQUEEZER', 'SET OF 72 GREEN PAPER DOILIES', 'RETROSPOT RED WASHING UP GLOVES', 'SMALL LICORICE DES PINK BOWL', 'SWISS ROLL TOWEL, CHOCOLATE  SPOTS', 'PICNIC BASKET WICKER LARGE', 'CREAM SWEETHEART EGG HOLDER', 'PINK 3 PIECE POLKADOT CUTLERY SET', 'PINK PARTY BAGS', 'BLUE PARTY BAGS ', 'PINK CREAM FELT CRAFT TRINKET BOX ', 'RED RETROSPOT OVEN GLOVE DOUBLE', 'RIDGED GLASS STORAGE JAR CREAM LID', 'PACK OF 20 NAPKINS PANTRY DESIGN', 'SWEETHEART CAKESTAND 3 TIER', 'CHRISTMAS HANGING STAR WITH BELL', 'MULTICOLOUR  CONFETTI IN TUBE', 'CHOCOLATE 3 WICK MORRIS BOX CANDLE', 'SET OF 16 VINTAGE PISTACHIO CUTLERY', 'CHRISTMAS TOILET ROLL', 'WHITE BELL HONEYCOMB PAPER ', ' 4 PURPLE FLOCK DINNER CANDLES', 'PINK & WHITE BREAKFAST TRAY', 'ENGLISH ROSE SPIRIT LEVEL ', 'LARGE ROUND WICKER PLATTER ', 'BLACK TEA TOWEL CLASSIC DESIGN', 'CHRISTMAS LIGHTS 10 VINTAGE BAUBLES', 'ROSES REGENCY TEACUP AND SAUCER ', 'T-LIGHT HOLDER HANGING LACE', 'HANGING HEART MIRROR DECORATION ', 'CREAM SLICE FLANNEL CHOCOLATE SPOT ', 'CREAM SLICE FLANNEL PINK SPOT ', 'GREEN REGENCY TEACUP AND SAUCER', 'EIGHT PIECE DINOSAUR SET', 'HEADS AND TAILS SPORTING FUN', \"ASS COL SMALL SAND GECKO P'WEIGHT\", 'ENAMEL MEASURING JUG CREAM', '12 PENCILS SMALL TUBE SKULL', '12 PENCIL SMALL TUBE WOODLAND', 'BLUE PAPER PARASOL ', 'VICTORIAN  METAL POSTCARD SPRING', 'METAL 4 HOOK HANGER FRENCH CHATEAU', 'BLACK KITCHEN SCALES', 'RED KITCHEN SCALES', 'IVORY KITCHEN SCALES', 'MULTI COLOUR SILVER T-LIGHT HOLDER', '3 HOOK HANGER MAGIC GARDEN', 'ASSORTED COLOUR LIZARD SUCTION HOOK', 'JUMBO BAG WOODLAND ANIMALS', \"CHILDREN'S CIRCUS PARADE MUG\", 'PACK 3 FIRE ENGINE/CAR PATCHES', 'CARD PSYCHEDELIC APPLES', 'IVORY ENCHANTED FOREST PLACEMAT', 'PACK OF 6 PANNETONE GIFT BOXES', 'MEASURING TAPE BABUSHKA RED', 'RED ENCHANTED FOREST PLACEMAT', 'CHILDRENS DOLLY GIRL MUG', 'TOADSTOOL MONEY BOX', 'MAKE YOUR OWN FLOWERPOWER CARD KIT', 'PAPER CHAIN KIT LONDON', 'MEASURING TAPE BABUSHKA BLUE', 'PENCIL CASE LIFE IS BEAUTIFUL', 'WOODEN ROUNDERS GARDEN SET ', 'CHILDS BREAKFAST SET DOLLY GIRL ', 'CHILDS BREAKFAST SET SPACEBOY ', 'CAKE PLATE LOVEBIRD WHITE', 'WOODEN ADVENT CALENDAR RED', 'GREEN CHRISTMAS TREE CARD HOLDER', 'STRING OF STARS CARD HOLDER', 'SET/12 TAPER CANDLES', 'MINT KITCHEN SCALES', 'WHITE WOOD GARDEN PLANT LADDER', 'GLASS JAR ENGLISH CONFECTIONERY', 'GLASS JAR DIGESTIVE BISCUITS', 'MILK BOTTLE WITH GLASS STOPPER ', 'WELCOME  WOODEN BLOCK LETTERS', 'SET/4 MODERN VINTAGE COTTON NAPKINS', 'VINTAGE UNION JACK APRON', 'SWALLOW SQUARE TISSUE BOX', 'NO JUNK MAIL METAL SIGN', 'SLATE TILE NATURAL HANGING', 'VINTAGE GLASS COFFEE CADDY', 'SILVER GLASS T-LIGHT SET', 'RIDGED GLASS FINGER BOWL', 'GLASS  BEURRE DISH', 'GIN & TONIC DIET GREETING CARD ', 'BIRTHDAY CARD, RETRO SPOT', 'WRAP RED APPLES ', 'RED RETROSPOT WRAP ', 'WRAP CHRISTMAS SCREEN PRINT', 'FANCY FONTS BIRTHDAY WRAP', 'CLASSIC WHITE FRAME', 'BLACK DINER WALL CLOCK', 'DOORMAT PEACE ON EARTH BLUE', 'BOX OF 24 COCKTAIL PARASOLS', 'GROW YOUR OWN PLANT IN A CAN ', 'PLASTERS IN TIN STRONGMAN', 'MINI JIGSAW DINOSAUR ', 'MINI JIGSAW BAKE A CAKE ', 'MINI JIGSAW DOLLY GIRL', 'WOODEN SCHOOL COLOURING SET', 'PACK OF 12 TRADITIONAL CRAYONS', 'CARD PARTY GAMES ', 'BOOZE & WOMEN GREETING CARD ', 'PACK OF 12 SUKI TISSUES ', 'PACK OF 12 WOODLAND TISSUES ', 'PACK OF 12 SKULL TISSUES', 'PACK OF 12 CIRCUS PARADE TISSUES ', 'PACK OF 12 SPACEBOY TISSUES', 'LADS ONLY TISSUE BOX', 'RED RETROSPOT TISSUE BOX', 'GINGERBREAD MAN COOKIE CUTTER', 'GIN AND TONIC MUG', \"IF YOU CAN'T STAND THE HEAT MUG\", 'I CAN ONLY PLEASE ONE PERSON MUG', 'PINK HEART SHAPE EGG FRYING PAN', '200 RED + WHITE BENDY STRAWS', 'RECIPE BOX RETROSPOT ', 'RECIPE BOX PANTRY YELLOW DESIGN', 'RECIPE BOX BLUE SKETCHBOOK DESIGN', '20 DOLLY PEGS RETROSPOT', 'NO SINGING METAL SIGN', 'BISCUIT TIN VINTAGE RED', 'EMERGENCY FIRST AID TIN ', 'POLKADOT PEN', 'DECORATIVE PLANT POT WITH FRIEZE', 'FRENCH BLUE METAL DOOR SIGN 5', 'CHEST OF DRAWERS GINGHAM HEART ', 'RED RETROSPOT CAKE STAND', 'JOY WOODEN BLOCK LETTERS', 'NOEL WOODEN BLOCK LETTERS ', 'PEACE WOODEN BLOCK LETTERS', 'OFFICE MUG WARMER BLACK+SILVER ', 'SET OF 2 CHRISTMAS DECOUPAGE CANDLE', 'COSMETIC BAG VINTAGE ROSE PAISLEY', 'PINK ROSE FABRIC MIRROR', 'SILVER PLATE CANDLE BOWL SMALL', 'SMALL REGAL  SILVER CANDLEPOT ', 'ANTIQUE TALL SWIRLGLASS TRINKET POT', 'ANTIQUE GLASS PEDESTAL BOWL', 'GUMBALL MAGAZINE RACK', 'RED FLOWER CROCHET FOOD COVER', 'CHERRY CROCHET FOOD COVER', 'STRAWBERRY RAFFIA FOOD COVER', 'POLKA DOT RAFFIA FOOD COVER', 'DOORMAT SPOTTY HOME SWEET HOME', 'T-LIGHT GLASS FLUTED ANTIQUE', 'SILVER  CANDLEPOT JARDIN ', 'POLKADOT MUG PINK ', 'PAPER BUNTING COLOURED LACE', 'ANTIQUE GLASS HEART DECORATION ', 'SET OF 6 KASHMIR FOLKART BAUBLES', 'CHRISTMAS RETROSPOT ANGEL WOOD', 'CHRISTMAS RETROSPOT STAR WOOD', 'HEART WOODEN CHRISTMAS DECORATION', 'LARGE HANGING IVORY & RED WOOD BIRD', 'SMALL HANGING IVORY/RED WOOD BIRD', 'GRAND CHOCOLATECANDLE', 'FAIRY CAKE BIRTHDAY CANDLE SET', '3 HOOK PHOTO SHELF ANTIQUE WHITE', 'CREAM SWEETHEART WALL CABINET', 'DOORMAT ENGLISH ROSE ', 'DOORMAT UNION FLAG', 'ROMANTIC IMAGES NOTEBOOK SET', 'CURIOUS  IMAGES NOTEBOOK SET', 'VINTAGE KEEPSAKE BOX PARIS DAYS', 'RED GINGHAM ROSE JEWELLERY BOX', 'BLUE CHARLIE+LOLA PERSONAL DOORSIGN', 'CHARLIE+LOLA\"EXTREMELY BUSY\" SIGN', 'CHARLOTTE BAG SUKI DESIGN', 'LOLITA  DESIGN  COTTON TOTE BAG', 'LETS GO SHOPPING COTTON TOTE BAG', 'PAINT YOUR OWN CANVAS SET', 'CAMOUFLAGE LED TORCH', 'BLUE DRAGONFLY HELICOPTER', 'YELLOW SHARK HELICOPTER', 'RED SHARK HELICOPTER', 'TOOL BOX SOFT TOY ', \"DOCTOR'S BAG SOFT TOY\", 'CARRIAGE', 'JUMBO BAG SCANDINAVIAN PAISLEY', 'JUMBO BAG TOYS ', 'DECORATIVE ROSE BATHROOM BOTTLE', 'DECORATIVE CATS BATHROOM BOTTLE', 'RAIN PONCHO RETROSPOT', 'CHRISTMAS TREE DECORATION WITH BELL', 'CHRISTMAS TREE HEART DECORATION', 'CHRISTMAS TREE STAR DECORATION', 'CHRISTMAS HANGING TREE WITH BELL', 'GLITTER STAR GARLAND WITH BELLS ', 'GLITTER CHRISTMAS TREE WITH BELLS', 'LILAC DIAMANTE PEN IN GIFT BOX', 'HEARTS GIFT TAPE', 'CAKES AND BOWS GIFT  TAPE', 'BINGO SET', 'GARDEN METAL SIGN ', 'UNION STRIPE WITH FRINGE  HAMMOCK', 'SUKI  SHOULDER BAG', 'SKULLS DESIGN FLANNEL', 'KITTENS DESIGN FLANNEL', 'SET OF 6 STRAWBERRY CHOPSTICKS', 'MODERN FLORAL STATIONERY SET', 'BOHEMIAN COLLAGE STATIONERY SET', 'FLORAL FOLK STATIONERY SET', 'ROBOT BIRTHDAY CARD', 'CHRISTMAS CARD SCREEN PRINT ', 'CHRISTMAS PUDDING TRINKET POT ', 'CHOC TRUFFLE GOLD TRINKET POT ', 'BROWN  PIRATE TREASURE CHEST ', 'SMALL WHITE RETROSPOT MUG IN BOX ', '6 RIBBONS EMPIRE  ', 'RIBBON REEL POLKADOTS ', 'RIBBON REEL FLORA + FAUNA ', 'PAPER BUNTING RETROSPOT', 'LADLE LOVE HEART RED ', 'LADLE LOVE HEART PINK', 'ANGEL DECORATION 3 BUTTONS ', 'STAR DECORATION RUSTIC', 'HEART DECORATION WITH PEARLS ', 'HEART DECORATION RUSTIC HANGING ', 'HEART GARLAND RUSTIC PADDED', 'FAMILY ALBUM WHITE PICTURE FRAME', 'CAKE STAND VICTORIAN FILIGREE SMALL', 'LOCAL CAFE MUG', 'MILK PAN RED RETROSPOT', 'FRYING PAN UNION FLAG', 'EASTER DECORATION NATURAL CHICK', 'WASH BAG VINTAGE ROSE PAISLEY', 'PIG KEYRING WITH LIGHT & SOUND ', 'COFFEE MUG DOG + BALL DESIGN', 'COFFEE MUG CAT + BIRD DESIGN', 'TEA COSY RED  STRIPE', 'OFFICE MUG WARMER CHOC+BLUE', 'HEART DECORATION PAINTED ZINC ', 'DOVE DECORATION PAINTED ZINC ', 'PARTY PIZZA DISH BLUE POLKADOT', 'TEA BAG PLATE RED RETROSPOT', 'CHARLOTTE BAG PINK POLKADOT', 'GLASS JAR KINGS CHOICE', 'GLASS JAR DAISY FRESH COTTON WOOL', 'AIRLINE BAG VINTAGE JET SET BROWN', 'WALL TIDY RETROSPOT ', 'TOY TIDY SPACEBOY  ', 'PAPERWEIGHT KINGS CHOICE ', 'MAGNETS PACK OF 4 RETRO PHOTO', 'LIPSTICK PEN RED', 'TOOTHPASTE TUBE PEN', 'ENAMEL WATERING CAN CREAM', 'WATERING CAN PINK BUNNY', 'SET OF 9 BLACK SKULL BALLOONS', 'TV DINNER TRAY AIR HOSTESS ', 'EMPIRE UNION JACK TV DINNER TRAY', 'WATERING CAN GARDEN MARKER', 'BIRDHOUSE GARDEN MARKER ', 'DAISY GARDEN MARKER', 'SET OF 2 TINS VINTAGE BATHROOM ', 'CHILDS GARDEN SPADE PINK', 'CHILDS GARDEN RAKE PINK', 'CHILDS GARDEN BRUSH PINK', 'MINI JIGSAW BUNNIES', 'HOLIDAY FUN LUDO', 'TRADITIONAL MODELLING CLAY', 'CARDHOLDER GINGHAM STAR', 'WOODEN CROQUET GARDEN SET', 'SET OF 4 NAPKIN CHARMS HEARTS', 'RED BABY BUNTING ', 'FRENCH KITCHEN SIGN BLUE METAL', 'SET OF 6 RIBBONS VINTAGE CHRISTMAS', 'FUNKY DIVA PEN', 'SMALL PURPLE BABUSHKA NOTEBOOK ', 'LARGE RED BABUSHKA NOTEBOOK ', 'LARGE PURPLE BABUSHKA NOTEBOOK  ', 'CHALKBOARD KITCHEN ORGANISER', 'FLUTED ANTIQUE CANDLE HOLDER', 'CARD MOTORBIKE SANTA', 'CARD CHRISTMAS VILLAGE', 'CREAM WALL PLANTER HEART SHAPED', 'VINTAGE CREAM DOG FOOD CONTAINER', 'BREAD BIN DINER STYLE IVORY', 'LOVE HEART NAPKIN BOX ', 'NUMBER TILE COTTAGE GARDEN 8', 'YELLOW GIANT GARDEN THERMOMETER', 'METAL DECORATION NAUGHTY CHILDREN ', '36 DOILIES DOLLY GIRL', 'CIRCUS PARADE CHILDRENS EGG CUP ', 'BLUE VICTORIAN FABRIC OVAL BOX', 'RED VICTORIAN FABRIC OVAL BOX', 'SET OF 3 BIRD LIGHT PINK FEATHER ', 'PINK/WHITE CHRISTMAS TREE 60CM', 'PINK AND WHITE CHRISTMAS TREE 120CM', 'PINK CHRISTMAS FLOCK DROPLET ', 'ACRYLIC JEWEL ICICLE, PINK', 'SMALLFOLKART BAUBLE CHRISTMAS DEC', 'FOLKART ZINC HEART CHRISTMAS DEC', 'ROSE FOLKART HEART DECORATIONS', 'CERAMIC CAKE STAND + HANGING CAKES', 'CONDIMENT TRAY 4 BOWLS AND 4 SPOONS', 'TEA TIME OVEN GLOVE', 'SCOTTIES CHILDRENS APRON', 'PINK FAIRY CAKE CHILDRENS APRON', 'SCOTTIE DOGS BABY BIB', 'DOORMAT WELCOME PUPPIES', 'HANGING JAM JAR T-LIGHT HOLDER', 'SET OF 6 HALLOWEEN GHOST T-LIGHTS', 'IVORY PILLAR CANDLE SILVER FLOCK', 'IVORY PILLAR CANDLE GOLD FLOCK', 'SET/3 ROSE CANDLE IN JEWELLED BOX', 'SET/3 OCEAN SCENT CANDLE JEWEL BOX', 'SET/3 VANILLA SCENTED CANDLE IN BOX', 'SET/3 CHRISTMAS DECOUPAGE CANDLES', 'TUMBLER, BAROQUE', 'TUMBLER, NEW ENGLAND', 'LAUNDRY 15C METAL SIGN', 'HOT BATHS METAL SIGN', 'METAL SIGN,CUPCAKE SINGLE HOOK', 'METAL SIGN CUPCAKE SINGLE HOOK', 'CHARLIE+LOLA RED HOT WATER BOTTLE ', 'CHARLIE LOLA BLUE HOT WATER BOTTLE ', 'CHARLIE+LOLA PINK HOT WATER BOTTLE', 'PINK/PURPLE RETRO RADIO', 'CHERRY BLOSSOM  DECORATIVE FLASK', 'SET OF 12  VINTAGE POSTCARD SET', 'SET OF 6 VINTAGE NOTELETS KIT', 'ENVELOPE 50 ROMANTIC IMAGES', 'ENVELOPE 50 BLOSSOM IMAGES', 'YULETIDE IMAGES GIFT WRAP SET', 'SET/4 RED MINI ROSE CANDLE IN BOWL', '15CM CHRISTMAS GLASS BALL 20 LIGHTS', 'CREAM SWEETHEART LETTER RACK', 'SMALL SQUARE CUT GLASS CANDLESTICK', 'BEADED CRYSTAL HEART PINK SMALL', 'BEADED CRYSTAL HEART GREEN ON STICK', 'CHARLIE + LOLA BISCUITS TINS', 'RED DRAGONFLY HELICOPTER', 'SEWING SUSAN 21 NEEDLE SET', 'BASKET OF FLOWERS SEWING KIT', 'VICTORIAN SEWING KIT', 'EASTER BUNNY GARLAND OF FLOWERS', 'SET OF 3 BABUSHKA STACKING TINS', 'MIDNIGHT BLUE PAIR HEART HAIR SLIDE', 'SILVER M.O.P ORBIT DROP EARRINGS', 'EDWARDIAN DROP EARRINGS JET BLACK', 'RUBY GLASS CLUSTER EARRINGS', 'NECKLACE+BRACELET SET BLUE HIBISCUS', 'FRUIT SALAD BAG CHARM', 'GREEN MURANO TWIST BRACELET', 'PINK GLASS TASSLE BAG CHARM ', 'TURQUOISE GLASS TASSLE BAG CHARM ', 'ANT COPPER RED BOUDICCA BRACELET', 'SILVER/AMETHYST DROP EARRINGS LEAF', 'SILVER LARIAT BLACK STONE EARRINGS', 'GREEN ENAMEL+GLASS HAIR COMB', 'LETTER \"D\" BLING KEY RING', 'LETTER \"G\" BLING KEY RING', 'LETTER \"H\" BLING KEY RING', 'LETTER \"J\" BLING KEY RING', 'LETTER \"R\" BLING KEY RING', 'DOTCOM POSTAGE', 'FAIRY CAKE NOTEBOOK A5 SIZE', 'FAIRY CAKES NOTEBOOK A6 SIZE', 'ENGLISH ROSE NOTEBOOK A7 SIZE', 'FAIRY CAKES NOTEBOOK A7 SIZE', 'MOUSE TOY WITH PINK T-SHIRT', 'DOG TOY WITH PINK CROCHET SKIRT', 'BOYS ALPHABET IRON ON PATCHES', 'GREEN ROSE WASHBAG', 'SOFT PINK ROSE TOWEL ', 'MINT GREEN ROSE TOWEL', 'PINK BUTTERFLY HANDBAG W BOBBLES', 'ANTIQUE SILVER TEA GLASS ETCHED', 'SET OF 72 PINK HEART PAPER DOILIES', 'DENIM PATCH PURSE PINK BUTTERFLY', 'BLUE PATCH PURSE PINK HEART', 'RED SPOTTY BISCUIT TIN', 'VINTAGE CREAM CAT FOOD CONTAINER', 'ASSTD DESIGN RACING CAR PEN', 'KITTY PENCIL ERASERS', 'BROCADE RING PURSE ', 'ORIGAMI SANDLEWOOD INCENSE+FLOWER', 'ORIGAMI VANILLA INCENSE/CANDLE SET ', 'ORIGAMI JASMINE INCENSE/CANDLE SET', 'ORIGAMI LAVENDER INCENSE/CANDL SET ', 'ORIGAMI ROSE INCENSE/CANDLE SET ', 'ORIGAMI OPIUM INCENSE/CANDLE SET ', 'ORIGAMI SANDLEWOOD INCENSE/CAND SET', 'BLUE GLASS GEMS IN BAG', 'PORCELAIN BUTTERFLY OIL BURNER', 'VIPPASSPORT COVER ', 'RED RETROSPOT LUGGAGE TAG', 'FIRST CLASS HOLIDAY PURSE ', 'RED RETROSPOT BOWL', 'STRAWBERRY DREAM CHILDS UMBRELLA', 'WOODLAND CHARLOTTE BAG', 'RED RETROSPOT CHARLOTTE BAG', 'GOLD MINI TAPE MEASURE ', 'BLACK MINI TAPE MEASURE ', 'ABSTRACT CIRCLE JOURNAL ', 'FRENCH LATTICE CUSHION COVER ', 'FRENCH PAISLEY CUSHION COVER ', 'FRENCH FLORAL CUSHION COVER ', 'PORCELAIN T-LIGHT HOLDERS ASSORTED', 'RED FLORAL FELTCRAFT SHOULDER BAG', 'PINK BLUE FELT CRAFT TRINKET BOX', '12 PENCILS SMALL TUBE RED RETROSPOT', '12 PENCILS TALL TUBE WOODLAND', 'JAZZ HEARTS ADDRESS BOOK', 'ROSE DU SUD COSMETICS BAG', 'ANTIQUE ALL GLASS CANDLESTICK', 'VINTAGE BILLBOARD TEA MUG', 'VINTAGE BILLBOARD MUG ', 'JINGLE BELLS TREE DECORATION', 'MOODY GIRL DOOR HANGER ', 'BEWARE OF THE CAT METAL SIGN ', 'POTTERING IN THE SHED METAL SIGN', 'WHITE HONEYCOMB PAPER GARLAND ', 'LARGE WHITE HONEYCOMB PAPER BELL  ', 'PINK  HONEYCOMB PAPER BALL ', 'SKULL AND CROSSBONES  GARLAND ', 'SET 3 RETROSPOT TEA,COFFEE,SUGAR', 'RED RETROSPOT ROUND CAKE TINS', 'SWEETHEART CERAMIC TRINKET BOX', 'RED RETROSPOT CUP', 'WOODLAND  HEIGHT CHART STICKERS ', 'WHITE GOOSE FEATHER CHRISTMAS TREE ', 'GLASS HEART T-LIGHT HOLDER ', 'IVY HEART WREATH', 'EUCALYPTUS & PINECONE  WREATH', 'TOAST ITS - BEST MUM', 'MIRRORED WALL ART STARS', 'MIRRORED WALL ART PHOTO FRAMES', 'MIRRORED WALL ART SPLODGES', 'MIRRORED WALL ART TABLE LAMP', 'IVORY HANGING DECORATION  HEART', 'BROWN CHECK CAT DOORSTOP ', 'SPOTTY PINK DUCK DOORSTOP', 'ELEPHANT, BIRTHDAY CARD, ', 'RED HEART SHAPE LOVE BUCKET ', 'PINK  HEART SHAPE LOVE BUCKET ', 'ASSORTED MINI MADRAS NOTEBOOK', 'ASSORTED TUTTI FRUTTI KEYRING BALL', 'SKULLS  STICKERS', 'BAG 125g SWIRLY MARBLES', 'BAG 250g SWIRLY MARBLES', 'CANDY SHOP  STICKER SHEET', 'SWEET PUDDING STICKER SHEET', 'VINTAGE SHELLS PRINT', 'SET OF SALT AND PEPPER TOADSTOOLS', 'HOOK, 1 HANGER ,MAGIC GARDEN', 'PORCELAIN HANGING BELL SMALL', 'PAINTED LIGHTBULB STAR+ MOON', 'BLUE TEA TOWEL CLASSIC DESIGN', 'SET 12 KIDS  WHITE CHALK STICKS', 'LITTLE GREEN MONSTER SOFT TOY', 'CHRISTMAS MUSICAL ZINC STAR', 'CHRISTMAS MUSICAL ZINC HEART ', 'SKULLS AND CROSSBONES WRAP', 'POLYESTER FILLER PAD 45x30cm', 'POLYESTER FILLER PAD 40x40cm', 'PINK FLOWER FABRIC PONY', 'BIRTHDAY PARTY CORDON BARRIER TAPE', 'CAMOUFLAGE DESIGN TEDDY', 'BLUE SPOT CERAMIC DRAWER KNOB', 'CUSHION COVER PINK UNION JACK', 'FOUR HOOK  WHITE LOVEBIRDS', 'FRENCH BLUE METAL DOOR SIGN 3', 'FRENCH BLUE METAL DOOR SIGN No', 'BEACH HUT KEY CABINET', 'CHERRY BLOSSOM PASSPORT COVER', 'SMALL YELLOW BABUSHKA NOTEBOOK ', 'RETRO MOD TRAY', 'SWEETHEART WIRE MAGAZINE RACK', 'CARDHOLDER HOLLY WREATH METAL', 'SILVER CHRISTMAS TREE BAUBLE STAND ', 'SWEETHEART RECIPE BOOK STAND', 'OVERNIGHT BAG VINTAGE ROSE PAISLEY', 'FAUX FUR CHOCOLATE THROW', 'ANT WHITE WIRE HEART SPIRAL', 'FEATHER PEN,COAL BLACK', 'FEATHER PEN,LIGHT PINK', 'FEATHER PEN,HOT PINK', 'DOORMAT AIRMAIL ', 'DOORMAT 3 SMILEY CATS', 'BREAD BIN DINER STYLE RED ', 'MAGNETS PACK OF 4 VINTAGE COLLAGE', 'MAGNETS PACK OF 4 HOME SWEET HOME', 'MAGNETS PACK OF 4 CHILDHOOD MEMORY', 'ART LIGHTS,FUNK MONKEY', 'MINI CAKE STAND WITH HANGING CAKES', 'SET OF 4 FAIRY CAKE PLACEMATS', 'OFFICE MUG WARMER PINK', 'PLEASE ONE PERSON METAL SIGN', 'GLITTER CHRISTMAS HEART ', 'RED STRIPE CERAMIC DRAWER KNOB', 'NURSERY A,B,C PAINTED LETTERS', 'SET OF 2 ROUND TINS DUTCH CHEESE', 'GREEN GEISHA GIRL ', 'BLUE GEISHA GIRL ', 'NEWSPAPER STAND', 'CINAMMON & ORANGE WREATH', 'WOOD STOCKING CHRISTMAS SCANDISPOT', 'WOODEN TREE CHRISTMAS SCANDINAVIAN', 'ROCKING HORSE GREEN CHRISTMAS ', 'SET OF 4 NAPKIN CHARMS 3 KEYS ', 'SET OF 4 NAPKIN CHARMS INSTRUMENT', 'SET OF 4 NAPKIN CHARMS CROWNS ', 'SWALLOW WOODEN CHRISTMAS DECORATION', 'GLITTER CHRISTMAS TREE', 'GARLAND WITH STARS AND BELLS', 'CHRISTMAS GARLAND STARS,TREES', 'SWISS CHALET TREE DECORATION ', 'BIRD BOX CHRISTMAS TREE DECORATION', 'WOODEN ADVENT CALENDAR CREAM', 'Manual', 'DOORMAT I LOVE LONDON', 'WOOD AND GLASS MEDICINE CABINET', 'MA CAMPAGNE CUTLERY BOX', 'WICKER WREATH LARGE', 'TABLE LAMP WHITE SHADE WOOD BASE', 'SMALL FOLKART STAR CHRISTMAS DEC', 'SMALL HANGING GLASS+ZINC LANTERN', 'GREEN CHRISTMAS TREE STRING 20LIGHT', 'BLACK CHRISTMAS TREE 60CM', 'WOODEN STAR CHRISTMAS SCANDINAVIAN', 'FINE WICKER HEART ', 'UNION JACK FLAG PASSPORT COVER ', 'EDWARDIAN PARASOL PINK', 'S/4 CACTI CANDLES', 'PINK MARSHMALLOW SCARF KNITTING KIT', '6 CHOCOLATE LOVE HEART T-LIGHTS', '3 TRADITIONAL COOKIE CUTTERS  SET', 'CHILDRENS SPACEBOY MUG', 'MIRRORED WALL ART SKULLS', 'COWBOYS AND INDIANS BIRTHDAY CARD ', 'RING OF ROSES BIRTHDAY CARD', 'ALARM CLOCK BAKELIKE CHOCOLATE', 'CERAMIC CAKE DESIGN SPOTTED MUG', 'LIPSTICK PEN FUSCHIA', 'GREEN 3 PIECE POLKADOT CUTLERY SET', 'PAINTED METAL PEARS ASSORTED', 'COLOUR GLASS. STAR T-LIGHT HOLDER', 'SWALLOWS GREETING CARD', 'LETTER \"M\" BLING KEY RING', 'LETTER \"V\" BLING KEY RING', 'LETTER \"S\" BLING KEY RING', 'KIDS RAIN MAC PINK', 'SQUARE FLOOR CUSHION VINTAGE RED', 'BLUE  DIAMANTE PEN IN GIFT BOX', '36 PENCILS TUBE SKULLS', 'GREEN FERN JOURNAL ', 'BLACK EAR MUFF HEADPHONES', 'RED POLKADOT COFFEE  MUG', 'ASSORTED TUTTI FRUTTI MIRROR', 'SET OF 4 ROSE BOTANICAL CANDLES', 'FELT EGG COSY BLUE RABBIT ', 'LOVE HEART SOCK HANGER', 'FUNKY MONKEY GIFT BAG MEDIUM', 'ORIGAMI VANILLA INCENSE CONES', 'FAIRY DREAMS INCENSE ', 'DRAGONS BLOOD INCENSE', 'FIRST CLASS PASSPORT COVER ', 'TROPICAL PASSPORT COVER ', 'CHERRY BLOSSOM LUGGAGE TAG', 'PINK POLKADOT CHILDRENS UMBRELLA', 'RED RETROSPOT CHILDRENS UMBRELLA', 'FLORAL SOFT CAR TOY', 'MOUSEY LONG LEGS SOFT TOY', 'GREEN CAT FLORAL CUSHION COVER ', 'RED RETROSPOT SHOPPER BAG', 'BLUE POLKADOT WASHING UP GLOVES', 'BLUE PAISLEY SKETCHBOOK', 'ZINC HEART LATTICE T-LIGHT HOLDER', 'BLUE POT PLANT CANDLE ', 'ROSE DU SUD DRAWSTRING BAG', 'DARK BIRD HOUSE TREE DECORATION', 'VINTAGE RED TEATIME MUG', 'LARGE CAKE TOWEL, CHOCOLATE SPOTS', 'LARGE CAKE TOWEL PINK SPOTS', 'GOLD FISHING GNOME', 'HOME SWEET HOME METAL SIGN ', '3D HEARTS  HONEYCOMB PAPER GARLAND', 'PASTEL COLOUR HONEYCOMB FAN', 'SET/4 BADGES DOGS', 'SALLE DE BAIN HOOK', 'VINTAGE KITCHEN PRINT FRUITS', 'VINTAGE KITCHEN PRINT SEAFOOD', 'STRIPEY CHOCOLATE NESTING BOXES', 'TOAST ITS - FAIRY FLOWER', 'BASKET OF TOADSTOOLS', '12 IVORY ROSE PEG PLACE SETTINGS', 'RED RETROSPOT PUDDING BOWL', 'CERAMIC BIRDHOUSE CRESTED TIT SMALL', \"Dr. Jam's Arouzer Stress Ball\", 'ASSORTED TUTTI FRUTTI NOTEBOOK', 'ASSORTED TUTTI FRUTTI SMALL PURSE', 'RIDGED GLASS POSY VASE ', 'RED SPOT CERAMIC DRAWER KNOB', 'SMALL MEDINA STAMPED METAL BOWL ', 'MOCK LOBSTER FRIDGE MAGNET', 'BIG DOUGHNUT FRIDGE MAGNETS', 'GAOLERS KEYS DECORATIVE GARDEN ', 'DECORATIVE FLORE BATHROOM BOTTLE', 'GLITTER HEART GARLAND WITH BELLS ', 'ASSORTED CREEPY CRAWLIES', 'PINK DIAMANTE PEN IN GIFT BOX', 'POTTING SHED TEA MUG', 'KINGS CHOICE MUG', 'POTTING SHED TWINE', 'KEY FOB , GARAGE DESIGN', 'PHARMACIE FIRST AID TIN', 'CHOCOLATE THIS WAY METAL SIGN', 'SET OF 36 PAISLEY FLOWER DOILIES', 'RIBBON REEL LACE DESIGN ', 'PAPER CHAIN KIT EMPIRE', 'EMPIRE TISSUE BOX', 'SET OF 2 TEA TOWELS PING MICROWAVE', 'DIAMANTE HEART SHAPED WALL MIRROR, ', 'CAKE STAND VICTORIAN FILIGREE LARGE', 'WOOD STAMP SET THANK YOU', 'MAGIC GARDEN FELT GARLAND ', '6 EGG HOUSE PAINTED WOOD', 'COFFEE MUG BLUE PAISLEY DESIGN', 'TEA COSY BLUE STRIPE', 'FIVE CATS HANGING DECORATION', 'BLUE POLKADOT KIDS BAG', 'MOBILE VINTAGE HEARTS ', 'WOODLAND PARTY BAG + STICKER SET', 'HOME GARLAND PAINTED ZINC ', 'ILLUSTRATED CAT BOWL ', 'PAPERWEIGHT VINTAGE COLLAGE', 'MONEY BOX POCKET MONEY DESIGN', 'MONEY BOX BISCUITS DESIGN', 'LIPSTICK PEN BABY PINK', 'ENAMEL COLANDER CREAM', 'CAST IRON HOOK GARDEN FORK', 'CAST IRON HOOK GARDEN TROWEL', 'WOODEN UNION JACK BUNTING', 'CABIN BAG VINTAGE PAISLEY', 'MAGIC DRAWING SLATE PURDEY', 'FELTCRAFT HAIRBAND PINK AND BLUE', 'CHRISTMAS RETROSPOT HEART WOOD', 'STRAWBERRY FAIRY CAKE TEAPOT', 'PINK BABY BUNTING', 'FRENCH GARDEN SIGN BLUE METAL', 'DOORMAT WELCOME TO OUR HOME', \"POPPY'S PLAYHOUSE LIVINGROOM \", \"POPPY'S PLAYHOUSE BATHROOM\", 'LARGE YELLOW BABUSHKA NOTEBOOK ', 'BROCANTE COAT RACK', 'WHITE BROCANTE SOAP DISH', 'ROUND CAKE TIN VINTAGE GREEN', 'SOAP DISH BROCANTE', 'NUMBER TILE COTTAGE GARDEN 2', 'NOVELTY BISCUITS CAKE STAND 3 TIER', 'OVEN MITT APPLES DESIGN', 'CHILDRENS APRON APPLES DESIGN', 'CHRISTMAS METAL POSTCARD WITH BELLS', 'DOLLY GIRL CHILDRENS EGG CUP', 'IVORY STRING CURTAIN WITH POLE ', 'BLUE FELT HANGING HEART W FLOWER', 'PINK FELT HANGING HEART W FLOWER', 'FOLKART CLIP ON STARS', 'FOLKART HEART NAPKIN RINGS', 'FOLK ART METAL STAR T-LIGHT HOLDER', 'CERAMIC CAKE BOWL + HANGING CAKES', 'YELLOW/PINK CERAMIC CANDLE HOLDER', 'SUNSET COLOUR CHUNKY KNITTED THROW', 'WOVEN BERRIES CUSHION COVER ', 'TEA TIME PARTY BUNTING', 'TEA TIME KITCHEN APRON', 'BLUE HAPPY BIRTHDAY BUNTING', 'PINK HAPPY BIRTHDAY BUNTING', 'CAROUSEL DESIGN WASHBAG', 'LOVE HEART POCKET WARMER', 'A4 WALL TIDY BLUE OFFICE', 'COLUMBIAN  CUBE CANDLE ', 'CORONA MEXICAN TRAY', 'AREA PATROLLED METAL SIGN', \"FANNY'S REST STOPMETAL SIGN\", 'MIDNIGHT GLAMOUR SCARF KNITTING KIT', 'YELLOW METAL CHICKEN HEART ', 'PACK 20 ENGLISH ROSE PAPER NAPKINS', '3D SHEET OF DOG STICKERS', '3D SHEET OF CAT STICKERS', 'MIXED NUTS LIGHT GREEN BOWL', 'TALL ROCOCO CANDLE HOLDER', 'WHITE TRAVEL ALARM CLOCK', 'GRASS HOPPER WOODEN WALL CLOCK ', 'JUNGLE POPSICLES ICE LOLLY HOLDERS', 'LARGE TAHITI BEACH BAG', 'HAND TOWEL PINK FLOWER AND DAISY', 'ASSORTED COLOUR T-LIGHT HOLDER', 'RECTANGULAR SHAPED MIRROR', 'SET OF 3 CONEY ISLAND OVAL BOXES', 'SET/4 BLUE FLOWER CANDLES IN BOWL', 'FRENCH ENAMEL CANDLEHOLDER', 'BLACK ENCHANTED FOREST PLACEMAT', 'BEADED CRYSTAL HEART PINK ON STICK', 'SET/6 PINK BIRD T-LIGHT CANDLES', 'MINI PAINTED GARDEN DECORATION ', 'SET OF 6 3D KIT CARDS FOR KIDS', 'SET/3 DECOUPAGE STACKING TINS', 'BLACK VINTAGE EARRINGS', 'GOLD M.O.P ORBIT DROP EARRINGS', 'GOLD M.O.P ORBIT BRACELET', \"NEW BAROQUE B'FLY NECKLACE GREEN\", 'FLOWER GLASS GARLD NECKL36\"TURQUOIS', 'MURANO STYLE GLASS BRACELET BLACK', 'CRACKED GLAZE NECKLACE RED', 'CRACKED GLAZE EARRINGS RED', 'BLACK DIAMOND CLUSTER EARRINGS', 'BLUE MURANO TWIST NECKLACE', 'OLD ROSE COMBO BEAD NECKLACE', 'WHITE/PINK MINI CRYSTALS NECKLACE', 'ANT COPPER TURQ BOUDICCA BRACELET', 'PINK & WHITE ROSEBUD RING', 'PAIR BUTTERFLY HAIR CLIPS', 'DROP DIAMANTE EARRINGS CRYSTAL', 'DROP DIAMANTE EARRINGS GREEN', 'AMETHYST GLASS/SHELL/PEARL NECKLACE', 'JADE DROP EARRINGS W FILIGREE', 'CRYSTAL DIAMANTE STAR BROOCH', 'PINK ENAMEL+GLASS HAIR COMB', 'DIAMOND LAS VEGAS NECKLACE 45CM', 'LETTER \"A\" BLING KEY RING', 'LETTER \"E\" BLING KEY RING', 'PINK FLORAL FELTCRAFT SHOULDER BAG', 'WHITE STITCHED CUSHION COVER', 'PIN CUSHION BABUSHKA RED', 'PIN CUSHION BABUSHKA BLUE', 'PIN CUSHION BABUSHKA PINK', 'RED RETROSPOT PURSE ', 'LADYBIRD + BEE RAFFIA FOOD COVER', 'HOME SWEET HOME MUG', 'CHILDRENS GARDEN GLOVES BLUE', 'CHRYSANTHEMUM SKETCHBOOK ', 'VINTAGE UNION JACK DOORSTOP', 'WAKE UP COCKEREL TILE COASTER', 'ROSE 3 WICK MORRIS BOX CANDLE', 'ROSE SCENT CANDLE JEWELLED DRAWER', 'WHITE BAMBOO RIBS LAMPSHADE', 'FOLDING UMBRELLA CHOCOLATE POLKADOT', 'CAKE STAND LOVEBIRD 2 TIER WHITE', '3 GARDENIA MORRIS BOXED CANDLES', 'SET/4 GARDEN ROSE DINNER CANDLE', 'GOLD PRINT PAPER BAG', 'WOODEN HAPPY BIRTHDAY GARLAND', 'SET/4 BADGES CUTE CREATURES', 'BLUE PAISLEY POCKET BOOK', 'PORCELAIN ROSE LARGE ', 'PORCELAIN ROSE SMALL', 'BAKING SET SPACEBOY DESIGN', 'PEACE SMALL WOOD LETTERS', 'RED RETROSPOT APRON ', 'FELTCRAFT DOLL MARIA', 'PARTY METAL SIGN ', 'VINTAGE CREAM 3 BASKET CAKE STAND', 'DOORMAT RESPECTABLE HOUSE', 'MEMO BOARD RETROSPOT  DESIGN', 'PINK/YELLOW FLOWERS HANDBAG', 'CHARLIE+LOLA MY ROOM DOOR SIGN', 'CHRISTMAS CARD STACK OF PRESENTS', 'SET 12 KIDS COLOUR  CHALK STICKS', 'SPACEBOY BIRTHDAY CARD', 'JOY LARGE WOOD LETTERS', 'WORLD WAR 2 GLIDERS ASSTD DESIGNS', 'ENCHANTED BIRD COATHANGER 5 HOOK', 'CACTI T-LIGHT CANDLES', 'HANGING BAUBLE T-LIGHT HOLDER SMALL', 'BALLOON WATER BOMB PACK OF 35', 'BALLOON PUMP WITH 10 BALLOONS', 'ALPHABET STENCIL CRAFT', '3 TRADITIONAl BISCUIT CUTTERS  SET', 'IVORY PAPER CUP CAKE CASES ', 'PARTY INVITES WOODLAND', 'PARTY INVITES BALLOON GIRL', 'LOVELY BONBON STICKER SHEET', 'ASSTD DESIGN 3D PAPER STICKERS', 'CUTE CATS TAPE', 'PACK OF 12 COLOURED PENCILS', 'TOAST ITS - I LOVE YOU ', 'BANK ACCOUNT  GREETING  CARD ', 'EMPIRE BIRTHDAY CARD', 'TEA PARTY BIRTHDAY CARD', 'CARD CAT AND TREE ', 'CARD DOG AND BALL ', 'PENNY FARTHING BIRTHDAY CARD', 'BLUE STRIPE CERAMIC DRAWER KNOB', 'WHITE SPOT BLUE CERAMIC DRAWER KNOB', 'EMBOSSED GLASS TEALIGHT HOLDER', 'WATERING CAN GREEN DINOSAUR', 'WATERING CAN BLUE ELEPHANT', 'FLYING PIG WATERING CAN', 'FRENCH BLUE METAL DOOR SIGN 1', 'FRENCH BATHROOM SIGN BLUE METAL', 'CAKESTAND, 3 TIER, LOVEHEART', 'GLASS BELL JAR SMALL', 'GLASS BELL JAR LARGE', 'FRIDGE MAGNETS LA VIE EN ROSE', 'BROCANTE SHELF WITH HOOKS', 'GREEN POLKADOT BOWL', 'PICTURE FRAME WOOD TRIPLE PORTRAIT', 'SET3 BOOK BOX GREEN GINGHAM FLOWER ', 'ROUND CAKE TIN VINTAGE RED', 'RETRO PLASTIC ELEPHANT TRAY', 'RAINBOW PEGS PHOTO CLIP STRING', 'TEATIME PEN CASE & PENS', 'PHOTO FRAME 3 CLASSIC HANGING', '3D TRADITIONAL CHRISTMAS STICKERS', 'SEASIDE FLYING DISC', 'PEG BAG APPLES DESIGN', 'GREY FLORAL FELTCRAFT SHOULDER BAG', 'SET/3 RED GINGHAM ROSE STORAGE BOX', 'SMALL RED RETROSPOT MUG IN BOX ', '12 PENCILS TALL TUBE RED RETROSPOT', 'RED RETROSPOT TRADITIONAL TEAPOT ', 'DAIRY MAID  PUDDING BOWL', 'ASSORTED CAKES FRIDGE MAGNETS', 'FOOD CONTAINER SET 3 LOVE HEART ', 'DO NOT TOUCH MY STUFF DOOR HANGER ', 'KEEP OUT BOYS DOOR HANGER ', 'MOODY BOY  DOOR HANGER ', 'FILIGRIS HEART WITH BUTTERFLY', 'DECORATION HEN ON NEST, HANGING', 'HEN HOUSE DECORATION', 'PACK OF 12 STICKY BUNNIES', 'MINI WOODEN HAPPY BIRTHDAY GARLAND', 'WOOD STAMP SET BEST WISHES', 'WOOD STAMP SET HAPPY BIRTHDAY', 'GLAMOROUS  MUG', 'GARDENIA 3 WICK MORRIS BOXED CANDLE', 'CHEST 7 DRAWER MA CAMPAGNE', 'JUMBO BAG SPACEBOY DESIGN', 'AIRLINE BAG VINTAGE JET SET RED', 'COSY SLIPPER SHOES LARGE GREEN', 'WHITE JEWELLED HEART DECORATION', 'CHINESE DRAGON PAPER LANTERNS', 'MILK PAN PINK POLKADOT', 'BOOM BOX SPEAKER BOYS', 'SMALL PINK MAGIC CHRISTMAS TREE', 'SET OF 4 FAIRY CAKE PLACEMATS ', 'RECYCLED PENCIL WITH RABBIT ERASER', 'BLUE CALCULATOR RULER', 'RED FLOCK LOVE HEART PHOTO FRAME', 'SCENTED CANDLE IN DIGITALIS TIN', 'GROW YOUR OWN FLOWERS SET OF 3', 'VINTAGE POST OFFICE CABINET', 'CLEAR MILKSHAKE GLASS', 'BIRDS MOBILE VINTAGE DESIGN', 'DINOSAUR LUNCH BOX WITH CUTLERY', 'CHARLIE AND LOLA TABLE TINS', 'CHARLIE AND LOLA FIGURES TINS', 'CAKE STAND WHITE TWO TIER LACE', 'BLUE POLKADOT BOWL', 'PINK  POLKADOT CUP', 'PACK OF 6 SKULL PAPER CUPS', 'PACK OF 6 SKULL PAPER PLATES', 'PACK OF 20 SKULL PAPER NAPKINS', '200 BENDY SKULL STRAWS', 'SKULLS PARTY BAG + STICKER SET', 'STRAWBERRY HONEYCOMB  GARLAND ', 'PINK POLKADOT BOWL', 'SET OF 6 T-LIGHTS WEDDING CAKE ', 'MINI CAKE STAND T-LIGHT HOLDER', 'BLACK TEA,COFFEE,SUGAR JARS', 'SHOE SHINE BOX ', 'BREAD BIN DINER STYLE MINT', 'VANILLA INCENSE 40 CONES IN TIN', 'LAVENDER INCENSE 40 CONES IN TIN', 'COLUMBIAN CANDLE ROUND ', 'COLUMBIAN CANDLE RECTANGLE', 'ZINC FINISH 15CM PLANTER POTS', 'SILK PURSE BABUSHKA BLUE', 'ARMY CAMO BOOKCOVER TAPE', 'CARROT CHARLIE+LOLA COASTER SET', 'MEMO BOARD COTTAGE DESIGN', 'CHILDS GARDEN SPADE BLUE', 'SKULLS GREETING CARD', 'HANGING CHICK  YELLOW DECORATION', 'SET OF 72 SKULL PAPER  DOILIES', 'SPACEBOY GIFT WRAP', 'BLUE GLASS CHUNKY CHARM BRACELET', 'BLACK+WHITE NECKLACE W TASSEL', 'AMBER CHUNKY GLASS+BEAD NECKLACE', 'GINGHAM ROSE WRAP', '12 PENCILS TALL TUBE POSY', '12 COLOURED PARTY BALLOONS', 'PINK FLOWER CROCHET FOOD COVER', 'FLOWER VINE RAFFIA FOOD COVER', 'FOOD/DRINK SPONGE STICKERS', 'PINK HEART SHAPE PHOTO FRAME', 'SILVER DIAMANTE PEN IN GIFT BOX', 'BLUE JUICY FRUIT PHOTO FRAME', 'GREEN JUICY FRUIT PHOTO FRAME', 'GLITTER BUTTERFLY CLIPS', 'VINTAGE UNION JACK MEMOBOARD', 'WRAP PINK FAIRY CAKES ', 'BABY BOOM RIBBONS ', 'ENAMEL WASH BOWL CREAM', 'DIAMANTE BOW BROOCH BLACK COLOUR', 'DIAMANTE BOW BROOCH GREEN COLOUR', 'DIAMANTE BOW BROOCH RED COLOUR', 'LILY BROOCH AMETHYST COLOUR', 'PAIR OF ENAMEL BUTTERFLY HAIRCLIP', 'AMETHYST DIAMANTE EXPANDABLE RING', 'PURPLE GEMSTONE BRACELET', 'BLACK GEMSTONE BRACELET', 'PURPLE GEMSTONE NECKLACE 45CM', '5 STRAND GLASS NECKLACE BLACK', 'AMETHYST HOOP EARRING FLORAL LEAF', 'HANGING BAUBLE T-LIGHT HOLDER LARGE', 'CUT GLASS HEXAGON T-LIGHT HOLDER', 'CLAM SHELL SMALL ', 'CLAM SHELL LARGE', 'COCKLE SHELL DISH', 'PARTY PIZZA DISH RED RETROSPOT', 'SPACEBOY TV DINNER TRAY', 'PINK TALL PORCELAIN T-LIGHT HOLDER ', 'WHITE TALL PORCELAIN T-LIGHT HOLDER', 'KEY FOB , FRONT  DOOR ', 'KEY FOB , BACK DOOR ', 'SET OF 6 CAKE CHOPSTICKS', 'CHRYSANTHEMUM POCKET BOOK ', 'GARDEN PATH POCKET BOOK', 'RED DAISY POCKET BOOK ', 'FROG SOCK PUPPET', 'PINK HORSE SOCK PUPPET', '6 ROCKET BALLOONS ', 'BLACK WINE GLASS', 'CLASSICAL ROSE CANDLESTAND', 'BLACK CHAMPAGNE GLASS', 'PINK OWL SOFT TOY', 'RED RETROSPOT PEG BAG', 'FAIRY CAKE DESIGN UMBRELLA', 'WRAP, BILLBOARD FONTS DESIGN', 'GIFT BAG PSYCHEDELIC APPLES', 'WRAP GREEN PEARS ', '4 ROSE PINK DINNER CANDLES', '4 SKY BLUE DINNER CANDLES', 'TWO DOOR CURIO CABINET', 'PINK POLKADOT WRAP ', 'ASSORTED COLOURS SILK FAN', 'Bank Charges', 'RED RETROSPOT BUTTER DISH', 'LOVE GARLAND PAINTED ZINC ', 'MEASURING TAPE BABUSHKA PINK', 'VINTAGE KID DOLLY CARD ', 'BLUE POLKADOT WRAP', 'MIRROR LOVE BIRD T-LIGHT HOLDER', 'BLACK LOVE BIRD T-LIGHT HOLDER', 'HAND OPEN SHAPE GOLD', 'FELT FARM ANIMAL WHITE BUNNY ', 'SNOWSTORM PHOTO FRAME FRIDGE MAGNET', 'RED POLKADOT PUDDING BOWL', 'BLUE POLKADOT PUDDING BOWL', 'VINTAGE BLUE TINSEL REEL', 'JARDIN ETCHED GLASS BUTTER DISH', 'SPACE FROG', 'SPACE CADET BLACK', 'SPACE CADET RED', 'SPACE OWL', 'SPACE CADET WHITE', 'WOODLAND DESIGN  COTTON TOTE BAG', 'TOAST ITS - DINOSAUR', 'GARDEN PATH SKETCHBOOK', 'BLUE POLKADOT COFFEE MUG', 'MONSTERS STENCIL CRAFT', 'CITRONELLA CANDLE GARDEN POT', 'FUNKY WASHING UP GLOVES ASSORTED', 'CHILDS BREAKFAST SET CIRCUS PARADE', 'WOODLAND STORAGE BOX SMALL', 'SKULLS  DESIGN  COTTON TOTE BAG', 'FLOWER BURST SILVER RING CRYSTAL', 'KEY FOB , SHED', 'BOTANICAL LAVENDER BIRTHDAY CARD', 'GLASS CLOCHE LARGE', 'KIDS RAIN MAC BLUE', 'MONEY BOX CONFECTIONERY DESIGN', 'MONEY BOX KINGS CHOICE DESIGN', 'WEEKEND BAG VINTAGE ROSE PAISLEY', 'CHRISTMAS CARD SINGING ANGEL', 'PAPER BUNTING VINTAGE PAISLEY', 'CREAM SWEETHEART MINI CHEST', 'SILVER FISHING GNOME ', 'PARTY INVITES DINOSAURS', 'NUMBER TILE COTTAGE GARDEN 9', 'NUMBER TILE COTTAGE GARDEN 1', 'NUMBER TILE COTTAGE GARDEN No', 'BLUE POLKADOT CUP', 'BLUE/CREAM STRIPE CUSHION COVER ', 'UNION STRIPE CUSHION COVER ', 'KEY CABINET MA CAMPAGNE', 'DINOSAUR PARTY BAG + STICKER SET', 'VINTAGE RED KITCHEN CABINET', 'LARGE CAKE STAND HANGING HEARTS', 'LARGE CAKE STAND  HANGING STRAWBERY', 'RED RETROSPOT SUGAR JAM BOWL', 'RED RETROSPOT SHOPPING BAG', 'RED RETROSPOT WASHBAG', 'WRAP ENGLISH ROSE ', 'WRAP  PINK FLOCK', 'TUB 24 PINK FLOWER PEGS', 'FENG SHUI PILLAR CANDLE', 'DECOUPAGE,GREETING CARD,', 'DAIRY MAID TOASTRACK', 'DAIRY MAID TRADITIONAL TEAPOT ', 'LAVENDER SCENTED FABRIC HEART', 'BLUE POLKADOT PASSPORT COVER', 'SET/6 BEAD COASTERS GAUZE BAG GOLD', 'GROW YOUR OWN HERBS SET OF 3', 'WHITE CHRISTMAS STAR DECORATION', 'DOORMAT MERRY CHRISTMAS RED ', 'CARDHOLDER GINGHAM CHRISTMAS TREE', 'CABIN BAG VINTAGE RETROSPOT', '3 HEARTS HANGING DECORATION RUSTIC', 'TRADITIONAL KNITTING NANCY', 'MOROCCAN TEA GLASS', 'LUSH GREENS RIBBONS', 'PACK OF 6 SANDCASTLE FLAGS ASSORTED', 'BEADED PEARL HEART WHITE ON STICK', 'FROG CANDLE', 'VINTAGE RED MUG', 'MULTICOLOUR 3D BALLS GARLAND', 'LOVE LARGE WOOD LETTERS ', 'POTTERING MUG', ' OVAL WALL MIRROR DIAMANTE ', 'FRYING PAN PINK POLKADOT', 'METAL SIGN NEIGHBOURHOOD WITCH ', 'CHILDRENS GARDEN GLOVES PINK', 'SET/6 PURPLE BUTTERFLY T-LIGHTS', 'TEATIME FUNKY FLOWER BACKPACK FOR 2', 'HEARTS WRAPPING TAPE ', 'DOGGY RUBBER', 'MAGIC TREE -PAPER FLOWERS', 'BLUE PAISLEY JOURNAL ', 'NECKLACE+BRACELET SET FRUIT SALAD ', 'SKULLS TAPE', 'BOX OF 9 PEBBLE CANDLES', 'STRAWBERRIES  DESIGN FLANNEL ', 'PINK LOVE HEART SHAPE CUP', 'NATURAL SLATE CHALKBOARD LARGE ', 'TEA FOR ONE POLKADOT', 'PARTY BUNTING', 'QUEEN OF SKIES LUGGAGE TAG', 'CHARLIE AND LOLA CHARLOTTE BAG', 'TROPICAL  HONEYCOMB PAPER GARLAND ', 'SKULL LUNCH BOX WITH CUTLERY ', 'PINK UNION JACK  PASSPORT COVER ', 'RED LOVE HEART SHAPE CUP', 'WALL MIRROR RECTANGLE DIAMANTE PINK', 'CHILDS GARDEN BRUSH BLUE', 'PICNIC BOXES SET OF 3 RETROSPOT ', 'SET OF 4 POLKADOT PLACEMATS ', 'CHOCOLATE 1 WICK MORRIS BOX CANDLE', 'OCEAN SCENT CANDLE JEWELLED DRAWER', '75 GREEN PETIT FOUR CASES', 'SET OF 36 TEATIME PAPER DOILIES', 'ROSE DU SUD OVEN GLOVE', 'BLACK AND WHITE CAT BOWL', 'LA PALMIERA WALL THERMOMETER', 'SET/20 STRAWBERRY PAPER NAPKINS ', 'MIRROR MOSAIC GOBLET CANDLE HOLDER', 'HEART STRING MEMO HOLDER HANGING', 'T-LIGHT HOLDER WHITE LACE', 'DECORATION  PINK CHICK MAGIC GARDEN', 'DECORATION  BUTTERFLY  MAGIC GARDEN', 'BIRDHOUSE DECORATION MAGIC GARDEN', 'FELT TOADSTOOL  SMALL', 'HANGING METAL RABBIT DECORATION', 'GLASS JAR MARMALADE ', 'PAPERWEIGHT VINTAGE PAISLEY', 'RED GINGHAM TEDDY BEAR ', 'MINI JIGSAW PURDEY', 'PENS ASSORTED SPACEBALL', 'CUPBOARD 3 DRAWER MA CAMPAGNE', 'SET OF 6 T-LIGHTS CACTI ', 'NUMBER TILE VINTAGE FONT 3', 'NUMBER TILE VINTAGE FONT 5', 'PACK OF 20 NAPKINS RED APPLES', 'BLACK CHRISTMAS TREE 120CM', 'ASSORTED CIRCULAR MOBILE', 'SILVER BOOK MARK WITH BEADS', 'SET/6 TURQUOISE BUTTERFLY T-LIGHTS', 'LARGE CIRCULAR MIRROR MOBILE', 'METAL TUBE CHIME ON BAMBOO', 'RETRO PLASTIC POLKA TRAY', 'VINYL RECORD FRAME SILVER', 'ASSTD DESIGN BUBBLE GUM RING', 'PINK STITCHED WALL CLOCK', 'BLACK SQUARE TABLE CLOCK', 'BLUE FLY SWAT', 'WAKE UP COCKEREL TILE HOOK', 'PSYCHEDELIC TILE HOOK', 'EAU DE NILE HEART SHAPE PHOTO FRAME', 'FRENCH ENAMEL POT W LID', 'FRENCH ENAMEL UTENSIL HOLDER', 'BLACK GRAND BAROQUE PHOTO FRAME', 'IVORY LOVE BIRD CANDLE', 'EAU DE NIL LOVE BIRD CANDLE', 'PINK LOVE BIRD CANDLE', 'HANGING WOOD AND FELT BUTTERFLY ', 'COPPER/OLIVE GREEN FLOWER NECKLACE', 'GREEN PAIR HEART HAIR SLIDES', 'NEW BAROQUE LARGE NECKLACE BLK/WHIT', 'FIRE POLISHED GLASS NECKL GREEN', 'SUMMER DAISIES BAG CHARM', 'SUMMER BUTTERFLIES BAG CHARM', 'BLUE MURANO TWIST BRACELET', 'GREEN PENDANT TRIPLE SHELL NECKLACE', '5 STRAND GLASS NECKLACE AMETHYST', 'LARGE MINT DIAMANTE HAIRSLIDE', 'LETTER \"B\" BLING KEY RING', 'LETTER \"C\" BLING KEY RING', 'LETTER \"F\" BLING KEY RING', 'LETTER \"I\" BLING KEY RING', 'LETTER \"L\" BLING KEY RING', 'LETTER \"N\" BLING KEY RING', 'LETTER \"Y\" BLING KEY RING', 'CARTOON  PENCIL SHARPENERS', 'RATTLE SNAKE EGGS', \"DOLLY MIXTURE CHILDREN'S UMBRELLA\", 'MULTICOLOUR HONEYCOMB PAPER GARLAND', 'RIBBONS PURSE ', 'SWISS ROLL TOWEL, PINK  SPOTS', 'SET/4 BADGES BALLOON GIRL', 'SET/4 SKULL BADGES', 'GREEN GOOSE FEATHER CHRISTMAS TREE ', 'GREEN GOOSE FEATHER TREE 60CM', 'RETROSPOT CANDLE  LARGE', '12 RED ROSE PEG PLACE SETTINGS', '4 VANILLA BOTANICAL CANDLES', 'ASSORTED TUTTI FRUTTI  FOB NOTEBOOK', 'BUTTERFLIES STICKERS', 'SWEETIES  STICKERS', 'EIGHT PIECE SNAKE  SET', 'DINOSAUR KEYRINGS ASSORTED', 'MAN FLU METAL SIGN', 'RED RETROSPOT PICNIC BAG', 'WRAP CHRISTMAS VILLAGE', 'ASSORTED INCENSE PACK', 'VANILLA INCENSE IN TIN', 'NINJA RABBIT PINK', 'KNITTED RABBIT DOLL ', 'NECKLACE+BRACELET SET BLUE BLOSSOM', 'SET/6 POSIES PAPER PLATES', 'amazon', 'YULETIDE IMAGES S/6 PAPER BOXES', '3D VINTAGE CHRISTMAS STICKERS ', 'SET/3 FLORAL GARDEN TOOLS IN BAG', 'ROBOT MUG IN DISPLAY BOX', 'PACK/12 BLUE FOLKART CARDS', 'FOLK ART GREETING CARD,pack/12', 'VINTAGE CARAVAN GREETING CARD ', 'SET OF SKULL WALL STICKERS', 'HEARTS  STICKERS', 'ENGLISH ROSE GARDEN SECATEURS', 'ASSORTED FLOWER COLOUR \"LEIS\"', 'SMALL CAMPHOR WOOD FIELD  MUSHROOM', 'CAMPHOR WOOD PORTOBELLO MUSHROOM', 'PINK/GREEN FLOWER DESIGN BIG MUG', \"FLOWER FAIRY,5 SUMMER B'DRAW LINERS\", 'BLUE/YELLOW FLOWER DESIGN BIG MUG', 'GREEN/BLUE FLOWER DESIGN BIG MUG', 'SCANDINAVIAN PAISLEY PICNIC BAG', 'PINK VINTAGE PAISLEY PICNIC BAG', 'YELLOW/PINK FLOWER DESIGN BIG MUG', 'RED RETROSPOT TEA CUP AND SAUCER ', 'MORE BUTTER METAL SIGN ', 'DOORMAT NEIGHBOURHOOD WITCH ', 'METAL SIGN HIS DINNER IS SERVED', 'BEADED PEARL HEART WHITE LARGE', 'BEADED CRYSTAL HEART BLUE SMALL', 'GARLAND, MAGIC GARDEN 1.8M', 'HELLO SAILOR BLUE SOAP HOLDER', 'BATHROOM SET LOVE HEART DESIGN', 'CINNAMON SCENTED VOTIVE CANDLE', 'JASMINE VOTIVE CANDLE', 'SILVER MUG BONE CHINA TREE OF LIFE', 'SILVER MINI TAPE MEASURE ', 'WATERMELON BATH SPONGE', 'ZINC FOLKART SLEIGH BELLS', 'HOT BATHS SOAP HOLDER', 'BLUE CIRCLES DESIGN MONKEY DOLL', 'VINTAGE PHOTO ALBUM PARIS DAYS', 'FRAPPUCINO SCARF KNITTING KIT', 'BLUE LEAVES AND BEADS PHONE CHARM', 'BLACK GEMSTONE NECKLACE 45CM', 'VINTAGE ROSE BEAD BRACELET BLACK', 'BLUE/GREEN SHELL NECKLACE W PENDANT', 'SILVER/NATURAL SHELL NECKLACE', 'BLUE POLKADOT PURSE ', 'BLUE POLKADOT LUGGAGE TAG ', 'DAIRY MAID STRIPE MUG', 'MAGNETS PACK OF 4 SWALLOWS', 'BLUE ROUND COMPACT MIRROR', 'TROPICAL LUGGAGE TAG', 'ASSORTED MONKEY SUCTION CUP HOOK', 'ASSORTED TUTTI FRUTTI PEN', 'ASS FLORAL PRINT SPIRIT LEVEL ', 'COLUMBIAN CANDLE ROUND', 'FUSCHIA FLOWER PURSE WITH BEADS', 'ROSE SCENT CANDLE IN JEWELLED BOX', 'OCEAN SCENT CANDLE IN JEWELLED BOX', \"NURSE'S BAG SOFT TOY\", 'CHRISTMAS TREE PAINTED ZINC ', 'ANGEL DECORATION PAINTED ZINC ', 'PINK/WHITE RIBBED MELAMINE JUG', 'MODERN VINTAGE COTTON SHOPPING BAG', 'STRAWBERRY   PICNIC BAG', 'PINK DOG BOWL', 'GLASS JAR PEACOCK BATH SALTS', 'BATHROOM SCALES FOOTPRINTS IN SAND', 'NEW BAROQUE BLACK PHOTO ALBUM', 'SCENTED VELVET LOUNGE CANDLE ', 'BLUE FLOCK GLASS CANDLEHOLDER', 'SILVER GLITTER FLOWER VOTIVE HOLDER', 'GOLD MUG BONE CHINA TREE OF LIFE', 'SCANDINAVIAN 3 HEARTS NAPKIN RING', '3 ROSE MORRIS BOXED CANDLES', 'PINK BAROQUE FLOCK CANDLE HOLDER', 'SEWING BOX RETROSPOT DESIGN ', 'SILVER HOOP EARRINGS WITH FLOWER', 'SILVER BRACELET W PASTEL FLOWER', 'MIDNIGHT BLUE GLASS/SILVER BRACELET', 'BLACK/WHITE GLASS/SILVER BRACELET', 'CRACKED GLAZE NECKLACE IVORY', 'CRACKED GLAZE EARRINGS IVORY', '?', 'GLITTER HANGING BUTTERFLY STRING', 'SET OF 6 HEART CHOPSTICKS', 'MULTI HEARTS  STICKERS', 'FRENCH LAUNDRY SIGN BLUE METAL', 'FORKED CACTUS CANDLE', 'WAKE UP COCKEREL CALENDAR SIGN ', 'ENAMEL BLUE RIM COFFEE CONTAINER', 'ENAMEL BLUE RIM BISCUIT BIN', 'FLOWER FAIRY INCENSE BOUQUET', 'GLITTER SNOW PEAR TREE DECORATION', 'CAT BOWL VINTAGE CREAM', '3 WHITE CHOC MORRIS BOXED CANDLES', '4 BLUE DINNER CANDLES SILVER FLOCK', 'DANISH ROSE ROUND SEWING BOX', 'CRYSTAL DIAMANTE EXPANDABLE RING', 'WHITE GLASS CHUNKY CHARM BRACELET', 'RIBBON REEL HEARTS DESIGN ', 'ANT SILVER LIME GREEN BOUDICCA RING', 'ANT SILVER PURPLE BOUDICCA RING', 'VINTAGE UNION JACK PENNANT', 'BEADED LOVE HEART JEWELLERY SET', 'MAGNETS PACK OF 4 VINTAGE LABELS ', 'HAPPY STENCIL CRAFT', 'ASS DES PHONE SPONGE CRAFT STICKER', 'SWEETHEART WIRE FRUIT BOWL', 'COFFEE MUG PINK PAISLEY DESIGN', 'YELLOW FLOWERS FELT HANDBAG KIT', 'WHITE TISSUE REAM', 'FELT FARM ANIMAL CHICKEN', 'SMALL POP BOX,FUNKY MONKEY', 'STRIPES DESIGN TEDDY', 'CERAMIC STRAWBERRY TRINKET TRAY', 'PAPERWEIGHT CHILDHOOD MEMORIES', 'PINK PAINTED KASHMIRI CHAIR', '75 BLACK PETIT FOUR CASES', 'CREAM FELT EASTER EGG BASKET', 'BLUE FELT EASTER EGG BASKET', 'SMALL CHOCOLATES PINK BOWL', '12 PINK ROSE PEG PLACE SETTINGS', 'UNION FLAG WINDSOCK', 'FLOOR LAMP SHADE WOOD BASE', 'ETCHED GLASS COASTER', 'BUTTERFLY CROCHET FOOD COVER', 'PING MICROWAVE APRON', 'APRON APPLE DELIGHT', 'GINGHAM OVEN GLOVE RED HEART ', 'PINK GLASS CANDLEHOLDER', 'CHRISTMAS MUSICAL ZINC TREE', 'MAGIC DRAWING SLATE LEAP FROG ', 'PERIWINKLE T-LIGHT HOLDER', 'SILICON STAR BULB  BLUE', 'LARGE MEDINA STAMPED METAL BOWL ', 'BLUE NETTING STORAGE HANGER', 'TABLECLOTH RED APPLES DESIGN ', 'SILICON CUBE 25W, BLUE', 'SET/6 COLLAGE PAPER PLATES', 'MULTICOLOUR HONEYCOMB FAN', 'RETROSPOT PADDED SEAT CUSHION', 'MADRAS NOTEBOOK LARGE ', 'VINTAGE BEAD NOTEBOOK', 'BEADED CRYSTAL HEART PINK LARGE', 'SANDALWOOD FAN', 'HANGING HEART JAR T-LIGHT HOLDER', 'PACK 6 HEART/ICE-CREAM PATCHES', 'CREAM AND PINK FLOWERS PONY ', 'BLUE CIRCLES DESIGN TEDDY', 'CRYSTAL FROG PHONE CHARM', 'SOMBRERO ', 'ANIMAL STICKERS', 'GREEN BITTY LIGHT CHAIN', 'RAIN PONCHO ', 'ASSORTED TUTTI FRUTTI BRACELET', 'BLUE TRAVEL FIRST AID KIT', 'FRENCH TOILET SIGN BLUE METAL', 'BAG OF SILVER STONES', 'ABSTRACT CIRCLES SKETCHBOOK ', 'TEA TIME BREAKFAST BASKET', 'ALPHABET HEARTS STICKER SHEET', 'FOLKART STAR CHRISTMAS DECORATIONS', 'ASS COLOUR GLOWING TIARAS', 'WHITE BELL HONEYCOMB PAPER GARLAND ', 'SMALL SILVER TRELLIS CANDLEPOT', 'ROBIN CHRISTMAS CARD', '36 PENCILS TUBE POSY', 'FOLKART ZINC STAR CHRISTMAS DEC', 'STRING OF 8 BUTTERFLIES,PINK', 'UTILTY CABINET WITH HOOKS', 'FRENCH BLUE METAL DOOR SIGN 9', 'BATHROOM SCALES RUBBER DUCKS', 'FLOOR CUSHION ELEPHANT CARNIVAL', 'RABBIT  DESIGN  COTTON TOTE BAG', 'JIGSAW TREE WITH BIRDHOUSE', 'EASTER TIN BUNNY BOUQUET', 'EASTER TIN CHICKS PINK DAISY', 'MOTORING TISSUE BOX', 'KENSINGTON COFFEE SET', 'SET/12 FUNKY FELT FLOWER PEG IN BAG', 'PARTY CONES CANDY TREE DECORATION', 'SET OF 6 T-LIGHTS EASTER CHICKS', 'PINK PADDED MOBILE', 'S/12 MINI RABBIT EASTER', 'MEDIUM MEDINA STAMPED METAL BOWL ', 'MIRROR CORNICE', 'BLUE & WHITE BREAKFAST TRAY', \"RETRO PLASTIC 70'S TRAY\", 'PAPER POCKET TRAVELING FAN ', 'BEADED CRYSTAL HEART GREEN SMALL', 'HANGING FAIRY CAKE DECORATION', 'BLUE TEATIME PRINT BOWL ', 'HOUSE WRECKING METAL SIGN ', 'BISCUIT TIN VINTAGE GREEN', 'FRYING PAN RED RETROSPOT', 'SET OF 16 VINTAGE ROSE CUTLERY', 'NEW ENGLAND MUG W GIFT BOX', 'PINK GREEN EMBROIDERY COSMETIC BAG', 'BLUE GREEN EMBROIDERY COSMETIC BAG', 'PAIR PADDED HANGERS PINK CHECK', 'SMALL SILVER FLOWER CANDLE POT', 'RED ROSE AND LACE C/COVER', 'WOODLAND STORAGE BOX LARGE ', 'GLITTER CHRISTMAS STAR ', 'CARD SUKI BIRTHDAY', 'WRAP SUKI AND FRIENDS', 'BIRDCAGE DECORATION TEALIGHT HOLDER', 'BLUE PUDDING SPOON', 'RETRO PINK BALL ASHTRAY ', 'SUMMER FUN DESIGN SHOWER CAP', 'STRIPY DESIGN SHOWER CAP', 'SET/4 DAISY MIRROR MAGNETS', 'SET/4 BIRD MIRROR MAGNETS ', 'SET/4 BUTTERFLY MIRROR MAGNETS', 'FRENCH STYLE EMBOSSED HEART CABINET', 'SKULL DESIGN TV DINNER TRAY', 'GREEN SWEETHEART BRACELET', 'CARNIVAL BRACELET', '4 PEAR BOTANICAL DINNER CANDLES', 'FUNKY MONKEY MUG', 'ECONOMY LUGGAGE TAG', 'HEART CALCULATOR', 'BISCUITS SMALL BOWL LIGHT BLUE', 'SMALL MARSHMALLOWS PINK BOWL', 'PARTY PIZZA DISH GREEN POLKADOT', 'PARTY PIZZA DISH PINK POLKADOT', 'ASSORTED CHEESE FRIDGE MAGNETS', 'PEARL CRYSTAL PUMPKIN T-LIGHT HLDR', 'BREAD BIN, DINER STYLE, MINT', 'BREAD BIN, DINER STYLE, IVORY', 'CARD GINGHAM ROSE ', 'ROSE 1 WICK MORRIS BOXED CANDLE', 'DOLLY HONEYCOMB GARLAND', 'PINK KNITTED EGG COSY', 'BLUE KNITTED EGG COSY', 'WAY OUT METAL SIGN ', 'SAVOY ART DECO CLOCK', 'HALL CABINET WITH 3 DRAWERS', 'DOORMAT HOME SWEET HOME BLUE ', 'BLUE WIRE SPIRAL CANDLE HOLDER', 'S/12 VANILLA  BOTANICAL T-LIGHTS', 'SMALL HAMMERED SILVER CANDLEPOT ', 'WHITE CHRYSANTHEMUMS ART FLOWER', 'RETRO PLASTIC DAISY TRAY', 'ANGEL DECORATION WITH LACE PADDED', 'SUNSET CHECK HAMMOCK', 'CHRYSANTHEMUM  JOURNAL', 'ASSTD MULTICOLOUR CIRCLES MUG', 'FRENCH CHATEAU LARGE PLATTER ', 'ENVELOPE 50 CURIOUS IMAGES', 'FOLDING CAMPING SCISSOR W/KNIF & S', 'HAND OPEN SHAPE DECO.WHITE', 'PINK JEWELLED MIRROR TRINKET TRAY', 'WHITE SAGE INCENSE', 'AFGHAN SLIPPER SOCK PAIR', 'CITRONELLA CANDLE FLOWERPOT', 'SMALL GLASS SUNDAE DISH CLEAR', 'VINTAGE CARAVAN GIFT WRAP', 'GOLD EAR MUFF HEADPHONES', 'PAPERWEIGHT SAVE THE PLANET', 'SWEETHEART CARRY-ALL BASKET', 'RED RETROSPOT STORAGE JAR', 'PARTY FOOD SHOPPER BAG', 'CAMOUFLAGE EAR MUFF HEADPHONES', 'ZINC HEART LATTICE CHARGER LARGE', 'SMALL POLKADOT CHOCOLATE GIFT BAG ', 'GLASS CHALICE GREEN  SMALL ', 'RELAX LARGE WOOD LETTERS', 'BLUE POLKADOT EGG CUP ', 'ELEPHANT CARNIVAL POUFFE', 'VINTAGE PINK DECORATIVE PARASOL', 'MIRROR MOSAIC HURRICANE LAMP ', 'PING! MICROWAVE PLATE', 'CAKE STAND LOVEBIRD 2 TIER PINK', 'CAKE PLATE LOVEBIRD PINK', '12 EGG HOUSE PAINTED WOOD', 'ROUND CONTAINER SET OF 5 RETROSPOT', 'SET OF 36 DOILIES SPACEBOY DESIGN ', 'PACK OF 20 SPACEBOY NAPKINS', 'VINTAGE BEAD PINK PURSE ', 'VINTAGE BEAD PINK SCARF ', 'CERAMIC CAKE DESIGN SPOTTED PLATE', 'FUNKY MONKEY CUSHION COVER', 'WOVEN FROST CUSHION COVER', 'WOVEN CANDY CUSHION COVER ', 'TURQ ICE CREAM BUM BAG ', 'SET/4 WHITE RETRO STORAGE CUBES ', 'HEN HOUSE W CHICK STANDING', 'GIRLS ALPHABET IRON ON PATCHES ', 'ENCHANTED BIRD PLANT CAGE', 'SET OF 4 DIAMOND NAPKIN RINGS', 'CANDY SPOT EGG WARMER HARE', 'HILDA CANDY SPOT RABBIT', 'HANGING WOOD AND FELT HEART', 'HANGING WOOD AND FELT FLOWER', 'ANTIQUE OLIVE GREEN FLOWER EARRINGS', 'GREEN VINTAGE EARRINGS ', 'GOLD M PEARL  ORBIT NECKLACE', 'CRYSTAL STILETTO PHONE CHARM', 'LIGHT TOPAZ TEAL/AQUA COL NECKLACE', 'PINK SWEETIE NECKLACE', 'IVORY PENDANT TRIPLE SHELL NECKLACE', 'ST TROPEZ NECKLACE', 'AMBER DROP EARRINGS W LONG BEADS', 'AMETHYST DROP EARRINGS W LONG BEADS', 'BLACK ENAMEL FLOWER RING', 'JET BLACK LAS VEGAS BRACELET ROUND', 'PINK JEWELLED PHOTO FRAME', 'POCKET BAG BLUE PAISLEY RED SPOT', 'POCKET BAG PINK PAISELY BROWN SPOT', 'BOTTLE BAG RETROSPOT ', 'SET OF 2 ROUND TINS CAMEMBERT ', 'CHILDS GARDEN TROWEL PINK', 'CHILDS GARDEN FORK PINK', 'FRENCH BLUE METAL DOOR SIGN 2', 'FRENCH BLUE METAL DOOR SIGN 7', 'CARD WEDDING DAY', 'SET OF PICTURE FRAME  STICKERS', 'PINK GOOSE FEATHER TREE 60CM', 'IVORY HANGING DECORATION  BIRD', 'FRENCH LAVENDER SCENT HEART', 'BLUE EGG  SPOON', 'DAIRY MAID LARGE MILK JUG', '4 WILDFLOWER BOTANICAL CANDLES', 'GARLAND WITH HEARTS AND BELLS', 'GREEN  DIAMANTE PEN IN GIFT BOX', 'CAKES AND RABBITS DESIGN FLANNEL ', 'MIRROR MOSAIC CANDLE PLATE', 'BIRD DECORATION GREEN POLKADOT', 'NOEL GARLAND PAINTED ZINC ', '4 GOLD FLOCK CHRISTMAS BALLS', 'YELLOW FELT HANGING HEART W FLOWER', 'WOVEN BUBBLE GUM CUSHION COVER', 'SET/6 PINK  BUTTERFLY T-LIGHTS', 'PINK METAL CHICKEN HEART ', 'KITCHEN FLOWER POTS WALL PLAQUE', 'S/4 IVORY MINI ROSE CANDLE IN BOWL', 'S/4 BLACK MINI ROSE CANDLE IN BOWL', 'BEADED CRYSTAL HEART BLUE ON STICK', 'AMBER GLASS/SILVER BRACELET', 'FIRE POLISHED GLASS BRACELET BLACK', 'CHUNKY CRACKED GLAZE NECKLACE IVORY', 'LILY BROOCH OLIVE COLOUR', 'WHITE FRANGIPANI NECKLACE', 'TURQ STONE/CRYSTAL EARRINGS', 'GREEN STONE/CRYSTAL EARRINGS', 'PURPLE PAPER PARASOL', 'GREEN FERN SKETCHBOOK ', 'SMALL PINK GLASS SUNDAE DISH', 'ESSENTIAL BALM 3.5g TIN IN ENVELOPE', 'CAKE SHOP  STICKER SHEET', '72 CAKE CASES VINTAGE CHRISTMAS', 'SET OF 16 VINTAGE SKY BLUE CUTLERY', 'LARGE STRIPES CHOCOLATE GIFT BAG', 'WOODEN SKITTLES GARDEN SET', 'CUBIC MUG FLOCK BLUE ON BROWN', 'CUBIC MUG PINK POLKADOT', 'VINTAGE KEEPSAKE BOX TRAVELOGUE', 'VINTAGE NOTEBOOK PARIS DAYS', 'PINK/WHITE \"KEEP CLEAN\" BULLET BIN', 'FRENCH BLUE METAL DOOR SIGN 8', 'FRENCH BLUE METAL DOOR SIGN 0', 'SET OF 36 MUSHROOM PAPER DOILIES', 'DOORMAT WELCOME SUNRISE', 'TOXIC AREA  DOOR HANGER ', 'LA PALMIERA TILE COASTER', 'JIGSAW RABBIT AND BIRDHOUSE', 'WOODEN BOX ADVENT CALENDAR ', 'PLASMATRONIC LAMP', '4 BURGUNDY WINE DINNER CANDLES', 'SILVER OVAL SHAPE TRINKET BOX', 'WRAP BLUE RUSSIAN FOLKART', 'DAISY JOURNAL ', 'DUSTY PINK CHRISTMAS TREE 30CM', 'HANGING PHOTO CLIP ROPE LADDER', 'PINK PARTY SUNGLASSES', 'POSY CANDY BAG', 'BLACKCHRISTMAS TREE 30CM', 'SMALL DOLLY MIX DESIGN ORANGE BOWL', 'POCKET MIRROR WOODLAND', 'HEART SHAPE WIRELESS DOORBELL', 'SET/6 GREEN SPRING PAPER CUPS', 'ASSORTED TUTTI FRUTTI LARGE PURSE', 'COFFEE SCENT PILLAR CANDLE', 'PINK ROSE WASHBAG', 'GARDENIA 1 WICK MORRIS BOXED CANDLE', 'SILVER LATTICE VANILLA CANDLE POT', 'PACK 3 IRON ON DOG PATCHES', 'DAISY NOTEBOOK ', 'BLACK FINE BEAD NECKLACE W TASSEL', 'FIRE POLISHED GLASS NECKL BRONZE', 'ROUND PINK HEART MIRROR', 'GOLD COSMETIC BAG PINK STAR', 'EIGHT PIECE CREEPY CRAWLIE SET', 'SMOKEY GREY COLOUR D.O.F. GLASS', 'S/3 POT POURI CUSHIONS BLUE COLOURS', 'BLACK AND WHITE DOG BOWL', 'SPOTS ON RED BOOKCOVER TAPE', 'ASSORTED TUTTI FRUTTI HEART BOX', 'POLYESTER FILLER PAD 65CMx65CM', 'FRENCH BLUE METAL DOOR SIGN 6', 'SMALL RED RETROSPOT WINDMILL', 'HAND TOWEL PALE BLUE W FLOWERS', 'BLUE ORGANDY ROUND LAMPSHADE W BEA', 'WHITE AND BLUE CERAMIC OIL BURNER', 'PAPER CHAIN KIT SKULLS ', 'PINK FAIRY CAKE CUSHION COVER', 'GREEN POP ART MAO CUSHION COVER ', 'HEART SHAPED MIRROR', 'GOLD WASHBAG', 'PINK PAISLEY ROSE GIFT WRAP', 'WOODLAND  STICKERS', 'SILVER TEDDY BEAR', 'PSYCHEDELIC WALL THERMOMETER', 'MAGIC DRAWING SLATE BUNNIES ', 'check', 'WRAP FOLK ART', 'damages', 'ROSE DU SUD WASHBAG ', 'NINJA RABBIT BLACK', 'BATHROOM METAL SIGN ', 'DAISIES  HONEYCOMB GARLAND ', 'SET/4 BADGES BEETLES', 'DINOSAUR HEIGHT CHART STICKER SET', 'LARGE CAMPHOR WOOD FIELD MUSHROOM ', \"Dad's Cab Electronic Meter\", 'MIRROR MOSAIC VOTIVE HOLDER', 'PINK CHICK EGG WARMER + EGG CUP', 'PET MUG, GOLDFISH', 'SET/4 2 TONE EGG SHAPE MIXING BOWLS', '50CM METAL STRING WITH  7 CLIPS', 'BLUE TV TRAY TABLE ', 'PINK/BLUE DISC/MIRROR STRING', 'MEDIUM PINK BUDDHA HEAD ', 'SET OF 4 POLKADOT COASTERS', 'WHITE HAND TOWEL WITH BUTTERFLY', 'CANDY SPOT CUSHION COVER', 'CANDY SPOT EGG WARMER RABBIT', 'SMALL ROUND CUT GLASS CANDLESTICK', 'MIDNIGHT BLUE VINTAGE EARRINGS', 'DIAMANTE HAIR GRIP PACK/2 CRYSTAL', 'VINTAGE ENAMEL & CRYSTAL EARRINGS', 'BLACK DIAMOND CLUSTER NECKLACE', 'PURPLE FRANGIPANI HAIRCLIP', 'GREEN GLASS TASSLE BAG CHARM', 'AMBER GLASS TASSLE BAG CHARM', 'PURPLE GLASS TASSLE BAG CHARM', 'TURQ+RED BOUDICCA LARGE BRACELET', 'ANT COPPER PINK BOUDICCA BRACELET', 'PINK GLASS CHUNKY CHARM BRACELET', 'DROP DIAMANTE EARRINGS PURPLE', 'BLACK CHUNKY BEAD BRACELET W STRAP', 'AMBER DIAMANTE EXPANDABLE RING', 'PAIR OF PINK FLOWER CLUSTER SLIDE', 'RED PAPER PARASOL', 'SILVER JEWELLED MIRROR TRINKET TRAY', '4 LILY  BOTANICAL DINNER CANDLES', 'GROW A FLYTRAP OR SUNFLOWER IN TIN', 'VINTAGE BEAD PINK EVENING BAG', 'ENGLISH ROSE SCENTED HANGING FLOWER', 'CUPID DESIGN SCENTED CANDLES', 'SQUARE CHERRY BLOSSOM CABINET', 'BLUE ROSE PATCH PURSE PINK BUTTERFL', 'WHITE BEADED GARLAND STRING 20LIGHT', 'FRENCH BLUE METAL DOOR SIGN 4', 'CHILDS GARDEN TROWEL BLUE ', 'CHILDS GARDEN RAKE BLUE', 'LUNCH BOX WITH CUTLERY FAIRY CAKES ', 'WOODEN REGATTA BUNTING', 'SAMPLES', 'FREESTYLE CANVAS ART PICTURE', 'CUBIC MUG FLOCK PINK ON BROWN', 'AMAZON FEE', 'PORCELAIN BUDAH INCENSE HOLDER', 'WISE MAN STAR SHAPE EGG PAN', 'LOVE POTION MASALA INCENSE', 'SET OF 16 VINTAGE RED CUTLERY', 'WOOD STAMP SET FLOWERS', 'CALENDAR FAMILY FAVOURITES', 'BANQUET BIRTHDAY  CARD  ', 'MULTICOLOUR SPRING FLOWER MUG', 'TEATIME PUSH DOWN RUBBER', 'HOUSE SHAPE PENCIL SHARPENER', 'DAISY SKETCHBOOK ', 'LARGE PINK GLASS SUNDAE DISH', 'SET/3 TALL GLASS CANDLE HOLDER PINK', 'SMALL CHUNKY GLASS ROMAN  BOWL', 'RIDGED GLASS T-LIGHT HOLDER', 'HANGING CHICK GREEN DECORATION', 'PENS ASSORTED FUNKY JEWELED ', 'T-LIGHT HOLDER SWEETHEART HANGING', 'NUMBER TILE VINTAGE FONT 1', 'NUMBER TILE VINTAGE FONT 4', 'NUMBER TILE VINTAGE FONT No ', 'ENAMEL PINK TEA CONTAINER', '4 PINK FLOCK CHRISTMAS BALLS', 'TEA TIME TEAPOT IN GIFT BOX', 'TEA TIME TEA SET IN GIFT BOX', 'PAINTED LIGHTBULB RAINBOW DESIGN', 'BEADED CRYSTAL HEART GREEN LARGE', 'SET/6 EAU DE NIL BIRD T-LIGHTS', 'MIDNIGHT BLUE COPPER FLOWER NECKLAC', 'ROSE COLOUR PAIR HEART HAIR SLIDES', 'JADE GREEN ENAMEL HAIR COMB', 'SILVER BLACK ORBIT BRACELET', 'CRYSTAL SEA HORSE PHONE CHARM', '2 DAISIES HAIR COMB', 'DAISY HAIR COMB', 'GREEN DROP EARRINGS W BEAD CLUSTER', 'GREEN ENAMEL FLOWER HAIR TIE', 'RED   ACRYLIC FACETED BANGLE', 'GARDENERS KNEELING PAD', 'DOORMAT FRIENDSHIP ', '75 GREEN FAIRY CAKE CASES', 'COUNTRY COTTAGE  DOORSTOP GREEN', 'SET/6 FROG PRINCE T-LIGHT CANDLES', 'DOORSTOP FOOTBALL DESIGN', 'WATERING CAN SINGLE HOOK PISTACHIO', 'NUMBER TILE COTTAGE GARDEN 7', 'SILVER VANILLA  FLOWER CANDLE POT', 'PACK/12 XMAS FUN CARD', 'SET/6 BLACK BIRD T-LIGHT CANDLES', 'SET/6 IVORY BIRD T-LIGHT CANDLES', 'FRENCH ENAMEL WATER BASIN', 'BUTTONS AND STRIPES NOTEBOOK ', 'EAU DE NILE JEWELLED T-LIGHT HOLDER', 'TIGRIS EYE CHUNKY CHARM BRACELET', 'DOORSTOP RACING CAR DESIGN', 'VINTAGE UNION JACK SHOPPING BAG', 'NUMBER TILE COTTAGE GARDEN 5', 'PIG MUG IN TWO COLOUR DESIGNS', 'GREETING CARD, STICKY GORDON', 'LA PALMIERA TILE HOOK', 'S/4 PINK FLOWER CANDLES IN BOWL', 'MINI  ZINC GARDEN DECORATIONS ', 'ANTIQUE OPAL WHITE FLOWER EARRINGS', 'SILVER M.O.P ORBIT BRACELET', 'FILIGREE DIAMANTE EARRINGS', 'GLASS BEAD HOOP EARRINGS BLACK', 'DAISY HAIR BAND', 'CRYSTAL HOOP EARRING FLORAL LEAF', 'VINTAGE ROSE BEAD BRACELET RASPBERR', 'JET BLACK LAS VEGAS NECKLACE 45CM', 'LETTER \"K\" BLING KEY RING', 'LETTER \"P\" BLING KEY RING', 'LETTER \"Z\" BLING KEY RING', 'QUEEN OF THE SKIES HOLIDAY PURSE ', 'BLUE  TILE HOOK', 'ANTIQUE CREAM CUTLERY SHELF ', 'CLASSIC FRENCH STYLE BASKET GREEN ', 'PURPLE LAS VEGAS BRACELET ROUND', 'WRAP DOLLY GIRL', 'BIRTHDAY BANQUET GIFT WRAP', 'CERAMIC PLATE STRAWBERRY DESIGN', 'BAKING MOULD HEART MILK CHOCOLATE', 'BAKING MOULD HEART WHITE CHOCOLATE', 'BAKING MOULD TOFFEE CUP CHOCOLATE', 'BAKING MOULD CHOCOLATE CUPCAKES', 'WRAP I LOVE LONDON ', 'BLUE SCANDINAVIAN PAISLEY WRAP', 'BAKING MOULD ROSE WHITE CHOCOLATE', 'BAKING MOULD ROSE MILK CHOCOLATE', 'ZINC TOP  2 DOOR WOODEN SHELF ', 'CREAM SWEETHEART SHELF + HOOKS', 'FUSCHIA VOILE POINTY SHOE DEC', 'MEDINA STAMPED METAL STOOL', 'PINK SMALL JEWELLED PHOTOFRAME', 'WHITE HANGING BEADS CANDLE HOLDER', 'BLUE NEW BAROQUE FLOCK CANDLESTICK', 'PINK PAISLEY CUSHION COVER ', 'RED RETROSPOT BIG BOWL', 'LARGE  TALL CAMPHOR WOOD TOADSTOOL ', 'QUEEN OF THE SKIES PASSPORT COVER ', 'BLACK PHOTO ALBUM ', 'ASSORTED COLOUR SUCTION CUP HOOK', 'GINGHAM BABUSHKA DOORSTOP', 'DOORMAT MULTICOLOUR STRIPE', 'IVORY SCULPTED RND CANDLE ', 'COLUMBIAN CUBE CANDLE', 'HEART T-LIGHT HOLDER', 'FOLK ART METAL HEART T-LIGHT HOLDER', 'CERAMIC BOWL WITH STRAWBERRY DESIGN', 'AMETHYST CHUNKY BEAD BRACELET W STR', 'AMBER CHUNKY BEAD BRACELET W STRAP', 'BLUE FLOCK CUSHION COVER ', 'VINTAGE NOTEBOOK BEAUTY GIRL', 'BLUE PADDED SOFT MOBILE', 'CD WALL TIDY RED FLOWERS', 'MAGAZINE RACK GEBRA ASSORTED ', 'FROSTED WHITE BASE ', 'GREETING CARD, OVERCROWDED POOL.', 'WHITE SILVER NECKLACE SHELL GLASS', 'MURANO STYLE GLASS BRACELET GOLD', 'DIAMANTE HAIR GRIP PACK/2 PERIDOT', 'PINK CRYSTAL SKULL PHONE CHARM', 'PINK MURANO TWIST BRACELET', 'GREEN ENAMEL FLOWER RING', 'ORIGAMI ROSE INCENSE IN TUBE', 'ASSORTED LAQUERED INCENSE HOLDERS', 'RETROSPOT CANDLE  MEDIUM', 'GREEN BIRDHOUSE DECORATION', 'EASTER TIN BUCKET', 'LARGE RED RETROSPOT WINDMILL', 'LARGE SKULL WINDMILL', 'MINI JIGSAW GO TO THE FAIR', 'MINI JIGSAW LEAP FROG', 'CERAMIC LOVE HEART MONEY BANK', 'CHRISTMAS CRAFT HEART STOCKING ', 'BAKING SET 9 PIECE RETROSPOT ', 'ORANGE VOTIVE CANDLE', 'METAL BASE FOR CANDLES', 'FLORAL BLUE MONSTER', 'GIFT BAG BIRTHDAY', 'CLEAR LOVE BIRD T-LIGHT HOLDER', 'CHERRY BLOSSOM TABLE CLOCK ', 'REGENCY MIRROR WITH SHUTTERS', 'PINK CAT BOWL', 'FAWN AND MUSHROOM GREETING CARD', 'BAKING MOULD CHOCOLATE CUP CAKES', 'PINK REGENCY TEACUP AND SAUCER', 'GREEN SQUARE COMPACT MIRROR', 'BLUE HEART COMPACT MIRROR', 'ASSORTED COLOUR METAL CAT ', 'TRIANGULAR POUFFE VINTAGE ', 'FELT TOADSTOOL LARGE', '4 LAVENDER BOTANICAL DINNER CANDLES', 'CAKE STAND 3 TIER MAGIC GARDEN', 'BAKING MOULD EASTER EGG MILK CHOC', 'CUT GLASS T-LIGHT HOLDER OCTAGON', 'SET/4 SPRING FLOWER DECORATION', 'ASS COL CIRCLE MOBILE ', 'FLOWER GLASS GARLAND NECKL.36\"BLACK', 'RED RETROSPOT SMALL MILK JUG', '*Boombox Ipod Classic', 'WHITE GOOSE FEATHER TREE 60CM ', 'RETROSPOT CANDLE  SMALL', 'FRYING PAN BLUE POLKADOT', 'EGG CUP NATURAL CHICKEN', 'WHEELBARROW FOR CHILDREN ', 'MAGIC SHEEP WOOL GROWING FROM PAPER', 'PINK HEARTS LIGHT CHAIN ', 'RED KUKUI COCONUT SEED NECKLACE', 'BROWN KUKUI COCONUT SEED NECKLACE', 'FIRE POLISHED GLASS BRACELET MONTAN', 'FIRE POLISHED GLASS BRACELET GREEN', 'CLEAR CRYSTAL STAR PHONE CHARM', 'PINK LEAVES AND BEADS PHONE CHARM', 'GREEN LEAVES AND BEADS PHONE CHARM', 'PURPLE LEAVES AND BEADS PHONE CHAR', 'ANT COPPER LIME BOUDICCA BRACELET', 'BUTTERFLY HAIR BAND', 'DROP EARRINGS W FLOWER & LEAF', 'LETTER \"O\" BLING KEY RING', 'SUNJAR LED NIGHT NIGHT LIGHT', 'faulty', 'MEDIUM CHINESE STYLE SCISSOR', 'SMALL FOLDING SCISSOR(POINTED EDGE)', 'BLUE BREAKFAST CUP AND SAUCER ', 'RETRO \"TEA FOR ONE\" ', 'GARDEN PATH NOTEBOOK ', 'ABSTRACT CIRCLES POCKET BOOK', 'HAIRCLIPS FORTIES FABRIC ASSORTED', '3 TIER SWEETHEART GARDEN SHELF', 'SILVER STANDING GNOME   ', 'DANISH ROSE PHOTO FRAME', 'PINK FOXGLOVE ARTIIFCIAL FLOWER', 'JIGSAW TREE WITH WATERING CAN', 'IVORY SHELL HEART EARRINGS', 'WHITE SOAP RACK WITH 2 BOTTLES', 'ROMANTIC IMAGES GIFT WRAP SET', 'CURIOUS IMAGES GIFT WRAP SET', 'PINK POODLE HANGING DECORATION ', 'GLASS SPHERE CANDLE STAND MEDIUM', '3 WICK CHRISTMAS BRIAR CANDLE ', 'SET OF 16 VINTAGE BLACK CUTLERY', 'NUMBER TILE VINTAGE FONT 6 ', 'BLACK STITCHED WALL CLOCK', 'POMPOM CURTAIN', 'ENGLISH ROSE SMALL SCENTED FLOWER', 'Dotcom sales', 'HAWAIIAN GRASS SKIRT ', 'ASSORTED EASTER DECORATIONS  BELLS', 'BAKING MOULD EASTER EGG WHITE CHOC', 'TEATIME ROUND PENCIL SHARPENER ', 'PINK POT PLANT CANDLE', 'FELT EGG COSY LADYBIRD ', 'WOVEN ROSE GARDEN CUSHION COVER ', 'SET OF 4 CAROUSEL PLACEMATS ', 'SET OF 4 GREEN CAROUSEL COASTERS', 'FOLK FELT HANGING MULTICOL GARLAND', 'RUBY GLASS CLUSTER BRACELET', 'CHUNKY SILVER NECKLACE PASTEL FLOWE', 'RED ENAMEL FLOWER RING', 'SET/4 COLOURFUL MIXING BOWLS', 'SET OF 4 PISTACHIO LOVEBIRD COASTER', 'SET OF 4 BLACK LOVEBIRD COASTERS', 'EMPIRE DESIGN ROSETTE', 'GOLD STANDING GNOME', 'FIRST CLASS LUGGAGE TAG ', \"ASS COL LARGE SAND FROG P'WEIGHT\", 'HANGING CHICK CREAM DECORATION', 'BLUE POLKADOT GARDEN PARASOL', 'SILVER FABRIC MIRROR', 'DANISH ROSE TRINKET TRAYS', 'SET 4 NURSERY DES ROUND BOXES', 'DANISH ROSE DELUXE COASTER', 'SMALL KITCHEN FLOWER POTS PLAQUE', 'BUNNY WOODEN PAINTED WITH FLOWER ', 'BUNNY WOODEN PAINTED WITH BIRD ', 'WRAP GREEN RUSSIAN FOLKART ', 'POPART RECT PENCIL SHARPENER ASST', 'LARGE TORTILLA DESIGN RED BOWL', 'BLUE KNITTED HEN ', 'CANDY SPOT HEART DECORATION', 'HOLLY TOP CHRISTMAS STOCKING', 'FLOWER PURPLE CLOCK W/SUCKER', 'MINI CAKE STAND  HANGING STRAWBERY', 'FRUIT TREE AND BIRDS WALL PLAQUE', 'SPRIG LAVENDER ARTIFICIAL FLOWER', 'SET OF 3 PINK FLYING DUCKS', 'PAINTED PINK RABBIT ', 'PINK POLKADOT GARDEN PARASOL', 'PAPERWEIGHT HOME SWEET HOME', 'GLASS CHALICE BLUE SMALL ', 'STARFISH SOAP DISH', 'OYSTER TRINKET BOX', 'DECORATION , WOBBLY RABBIT , METAL ', 'DECORATION , WOBBLY CHICKEN, METAL ', 'PINK FEATHER CHRISTMAS DECORATION', 'WHITE CHRISTMAS FLOCK DROPLET ', 'WOVEN SUNSET CUSHION COVER ', 'BEACH HUT DESIGN BLACKBOARD', 'PINK SCOTTIE DOG W FLOWER PATTERN', 'S/4 GROOVY CAT MAGNETS', 'BILI NUT AND WOOD NECKLACE', 'MURANO STYLE GLASS BRACELET RED', 'AQUA BERTIE GLASS BEAD BAG CHARM', 'PURPLE BERTIE GLASS BEAD BAG CHARM', 'BOXED GLASS ASHTRAY', 'STRAWBRY SCENTED VOTIVE CANDLE', 'LOVE SEAT ANTIQUE WHITE METAL', 'DOG BOWL VINTAGE CREAM', 'MIRROR MOSAIC T-LIGHT HOLDER ', 'MINI HIGHLIGHTER PENS', 'SILVER PHOTO FRAME', 'GOLD PHOTO FRAME', 'CRYSTAL PAIR HEART HAIR SLIDES', 'PINK VINTAGE VICTORIAN EARRINGS', 'SMALL TALL CAMPHOR WOOD TOADSTOOL', 'BLOSSOM IMAGES GIFT WRAP SET', 'ASSORTED EASTER GIFT TAGS', 'EASTER TIN KEEPSAKE', 'EASTER TIN CHICKS IN GARDEN', 'JIGSAW TOADSTOOLS 3 PIECE', 'BLUE TILED TRAY', 'TROPICAL HOLIDAY PURSE ', 'CAROUSEL PONIES BABY BIB', 'VIP HOLIDAY PURSE', 'PARTY TIME DESIGN FLANNEL', 'ECONOMY HOLIDAY PURSE', 'OLD DOC RUSSEL METAL SIGN', 'BLUE SHARK HELICOPTER', 'GREEN WIRE STANDING CANDLE HOLDER', 'ROMANTIC IMAGES SCRAP BOOK SET', 'LETTER SHAPE PENCIL SHARPENER', 'DOOR HANGER  MUM + DADS ROOM', 'GOLD SCROLL GLASS T-LIGHT HOLDER', 'PINK BUTTERFLY WASHBAG', 'FLOWER GLASS GARLD NECKL36\"AMETHYST', 'PURPLE BOUDICCA LARGE BRACELET', 'RED BOUDICCA LARGE BRACELET', 'PINK BOUDICCA LARGE BRACELET', 'BATHROOM SCALES, TROPICAL BEACH', 'CHARLIE & LOLA WASTEPAPER BIN BLUE', 'PINK  HONEYCOMB PAPER FAN', 'SET OF 36 DINOSAUR PAPER DOILIES', 'EASTER TREE YELLOW BIRDS', 'NUMBER TILE VINTAGE FONT 8', 'GREEN HEART COMPACT MIRROR', 'PINK BERTIE MOBILE PHONE CHARM', 'GOLD/AMBER DROP EARRINGS W LEAF', 'BLACK CHRISTMAS FLOCK DROPLET ', 'FLOWERS TILE HOOK', 'DANISH ROSE BEDSIDE CABINET', 'WHITE MURANO TWIST BRACELET', 'HANGING METAL CHICKEN DECORATION', 'MR ROBOT SOFT TOY', 'GOLD TEDDY BEAR', 'PINK  HEART CONFETTI IN TUBE', 'MIRRORED DOVE WALL DECORATION', 'CD WALL TIDY BLUE OFFICE', 'PINK GINGHAM CAT WITH SCARF', 'PINK BITTY LIGHT CHAIN', 'PINK METAL SWINGING BUNNY', 'MONTANA DIAMOND CLUSTER EARRINGS', 'PINK ROSEBUD PEARL BRACELET', 'WHITE  ROSEBUD PEARL BRACELET', 'BLACK SILOUETTE CANDLE PLATE', 'HEN PARTY CORDON BARRIER TAPE', 'EMPIRE GIFT WRAP', 'CANDLE PLATE LACE WHITE', 'ANT SILVER FUSCHIA BOUDICCA RING', 'PINK/WHITE GLASS DEMI CHOKER', 'IVORY SHELL HEART NECKLACE', 'MOROCCAN BEATEN METAL DISH LARGE', 'ZINC HEART LATTICE CHARGER SMALL', 'SILVER APERITIF GLASS', 'ANTIQUE GLASS PLACE SETTING', 'SET OF 6 HERB TINS SKETCHBOOK', 'SET OF 6 SPICE TINS PANTRY DESIGN', 'SET OF 3 CAKE TINS PANTRY DESIGN ', 'PINK DOG CANNISTER', 'ORANGE TV TRAY TABLE ', 'SWEETHEART CREAM STEEL TABLE RECT', 'GREY ACRYLIC FACETED BANGLE', 'LARGE CAKE TOWEL CHOCOLATE SPOTS', 'DANISH ROSE FOLDING CHAIR', 'DIAMANTE RING ASSORTED IN BOX.', 'PURPLE ACRYLIC FACETED BANGLE', 'VINTAGE BLUE KITCHEN CABINET', 'SET 3 WICKER STORAGE BASKETS ', 'SILVER ROCOCO CANDLE STICK', 'GOLD COSMETICS BAG WITH BUTTERFLY', 'PINK OVAL SHAPE TRINKET BOX', 'DANISH ROSE DECORATIVE PLATE', 'WOOLLY HAT SOCK GLOVE ADVENT STRING', 'BAKING MOULD TOFFEE CUP  CHOCOLATE', 'BAKING MOULD CUPCAKE CHOCOLATE', 'SET OF 3 CAKE TINS SKETCHBOOK', 'WRAP CIRCUS PARADE', 'CHILDS GARDEN FORK BLUE ', 'HAPPY EASTER HANGING DECORATION', 'HANGING HEART BASKET', 'HANGING SPRING FLOWER EGG LARGE', 'WHITE STITCHED WALL CLOCK', 'ASSTD COL BUTTERFLY/CRYSTAL W/CHIME', 'BLUE DAISY MOBILE', 'ASS FLORAL PRINT MULTI SCREWDRIVER', 'NUMBER TILE VINTAGE FONT 9 ', 'NUMBER TILE VINTAGE FONT 7', 'NUMBER TILE VINTAGE FONT 2', 'NUMBER TILE VINTAGE FONT 0', 'HIPPY CHIC DECORATIVE PARASOL', 'MRS ROBOT SOFT TOY', 'PINK BERTIE GLASS BEAD BAG CHARM', 'RED HEARTS LIGHT CHAIN ', 'WHITE TEA,COFFEE,SUGAR JARS', 'JAM JAR WITH BLUE LID', 'MILK PAN BLUE POLKADOT', 'CRYSTAL STUD EARRINGS ASSORTED COL ', 'RETRO BROWN BALL ASHTRAY ', 'SILVER ROCCOCO CHANDELIER', 'amazon sales', 'COFFEE MUG APPLES DESIGN', 'PINK HAWAIIAN PICNIC HAMPER FOR 2', 'OPULENT VELVET SET/3 CANDLES', 'KEEP OUT GIRLS DOOR HANGER ', 'WHITE DOVE HONEYCOMB PAPER GARLAND', 'PINK FLY SWAT', 'TEA TIME CAKE STAND IN GIFT BOX', 'IVORY HANGING DECORATION  EGG', 'FINE SILVER NECKLACE W PASTEL FLOWE', 'FELT FARM ANIMAL SHEEP', 'FELT FARM ANIMAL RABBIT', 'FELT FARM ANIMAL HEN', 'ACRYLIC JEWEL SNOWFLAKE,PINK', 'JARDIN ETCHED GLASS FRUITBOWL', 'FRESHWATER PEARL BRACELET GOLD', 'PALE PINK/AMETHYST STONE NECKLACE', 'FIRE POLISHED GLASS NECKL GOLD', 'PEARL & SHELL 42\"NECKL. GREEN', 'TEAL/FUSCHIA COL BEAD NECKLACE', 'AMBER FINE BEAD NECKLACE W TASSEL', 'PINK FLOCK GLASS CANDLEHOLDER', 'JARDIN ETCHED GLASS SMALL BELL JAR', 'BOTANICAL ROSE GREETING CARD', 'BOTANICAL LILY GREETING CARD', 'BLACK MEDIUM GLASS CAKE STAND', 'STRIPES DESIGN MONKEY DOLL', 'BLUE GINGHAM ROSE CUSHION COVER', 'ASSTD FRUIT+FLOWERS FRIDGE MAGNETS', 'FOLDING UMBRELLA BLACKBLUE POLKADOT', 'NUMBER TILE COTTAGE GARDEN 0 ', 'NUMBER TILE COTTAGE GARDEN 6', 'NUMBER TILE COTTAGE GARDEN 4', 'NUMBER TILE COTTAGE GARDEN 3 ', 'COFFEE MUG PEARS  DESIGN', 'SCOTTIES DESIGN WASHBAG', 'ROUND WHITE CONFETTI IN TUBE', 'CAKE STAND LACE WHITE', 'LONDON BUS COFFEE MUG', 'CERAMIC BOWL WITH LOVE HEART DESIGN', 'BOTANICAL ROSE GIFT WRAP', 'PINK SPOTS CHOCOLATE NESTING BOXES ', 'QUEENS GUARD COFFEE MUG', 'GREEN ROUND COMPACT MIRROR', 'PSYCHEDELIC TILE COASTER', 'RED PUDDING SPOON', 'MULTICOLOUR RABBIT EGG WARMER', 'CURIOUS IMAGES SCRAP BOOK SET', 'PINK NEW BAROQUE FLOCK CANDLESTICK', 'BLACK DROP CRYSTAL NECKLACE', 'APRON MODERN VINTAGE COTTON', 'POLKADOT COFFEE CUP & SAUCER PINK', 'BLACK SMALL GLASS CAKE STAND', 'SKULLS STORAGE BOX LARGE', '4 PINK DINNER CANDLE SILVER FLOCK', 'ENAMEL PINK COFFEE CONTAINER', 'SET OF THREE VINTAGE GIFT WRAPS', 'SUNFLOWER DECORATIVE PARASOL', 'PINK FLUFFY CHRISTMAS DECORATION', 'MONEY BOX HOUSEKEEPING DESIGN', 'SILVER DISCO HANDBAG', 'SILVER T-LIGHT SETTING', 'BLOSSOM IMAGES SCRAP BOOK SET', 'DECORATION WHITE CHICK MAGIC GARDEN', 'MONEY BOX FIRST ADE DESIGN', 'PINK FELT EASTER RABBIT GARLAND', 'SCHOOL DESK AND CHAIR ', 'WHITE BAROQUE WALL CLOCK ', 'BLACK BAROQUE WALL CLOCK ', 'CANDY SPOT HAND BAG', 'PURPLE ENAMEL FLOWER RING', 'PURPLE ENAMEL FLOWER HAIR TIE', 'GOLD DIAMANTE STAR BROOCH', 'HANGING HEN ON NEST DECORATION', 'NEW BAROQUE JEWELLERY BOX ', 'PINK MONTE CARLO HANDBAG', 'SILVER DROP EARRINGS WITH FLOWER', 'WHITE ROSEBUD  PEARL EARRINGS', 'FLORAL PINK MONSTER', 'GOLD FABRIC MIRROR', '*USB Office Mirror Ball', 'PAINTED YELLOW WOODEN DAISY', 'MUG , DOTCOMGIFTSHOP.COM ', 'PINK STOCKING CHRISTMAS DECORATION', 'SET/3 POLKADOT STACKING TINS', 'GLASS BEAD HOOP EARRINGS MONTANA', 'PINK CRYSTAL+GLASS BRACELET', 'BLACK GLASS BRACELET W HEART CHARMS', 'LAVENDER SCENT CAKE CANDLE', 'POLYESTER FILLER PAD 30CMx30CM', 'RUBY DROP CHANDELIER EARRINGS', 'LETTER \"T\" BLING KEY RING', 'SET/3 POT PLANT CANDLES', 'RED  EGG  SPOON', 'MINI LADLE LOVE HEART PINK', 'PURPLE CRYSTAL DROP EARRINGS', 'MIDNIGHT BLUE DROP CRYSTAL NECKLACE', 'FRESHWATER PEARL BRACELET IVORY', 'TURQ PENDANT TRIPLE SHELL NECKLACE', 'GREEN PENDANT SHELL NECKLACE', 'PINK ROSEBUD PEARL EARRINGS', 'DROP DIAMANTE EARRINGS BLACK DIAMON', 'PINK ENAMEL FLOWER HAIR TIE', 'LAZER CUT NECKLACE W PASTEL BEADS', '5 STRAND GLASS NECKLACE AMBER', 'SILVER/MOP ORBIT NECKLACE', 'PURPLE CHUNKY GLASS+BEAD NECKLACE', 'ETCHED GLASS STAR TREE DECORATION', 'CLASSIC FRENCH STYLE BASKET BROWN', 'EAU DE NILE JEWELLED PHOTOFRAME', 'PINK BOUDOIR T-LIGHT HOLDER', 'CREAM DELPHINIUM ARTIFICIAL FLOWER', 'LARGE WHITE/PINK ROSE ART FLOWER', 'MEDIUM WHITE/PINK ROSE ART FLOWER', 'WHITE ANEMONE ARTIFICIAL FLOWER', 'PINK CANDYSTUFT ARTIFICIAL FLOWER', 'WRAP MONSTER FUN ', 'TOYBOX  WRAP ', 'BLUE BLOSSOM HAIR CLIP', 'PINK STRAWBERRY HANDBAG ', 'SMALL SKULL WINDMILL', 'SET/3 RABBITS FLOWER SKIPPPING ROPE', 'GREETING CARD,SQUARE, DOUGHNUTS', 'HOT WATER BOTTLE BABUSHKA LARGE', 'BIRTHDAY BANNER TAPE', 'EASTER CRAFT 4 CHICKS ', 'BLACK CRYSTAL DROP EARRINGS', 'CRACKED GLAZE EARRINGS BROWN', 'MOP PENDANT SHELL NECKLACE', 'DIAMANTE NECKLACE BLACK ', 'Dotcomgiftshop Gift Voucher £40.00', 'WHITE HEART CONFETTI IN TUBE', 'GLASS BEAD HOOP EARRINGS AMETHYST', 'CANNABIS LEAF BEAD CURTAIN', 'OPIUM SCENTED VOTIVE CANDLE', 'Found', 'LOVE HEART TRINKET POT', 'ACRYLIC HANGING JEWEL,BLUE', 'GLOW IN DARK DOLPHINS', 'YELLOW DRAGONFLY HELICOPTER', 'CHEST NATURAL WOOD 20 DRAWERS', 'CAMOUFLAGE DOG COLLAR', 'PINK PAPER PARASOL ', 'WHITE BIRD GARDEN DESIGN MUG', 'LARGE ROUND CUTGLASS CANDLESTICK', 'ICON PLACEMAT POP ART ELVIS', 'BLACK FLOWER CANDLE PLATE', 'POPART WOODEN PENCILS ASST', 'RED POLKADOT BEAKER ', 'TEA PARTY  WRAPPING PAPER ', 'BLUE SCOTTIE DOG W FLOWER PATTERN', 'ANTIQUE CREAM CUTLERY CUPBOARD', 'MINI LADLE LOVE HEART RED ', 'ACRYLIC GEOMETRIC LAMP', 'MIDNIGHT BLUE CRYSTAL DROP EARRINGS', 'PURPLE VINTAGE EARRINGS', \"NEW BAROQUE B'FLY NECKLACE MONTANA\", \"NEW BAROQUE B'FLY NECKLACE CRYSTAL\", 'PURPLE FRANGIPANI NECKLACE', 'SILVER/NAT SHELL NECKLACE W PENDANT', 'LARGE CRYSTAL DIAMANTE HAIRSLIDE', 'BUNNY DECORATION MAGIC GARDEN', 'Dotcomgiftshop Gift Voucher £50.00', 'GREETING CARD, TWO SISTERS.', 'RED PURSE WITH PINK HEART', 'BLUE CHENILLE SHAGGY CUSHION COVER ', 'PINK CAT FLORAL CUSHION COVER ', 'PINK DOLLY HAIR CLIPS', 'RASTA IN BATH W SPLIFF ASHTRAY', 'reverse 21/5/10 adjustment', 'VINTAGE GLASS TEA CADDY', 'AMBER BERTIE GLASS BEAD BAG CHARM', 'BLACK BAROQUE CARRIAGE CLOCK', 'BUNNY EGG GARLAND', 'FLOWERS TILE COASTER', 'JARDIN ETCHED GLASS CHEESE DISH', 'BOX/12 CHICK & EGG IN BASKET', 'HANGING SPRING FLOWER EGG SMALL', 'EASTER DECORATION SITTING BUNNY', 'TINY CRYSTAL BRACELET GREEN', 'PEARL AND CHERRY QUARTZ BRACLET', 'TURQUOISE BERTIE GLASS BEAD CHARM', 'PINK ROSEBUD & PEARL NECKLACE', 'WHITE ROSEBUD & PEARL NECKLACE', 'VINTAGE GOLD TINSEL REEL', 'PINK/FLOWER RABBIT EGG WARMER ', 'ENGLISH ROSE METAL WASTE BIN', 'WRAP DAISY CARPET ', 'WRAP WEDDING DAY', 'Dotcomgiftshop Gift Voucher £30.00', 'Dotcomgiftshop Gift Voucher £20.00', 'FLAMINGO LIGHTS', 'ANTIQUE LILY FAIRY LIGHTS', 'FUSCHIA RETRO BAR STOOL', 'CANDY SPOT BUNNY', 'RABBIT EASTER DECORATION', 'MULTICOLOUR EASTER RABBIT ', 'VINTAGE WOODEN BAR STOOL', 'YELLOW POT PLANT CANDLE', 'DAISY FOLKART HEART DECORATION', 'RESIN NECKLACE W PASTEL BEADS', 'CONGRATULATIONS BUNTING', 'BLACK CHERRY LIGHTS', 'ASSORTED TUTTI FRUTTI ROUND BOX', 'WHITE SQUARE TABLE CLOCK', 'PINK DAISY BAG CHARM', 'BLACK 3 BEAD DROP EARRINGS', 'VINTAGE KITCHEN PRINT PUDDINGS', 'WRAP, CAROUSEL', 'BLUE  VOILE LAMPSHADE', 'SET/6 COLLAGE PAPER CUPS', 'SET/6 FRUIT SALAD PAPER CUPS', 'SET/6 FRUIT SALAD  PAPER PLATES', 'METALIC LEAVES BAG CHARMS', 'CITRUS GARLAND FELT FLOWERS ', 'EASTER DECORATION HANGING BUNNY', 'EASTER DECORATION EGG BUNNY ', 'ROSE DU SUD CUSHION COVER', 'LIGHTHOUSE PRINTED METAL SIGN', 'TURQUOISE HEART OF GLASS BRACELET', 'GREEN HEART OF GLASS BRACELET', 'TURQUOISE CRYSTAL+GLASS BRACELET', 'RESIN BRACELET W PASTEL BEADS', 'PINK LARGE JEWELED PHOTOFRAME', 'NEW BAROQUE BLACK BOXES', 'MOROCCAN BEATEN METAL MIRROR', 'CANDY HEART HANGING DECORATION', 'PINK SQUARE TABLE CLOCK', 'GLASS AND PAINTED BEADS BRACELET OL', 'PINK COMBO MINI CRYSTALS NECKLACE', 'mouldy, thrown away.', 'HANGING RIDGE GLASS T-LIGHT HOLDER', 'PINK CHERRY LIGHTS', 'AMBER GLASS/SHELL/PEARL NECKLACE', 'LETTER \"W\" BLING KEY RING', 'DIAMANTE HAIR GRIP PACK/2 LT ROSE', 'BLUE CRUSOE CHECK LAMPSHADE', 'VINTAGE KITCHEN PRINT VEGETABLES', 'found', 'TINY CRYSTAL BRACELET BLUE', 'JADE CRYSTAL+GLASS BRACELET', 'PEACH KNITTED HEN ', 'SET OF 12 MINI BUNNIES IN A BUCKET', 'BLOSSOM  IMAGES NOTEBOOK SET', 'PINK HEART RED HANDBAG', 'LITTLE PINK MONSTER SOFT TOY', 'TEA TIME TEA TOWELS ', 'COLOURFUL FLOWER FRUIT BOWL', 'THE KING GIFT BAG', 'BLUE CRYSTAL BOOT PHONE CHARM', 'SILVER/CRYSTAL DROP EARRINGS W LEAF', 'AMBER CRYSTAL DROP EARRINGS', 'GLASS AND PAINTED BEADS BRACELET TO', 'VINTAGE ENAMEL & CRYSTAL NECKLACE', 'GLASS CAKE COVER AND PLATE', 'PINK POLKADOT KIDS BAG', 'MIRROR MOSAIC T-LIGHT HOLDER ROUND', 'ROSE PENDANT TRIPLE SHELL NECKLACE', 'BLACK BIRD GARDEN DESIGN MUG', 'counted', 'WRAP DOILEY DESIGN', 'PINK RETRO BIG FLOWER BAG', 'FIRE POLISHED GLASS BRACELET RED', 'MIRRORED WALL ART POPPIES', 'WHITE/PINK CHICK DECORATION', 'WRAP ALPHABET DESIGN', 'PINK FELT EASTER EGG BASKET', 'HANGING BUTTERFLY  EGG', 'PINK HANGING GINGHAM EASTER HEN', 'BLUE HANGING GINGHAM EASTER HEN', 'RED STONE/CRYSTAL EARRINGS', 'BLOND DOLL DOORSTOP', 'YELLOW EASTER EGG HUNT START POST', 'GREEN EASTER EGG HUNT START POST', 'HARDMAN MUG 3 ASSORTED', 'POTTING SHED CANDLE CITRONELLA', 'PINK CLEAR GLASS CANDLE PLATE', 'SET 3 SONG BIRD PAPER EGGS ASSORTED', 'SET 3 PAPER VINTAGE CHICK PAPER EGG', 'PEG BAG APPLE DESIGN', 'FRYING PAN RED POLKADOT ', 'SET/5 RED SPOTTY LID GLASS BOWLS', 'LUNCH BAG RED SPOTTY', 'SET/20 FRUIT SALAD PAPER NAPKINS ', 'MIRRORED WALL ART LADIES', 'ASSTD RASTA KEY-CHAINS', 'WRAP POPPIES  DESIGN', 'EASTER BUNNY HANGING GARLAND', 'BUNNY EGG BOX', 'EASTER BUNNY WITH BASKET ON BACK', 'BLUE EASTER EGG HUNT START POST', '3 PINK HEN+CHICKS IN BASKET', '12 PINK HEN+CHICKS IN BASKET', 'EASTER BUNNY WREATH', 'FROG KING WATERING CAN', 'ASSORTED SHAPES PHOTO CLIP SILVER ', 'WRAP VINTAGE PETALS  DESIGN', 'PINK BUTTERFLY CUSHION COVER ', 'WHITE CANDYSTUFT ARTIFICIAL FLOWER', '2 PICTURE BOOK EGGS EASTER BUNNY', 'ASSORTED FARMYARD ANIMALS IN BUCKET', 'SILVER LARIAT 40CM', 'BLUE SAVANNAH PICNIC HAMPER FOR 2', 'MEDIUM CERAMIC TOP STORAGE JAR', 'ZINC HEART LATTICE 2 WALL PLANTER', 'FLAG OF ST GEORGE ', 'LARGE BLUE PROVENCAL CERAMIC BALL', 'HEN HOUSE W FAMILY IN BARN & NEST', 'WHITE CHERRY LIGHTS', 'RED/CREAM STRIPE CUSHION COVER ', 'PINK CHERRY BLOSSOM CUP & SAUCER', 'FOUR RABBIT EASTER DECORATIONS', 'PINK HYDRANGEA ART FLOWER', 'CROCHET ROSE PURSE WITH SUEDE BACK', 'SMALL WHITE/PINK ROSE ART FLOWER', 'BEADED CRYSTAL HEART BLUE  LARGE', 'GREEN FERN POCKET BOOK', 'Given away', 'Dotcom', 'SWISS ROLL TOWEL PINK  SPOTS', 'GLASS CHALICE GREEN  LARGE ', 'GLASS BEAD HOOP EARRINGS GREEN', 'WHITE ENAMEL FLOWER HAIR TIE', 'UNION JACK HOT WATER BOTTLE ', 'RED DAISY PAPER LAMPSHADE', 'GREEN METAL SWINGING BUNNY', 'FLAMES SUNGLASSES PINK LENSES', 'PINK PILLAR CANDLE SILVER FLOCK', 'STANDING FAIRY POLE SUPPORT ', '2 PICTURE BOOK EGGS EASTER DUCKS', '2 PICTURE BOOK EGGS EASTER CHICKS', 'VINTAGE BEAD PINK SHADE ', 'DECORATIVE HANGING SHELVING UNIT', 'MUSICAL ZINC HEART DECORATION ', 'RUSTIC WOODEN CABINET, GLASS DOORS', 'TINY CRYSTAL BRACELET RED', 'WHITE/PINK CHICK EASTER DECORATION', 'EASTER CRAFT IVY WREATH WITH CHICK', 'STEEL SWEETHEART ROUND TABLE CREAM', 'ORANGE FLOWER MUG ', 'label mix up', 'GINGHAM HEART DECORATION', 'MOROCCAN BEATEN METAL DISH', 'S/2 ZINC HEART DESIGN PLANTERS', 'RETROSPOT WOODEN HEART DECORATION', 'CUPID SCENTED CANDLE IN GLASS', 'CHRISTMAS STAR WISH LIST CHALKBOARD', 'samples/damages', 'WHITE HEART OF GLASS BRACELET', 'PINK HEART OF GLASS BRACELET', 'LONG SILVER NECKLACE PASTEL FLOWER', 'GOLD/M.O.P PENDANT ORBIT NECKLACE', 'SILVER/M.O.P PENDANT ORBIT NECKLACE', 'FLORAL BATHROOM SET', 'VINTAGE NOTEBOOK TRAVELOGUE', 'BLACK DROP EARRINGS W LONG BEADS', 'OOH LA LA DOGS COLLAR', '15 PINK FLUFFY CHICKS IN BOX', 'ZINC HEART LATTICE TRAY OVAL ', 'SET OF 6 ICE CREAM SKITTLES', 'BLUE CUSHION COVER WITH FLOWER', 'PINK YELLOW PATCH CUSHION COVER', 'PINK STRING CURTAIN WITH POLE', 'HANGING HEART WITH BELL', 'A4 WALL TIDY RED FLOWERS', 'INCENSE BAZAAR PEACH', 'TRANQUILITY MASALA INCENSE', 'OCEAN STRIPE HAMMOCK ', 'ELEPHANT CLIP W SUCTION CUP', 'CHERRY BLOSSOM DECORATIVE FLASK', 'CREAM SWEETHEART MAGAZINE RACK', 'WHITE HYDRANGEA ART FLOWER', 'CREAM CLIMBING HYDRANGA ART FLOWER', 'BLUE STONES ON WIRE FOR CANDLE', 'GLITTER HEART DECORATION', 'PINK JEWELLED PHOTO FRAME ', 'PINK GAUZE BUTTERFLY LAMPSHADE', 'CHERRY BLOSSOM CANVAS ART PICTURE', 'BOTANICAL LAVENDER GIFT WRAP ', 'NECKLACE+BRACELET PINK BUTTERFLY', 'ICE CREAM DESIGN GARDEN PARASOL', 'SET 2 PANTRY DESIGN TEA TOWELS', 'METAL RABBIT LADDER EASTER ', 'thrown away', 'COTTON APRON PANTRY DESIGN', 'CANDY SPOT TEA COSY', 'ICON MUG REVOLUTIONARY', 'BOYS PARTY BAG', 'GIRLS PARTY BAG', 'ACRYLIC JEWEL SNOWFLAKE, PINK', 'POCKET MIRROR \"GLAMOROUS\"', 'LARGE ZINC GLASS CANDLEHOLDER', 'RETRO PILL BOX , REVOLUTIONARY', 'PAINTED SEA SHELL METAL WINDCHIME', 'FOLDING SHOE TIDY', 'MADRAS NOTEBOOK MEDIUM', 'SQUARE METAL CANDLEHOLDER BASE', 'M/COLOUR POM-POM CURTAIN', 'BLACK VINTAGE  CRYSTAL EARRINGS', 'WHITE VINTAGE CRYSTAL EARRINGS', 'WHITE VINT ART DECO CRYSTAL NECKLAC', 'BLACK VINT ART DEC CRYSTAL NECKLACE', 'NEW BAROQUE SMALL NECKLACE BLACK', 'LILAC GAUZE BUTTERFLY LAMPSHADE', 'PINK/PURPLE CIRCLE CURTAIN', 'POTTING SHED ROSE CANDLE', 'HEART BUTTONS JEWELLERY BOX', \"NEW BAROQUE B'FLY NECKLACE RED\", 'incorrectly made-thrown away.', 'PURPLE FOXGLOVE ARTIIFCIAL FLOWER', 'PINK ALLIUM  ARTIFICIAL FLOWER', 'GIANT MEDINA STAMPED METAL BOWL ', 'PINK FLOWERS RABBIT EASTER', 'PURPLE AMETHYST NECKLACE W TASSEL', 'BLUE/NAT SHELL NECKLACE W PENDANT', 'PINK DISCO HANDBAG', 'PANTRY SCRUBBING BRUSH', 'SET OF 4 PANTRY JELLY MOULDS', 'TRAVEL CARD WALLET FLOWER MEADOW', 'TRAVEL CARD WALLET PANTRY', 'TRAVEL CARD WALLET SKULLS', 'TRAVEL CARD WALLET VINTAGE ROSE ', 'TRAVEL CARD WALLET TRANSPORT', 'TRAVEL CARD WALLET RETROSPOT', 'TRAVEL CARD WALLET KEEP CALM', 'GIRAFFE WOODEN RULER', 'REVOLVER WOODEN RULER ', 'TRAVEL CARD WALLET RETRO PETALS', 'TRAVEL CARD WALLET SUKI', 'TRAVEL CARD WALLET VINTAGE TICKET', 'PANTRY ROLLING PIN', 'TRAVEL CARD WALLET UNION JACK', 'TRAVEL CARD WALLET I LOVE LONDON', 'RETRO TIN ASHTRAY,REVOLUTIONARY', 'FUSCHIA TABLE RUN FLOWER ', 'DOTCOMGIFTSHOP TEA TOWEL', 'SET/6 POSIES PAPER CUPS', 'PURPLE/BLUE CERAMIC CANDLE HOLDER', 'PURPLE/COPPER HANGING LAMPSHADE', 'CHILDRENS CUTLERY POLKADOT BLUE', 'CHILDRENS CUTLERY POLKADOT PINK', 'S/3 PINK SQUARE PLANTERS ROSES', 'BLUE WHITE PLASTIC RINGS LAMPSHADE', 'WHITE VINTAGE CRYSTAL BRACELET', 'GLASS BEAD HOOP NECKLACE AMETHYST', 'RASPBERRY ANT COPPER FLOWER NECKLAC', 'GLASS BEAD HOOP NECKLACE GREEN', 'GLASS BEAD HOOP NECKLACE MONTANA', 'PINK AND BLACK STRING CURTAIN', 'PACK 20 DOLLY PEGS', 'LUNCH BAG SUKI DESIGN ', 'JUMBO BAG SCANDINAVIAN BLUE PAISLEY', 'CHILDRENS CUTLERY RETROSPOT RED ', 'CHILDRENS CUTLERY POLKADOT GREEN ', 'CREAM SWEETHEART TRAYS', 'SCALLOP SHELL SOAP DISH', 'PINK RIVIERA HANDBAG', 'TOP SECRET PEN SET', 'BEACH HUT SHELF W 3 DRAWERS', 'NECKLACE+BRACELET SET PINK DAISY', 'PINK CHRYSANTHEMUMS ART FLOWER', 'BEST DAD CANDLE LETTERS', 'GROOVY CACTUS INFLATABLE', 'HEAVENS SCENT FRAGRANCE OILS ASSTD', 'SMALL SINGLE FLAME CANDLE HOLDER', 'PINK MURANO TWIST NECKLACE', 'ORANGE/WHT/FUSCHIA STONES NECKLACE', 'RIVIERA NECKLACE', 'CLASSIC DIAMANTE NECKLACE JET', 'DIAMANTE NECKLACE', 'CLASSIC DIAMANTE EARRINGS JET', 'BLUE DROP EARRINGS W BEAD CLUSTER', 'ANTIQUE RASPBERRY FLOWER EARRINGS', 'PURPLE ANEMONE ARTIFICIAL FLOWER', 'WHITE ALLIUM  ARTIFICIAL FLOWER', 'TOILET SIGN OCCUPIED OR VACANT', 'SMALL BLUE PROVENCAL CERAMIC BALL', 'PANTRY WASHING UP BRUSH', 'showroom', 'TREASURE ISLAND BOOK BOX', 'BUFFALO BILL TREASURE BOOK BOX', 'GYMKHANNA TREASURE BOOK BOX', 'ABC TREASURE BOOK BOX ', 'PANTRY PASTRY BRUSH', 'DOLLCRAFT GIRL AMELIE KIT', 'DOLLCRAFT GIRL NICOLE', 'CLEAR STATIONERY BOX SET ', 'SILVER/BLACK PENDANT ORBIT NECKLACE', 'BAROQUE BUTTERFLY EARRINGS PINK', 'FELTCRAFT GIRL NICOLE KIT', 'FELTCRAFT BOY JEAN-PAUL KIT', 'FELTCRAFT GIRL AMELIE KIT', 'GYMKHANA TREASURE BOOK BOX', \"MOTHER'S KITCHEN SPOON REST \", \"CLOCK MAGNET MUM'S KITCHEN\", 'JAM CLOCK MAGNET', 'PANTRY APPLE CORER', 'WHITE WITH BLACK CATS PLATE', \"MUM'S KITCHEN CLOCK\", 'RECYCLED ACAPULCO MAT RED', 'RECYCLED ACAPULCO MAT PINK', 'RECYCLED ACAPULCO MAT LAVENDER', 'RECYCLED ACAPULCO MAT GREEN', 'RECYCLED ACAPULCO MAT TURQUOISE', 'RECYCLED ACAPULCO MAT BLUE', 'S/4 ICON COASTER,ELVIS LIVES', 'DOLLCRAFT BOY JEAN-PAUL ', 'FRENCH STYLE STORAGE JAR JAM', 'BULL DOG BOTTLE OPENER', 'PINK CRYSTAL GUITAR PHONE CHARM', 'BLACK FEATHER CHRISTMAS DECORATION', 'GLASS AND BEADS BRACELET IVORY', 'MIA', 'PURPLE/TURQ FLOWERS HANDBAG', 'Adjustment', 'Dotcomgiftshop Gift Voucher £10.00', 'CROCHET ROSE DES CLOTHES HANGER', 'BLUE HOLE PUNCH', 'BABY MOUSE RED GINGHAM DRESS', 'BULL DOG BOTTLE TOP WALL CLOCK', 'FRENCH STYLE STORAGE JAR BONBONS', 'DOLLCRAFT GIRL AMELIE', 'Dotcom set', 'FRENCH STYLE STORAGE JAR CAFE ', 'wrongly sold as sets', 'Amazon sold sets', 'dotcom sold sets', 'wrongly sold sets', '? sold as sets?', '?sold as sets?', 'YELLOW/BLUE RETRO RADIO', 'RETRO PILL BOX KEY CHAIN,THE KING', 'CIRCUS PARADE BABY GIFT SET', ' SPACEBOY BABY GIFT SET', 'Thrown away.', 'I LOVE LONDON BABY GIFT SET', 'DOLLY GIRL BABY GIFT SET', 'damages/display', 'damaged stock', 'broken', 'throw away', 'ENGLISH ROSE NOTEBOOK A6 SIZE', 'PASTEL PINK PHOTO ALBUM ', 'BLUE POLKADOT BEAKER ', 'wrong barcode (22467)', 'wrongly sold (22719) barcode', 'BLUE FLYING SINGING CANARY', 'HELLO SAILOR BATHROOM SET', 'HEN HOUSE W CHICK IN NEST', 'WRAP BAD HAIR DAY', 'PIECE OF CAMO STATIONERY SET', 'WINE BOTTLE DRESSING LT.BLUE', 'DOORMAT CHRISTMAS VILLAGE', 'WIRE FLOWER T-LIGHT HOLDER', 'ANTIQUE SILVER T-LIGHT GLASS', 'SET OF 16 VINTAGE IVORY CUTLERY', 'MONTANA DIAMOND CLUSTER NECKLACE', 'RUBY GLASS NECKLACE 42\"', 'JUNGLE POPSICLES ICE LOLLY MOULDS', 'PINK SMALL GLASS CAKE STAND', 'FLAG OF ST GEORGE CHAIR', 'YELLOW PINK FLOWER DESIGN BIG BOWL', 'FRENCH CHATEAU OVAL PLATTER', 'ASSORTED SANSKRIT MINI NOTEBOOK', 'BLUE FLOWER DES PURSE', 'ELVIS WALLHANGING / CURTAIN', 'AMETHYST 3 BEAD DROP EARRINGS', 'wrong barcode', 'barcode problem', 'BIG POLKADOT MUG', '?lost', 'GREEN MURANO TWIST NECKLACE', 'PINK/AMETHYST/GOLD NECKLACE', 'ASSORTED COLOUR SILK GLASSES CASE', \"thrown away-can't sell.\", \"thrown away-can't sell\", 'DOUGHNUT LIP GLOSS ', 'ICE CREAM SUNDAE LIP GLOSS', 'ICE CREAM PEN LIP GLOSS ', 'OPEN CLOSED METAL SIGN', 'WINE BOTTLE DRESSING DARK BLUE', 'CROCHET BEAR RED/BLUE  KEYRING', 'FAN BLACK FRAME ', 'rcvd be air temp fix for dotcom sit', 'WRAP BILLBOARD FONTS DESIGN', 'SET OF 5 PANCAKE DAY MAGNETS', 'SET OF 4 JAM JAR MAGNETS', 'SET OF 5 MINI GROCERY MAGNETS', 'KNICKERBOCKERGLORY MAGNET ASSORTED ', 'PACK 4 FLOWER/BUTTERFLY PATCHES', 'SET OF 5 LUCKY CAT MAGNETS ', 'JARDIN ETCHED GLASS LARGE BELL JAR', 'MUMMY MOUSE RED GINGHAM RIBBON', 'FRENCH CHATEAU SMALL FRUITBOWL', 'FRENCH CHATEAU LARGE FRUIT BOWL ', 'damages?', 're dotcom quick fix.', 'WRAP CAROUSEL', 'SMALL TAHITI BEACH BAG', 'GOLDIE LOOKING MIRROR', \"Dotcom sold in 6's\", 'sold in set?', 'cracked', 'sold as 22467', 'ORANGE FELT VASE + FLOWERS', 'SET OF 6 NATIVITY MAGNETS ', 'SET OF 12 ROSE BOTANICAL T-LIGHTS', 'CROCHET WHITE RABBIT KEYRING ', 'SILVER/BLACK ORBIT NECKLACE', 'Damaged', 'VINTAGE BEAD COSMETIC BAG ', 'ENAMEL BLUE RIM TEA CONTAINER', 'BEACH HUT MIRROR', 'DECORATION WOBBLY RABBIT METAL ', 'BLUE CAT BISCUIT BARREL PINK HEART', 'HEN HOUSE WITH CHICK STANDING', 'TUMBLER BAROQUE', 'DECORATION WOBBLY CHICKEN', 'PINK ROUND COMPACT MIRROR', 'BLUE SQUARE COMPACT MIRROR', 'CHILDRENS CUTLERY DOLLY GIRL ', 'CHILDRENS CUTLERY SPACEBOY ', 'mystery! Only ever imported 1800', 'MERCHANT CHANDLER CREDIT ERROR, STO', 'POSSIBLE DAMAGES OR LOST?', \"NEW BAROQUE B'FLY NECKLACE PINK\", 'CHILDRENS CUTLERY CIRCUS PARADE', 'TUMBLER NEW ENGLAND', 'BOTANICAL LILY GIFT WRAP', 'BAROQUE BUTTERFLY EARRINGS BLACK', 'YELLOW/ORANGE FLOWER DESIGN PLATE', 'SWEETHEART KEY CABINET', 'CHARLOTTE BAG VINTAGE ALPHABET ', 'JUMBO BAG ALPHABET', 'LUNCH BAG ALPHABET DESIGN', 'JUMBO BAG APPLES', 'LUNCH BAG APPLE DESIGN', 'CHARLOTTE BAG APPLES DESIGN', 'CHARLOTTE BAG ALPHABET  DESIGN', 'KIDS CUTLERY SPACEBOY ', 'KIDS CUTLERY DOLLY GIRL ', 'LUNCH BAG VINTAGE LEAF DESIGN', 'S/2 BEACH HUT TREASURE CHESTS', 'damaged', 'PINK FEATHERS CURTAIN', 'DAMAGED', 'PADS TO MATCH ALL CUSHIONS', 'SQUARECUSHION COVER PINK UNION JACK', '3 BIRDS CANVAS SCREEN', 'LARGE DECO JEWELLERY STAND', 'PASTEL BLUE PHOTO ALBUM ', 'HEART BEADED TRELLIS DECORATION', 'GEMSTONE CHANDELIER T-LIGHT HOLDER', '16 PIECE CUTLERY SET PANTRY DESIGN', 'BEADED CHANDELIER T-LIGHT HOLDER', 'did  a credit  and did not tick ret', 'CHILDRENS TOY COOKING UTENSIL SET', 'BLACK GLASS/SHELL/PEARL NECKLACE', 'SMALL DECO JEWELLERY STAND', 'ALUMINIUM STAMPED HEART', 'DOUBLE CERAMIC PARLOUR HOOK', 'ZINC SWEETHEART WIRE LETTER RACK', 'FLOWER GLASS GARLAND NECKL.36\"BLUE', 'PARLOUR CERAMIC WALL HOOK', 'GEORGIAN TRINKET BOX', 'ORANGE/FUSCHIA STONES NECKLACE', \"COTE D'AZURE NECKLACE\", 'TRIPLE HOOK ANTIQUE IVORY ROSE', 'VINTAGE EMBOSSED HEART', 'GOLD WINE GOBLET', 'GOLD APERITIF GLASS', 'IVORY CHANDELIER T-LIGHT HOLDER', 'FLOWERS CHANDELIER T-LIGHT HOLDER', 'ROSE DU SUD CUSHION COVER ', 'TRIPLE WIRE HOOK IVORY HEART', 'TRIPLE WIRE HOOK PINK HEART', 'SMALL ZINC HEART WALL ORGANISER', 'SMALL IVORY HEART WALL ORGANISER', 'MARIE ANTOIENETT TRINKET BOX GOLD', 'IVORY SWEETHEART WIRE LETTER RACK ', 'Display', 'LARGE ZINC HEART WALL ORGANISER', 'LARGE IVORY HEART WALL ORGANISER', 'Missing', '60 GOLD AND SILVER FAIRY CAKE CASES', 'SINGLE ANTIQUE ROSE HOOK IVORY', 'MINIATURE ANTIQUE ROSE HOOK IVORY', 'ZINC T-LIGHT HOLDER STARS SMALL', 'IVORY WIRE KITCHEN ORGANISER', 'IVORY WIRE SWEETHEART LETTER TRAY', 'SINGLE WIRE HOOK PINK HEART', 'SINGLE WIRE HOOK IVORY HEART', 'IVORY SWEETHEART SOAP DISH', 'ZINC T-LIGHT HOLDER STAR LARGE', 'PINK BUTTERFLY CUSHION COVER', 'adjustment', 'returned', 'BAROQUE BUTTERFLY EARRINGS RED', 'ZINC WIRE SWEETHEART LETTER TRAY', 'LILAC VOTIVE CANDLE', 'wrong code?', 'wrong code', 'TEATIME GEL PENS ASST', 'EDWARDIAN PHOTO FRAME', 'MAXWELL 2 TONE BLUE 60 PAGE PHOTO A', 'MISTLETOE HEART WREATH CREAM', 'HANGING ENGRAVED METAL HEART', 'adjust', 'BLUE TABLE RUN FLOWER', 'BLUE STRIPES SHOULDER BAG', 'BLUE CHECK BAG W HANDLE 34X20CM', 'LASER CUT MULTI STRAND NECKLACE', 'REGENCY SUGAR TONGS', 'DOORMAT KEEP CALM AND COME IN', 'DOORMAT VINTAGE LEAVES DESIGN ', 'REGENCY TEA STRAINER', 'crushed', 'FLAG OF ST GEORGE CAR FLAG', 'HAYNES CAMPER SHOULDER BAG', 'SMALL ZINC/GLASS CANDLEHOLDER', 'GOLD FLOWER CUSHION COVER ', 'SET OF 10 LANTERNS FAIRY LIGHT STAR', 'PAPER LANTERN 7 POINT SNOW STAR', 'PAPER LANTERN 9 POINT SNOW STAR', 'PAPER LANTERN 9 POINT SNOW STAR ', 'CINDERELLA CHANDELIER ', 'BLING KEY RING STAND', 'MULTICOLOUR POLKADOT PLATE', 'MISTLETOE HEART WREATH GREEN', 'WHITE 3 FRAME BIRDS AND TREE ', 'WRAP SUMMER ROSE DESIGN', 'FRENCH PAISLEY CUSHION COVER', 'REGENCY TEA SPOON', 'REGENCY CAKE FORK', 'REGENCY CAKE SLICE', 'ANTIQUE IVORY WIRE BOWL SMALL', 'MINITURE ANTIQUE ROSE HOOK IVORY', 'PINK FLOCK PHOTO FRAME ', 'damages/showroom etc', 'samples', 'ZINC WIRE KITCHEN ORGANISER', 'damages/credits from ASOS.', 'FOOD COVER WITH BEADS SET 2 ', 'SPOTTY BUNTING', 'EDWARDIAN HEART PHOTO FRAME', 'ZINC SWEETHEART SOAP DISH', 'CRYSTAL STUD EARRINGS CLEAR DISPLAY', 'PAPER LANTERN 9 POINT HOLLY STAR 40', 'PAPER LANTERN 5 POINT STAR MOON 30', 'PAPER LANTERN 6 POINT SNOW STAR', 'BUNTING , SPOTTY ', 'POLYESTER FILLER PAD 60x40cm', 'mailout ', 'mailout', 'BLUE DISCO HANDBAG', 'JUMBO BAG VINTAGE LEAF', 'JUMBO BAG PEARS', 'JUMBO BAG DOILEY PATTERNS', 'LUNCH BAG DOILEY PATTERN ', 'MARIE ANTOINETTE TRINKET BOX GOLD', 'MARIE ANTOINETTE TRINKET BOX SILVER', 'PAPER LANTERN 9 POINT HOLLY STAR L', 'PAPER LANTERN 9 POINT DELUXE STAR', 'PAPER LANTERN 5 POINT SEQUIN STAR', 'PAPER LANTERN 9 POINT HOLLY STAR S', 'PAPER LANTERN 9 POINT HOLLY STAR 23', 'PAPER LANTERN 5 POINT STUDDED STAR', 'FOOD COVER WITH BEADS , SET 2 SIZES', 'FLOWER GARLAND NECKLACE RED', 'Not rcvd in 10/11/2010 delivery', 'CRYSTAL CZECH CROSS PHONE CHARM', 'FOLDING BUTTERFLY MIRROR IVORY ', 'FOLDING BUTTERFLY MIRROR HOT PINK ', 'BUNDLE OF 3 SCHOOL EXERCISE BOOKS  ', 'BUNDLE OF 3 RETRO NOTE BOOKS', 'BUNDLE OF 3 ALPHABET EXERCISE BOOKS', 'BUNDLE OF 3 RETRO EXERCISE BOOKS', 'REGENCY MILK JUG PINK ', 'REGENCY SUGAR BOWL GREEN', 'REGENCY TEAPOT ROSES ', 'REGENCY TEA PLATE PINK', 'REGENCY TEA PLATE GREEN ', 'REGENCY TEA PLATE ROSES ', 'GREEN METAL BOX ARMY SUPPLIES', 'RABBIT NIGHT LIGHT', 'FOLDING BUTTERFLY MIRROR RED  ', 'PARISIENNE JEWELLERY DRAWER ', 'PETIT TRAY CHIC', 'ZINC HERB GARDEN CONTAINER', 'LE GRAND TRAY CHIC SET', 'SET OF 10 LED DOLLY LIGHTS', 'RED METAL BOX TOP SECRET', 'GREEN METAL BOX TOP SECRET', 'PARISIENNE KEY CABINET ', 'Thrown away-rusty', 'SILVER BELLS TABLE DECORATION', 'SILVER HEARTS TABLE DECORATION', 'VINTAGE ENGRAVED HEART', 'SET 6 PAPER TABLE LANTERN HEARTS ', 'FLOWERS HANDBAG blue and orange', 'SMALL PARISIENNE HEART PHOTO FRAME ', 'FOLDING MIRROR HOT PINK ', 'LED TEA LIGHTS', 'BELL HEART DECORATION', 'ALUMINIUM HEART', 'CRYSTAL CHANDELIER T-LIGHT HOLDER', 'PARISIENNE CURIO CABINET', 'PARISIENNE SEWING BOX', 'TOADSTOOL BEDSIDE LIGHT ', 'SMALL CERAMIC TOP STORAGE JAR ', 'IVORY PANTRY HANGING LAMP ', 'CLASSIC SUGAR DISPENSER', 'MISELTOE HEART WREATH WHITE', 'MISELTOE HEART WREATH ', 'CLASSIC GLASS SWEET JAR', 'LARGE CERAMIC TOP STORAGE JAR', 'LARGE JEWELLERY STAND', 'SMALL JEWELLERY STAND', 'SILVER STARS TABLE DECORATION', 'GLASS BON BON JAR', 'WHITE WIRE PLANT POT HOLDER', 'CLASSIC GLASS COOKIE JAR', 'CLASSIC CAFE SUGAR DISPENSER', 'ZINC HEART FLOWER T-LIGHT HOLDER', 'JINGLE BELL HEART DECORATION', 'ZINC HEARTS PLANT POT HOLDER', 'WHITE HEARTS WIRE PLANT POT HOLDER', 'ZINC  HEART T-LIGHT HOLDER', 'METAL HERB GERDEN CONTAINER', 'ZINC PLANT POT HOLDER', 'FOLDING MIRROR IVORY ', 'FOLDING MIRROR RED  ', 'PEARL & SHELL 42\"NECKL. IVORY', 'SET 6 PAPER TABLE LANTERN STARS ', 'GARDENERS KNEELING PAD KEEP CALM ', 'GARDENERS KNEELING PAD CUP OF TEA ', 'KNEELING MAT HOUSEWORK  DESIGN', 'ENGLISH ROSE SCENTED HANGING HEART', 'VINTAGE GLASS T-LIGHT HOLDER', 'LARGE ANTIQUE WHITE PHOTO FRAME', 'ANTIQUE SILVER BAUBLE LAMP  ', 'FRENCH CARRIAGE LANTERN', 'ZINC  STAR T-LIGHT HOLDER ', 'sold as set/6 by dotcom', 'wet/rusty', 'damages/dotcom?', 'on cargo order', 'FUNKY FLOWER PICNIC BAG FOR 4', 'SET 10 NIGHT OWL LIGHTS', 'HEART SHAPED HOLLY WREATH', 'LILY BROOCH WHITE/SILVER COLOUR', 'BLUE DELPHINIUM ARTIFICIAL FLOWER', 'IVORY CAFE HANGING LAMP ', 'RED PEONY CUSHION COVER ', 'GREEN PEONY CUSHION COVER', 'SILVER FLOWR PINK SHELL NECKLACE', 'ZINC T-LIGHT HOLDER STARS LARGE', 'smashed', '16 PC CUTLERY SET PANTRY DESIGN', 'CAPIZ CHANDELIER', 'SILVER BLACK ORBIT DROP EARRINGS', 'incorrectly credited C550456 see 47', 'reverse previous adjustment', 'FILIGREE HEART BIRD WHITE ', 'FILIGREE HEART BUTTERFLY WHITE ', 'ZINC STAR T-LIGHT HOLDER ', 'Next Day Carriage', 'DECORATION SITTING BUNNY', 'CHERRY BLOSSOM PURSE', 'FILIGREE HEART DAISY WHITE', 'SET 4 VALENTINE DECOUPAGE HEART BOX', 'REINDEER HEART DECORATION SILVER', 'CHAMPAGNE TRAY BLANK CARD', 'JINGLE BELL HEART ANTIQUE GOLD', 'JINGLE BELL HEART ANTIQUE SILVER', 'WHITE ROCKING HORSE HAND PAINTED', 'STAR WREATH DECORATION WITH BELL', 'HEART WREATH DECORATION WITH BELL', 'LAUREL STAR ANTIQUE SILVER ', 'CHERUB HEART DECORATION GOLD', 'RED ROCKING HORSE HAND PAINTED', 'LAUREL HEART ANTIQUE GOLD', 'LAUREL HEART ANTIQUE SILVER', 'CHERUB HEART DECORATION SILVER ', 'wet damaged', 'SET 2 TEA TOWELS I LOVE LONDON ', 'SET OF 3 HANGING OWLS OLLIE BEAK', 'SET OF 3 WOODEN HEART DECORATIONS', 'PAPER LANTERN 5 POINT STAR MOON ', 'SET OF 60 I LOVE LONDON CAKE CASES ', 'SET OF 2 CERAMIC PAINTED HEARTS ', 'SET OF 60 PANTRY DESIGN CAKE CASES ', 'Water damaged', 'SET OF 36 DOILIES PANTRY DESIGN', 'SET OF 60 VINTAGE LEAF CAKE CASES ', 'HEART T-LIGHT HOLDER WILLIE WINKIE', 'STAR T-LIGHT HOLDER WILLIE WINKIE', 'BAROQUE BUTTERFLY EARRINGS MONTANA', 'WRAP GINGHAM ROSE ', 'MIRRORED WALL ART SNOWFLAKES', 'POP ART PUSH DOWN RUBBER ', 'WHITE FRANGIPANI HAIR CLIP', 'SET OF 4 KNICK KNACK TINS DOILEY ', 'SET OF 4 KNICK KNACK TINS LONDON ', 'BLUE FELT HANGING HEART WITH FLOWER', 'VINTAGE KEEPSAKE BOX PINK FLOWER', 'SET OF TEA COFFEE SUGAR TINS PANTRY', 'PINK FLOCK SUEDE CUSHION COVER ', 'SET OF 3 REGENCY CAKE TINS', 'SET OF 4 KNICK KNACK TINS POPPIES', 'DOILEY STORAGE TIN', 'STORAGE TIN VINTAGE LEAF', 'TREASURE TIN GYMKHANA DESIGN', 'TREASURE TIN BUFFALO BILL ', 'missing', \"BISCUIT TIN 50'S CHRISTMAS\", 'ROUND STORAGE TIN VINTAGE LEAF', 'SET OF 4 KNICK KNACK TINS LEAVES ', '36 DOILIES VINTAGE CHRISTMAS', 'FOLKART CHRISTMAS TREE T-LIGHT HOLD', 'BUBBLEGUM RING ASSORTED', 'SMALL WHITE HEART OF WICKER', 'DOILEY BISCUIT TIN', 'REINDEER HEART DECORATION GOLD', 'sold as set on dotcom', 'SET OF 3 WOODEN SLEIGH DECORATIONS', 'SET OF 3 WOODEN TREE DECORATIONS', 'SET OF 3 WOODEN STOCKING DECORATION', 'sold as set on dotcom and amazon', 'DANISH ROSE UMBRELLA STAND', 'water damage', 'sold as set by dotcom', 'PICNIC BASKET WICKER 60 PIECES', 'SET OF 2 CERAMIC CHRISTMAS TREES', 'SET OF 2 CERAMIC CHRISTMAS REINDEER', 'VINTAGE RED ENAMEL TRIM JUG ', 'LARGE WHITE HEART OF WICKER', 'POPCORN HOLDER', 'DOLPHIN WINDMILL', 'BLUE VINTAGE SPOT BEAKER', 'EGG FRYING PAN RED ', 'PINK VINTAGE SPOT BEAKER', 'GREEN VINTAGE SPOT BEAKER', 'JUMBO BAG VINTAGE CHRISTMAS ', 'SMALL POP BOX FUNKY MONKEY', 'GLASS BEAD HOOP NECKLACE BLACK', 'FLOWER GLASS GARLAND NECKL.36\"GREEN', 'ANTIQUE MID BLUE FLOWER EARRINGS', 'CHRISTMAS TABLE CANDLE SILVER SPIKE', 'EGG FRYING PAN IVORY ', 'EGG FRYING PAN BLUE ', 'EGG FRYING PAN PINK ', 'EGG FRYING PAN MINT ', 'SPACE BOY CHILDRENS CUP', 'DOLLY GIRL CHILDRENS CUP', 'DOLLY GIRL CHILDRENS BOWL', 'SPACEBOY CHILDRENS BOWL', 'RED VINTAGE SPOT BEAKER', 'VINTAGE  2 METER FOLDING RULER', 'BISCUIT TIN VINTAGE LEAF', 'CANNISTER VINTAGE LEAF DESIGN', 'VINTAGE RED ENAMEL TRIM MUG ', 'VINTAGE RED ENAMEL TRIM PLATE', 'VINTAGE RED TRIM ENAMEL BOWL ', 'Printing smudges/thrown away', 'printing smudges/thrown away', 'VINTAGE DONKEY TAIL GAME ', 'BISCUIT TIN VINTAGE CHRISTMAS', 'GLASS APOTHECARY BOTTLE PERFUME', 'GLASS APOTHECARY BOTTLE ELIXIR', 'DRAWER KNOB CERAMIC IVORY', 'CROCHET DOG KEYRING', 'GLASS  SONGBIRD STORAGE JAR', 'DRAWER KNOB CRACKLE GLAZE IVORY', 'DRAWER KNOB CRACKLE GLAZE BLUE', 'DRAWER KNOB CRACKLE GLAZE PINK', 'DRAWER KNOB CRACKLE GLAZE GREEN', 'DRAWER KNOB CERAMIC RED', 'DRAWER KNOB CERAMIC BLACK', 'GLASS APOTHECARY BOTTLE TONIC', 'DONKEY TAIL GAME ', 'TRANSPARENT ACRYLIC TAPE DISPENSER', ' TOADSTOOL BEDSIDE LIGHT ', \"JUMBO BAG 50'S CHRISTMAS \", 'DOORKNOB CRACKED GLAZE IVORY', 'DOORKNOB CRACKED GLAZE BLUE', 'SMALL BONNE JAM JAR  T-LIGHT HOLDER', 'to push order througha s stock was ', 'found some more on shelf', 'GLASS TWIST BON BON JAR', 'DRAWER KNOB VINTAGE GLASS STAR', 'PACK OF 6 LARGE FRUIT STRAWS ', 'SPACEBOY CHILDRENS CUP', 'CORDIAL GLASS JUG', 'COCKTAIL SWORDS 50 PIECES', 'PARTY CHARMS 50 PIECES', 'PACK OF 6 SMALL FRUIT STRAWS', 'PACK OF 6 COCKTAIL PARASOL STRAWS', '18PC WOODEN CUTLERY SET DISPOSABLE', '6PC WOOD PLATE SET DISPOSABLE', 'T-LIGHT HOLDER SILVER HEART HANDLE', 'GLASS BONNE JAM JAR', 'Show Samples', 'RIDGED BONNE JAM JAR T-LIGHT HOLDER', 'CLASSICAL ROSE TABLE LAMP', 'SMALL APOTHECARY MEASURING JAR ', 'TREE T-LIGHT HOLDER WILLIE WINKIE', 'T-LIGHT HOLDER SILVER PETIT FOUR ', 'WRAP VINTAGE LEAF DESIGN', 'PANTRY MAGNETIC  SHOPPING LIST', 'DRAWER KNOB VINTAGE GLASS HEXAGON', 'LARGE BONNE JAM JAR  T-LIGHT HOLDER', 'CHRISTMAS TREE HANGING SILVER ', 'CHRISTMAS TREE HANGING GOLD', 'SKETCHBOOK MAGNETIC SHOPPING LIST', 'RETRO LEAVES MAGNETIC NOTEPAD', 'SET OF 4 SANTA PLACE SETTINGS', 'WHITE WICKER STAR ', 'IVORY REFECTORY CLOCK', 'RED REFECTORY CLOCK ', 'MINT DINER WALL CLOCK', 'PINK DINER WALL CLOCK', 'RETO LEAVES MAGNETIC SHOPPING LIST', 'CANDLE HOLDER SILVER MADELINE', 'VEGETABLE MAGNETIC  SHOPPING LIST', 'CHRISTMAS TABLE SILVER CANDLE SPIKE', 'DIAMANTE NECKLACE PURPLE', 'BLUE REFECTORY CLOCK ', 'APOTHECARY MEASURING JAR', 'LARGE APOTHECARY MEASURING JAR ', 'DOORKNOB CRACKED GLAZE PINK', 'DOORKNOB CRACKED GLAZE GREEN', 'DRAWER KNOB VINTAGE GLASS BALL', 'FOUND', 'GLASS SONGBIRD STORAGE JAR', 'mix up with c', 'TRAVEL CARD WALLET VINTAGE LEAF', 'mouldy, unsaleable.', 'PINK EASTER HENS+FLOWER', 'VIP PASSPORT COVER ', 'GARAGE KEY FOB', 'BELL HEART ANTIQUE GOLD', 'LEAVES MAGNETIC  SHOPPING LIST', 'BOX OF 6 MINI VINTAGE CRACKERS', 'BAROQUE BUTTERFLY EARRINGS CRYSTAL', 'ROUND BLUE CLOCK WITH SUCKER', 'ROUND PURPLE CLOCK WITH SUCKER', 'FLOWER PURPLE CLOCK WITH SUCKER', 'FLOWER BLUE CLOCK WITH SUCKER', 'SET OF 4 KNICK KNACK TINS LEAF', \"GIANT 50'S CHRISTMAS CRACKER\", 'DOORMAT VINTAGE LEAF', 'PACKING CHARGE', 'VINTAGE LEAF MAGNETIC NOTEPAD', 'GREEN CRYSTAL DROP EARRINGS', 'TRAVEL CARD WALLET DOTCOMGIFTSHOP', \"BOX OF 6 MINI 50'S CRACKERS\", 'COPPER AND BRASS BAG CHARM', 'IVORY GOLD METAL BAG CHARM', 'WHITE WITH METAL BAG CHARM', 'GREEN WITH METAL BAG CHARM', 'RED PEONY TABLE CLOCK', 'LILAC FEATHERS CURTAIN', 'VINTAGE BEAD PINK JEWEL BOX', 'T-LIGHT HOLDER SILVER SAUCER', 'VINTAGE CHRISTMAS BUNTING', 'SET OF 6 TEA TIME BAKING CASES', 'SET OF 6 SNACK LOAF BAKING CASES', 'SET OF 12 FAIRY CAKE BAKING CASES', 'SET OF 12 MINI LOAF BAKING CASES', 'SET 40 HEART SHAPE PETIT FOUR CASES', 'ANTIQUE SILVER BOOK MARK WITH BEADS', 'BROWN VINTAGE VICTORIAN EARRINGS', 'PSYCHEDELIC METAL SIGN CALENDAR', 'ROUND ARTICULATED PINK CLOCK W/SUCK', 'PINK/BLUE STRING CURTAIN ', 'ENAMEL JUG PANTRY', 'ENAMEL BOWL PANTRY', 'ENAMEL MUG PANTRY', 'VINTAGE CHRISTMAS STOCKING ', 'wrongly marked. 23343 in box', 'came coded as 20713', 'VINTAGE CHRISTMAS TABLECLOTH', 'alan hodge cant mamage this section', 'AMBER BERTIE MOBILE PHONE CHARM', 'PINK BEADS+HAND PHONE CHARM', 'PACK OF SIX LED TEA LIGHTS', 'VINTAGE CHRISTMAS GIFT SACK', 'SPOTTED WHITE NATURAL SEED NECKLACE', 'ORANGE PENDANT TRIPLE SHELL NECKLAC', 'WRAP ALPHABET POSTER  ', 'dotcom', 'LAUREL STAR ANTIQUE GOLD', 'BLUE/YELLOW CERAMIC CANDLE HOLDER', 'GREEN/BLUE CERAMIC CANDLE HOLDER', 'AMBER 3 BEAD DROP EARRINGS', 'PURPLE DRESS JEWELLERY STAND', 'WRAP BIRD GARDEN ', 'WRAP PAISLEY PARK ', 'THE KING GIFT BAG 25x24x12cm', 'FBA', 'BLUE MONTE CARLO HANDBAG', 'CUTE RABBIT CEATURE SCREEN ', 'CUTE BIRD CEATURE SCREEN', 'WRAP RED DOILEY', 'WRAP FLOWER SHOP  ', 'WRAP MAGIC FOREST ', 'WHITE STONE/CRYSTAL EARRINGS', 'BIRD ON BRANCH CANVAS SCREEN', \"WRAP 50'S  CHRISTMAS\", 'SPACEBOY BEAKER', ' DOLLY GIRL BEAKER', 'I LOVE LONDON BEAKER', 'stock creditted wrongly', 'ebay', 'DOORKNOB CERAMIC IVORY', 'ORIENTAL RED CUSHION COVER ', 'incorrectly put back into stock', 'LIGHT PINK FLOCK GLASS CANDLEHOLDER', 'MONEY BOX FIRST AID DESIGN', 'VINTAGE CHRISTMAS CAKE FRILL', 'MISELTOE HEART WREATH CREAM', 'VINTAGE BEAD PINK JEWEL STAND', 'Damages/samples', 'SET 8 CANDLES VINTAGE DOILEY', 'SET OF 12 T-LIGHTS VINTAGE DOILEY', 'VINTAGE CHRISTMAS PAPER GIFT BAG', 'GIFT BAG LARGE VINTAGE CHRISTMAS', '6 GIFT TAGS VINTAGE CHRISTMAS ', \"6 GIFT TAGS 50'S CHRISTMAS \", 'RED SPOT PAPER GIFT BAG', 'Dotcomgiftshop Gift Voucher £100.00', ' RED SPOT GIFT BAG LARGE', 'SET OF 12 FORK CANDLES', 'Sold as 1 on dotcom', 'BLUE PAINTED KASHMIRI CHAIR', 'ROLL WRAP VINTAGE CHRISTMAS', 'ROLL WRAP VINTAGE SPOT ', 'GIFT BAG LARGE SPOT ', \"ROLL WRAP 50'S RED CHRISTMAS \", \"ROLL WRAP 50'S CHRISTMAS\", 'STORAGE TIN VINTAGE DOILEY ', 'JUMBO BAG VINTAGE DOILEY ', 'LUNCH BAG VINTAGE DOILEY ', 'ADULT APRON APPLE DELIGHT', 'WRAP  VINTAGE DOILEY ', 'SET OF 4 KNICK KNACK TINS DOILY ', 'RUSTIC STRAWBERRY JAMPOT LARGE ', 'PURPLE ENAMEL+GLASS HAIR COMB', 'JUMBO BAG VINTAGE DOILY ', 'LUNCH BAG VINTAGE DOILY ', 'SET 8 CANDLES VINTAGE DOILY', 'STORAGE TIN VINTAGE DOILY ', 'IVORY WICKER HEART LARGE', 'DECORATIVE WICKER HEART LARGE', 'ASSORTED COLOURED CIRCLE MOBILE ', 'DECORATIVE WICKER HEART MEDIUM', 'IVORY WICKER HEART SMALL', 'IVORY WICKER HEART MEDIUM', 'SET 6 SCHOOL MILK BOTTLES IN CRATE', 'WRAP  VINTAGE DOILY ', 'SET OF 4 KNICK KNACK TINS  DOILEY ', 'DECORATIVE WICKER HEART SMALL', 'HANGING CLEAR MINI BOTTLE', 'SET OF 12 T-LIGHTS VINTAGE DOILY', 'HANGING MINI COLOURED BOTTLES', 'RUSTIC STRAWBERRY JAMPOT SMALL', 'PINK ACRYLIC JEWEL SNOWFLAKE', 'ACRYLIC JEWEL ANGEL,PINK', 'WRAP RED VINTAGE DOILY', 'Adjust bad debt', 'CRACKED GLAZE NECKLACE BROWN', 'RUSTIC STRAWBERRY JAM POT SMALL', 'PINK/WHITE CHRISTMAS TREE 30CM', 'ACRYLIC JEWEL ICICLE, BLUE', 'taig adjust no stock', 'RUSTIC STRAWBERRY JAM POT LARGE ', 'VINTAGE CHRISTMAS GIFT BAG LARGE ', 'HOT WATER BOTTLE SEX BOMB', 'HOT STUFF HOT WATER BOTTLE', \"50'S CHRISTMAS PAPER GIFT BAG\", 'LOVE HOT WATER BOTTLE', '3 BLACK CATS W HEARTS BLANK CARD', 'HAPPY BIRTHDAY CARD STRIPEY TEDDY', 'HOT WATER BOTTLE KEEP CALM', 'DIAMANTE NECKLACE GREEN', \" 50'S CHRISTMAS GIFT BAG LARGE\", 'CORDIAL JUG', 'ICE CREAM BUBBLES', 'HAND WARMER RED LOVE HEART', 'NATURAL HANGING QUILTED HEARTS ', 'HANGING QUILTED PATCHWORK APPLES', 'HAPPY BIRTHDAY CARD TEDDY/CAKE', '3 DRAWER ANTIQUE WHITE WOOD CABINET', 'FLOWER FAIRY 5 DRAWER LINERS', 'ELEPHANT BIRTHDAY CARD ', 'HANGING JAM JAR T-LIGHT HOLDERS', 'FILIGREE DIAMANTE CHAIN', 'CRUK Commission', 'PARTY CONES CANDY DECORATION', 'PRETTY HANGING QUILTED HEARTS', 'SWEETHEART 3 TIER CAKE STAND ', 'PACK OF 12 VINTAGE CHRISTMAS TISSUE', \"PACK OF 12 50'S CHRISTMAS TISSUES\", 'PACK OF 12 PAISLEY PARK TISSUES ', 'FAIRY TALE COTTAGE NIGHT LIGHT', 'code mix up? 84930', '?display?', 'sold as 1', '?missing', 'crushed ctn', 'SET 10 CARDS PERFECT POST 17090', 'SET 10 CARD CHRISTMAS WELCOME 17112', 'SET 10 CARDS XMAS CHOIR 17068', 'MINT DINER CLOCK', 'BUTTERFLY CUSHION COVER', 'BELLE JARDINIERE CUSHION COVER', 'POSTE FRANCE CUSHION COVER', 'SET OF 2 TRAYS HOME SWEET HOME', 'HOME SWEET HOME CUSHION COVER ', 'STOOL HOME SWEET HOME ', 'FOOT STOOL HOME SWEET HOME ', 'PACK OF 12 DOLLY GIRL TISSUES', 'HOME SWEET HOME HANGING HEART', ' TRELLIS COAT RACK', 'HANGING HEART BONHEUR', 'LA JARDIN BOTANIQUE CUSHION COVER', 'STORAGE TIN HOME SWEET HOME', 'ZINC BOX SIGN HOME', 'GINGHAM RECIPE BOOK BOX', 'HOME SWEET HOME BLACKBOARD', 'HOME SWEET HOME KEY HOLDER', 'HOME SWEET HOME 2 DRAWER CABINET', 'PACK OF 12 RED APPLE TISSUES', 'PACK OF 12 VINTAGE LEAF TISSUES ', 'PACK OF 12 VINTAGE DOILY TISSUES', 'HOME SWEEET HOME 3 PEG HANGER ', 'LETTER HOLDER HOME SWEET HOME', \"GIFT BAG LARGE 50'S CHRISTMAS\", 'METAL SIGN DROP YOUR PANTS', 'HEART MIRROR ANTIQUE WHITE', 'SPACEBOY ROCKET LOLLY MAKERS', 'SHELF WITH 4 HOOKS HOME SWEET HOME', 'ENAMEL DINNER PLATE PANTRY', 'SET 10 CARDS 12 DAYS WRAP  17058', 'SET 10 CARDS OUT OF ORDER 17216', 'HOME SWEET HOME HOOK', 'BATHROOM HOOK', 'HOME SWEET HOME 3 PEG HANGER ', 'VINTAGE COFFEE GRINDER BOX', 'PHOTO FRAME LINEN AND LACE LARGE', 'SET 10 CARDS SCOTTIE DOG 17211', 'PHOTO FRAME LINEN AND LACE SMALL', 'RUSTIC MIRROR WITH LACE HEART', 'PANTRY HOOK BALLOON WHISK ', 'SET 10 XMAS CARDS & BADGES 17070', 'SET 10 CARDS JINGLE BELLS 16957', 'CURIO CABINET LINEN AND LACE ', 'Crushed', 'WOODLAND BUNNIES LOLLY MAKERS', 'PANTRY 3 HOOK ROLLING PIN HANGER', 'PANTRY HOOK SPATULA', 'test', 'temp adjustment', '3 RAFFIA RIBBONS VINTAGE CHRISTMAS', 'LAVENDER TOILETTE BOTTLE', 'HOME SWEET HOME BOTTLE ', \"3 RAFFIA RIBBONS 50'S CHRISTMAS \", ' I LOVE LONDON MINI BACKPACK', 'DOLLY GIRL MINI BACKPACK', 'SPACEBOY MINI BACKPACK', 'EMBOSSED HEART TRINKET BOX', 'WOODLAND MINI BACKPACK', 'PAINTED HEART WREATH WITH BELL', 'taig adjust', 'allocate stock for dotcom orders ta', 'CHAMBRE HOOK', 'SET 10 CARDS RED RIDING HOOD 17214', '??', 'add stock to allocate online orders', 'for online retail orders', 'SET 10 CARDS HATS & STOCKINGS 17081', 'CHRISTMAS HANGING SNOWFLAKE', 'PANTRY HOOK TEA STRAINER ', 'SET 6 CARDS SPARKLY REINDEER 17262', 'SET 10 CARDS MAGICAL TREE 17086', 'PANTRY CHOPPING BOARD', 'Amazon', 'ACRYLIC HANGING JEWEL,PINK', 'BLUE CLIMBING HYDRANGA ART FLOWER', 'found box', 'OOPS ! adjustment', 'Found in w/hse', 'LE JARDIN BOTANIQUE CUSHION COVER', 'website fixed', 'FLOWER FAIRY 5 SUMMER DRAW LINERS', 'SET 10 CARDS DRESSING UP 17077', 'SET 10 CARDS HANGING BAUBLES 17080', 'PLAYING CARDS KEEP CALM & CARRY ON', 'SET 12 COLOURING PENCILS DOILY', 'SET 12 COLOUR PENCILS SPACEBOY ', 'PLAYING CARDS JUBILEE UNION JACK', 'SET 36 COLOUR PENCILS SPACEBOY ', 'MINI PLAYING CARDS SPACEBOY ', 'PLAYING CARDS VINTAGE DOILEY ', 'SET 36 COLOUR PENCILS DOILEY', 'SET 12 COLOUR PENCILS DOILEY', 'PACK OF 12 DOILEY TISSUES', 'VINTAGE DOILY TRAVEL SEWING KIT', 'SET 12 COLOUR PENCILS LOVE LONDON', 'SET 36 COLOUR PENCILS LOVE LONDON', 'EMBROIDERED RIBBON REEL RUBY ', 'EMBROIDERED RIBBON REEL EMILY ', 'EMBROIDERED RIBBON REEL REBECCA ', 'SET 36 COLOURING PENCILS DOILY', 'SET 12 COLOUR PENCILS DOLLY GIRL ', 'PLAYING CARDS I LOVE LONDON ', 'SET 36 COLOUR PENCILS DOLLY GIRL', 'EMBROIDERED RIBBON REEL ROSIE', 'EMBROIDERED RIBBON REEL DAISY ', 'EMBROIDERED RIBBON REEL SALLY ', 'EMBROIDERED RIBBON REEL RACHEL ', 'MINI PLAYING CARDS GYMKHANA', 'MINI PLAYING CARDS DOLLY GIRL ', 'MINI PLAYING CARDS FUN FAIR ', 'MINI PLAYING CARDS BUFFALO BILL ', 'EMBROIDERED RIBBON REEL SUSIE ', 'SET 10 CARD PERFECT NATIVITY 17089', 'Dagamed', 'ROUND CACTUS CANDLE', 'DOLLY GIRL MINI RUCKSACK', 'SPACEBOY MINI RUCKSACK', 'PLAYING CARDS VINTAGE DOILY ', 'LARGE BLACK DIAMANTE HAIRSLIDE', 'SET 10 CARDS CHRISTMAS ROBIN 17095', 'PACK OF 12 CHRISTMAS FUN CARDS', 'SET 10 CARDS SNOWY SNOWDROPS  17100', 'SET 10 CARDS CHEERFUL ROBIN 17065', 'EMBROIDERED RIBBON REEL SOPHIE  ', 'EMBROIDERED RIBBON REEL CLAIRE', 'VINTAGE DOILY DELUXE SEWING KIT ', 'SET 10 CARDS ROBIN WATERPUMP  17096', 'SET 10 CARDS FILIGREE BAUBLE 16961', 'SMOKEY GREY COLOUR GLASS', 'SWEETHEART BIRD HOUSE', 'TUSCAN VILLA DOVECOTE', 'CARD HOLDER LOVE BIRD SMALL', 'HEART TRELLISTRIPLE T-LIGHT HOLDER', 'VINTAGE LEAF CHOPPING BOARD  ', 'POPPY FIELDS CHOPPING BOARD', 'RED APPLES CHOPPING BOARD   ', 'SIX DRAWER OFFICE TIDY', 'VEGETABLE GARDEN CHOPPING BOARD', 'SET 10 CARDS CHRISTMAS TREE 16955', ' NINE DRAWER OFFICE TIDY', 'CARD HOLDER LOVE BIRD LARGE ', 'HORSE & PONY WALL ART', 'BICYCLE SAFTEY WALL ART', 'STOP FOR TEA WALL ART', 'WALL ART CLASSIC PUDDINGS ', 'BUFFALO BILL WALL ART ', 'WALL ART WORK REST AND PLAY  ', \"WALL ART LOVES' SECRET \", 'DOG AND BALL WALL ART', 'DOG LICENCE WALL ART', 'WALL ART GARDEN HAVEN ', \"70'S ALPHABET WALL ART\", 'SPACEBOY WALL ART', 'KEEP CALM WALL ART ', 'WALL ART ONLY ONE PERSON ', 'WALL ART VINTAGE HEART', 'CAT AND BIRD WALL ART', 'TREASURE AHOY WALL ART', 'WALL ART BIG LOVE ', 'ANIMALS AND NATURE WALL ART', 'HANGING  BUTTERFLY T-LIGHT HOLDER', 'DOLLY GIRL WALL ART', 'VILLAGE SHOW WALL ART', 'WALL ART MID CENTURY MODERN ', 'historic computer difference?....se', 'WALL ART THE MAGIC FOREST ', 'I LOVE LONDON WALL ART', 'WALL ART KEEP CALM ', 'WALL ART BICYCLE SAFTEY ', 'WALL ART BUFFALO BILL ', 'WALL ART VILLAGE SHOW ', 'WALL ART STOP FOR TEA ', 'WALL ART DOG LICENCE ', 'WALL ART SPACEBOY', 'SET 10 MINI SANTA & SNOWMAN  17087', 'SET 10 CARDS DINKY TREE 17076', 'WALL ART I LOVE LONDON ', \"WALL ART 70'S ALPHABET \", 'Lighthouse Trading zero invc incorr', 'Incorrect stock entry.', 'incorrect stock entry.', 'KEY RING BASEBALL BOOT ASSORTED ', 'WALL ART HORSE & PONY ', 'WALL ART ANIMALS AND NATURE ', 'PINK HORSE SOCK PUPPET KIT', 'HEART TRELLIS TRIPLE T-LIGHT HOLDER', 'WALL ART CAT AND BIRD ', 'TUSCAN VILLA FEEDING STATION', 'KEY RING BASEBALL BOOT UNION JACK', 'WALL ART BICYCLE SAFETY', 'VINTAGE  2 METRE FOLDING RULER', 'michel oops', 'WALL ART DOLLY GIRL ', 'SET 10 CARDS 12 DAYS OF XMAS 17059', 'SET 10 CARDS POINSETTIA 17093', 'SET 10 CARDS CHRISTMAS HOLLY  17259', ' I LOVE LONDON MINI RUCKSACK', 'SET 36 COLOURING PENCILS DOILEY', 'SET 12 COLOURING PENCILS DOILEY', 'WOODLAND MINI RUCKSACK ', 'WALL ART DOG AND BALL ', 'wrongly coded 20713', 'wrongly coded-23343', \"WALL ART , LOVES' SECRET \", 'WALL ART,ONLY ONE PERSON ', 'WALL ART ,PUDDINGS ', 'stock check', 'crushed boxes', 'SET 10 MINICARDS CUTE SNOWMAN 17071', 'TUSCAN VILLA BIRD TABLE ', 'N0 SINGING METAL SIGN', 'WET/MOULDY', \"can't find\", 'UBO-LIGHT TRIOBASE PURPLE', 'SILVER 2 STRAND NECKLACE-LEAF CHARM', 'SILVER M.O.P. ORBIT NECKLACE', 'GOLD M.O.P. ORBIT NECKLACE', 'TUSCAN VILLA DOVECOTE BIRD FEEDER', 'WALL ART , THE MAGIC FOREST ', 'CREAM BUNNY EASTER EGG BASKET', 'PINK BUNNY EASTER EGG BASKET', 'BLUE BUNNY EASTER EGG BASKET', 'WALL ART TREASURE AHOY ', 'S/4 BLACK DISCO PARTITION PANEL', 'BLACK VINT ART DEC CRYSTAL BRACELET', 'mouldy', 'BOX OF 6 CHRISTMAS CAKE DECORATIONS', 'HENRIETTA HEN MUG ', 'MILK MAIDS MUG ', 'EGG CUP MILKMAID INGRID', 'PINK HANGING HEART T-LIGHT HOLDER', 'EGG CUP HENRIETTA HEN PINK', 'Wet pallet-thrown away', 'Had been put aside.', 'SWEET HEART CAKE CARRIER', 'T-LIGHT HOLDER HANGING LOVE BIRD', 'OVAL  MINI PORTRAIT FRAME', 'HEART MINI PORTRAIT FRAME', 'SQUARE MINI PORTRAIT FRAME', 'PEARLISED IVORY HEART LARGE ', 'SET 10 CARD KRAFT REINDEER 17084', 'DOLLY CABINET 2 DRAWERS ', 'EGG CUP MILKMAID HELGA ', 'MEDIUM PARLOUR PICTURE FRAME ', 'VINTAGE ZINC WATERING CAN', 'VINTAGE ZINC WATERING CAN SMALL', 'LARGE PARLOUR PICTURE FRAME', 'SMALL PARLOUR PICTURE FRAME', 'EGG CUP HENRIETTA HEN CREAM ', 'EGG CUP MILKMAID HEIDI', 'VINTAGE ZINC PLANTER  ', 'WIRE EGG BASKET ', 'PEARLISED IVORY HEART SMALL ', 'DOLLY CABINET 3 DRAWERS ', 'SNACK TRAY I LOVE LONDON', 'Sale error', 'DECROTIVEVINTAGE COFFEE GRINDER BOX', 'High Resolution Image', 'LANDMARK FRAME LONDON BRIDGE ', 'LANDMARK FRAME COVENT GARDEN ', 'LANDMARK FRAME OXFORD STREET', 'LANDMARK FRAME BAKER STREET ', 'LANDMARK FRAME NOTTING HILL ', 'MINI LIGHTS WOODLAND MUSHROOMS', 'LANDMARK FRAME CAMDEN TOWN ', 'GARLAND, VINTAGE BELLS', 'VINTAGE JINGLE BELLS HEART', 'VINTAGE JINGLE BELLS WREATH', 'WOODLAND LARGE BLUE FELT HEART', 'WOODLAND LARGE PINK FELT HEART', 'WOODLAND LARGE RED FELT HEART', 'ANTIQUE HEART SHELF UNIT', 'WOODLAND SMALL RED FELT HEART', 'SWEETHEART WALL TIDY ', 'ROCOCO WALL MIRROR WHITE', 'SET 12 VINTAGE DOILY CHALK ', 'BOTANICAL GARDENS WALL CLOCK ', 'VINTAGE BELLS GARLAND', 'ROCOCO WALL MIROR', 'TRADITIONAL PICK UP STICKS GAME ', 'SET OF 3 MINI HANGING PORTRAITS', 'TRADITIONAL NAUGHTS & CROSSES', 'TRADTIONAL ALPHABET STAMP SET', 'SET 4 PICNIC CUTLERY BLUEBERRY', 'THREE MINI HANGING FRAMES', 'WOODLAND SMALL BLUE FELT HEART', 'Amazon Adjustment', 'wrongly marked 23343', '20713 wrongly marked', 'SET 10 CARDS WISHING TREE 17116', 'STRAWBERRY CERAMIC TRINKET POT', 'VINTAGE DOILY JUMBO BAG RED ', 'LUNCH BAG PAISLEY PARK  ', 'JUMBO BAG PAISLEY PARK', 'UBO-LIGHT TRIOBASE BLUE', 're-adjustment', 'SET OF 36 VINTAGE CHRISTMAS DOILIES', 'SET OF 36 SPACEBOY PAPER DOILIES', 'SET OF 36 DOLLY GIRL PAPER DOILIES', 'Breakages', 'DECORATIVE VINTAGE COFFEE  BOX', 'SET OF 36 PANTRY PAPER DOILIES', 'SET 4 PICNIC CUTLERY FONDANT', 'Marked as 23343', 20713, 'wrongly coded 23343', 'WOODLAND SMALL PINK FELT HEART', 'SET 10 CARDS PRINTED GRAPHIC 17219', 'SET 10 CHRISTMAS CARDS HOHOHO 16956', 'SET 10 CARD SNOWMAN 16965', 'Found by jackie', 'SILVER RECORD COVER FRAME', 'Damages', 'CLASSIC CHROME BICYCLE BELL ', 'SET 4 PICNIC CUTLERY CHERRY ', 'SET OF 3 PANTRY WOODEN SPOONS', 'PANTRY KITCHEN THERMOMETER ', 'CHECK', 'SET 10 CARDS TRIANGLE ICONS  17220', 'SET 10 CARDS WORLD CHILDREN 17067', 'SET 10 CARDS CHRISTMAS BAUBLE 16954', 'Unsaleable, destroyed.', 'wrongly marked', 'dotcom sales', 'had been put aside', 'LIGHT DECORATION BATTERY OPERATED', 'KEEP CALM BIRTHDAY WRAP', 'RUBY GLASS CLUSTER NECKLACE', 'WRAP KEEP CALM BIRTHDAY', 'SET 10 CARDS RUDOLPHS NOSE 17097', 'LUNCH BAG RED VINTAGE DOILY', \"BLACK SIL'T SQU CANDLE PLATE \", 'damages wax', 'ANT SILVER TURQUOISE BOUDICCA RING', 'PINK POLKADOT PLATE ', 'water damaged', 'ST GEORGE SET OF 10 PARTY LIGHTS', 'WRAP A PRETTY THANK YOU', 'CLASSIC CROME BICYCLE BELL ', 'DOILY THANK YOU CARD', 'A PRETTY THANK YOU CARD', 'SET 10 CARDS JINGLE BELLS 17217', 'TUSCAN VILLA BIRD FEEDER', 'PAPER BUNTING VINTAGE PARTY', 'PAPER BUNTING PAISLEY PARK', 'Wrongly mrked had 85123a in box', 'wrongly marked carton 22804', \"SET 10 CARDS DAVID'S MADONNA 17074\", 'SET 10 CARDS XMAS GRAPHIC  17218', 'LARGE PARLOUR FRAME', 'MEDIUM PARLOUR FRAME ', 'SMALL PARLOUR FRAME', 'SET 10 CARDS 3 WISE MEN 17107', 'FLOWER SHOP DESIGN MUG', 'ROSE FLOWER CANDLE+INCENSE 16X16CM', 'WHITE CHRISTMAS TREE 60CM', 'missing?', 'PAISLEY PARK CARD', 'PACK 3 BOXES CHRISTMAS PANETTONE', 'PACK OF 6 PANETTONE GIFT BOXES', 'PACK 3 BOXES BIRD PANETTONE ', 'COLOURED GLASS STAR T-LIGHT HOLDER', 'wet rusty', 'SET 10 CARDS DECK THE HALLS 16960', '12 HANGING EGGS HAND PAINTED', 'SET OF 6 EASTER RAINBOW CHICKS', 'amazon adjust', '???lost', 'DUSTY PINK CHRISTMAS TREE 60CM', 'IVORY RETRO KITCHEN WALL CLOCK', 'dotcomstock', 'SET 10 CARD CHRISTMAS STAMPS 16963', 'John Lewis', 'sold with wrong barcode', 'WHITE MOROCCAN METAL LANTERN', 'CAT WITH SUNGLASSES BLANK CARD', 'BLUE RETRO KITCHEN WALL CLOCK', 'dotcom adjust', 'RED RETRO KITCHEN WALL CLOCK', 'rusty thrown away', 'rusty throw away', 'check?', 'PURPLE FINE BEAD NECKLACE W TASSEL', 'HAND PAINTED HANGING EASTER EGG', '?? missing', 'wet pallet', '????missing', '???missing', 'PAINT YOUR OWN EGGS IN CRATE', 'AMAZON', 'BICYCLE PUNCTURE REPAIR KIT ', 'CLASSIC BICYCLE CLIPS ', 'CROCHET LILAC/RED BEAR KEYRING', 'SILVER AND BLACK ORBIT NECKLACE', 'LARGE HEART FLOWERS HOOK   ', 'GIN AND TONIC DIET METAL SIGN', 'SNACK TRAY RED GINGHAM', 'SNACK TRAY HAPPY FOREST  ', 'SNACK TRAY PAISLEY PARK', 'SET OF 6 RIBBONS COUNTRY STYLE', 'SNACK TRAY RED VINTAGE DOILY', 'SET OF 6 RIBBONS PERFECTLY PRETTY  ', 'SET OF 6 RIBBONS PARTY', 'SET 10 CARDS SNOWY ROBIN 17099', 'lost in space', 'SET 10 CARDS SWIRLY XMAS TREE 17104', 'wet?', 'lost??', '???', 'LETTER \"U\" BLING KEY RING', 'wet', 'wet boxes', '????damages????', 'mixed up', 'lost', 'CREAM HANGING HEART T-LIGHT HOLDER', 'PAPER CRAFT , LITTLE BIRDIE']\n"
     ]
    }
   ],
   "source": [
    "k = [i for i in df[\"Description\"].unique()]\n",
    "print(k)"
   ]
  },
  {
   "cell_type": "code",
   "execution_count": 13,
   "id": "81209038",
   "metadata": {},
   "outputs": [
    {
     "data": {
      "text/plain": [
       "4224"
      ]
     },
     "execution_count": 13,
     "metadata": {},
     "output_type": "execute_result"
    }
   ],
   "source": [
    "len(k)"
   ]
  },
  {
   "cell_type": "code",
   "execution_count": 14,
   "id": "b33b714c",
   "metadata": {},
   "outputs": [
    {
     "name": "stdout",
     "output_type": "stream",
     "text": [
      "<class 'pandas.core.frame.DataFrame'>\n",
      "RangeIndex: 541909 entries, 0 to 541908\n",
      "Data columns (total 9 columns):\n",
      " #   Column       Non-Null Count   Dtype         \n",
      "---  ------       --------------   -----         \n",
      " 0   InvoiceNo    541909 non-null  object        \n",
      " 1   StockCode    541909 non-null  object        \n",
      " 2   Description  540455 non-null  object        \n",
      " 3   Quantity     541909 non-null  int64         \n",
      " 4   InvoiceDate  541909 non-null  datetime64[ns]\n",
      " 5   UnitPrice    541909 non-null  float64       \n",
      " 6   CustomerID   406829 non-null  float64       \n",
      " 7   Country      541909 non-null  object        \n",
      " 8   total_sale   541909 non-null  float64       \n",
      "dtypes: datetime64[ns](1), float64(3), int64(1), object(4)\n",
      "memory usage: 37.2+ MB\n"
     ]
    }
   ],
   "source": [
    "df.info()"
   ]
  },
  {
   "cell_type": "code",
   "execution_count": 15,
   "id": "be078b11",
   "metadata": {},
   "outputs": [
    {
     "data": {
      "text/plain": [
       "Country\n",
       "United Kingdom     8187806.364\n",
       "Netherlands         284661.540\n",
       "EIRE                263276.820\n",
       "Germany             221698.210\n",
       "France              197403.900\n",
       "Australia           137077.270\n",
       "Switzerland          56385.350\n",
       "Spain                54774.580\n",
       "Belgium              40910.960\n",
       "Sweden               36595.910\n",
       "Japan                35340.620\n",
       "Norway               35163.460\n",
       "Portugal             29367.020\n",
       "Finland              22326.740\n",
       "Channel Islands      20086.290\n",
       "Denmark              18768.140\n",
       "Italy                16890.510\n",
       "Cyprus               12946.290\n",
       "Austria              10154.320\n",
       "Hong Kong            10117.040\n",
       "Name: total_sale, dtype: float64"
      ]
     },
     "execution_count": 15,
     "metadata": {},
     "output_type": "execute_result"
    }
   ],
   "source": [
    "top_count = df.groupby(\"Country\")[\"total_sale\"].sum().sort_values(ascending=False)\n",
    "top_count.head(20)"
   ]
  },
  {
   "cell_type": "code",
   "execution_count": 16,
   "id": "471d857c",
   "metadata": {},
   "outputs": [
    {
     "data": {
      "text/plain": [
       "<AxesSubplot:ylabel='Country'>"
      ]
     },
     "execution_count": 16,
     "metadata": {},
     "output_type": "execute_result"
    },
    {
     "data": {
      "image/png": "[encoded data removed]",
      "text/plain": [
       "<Figure size 640x480 with 1 Axes>"
      ]
     },
     "metadata": {},
     "output_type": "display_data"
    }
   ],
   "source": [
    "top_count.head(6).plot(kind=\"barh\")"
   ]
  },
  {
   "cell_type": "code",
   "execution_count": 17,
   "id": "d7fdca53",
   "metadata": {},
   "outputs": [
    {
     "data": {
      "text/plain": [
       "<AxesSubplot:ylabel='Country'>"
      ]
     },
     "execution_count": 17,
     "metadata": {},
     "output_type": "execute_result"
    },
    {
     "data": {
      "image/png": "[encoded data removed]",
      "text/plain": [
       "<Figure size 640x480 with 1 Axes>"
      ]
     },
     "metadata": {},
     "output_type": "display_data"
    }
   ],
   "source": [
    "top_count.head(5).plot(kind=\"barh\")"
   ]
  },
  {
   "cell_type": "markdown",
   "id": "53899793",
   "metadata": {},
   "source": [
    "#### Find the month which the highest sale was made"
   ]
  },
  {
   "cell_type": "code",
   "execution_count": 18,
   "id": "2770a86b",
   "metadata": {},
   "outputs": [
    {
     "data": {
      "text/html": [
       "<div>\n",
       "<style scoped>\n",
       "    .dataframe tbody tr th:only-of-type {\n",
       "        vertical-align: middle;\n",
       "    }\n",
       "\n",
       "    .dataframe tbody tr th {\n",
       "        vertical-align: top;\n",
       "    }\n",
       "\n",
       "    .dataframe thead th {\n",
       "        text-align: right;\n",
       "    }\n",
       "</style>\n",
       "<table border=\"1\" class=\"dataframe\">\n",
       "  <thead>\n",
       "    <tr style=\"text-align: right;\">\n",
       "      <th></th>\n",
       "      <th>InvoiceNo</th>\n",
       "      <th>StockCode</th>\n",
       "      <th>Description</th>\n",
       "      <th>Quantity</th>\n",
       "      <th>InvoiceDate</th>\n",
       "      <th>UnitPrice</th>\n",
       "      <th>CustomerID</th>\n",
       "      <th>Country</th>\n",
       "      <th>total_sale</th>\n",
       "      <th>months</th>\n",
       "    </tr>\n",
       "  </thead>\n",
       "  <tbody>\n",
       "    <tr>\n",
       "      <th>0</th>\n",
       "      <td>536365</td>\n",
       "      <td>85123A</td>\n",
       "      <td>WHITE HANGING HEART T-LIGHT HOLDER</td>\n",
       "      <td>6</td>\n",
       "      <td>2010-12-01 08:26:00</td>\n",
       "      <td>2.55</td>\n",
       "      <td>17850.0</td>\n",
       "      <td>United Kingdom</td>\n",
       "      <td>15.30</td>\n",
       "      <td>12</td>\n",
       "    </tr>\n",
       "    <tr>\n",
       "      <th>1</th>\n",
       "      <td>536365</td>\n",
       "      <td>71053</td>\n",
       "      <td>WHITE METAL LANTERN</td>\n",
       "      <td>6</td>\n",
       "      <td>2010-12-01 08:26:00</td>\n",
       "      <td>3.39</td>\n",
       "      <td>17850.0</td>\n",
       "      <td>United Kingdom</td>\n",
       "      <td>20.34</td>\n",
       "      <td>12</td>\n",
       "    </tr>\n",
       "    <tr>\n",
       "      <th>2</th>\n",
       "      <td>536365</td>\n",
       "      <td>84406B</td>\n",
       "      <td>CREAM CUPID HEARTS COAT HANGER</td>\n",
       "      <td>8</td>\n",
       "      <td>2010-12-01 08:26:00</td>\n",
       "      <td>2.75</td>\n",
       "      <td>17850.0</td>\n",
       "      <td>United Kingdom</td>\n",
       "      <td>22.00</td>\n",
       "      <td>12</td>\n",
       "    </tr>\n",
       "    <tr>\n",
       "      <th>3</th>\n",
       "      <td>536365</td>\n",
       "      <td>84029G</td>\n",
       "      <td>KNITTED UNION FLAG HOT WATER BOTTLE</td>\n",
       "      <td>6</td>\n",
       "      <td>2010-12-01 08:26:00</td>\n",
       "      <td>3.39</td>\n",
       "      <td>17850.0</td>\n",
       "      <td>United Kingdom</td>\n",
       "      <td>20.34</td>\n",
       "      <td>12</td>\n",
       "    </tr>\n",
       "    <tr>\n",
       "      <th>4</th>\n",
       "      <td>536365</td>\n",
       "      <td>84029E</td>\n",
       "      <td>RED WOOLLY HOTTIE WHITE HEART.</td>\n",
       "      <td>6</td>\n",
       "      <td>2010-12-01 08:26:00</td>\n",
       "      <td>3.39</td>\n",
       "      <td>17850.0</td>\n",
       "      <td>United Kingdom</td>\n",
       "      <td>20.34</td>\n",
       "      <td>12</td>\n",
       "    </tr>\n",
       "  </tbody>\n",
       "</table>\n",
       "</div>"
      ],
      "text/plain": [
       "  InvoiceNo StockCode                          Description  Quantity  \\\n",
       "0    536365    85123A   WHITE HANGING HEART T-LIGHT HOLDER         6   \n",
       "1    536365     71053                  WHITE METAL LANTERN         6   \n",
       "2    536365    84406B       CREAM CUPID HEARTS COAT HANGER         8   \n",
       "3    536365    84029G  KNITTED UNION FLAG HOT WATER BOTTLE         6   \n",
       "4    536365    84029E       RED WOOLLY HOTTIE WHITE HEART.         6   \n",
       "\n",
       "          InvoiceDate  UnitPrice  CustomerID         Country  total_sale  \\\n",
       "0 2010-12-01 08:26:00       2.55     17850.0  United Kingdom       15.30   \n",
       "1 2010-12-01 08:26:00       3.39     17850.0  United Kingdom       20.34   \n",
       "2 2010-12-01 08:26:00       2.75     17850.0  United Kingdom       22.00   \n",
       "3 2010-12-01 08:26:00       3.39     17850.0  United Kingdom       20.34   \n",
       "4 2010-12-01 08:26:00       3.39     17850.0  United Kingdom       20.34   \n",
       "\n",
       "  months  \n",
       "0     12  \n",
       "1     12  \n",
       "2     12  \n",
       "3     12  \n",
       "4     12  "
      ]
     },
     "execution_count": 18,
     "metadata": {},
     "output_type": "execute_result"
    }
   ],
   "source": [
    "toyin_df = df.copy()\n",
    "month_col =[]\n",
    "for i in toyin_df[\"InvoiceDate\"].values:\n",
    "    month_val = str(i).split(\"-\")[1]\n",
    "    month_col.append(month_val)\n",
    "data_month = pd.DataFrame(month_col, columns=[\"months\"])\n",
    "tdf = pd.concat([toyin_df, data_month], axis = 1)\n",
    "tdf.head()"
   ]
  },
  {
   "cell_type": "code",
   "execution_count": 19,
   "id": "be1ba2be",
   "metadata": {},
   "outputs": [
    {
     "data": {
      "text/plain": [
       "array(['12', '01', '02', '03', '04', '05', '06', '07', '08', '09', '10',\n",
       "       '11'], dtype=object)"
      ]
     },
     "execution_count": 19,
     "metadata": {},
     "output_type": "execute_result"
    }
   ],
   "source": [
    "tdf[\"months\"].unique()"
   ]
  },
  {
   "cell_type": "code",
   "execution_count": 20,
   "id": "f8583e47",
   "metadata": {},
   "outputs": [
    {
     "data": {
      "text/plain": [
       "array(['12'], dtype=object)"
      ]
     },
     "execution_count": 20,
     "metadata": {},
     "output_type": "execute_result"
    }
   ],
   "source": [
    "dec_data = tdf[tdf[\"months\"] == \"12\"]\n",
    "dec_data[\"months\"].unique()"
   ]
  },
  {
   "cell_type": "code",
   "execution_count": 21,
   "id": "ab29bf89",
   "metadata": {},
   "outputs": [
    {
     "data": {
      "text/plain": [
       "(68006, 10)"
      ]
     },
     "execution_count": 21,
     "metadata": {},
     "output_type": "execute_result"
    }
   ],
   "source": [
    "dec_data.shape"
   ]
  },
  {
   "cell_type": "code",
   "execution_count": 22,
   "id": "2a38a070",
   "metadata": {},
   "outputs": [
    {
     "data": {
      "text/plain": [
       "<AxesSubplot:title={'center':'Top dec sales'}, ylabel='Country'>"
      ]
     },
     "execution_count": 22,
     "metadata": {},
     "output_type": "execute_result"
    },
    {
     "data": {
      "image/png": "[encoded data removed]",
      "text/plain": [
       "<Figure size 640x480 with 1 Axes>"
      ]
     },
     "metadata": {},
     "output_type": "display_data"
    }
   ],
   "source": [
    "tdf_dec = dec_data.groupby(\"Country\")[\"total_sale\"].sum().sort_values(ascending=False)\n",
    "tdf_dec.head(5).plot(kind=\"barh\", title=\"Top dec sales\")"
   ]
  },
  {
   "cell_type": "code",
   "execution_count": 23,
   "id": "5034205a",
   "metadata": {},
   "outputs": [
    {
     "data": {
      "text/html": [
       "<div>\n",
       "<style scoped>\n",
       "    .dataframe tbody tr th:only-of-type {\n",
       "        vertical-align: middle;\n",
       "    }\n",
       "\n",
       "    .dataframe tbody tr th {\n",
       "        vertical-align: top;\n",
       "    }\n",
       "\n",
       "    .dataframe thead th {\n",
       "        text-align: right;\n",
       "    }\n",
       "</style>\n",
       "<table border=\"1\" class=\"dataframe\">\n",
       "  <thead>\n",
       "    <tr style=\"text-align: right;\">\n",
       "      <th></th>\n",
       "      <th>InvoiceNo</th>\n",
       "      <th>StockCode</th>\n",
       "      <th>Description</th>\n",
       "      <th>Quantity</th>\n",
       "      <th>InvoiceDate</th>\n",
       "      <th>UnitPrice</th>\n",
       "      <th>CustomerID</th>\n",
       "      <th>Country</th>\n",
       "      <th>total_sale</th>\n",
       "    </tr>\n",
       "  </thead>\n",
       "  <tbody>\n",
       "    <tr>\n",
       "      <th>0</th>\n",
       "      <td>536365</td>\n",
       "      <td>85123A</td>\n",
       "      <td>WHITE HANGING HEART T-LIGHT HOLDER</td>\n",
       "      <td>6</td>\n",
       "      <td>2010-12-01 08:26:00</td>\n",
       "      <td>2.55</td>\n",
       "      <td>17850.0</td>\n",
       "      <td>United Kingdom</td>\n",
       "      <td>15.30</td>\n",
       "    </tr>\n",
       "    <tr>\n",
       "      <th>1</th>\n",
       "      <td>536365</td>\n",
       "      <td>71053</td>\n",
       "      <td>WHITE METAL LANTERN</td>\n",
       "      <td>6</td>\n",
       "      <td>2010-12-01 08:26:00</td>\n",
       "      <td>3.39</td>\n",
       "      <td>17850.0</td>\n",
       "      <td>United Kingdom</td>\n",
       "      <td>20.34</td>\n",
       "    </tr>\n",
       "    <tr>\n",
       "      <th>2</th>\n",
       "      <td>536365</td>\n",
       "      <td>84406B</td>\n",
       "      <td>CREAM CUPID HEARTS COAT HANGER</td>\n",
       "      <td>8</td>\n",
       "      <td>2010-12-01 08:26:00</td>\n",
       "      <td>2.75</td>\n",
       "      <td>17850.0</td>\n",
       "      <td>United Kingdom</td>\n",
       "      <td>22.00</td>\n",
       "    </tr>\n",
       "    <tr>\n",
       "      <th>3</th>\n",
       "      <td>536365</td>\n",
       "      <td>84029G</td>\n",
       "      <td>KNITTED UNION FLAG HOT WATER BOTTLE</td>\n",
       "      <td>6</td>\n",
       "      <td>2010-12-01 08:26:00</td>\n",
       "      <td>3.39</td>\n",
       "      <td>17850.0</td>\n",
       "      <td>United Kingdom</td>\n",
       "      <td>20.34</td>\n",
       "    </tr>\n",
       "    <tr>\n",
       "      <th>4</th>\n",
       "      <td>536365</td>\n",
       "      <td>84029E</td>\n",
       "      <td>RED WOOLLY HOTTIE WHITE HEART.</td>\n",
       "      <td>6</td>\n",
       "      <td>2010-12-01 08:26:00</td>\n",
       "      <td>3.39</td>\n",
       "      <td>17850.0</td>\n",
       "      <td>United Kingdom</td>\n",
       "      <td>20.34</td>\n",
       "    </tr>\n",
       "  </tbody>\n",
       "</table>\n",
       "</div>"
      ],
      "text/plain": [
       "  InvoiceNo StockCode                          Description  Quantity  \\\n",
       "0    536365    85123A   WHITE HANGING HEART T-LIGHT HOLDER         6   \n",
       "1    536365     71053                  WHITE METAL LANTERN         6   \n",
       "2    536365    84406B       CREAM CUPID HEARTS COAT HANGER         8   \n",
       "3    536365    84029G  KNITTED UNION FLAG HOT WATER BOTTLE         6   \n",
       "4    536365    84029E       RED WOOLLY HOTTIE WHITE HEART.         6   \n",
       "\n",
       "          InvoiceDate  UnitPrice  CustomerID         Country  total_sale  \n",
       "0 2010-12-01 08:26:00       2.55     17850.0  United Kingdom       15.30  \n",
       "1 2010-12-01 08:26:00       3.39     17850.0  United Kingdom       20.34  \n",
       "2 2010-12-01 08:26:00       2.75     17850.0  United Kingdom       22.00  \n",
       "3 2010-12-01 08:26:00       3.39     17850.0  United Kingdom       20.34  \n",
       "4 2010-12-01 08:26:00       3.39     17850.0  United Kingdom       20.34  "
      ]
     },
     "execution_count": 23,
     "metadata": {},
     "output_type": "execute_result"
    }
   ],
   "source": [
    "jesse_df = df.copy()\n",
    "jesse_df.head()"
   ]
  },
  {
   "cell_type": "code",
   "execution_count": 42,
   "id": "8d92b2a2",
   "metadata": {},
   "outputs": [
    {
     "data": {
      "text/plain": [
       "<AxesSubplot:ylabel='Description'>"
      ]
     },
     "execution_count": 42,
     "metadata": {},
     "output_type": "execute_result"
    },
    {
     "data": {
      "image/png": "[encoded data removed]",
      "text/plain": [
       "<Figure size 640x480 with 1 Axes>"
      ]
     },
     "metadata": {},
     "output_type": "display_data"
    }
   ],
   "source": [
    "b = jesse_df.groupby(\"Description\")[\"total_sale\"].sum().sort_values(ascending=False)\n",
    "b.head(5).plot(kind=\"barh\")"
   ]
  },
  {
   "cell_type": "code",
   "execution_count": 24,
   "id": "7fa75c21",
   "metadata": {},
   "outputs": [
    {
     "data": {
      "text/plain": [
       "array(['08', '09', '10', '11', '12', '13', '14', '15', '16', '17', '07',\n",
       "       '18', '19', '20', '06'], dtype=object)"
      ]
     },
     "execution_count": 24,
     "metadata": {},
     "output_type": "execute_result"
    }
   ],
   "source": [
    "hours = []\n",
    "for i in jesse_df[\"InvoiceDate\"].values:\n",
    "    time_hour = str(i).split(\"T\")[1][:2]\n",
    "    hours.append(time_hour)\n",
    "hour_df = pd.DataFrame(hours, columns=[\"hourly_sales\"])\n",
    "hour_df[\"hourly_sales\"].unique()"
   ]
  },
  {
   "cell_type": "code",
   "execution_count": 25,
   "id": "b3701ede",
   "metadata": {},
   "outputs": [
    {
     "data": {
      "text/html": [
       "<div>\n",
       "<style scoped>\n",
       "    .dataframe tbody tr th:only-of-type {\n",
       "        vertical-align: middle;\n",
       "    }\n",
       "\n",
       "    .dataframe tbody tr th {\n",
       "        vertical-align: top;\n",
       "    }\n",
       "\n",
       "    .dataframe thead th {\n",
       "        text-align: right;\n",
       "    }\n",
       "</style>\n",
       "<table border=\"1\" class=\"dataframe\">\n",
       "  <thead>\n",
       "    <tr style=\"text-align: right;\">\n",
       "      <th></th>\n",
       "      <th>InvoiceNo</th>\n",
       "      <th>StockCode</th>\n",
       "      <th>Description</th>\n",
       "      <th>Quantity</th>\n",
       "      <th>InvoiceDate</th>\n",
       "      <th>UnitPrice</th>\n",
       "      <th>CustomerID</th>\n",
       "      <th>Country</th>\n",
       "      <th>total_sale</th>\n",
       "      <th>hourly_sales</th>\n",
       "    </tr>\n",
       "  </thead>\n",
       "  <tbody>\n",
       "    <tr>\n",
       "      <th>0</th>\n",
       "      <td>536365</td>\n",
       "      <td>85123A</td>\n",
       "      <td>WHITE HANGING HEART T-LIGHT HOLDER</td>\n",
       "      <td>6</td>\n",
       "      <td>2010-12-01 08:26:00</td>\n",
       "      <td>2.55</td>\n",
       "      <td>17850.0</td>\n",
       "      <td>United Kingdom</td>\n",
       "      <td>15.30</td>\n",
       "      <td>08</td>\n",
       "    </tr>\n",
       "    <tr>\n",
       "      <th>1</th>\n",
       "      <td>536365</td>\n",
       "      <td>71053</td>\n",
       "      <td>WHITE METAL LANTERN</td>\n",
       "      <td>6</td>\n",
       "      <td>2010-12-01 08:26:00</td>\n",
       "      <td>3.39</td>\n",
       "      <td>17850.0</td>\n",
       "      <td>United Kingdom</td>\n",
       "      <td>20.34</td>\n",
       "      <td>08</td>\n",
       "    </tr>\n",
       "    <tr>\n",
       "      <th>2</th>\n",
       "      <td>536365</td>\n",
       "      <td>84406B</td>\n",
       "      <td>CREAM CUPID HEARTS COAT HANGER</td>\n",
       "      <td>8</td>\n",
       "      <td>2010-12-01 08:26:00</td>\n",
       "      <td>2.75</td>\n",
       "      <td>17850.0</td>\n",
       "      <td>United Kingdom</td>\n",
       "      <td>22.00</td>\n",
       "      <td>08</td>\n",
       "    </tr>\n",
       "    <tr>\n",
       "      <th>3</th>\n",
       "      <td>536365</td>\n",
       "      <td>84029G</td>\n",
       "      <td>KNITTED UNION FLAG HOT WATER BOTTLE</td>\n",
       "      <td>6</td>\n",
       "      <td>2010-12-01 08:26:00</td>\n",
       "      <td>3.39</td>\n",
       "      <td>17850.0</td>\n",
       "      <td>United Kingdom</td>\n",
       "      <td>20.34</td>\n",
       "      <td>08</td>\n",
       "    </tr>\n",
       "    <tr>\n",
       "      <th>4</th>\n",
       "      <td>536365</td>\n",
       "      <td>84029E</td>\n",
       "      <td>RED WOOLLY HOTTIE WHITE HEART.</td>\n",
       "      <td>6</td>\n",
       "      <td>2010-12-01 08:26:00</td>\n",
       "      <td>3.39</td>\n",
       "      <td>17850.0</td>\n",
       "      <td>United Kingdom</td>\n",
       "      <td>20.34</td>\n",
       "      <td>08</td>\n",
       "    </tr>\n",
       "  </tbody>\n",
       "</table>\n",
       "</div>"
      ],
      "text/plain": [
       "  InvoiceNo StockCode                          Description  Quantity  \\\n",
       "0    536365    85123A   WHITE HANGING HEART T-LIGHT HOLDER         6   \n",
       "1    536365     71053                  WHITE METAL LANTERN         6   \n",
       "2    536365    84406B       CREAM CUPID HEARTS COAT HANGER         8   \n",
       "3    536365    84029G  KNITTED UNION FLAG HOT WATER BOTTLE         6   \n",
       "4    536365    84029E       RED WOOLLY HOTTIE WHITE HEART.         6   \n",
       "\n",
       "          InvoiceDate  UnitPrice  CustomerID         Country  total_sale  \\\n",
       "0 2010-12-01 08:26:00       2.55     17850.0  United Kingdom       15.30   \n",
       "1 2010-12-01 08:26:00       3.39     17850.0  United Kingdom       20.34   \n",
       "2 2010-12-01 08:26:00       2.75     17850.0  United Kingdom       22.00   \n",
       "3 2010-12-01 08:26:00       3.39     17850.0  United Kingdom       20.34   \n",
       "4 2010-12-01 08:26:00       3.39     17850.0  United Kingdom       20.34   \n",
       "\n",
       "  hourly_sales  \n",
       "0           08  \n",
       "1           08  \n",
       "2           08  \n",
       "3           08  \n",
       "4           08  "
      ]
     },
     "execution_count": 25,
     "metadata": {},
     "output_type": "execute_result"
    }
   ],
   "source": [
    "df_val = pd.concat([jesse_df, hour_df], axis=1)\n",
    "df_val.head()"
   ]
  },
  {
   "cell_type": "code",
   "execution_count": 48,
   "id": "4851f605",
   "metadata": {},
   "outputs": [
    {
     "data": {
      "text/plain": [
       "<AxesSubplot:>"
      ]
     },
     "execution_count": 48,
     "metadata": {},
     "output_type": "execute_result"
    },
    {
     "data": {
      "image/png": "[encoded data removed]",
      "text/plain": [
       "<Figure size 640x480 with 1 Axes>"
      ]
     },
     "metadata": {},
     "output_type": "display_data"
    }
   ],
   "source": [
    "df_val[\"hourly_sales\"].value_counts().sort_values(ascending=False).plot(kind=\"barh\")"
   ]
  },
  {
   "cell_type": "code",
   "execution_count": 26,
   "id": "ad356a94",
   "metadata": {},
   "outputs": [
    {
     "data": {
      "text/plain": [
       "Index(['InvoiceNo', 'StockCode', 'Description', 'Quantity', 'InvoiceDate',\n",
       "       'UnitPrice', 'CustomerID', 'Country', 'total_sale', 'hourly_sales'],\n",
       "      dtype='object')"
      ]
     },
     "execution_count": 26,
     "metadata": {},
     "output_type": "execute_result"
    }
   ],
   "source": [
    "df_val.columns"
   ]
  },
  {
   "cell_type": "code",
   "execution_count": 27,
   "id": "dd4f94bf",
   "metadata": {},
   "outputs": [
    {
     "data": {
      "text/html": [
       "<div>\n",
       "<style scoped>\n",
       "    .dataframe tbody tr th:only-of-type {\n",
       "        vertical-align: middle;\n",
       "    }\n",
       "\n",
       "    .dataframe tbody tr th {\n",
       "        vertical-align: top;\n",
       "    }\n",
       "\n",
       "    .dataframe thead th {\n",
       "        text-align: right;\n",
       "    }\n",
       "</style>\n",
       "<table border=\"1\" class=\"dataframe\">\n",
       "  <thead>\n",
       "    <tr style=\"text-align: right;\">\n",
       "      <th></th>\n",
       "      <th>InvoiceNo</th>\n",
       "      <th>StockCode</th>\n",
       "      <th>Description</th>\n",
       "      <th>Quantity</th>\n",
       "      <th>InvoiceDate</th>\n",
       "      <th>UnitPrice</th>\n",
       "      <th>CustomerID</th>\n",
       "      <th>Country</th>\n",
       "      <th>total_sale</th>\n",
       "      <th>hourly_sales</th>\n",
       "    </tr>\n",
       "  </thead>\n",
       "  <tbody>\n",
       "    <tr>\n",
       "      <th>1814</th>\n",
       "      <td>536544</td>\n",
       "      <td>DOT</td>\n",
       "      <td>DOTCOM POSTAGE</td>\n",
       "      <td>1</td>\n",
       "      <td>2010-12-01 14:32:00</td>\n",
       "      <td>569.77</td>\n",
       "      <td>NaN</td>\n",
       "      <td>United Kingdom</td>\n",
       "      <td>569.77</td>\n",
       "      <td>14</td>\n",
       "    </tr>\n",
       "    <tr>\n",
       "      <th>3041</th>\n",
       "      <td>536592</td>\n",
       "      <td>DOT</td>\n",
       "      <td>DOTCOM POSTAGE</td>\n",
       "      <td>1</td>\n",
       "      <td>2010-12-01 17:06:00</td>\n",
       "      <td>607.49</td>\n",
       "      <td>NaN</td>\n",
       "      <td>United Kingdom</td>\n",
       "      <td>607.49</td>\n",
       "      <td>17</td>\n",
       "    </tr>\n",
       "    <tr>\n",
       "      <th>5450</th>\n",
       "      <td>536862</td>\n",
       "      <td>DOT</td>\n",
       "      <td>DOTCOM POSTAGE</td>\n",
       "      <td>1</td>\n",
       "      <td>2010-12-03 11:13:00</td>\n",
       "      <td>254.43</td>\n",
       "      <td>NaN</td>\n",
       "      <td>United Kingdom</td>\n",
       "      <td>254.43</td>\n",
       "      <td>11</td>\n",
       "    </tr>\n",
       "    <tr>\n",
       "      <th>5545</th>\n",
       "      <td>536864</td>\n",
       "      <td>DOT</td>\n",
       "      <td>DOTCOM POSTAGE</td>\n",
       "      <td>1</td>\n",
       "      <td>2010-12-03 11:27:00</td>\n",
       "      <td>121.06</td>\n",
       "      <td>NaN</td>\n",
       "      <td>United Kingdom</td>\n",
       "      <td>121.06</td>\n",
       "      <td>11</td>\n",
       "    </tr>\n",
       "    <tr>\n",
       "      <th>5685</th>\n",
       "      <td>536865</td>\n",
       "      <td>DOT</td>\n",
       "      <td>DOTCOM POSTAGE</td>\n",
       "      <td>1</td>\n",
       "      <td>2010-12-03 11:28:00</td>\n",
       "      <td>498.47</td>\n",
       "      <td>NaN</td>\n",
       "      <td>United Kingdom</td>\n",
       "      <td>498.47</td>\n",
       "      <td>11</td>\n",
       "    </tr>\n",
       "  </tbody>\n",
       "</table>\n",
       "</div>"
      ],
      "text/plain": [
       "     InvoiceNo StockCode     Description  Quantity         InvoiceDate  \\\n",
       "1814    536544       DOT  DOTCOM POSTAGE         1 2010-12-01 14:32:00   \n",
       "3041    536592       DOT  DOTCOM POSTAGE         1 2010-12-01 17:06:00   \n",
       "5450    536862       DOT  DOTCOM POSTAGE         1 2010-12-03 11:13:00   \n",
       "5545    536864       DOT  DOTCOM POSTAGE         1 2010-12-03 11:27:00   \n",
       "5685    536865       DOT  DOTCOM POSTAGE         1 2010-12-03 11:28:00   \n",
       "\n",
       "      UnitPrice  CustomerID         Country  total_sale hourly_sales  \n",
       "1814     569.77         NaN  United Kingdom      569.77           14  \n",
       "3041     607.49         NaN  United Kingdom      607.49           17  \n",
       "5450     254.43         NaN  United Kingdom      254.43           11  \n",
       "5545     121.06         NaN  United Kingdom      121.06           11  \n",
       "5685     498.47         NaN  United Kingdom      498.47           11  "
      ]
     },
     "execution_count": 27,
     "metadata": {},
     "output_type": "execute_result"
    }
   ],
   "source": [
    "dot_p = df_val[df_val['Description'] == \"DOTCOM POSTAGE\"]\n",
    "dot_p.head()"
   ]
  },
  {
   "cell_type": "code",
   "execution_count": 29,
   "id": "08487166",
   "metadata": {},
   "outputs": [
    {
     "data": {
      "text/plain": [
       "15    188\n",
       "16    129\n",
       "10     79\n",
       "09     57\n",
       "17     55\n",
       "14     54\n",
       "11     48\n",
       "13     46\n",
       "12     34\n",
       "18     18\n",
       "19      1\n",
       "Name: hourly_sales, dtype: int64"
      ]
     },
     "execution_count": 29,
     "metadata": {},
     "output_type": "execute_result"
    }
   ],
   "source": [
    "dot_p[\"hourly_sales\"].value_counts().sort_values(ascending=False)"
   ]
  },
  {
   "cell_type": "markdown",
   "id": "c1086af3",
   "metadata": {},
   "source": [
    "Product with the lowest sale in the month of December. Month with the lowest and lowest sale"
   ]
  },
  {
   "cell_type": "code",
   "execution_count": 96,
   "id": "1e222395",
   "metadata": {},
   "outputs": [
    {
     "data": {
      "text/html": [
       "<div>\n",
       "<style scoped>\n",
       "    .dataframe tbody tr th:only-of-type {\n",
       "        vertical-align: middle;\n",
       "    }\n",
       "\n",
       "    .dataframe tbody tr th {\n",
       "        vertical-align: top;\n",
       "    }\n",
       "\n",
       "    .dataframe thead th {\n",
       "        text-align: right;\n",
       "    }\n",
       "</style>\n",
       "<table border=\"1\" class=\"dataframe\">\n",
       "  <thead>\n",
       "    <tr style=\"text-align: right;\">\n",
       "      <th></th>\n",
       "      <th>InvoiceNo</th>\n",
       "      <th>StockCode</th>\n",
       "      <th>Description</th>\n",
       "      <th>Quantity</th>\n",
       "      <th>InvoiceDate</th>\n",
       "      <th>UnitPrice</th>\n",
       "      <th>CustomerID</th>\n",
       "      <th>Country</th>\n",
       "      <th>total_sale</th>\n",
       "    </tr>\n",
       "  </thead>\n",
       "  <tbody>\n",
       "    <tr>\n",
       "      <th>0</th>\n",
       "      <td>536365</td>\n",
       "      <td>85123A</td>\n",
       "      <td>WHITE HANGING HEART T-LIGHT HOLDER</td>\n",
       "      <td>6</td>\n",
       "      <td>2010-12-01 08:26:00</td>\n",
       "      <td>2.55</td>\n",
       "      <td>17850.0</td>\n",
       "      <td>United Kingdom</td>\n",
       "      <td>15.30</td>\n",
       "    </tr>\n",
       "    <tr>\n",
       "      <th>1</th>\n",
       "      <td>536365</td>\n",
       "      <td>71053</td>\n",
       "      <td>WHITE METAL LANTERN</td>\n",
       "      <td>6</td>\n",
       "      <td>2010-12-01 08:26:00</td>\n",
       "      <td>3.39</td>\n",
       "      <td>17850.0</td>\n",
       "      <td>United Kingdom</td>\n",
       "      <td>20.34</td>\n",
       "    </tr>\n",
       "    <tr>\n",
       "      <th>2</th>\n",
       "      <td>536365</td>\n",
       "      <td>84406B</td>\n",
       "      <td>CREAM CUPID HEARTS COAT HANGER</td>\n",
       "      <td>8</td>\n",
       "      <td>2010-12-01 08:26:00</td>\n",
       "      <td>2.75</td>\n",
       "      <td>17850.0</td>\n",
       "      <td>United Kingdom</td>\n",
       "      <td>22.00</td>\n",
       "    </tr>\n",
       "    <tr>\n",
       "      <th>3</th>\n",
       "      <td>536365</td>\n",
       "      <td>84029G</td>\n",
       "      <td>KNITTED UNION FLAG HOT WATER BOTTLE</td>\n",
       "      <td>6</td>\n",
       "      <td>2010-12-01 08:26:00</td>\n",
       "      <td>3.39</td>\n",
       "      <td>17850.0</td>\n",
       "      <td>United Kingdom</td>\n",
       "      <td>20.34</td>\n",
       "    </tr>\n",
       "    <tr>\n",
       "      <th>4</th>\n",
       "      <td>536365</td>\n",
       "      <td>84029E</td>\n",
       "      <td>RED WOOLLY HOTTIE WHITE HEART.</td>\n",
       "      <td>6</td>\n",
       "      <td>2010-12-01 08:26:00</td>\n",
       "      <td>3.39</td>\n",
       "      <td>17850.0</td>\n",
       "      <td>United Kingdom</td>\n",
       "      <td>20.34</td>\n",
       "    </tr>\n",
       "    <tr>\n",
       "      <th>...</th>\n",
       "      <td>...</td>\n",
       "      <td>...</td>\n",
       "      <td>...</td>\n",
       "      <td>...</td>\n",
       "      <td>...</td>\n",
       "      <td>...</td>\n",
       "      <td>...</td>\n",
       "      <td>...</td>\n",
       "      <td>...</td>\n",
       "    </tr>\n",
       "    <tr>\n",
       "      <th>541904</th>\n",
       "      <td>581587</td>\n",
       "      <td>22613</td>\n",
       "      <td>PACK OF 20 SPACEBOY NAPKINS</td>\n",
       "      <td>12</td>\n",
       "      <td>2011-12-09 12:50:00</td>\n",
       "      <td>0.85</td>\n",
       "      <td>12680.0</td>\n",
       "      <td>France</td>\n",
       "      <td>10.20</td>\n",
       "    </tr>\n",
       "    <tr>\n",
       "      <th>541905</th>\n",
       "      <td>581587</td>\n",
       "      <td>22899</td>\n",
       "      <td>CHILDREN'S APRON DOLLY GIRL</td>\n",
       "      <td>6</td>\n",
       "      <td>2011-12-09 12:50:00</td>\n",
       "      <td>2.10</td>\n",
       "      <td>12680.0</td>\n",
       "      <td>France</td>\n",
       "      <td>12.60</td>\n",
       "    </tr>\n",
       "    <tr>\n",
       "      <th>541906</th>\n",
       "      <td>581587</td>\n",
       "      <td>23254</td>\n",
       "      <td>CHILDRENS CUTLERY DOLLY GIRL</td>\n",
       "      <td>4</td>\n",
       "      <td>2011-12-09 12:50:00</td>\n",
       "      <td>4.15</td>\n",
       "      <td>12680.0</td>\n",
       "      <td>France</td>\n",
       "      <td>16.60</td>\n",
       "    </tr>\n",
       "    <tr>\n",
       "      <th>541907</th>\n",
       "      <td>581587</td>\n",
       "      <td>23255</td>\n",
       "      <td>CHILDRENS CUTLERY CIRCUS PARADE</td>\n",
       "      <td>4</td>\n",
       "      <td>2011-12-09 12:50:00</td>\n",
       "      <td>4.15</td>\n",
       "      <td>12680.0</td>\n",
       "      <td>France</td>\n",
       "      <td>16.60</td>\n",
       "    </tr>\n",
       "    <tr>\n",
       "      <th>541908</th>\n",
       "      <td>581587</td>\n",
       "      <td>22138</td>\n",
       "      <td>BAKING SET 9 PIECE RETROSPOT</td>\n",
       "      <td>3</td>\n",
       "      <td>2011-12-09 12:50:00</td>\n",
       "      <td>4.95</td>\n",
       "      <td>12680.0</td>\n",
       "      <td>France</td>\n",
       "      <td>14.85</td>\n",
       "    </tr>\n",
       "  </tbody>\n",
       "</table>\n",
       "<p>541909 rows × 9 columns</p>\n",
       "</div>"
      ],
      "text/plain": [
       "       InvoiceNo StockCode                          Description  Quantity  \\\n",
       "0         536365    85123A   WHITE HANGING HEART T-LIGHT HOLDER         6   \n",
       "1         536365     71053                  WHITE METAL LANTERN         6   \n",
       "2         536365    84406B       CREAM CUPID HEARTS COAT HANGER         8   \n",
       "3         536365    84029G  KNITTED UNION FLAG HOT WATER BOTTLE         6   \n",
       "4         536365    84029E       RED WOOLLY HOTTIE WHITE HEART.         6   \n",
       "...          ...       ...                                  ...       ...   \n",
       "541904    581587     22613          PACK OF 20 SPACEBOY NAPKINS        12   \n",
       "541905    581587     22899         CHILDREN'S APRON DOLLY GIRL          6   \n",
       "541906    581587     23254        CHILDRENS CUTLERY DOLLY GIRL          4   \n",
       "541907    581587     23255      CHILDRENS CUTLERY CIRCUS PARADE         4   \n",
       "541908    581587     22138        BAKING SET 9 PIECE RETROSPOT          3   \n",
       "\n",
       "               InvoiceDate  UnitPrice  CustomerID         Country  total_sale  \n",
       "0      2010-12-01 08:26:00       2.55     17850.0  United Kingdom       15.30  \n",
       "1      2010-12-01 08:26:00       3.39     17850.0  United Kingdom       20.34  \n",
       "2      2010-12-01 08:26:00       2.75     17850.0  United Kingdom       22.00  \n",
       "3      2010-12-01 08:26:00       3.39     17850.0  United Kingdom       20.34  \n",
       "4      2010-12-01 08:26:00       3.39     17850.0  United Kingdom       20.34  \n",
       "...                    ...        ...         ...             ...         ...  \n",
       "541904 2011-12-09 12:50:00       0.85     12680.0          France       10.20  \n",
       "541905 2011-12-09 12:50:00       2.10     12680.0          France       12.60  \n",
       "541906 2011-12-09 12:50:00       4.15     12680.0          France       16.60  \n",
       "541907 2011-12-09 12:50:00       4.15     12680.0          France       16.60  \n",
       "541908 2011-12-09 12:50:00       4.95     12680.0          France       14.85  \n",
       "\n",
       "[541909 rows x 9 columns]"
      ]
     },
     "execution_count": 96,
     "metadata": {},
     "output_type": "execute_result"
    }
   ],
   "source": [
    "ad_df = df.copy()\n",
    "ad_df"
   ]
  },
  {
   "cell_type": "code",
   "execution_count": 36,
   "id": "b5e67f1d",
   "metadata": {},
   "outputs": [
    {
     "data": {
      "text/html": [
       "<div>\n",
       "<style scoped>\n",
       "    .dataframe tbody tr th:only-of-type {\n",
       "        vertical-align: middle;\n",
       "    }\n",
       "\n",
       "    .dataframe tbody tr th {\n",
       "        vertical-align: top;\n",
       "    }\n",
       "\n",
       "    .dataframe thead th {\n",
       "        text-align: right;\n",
       "    }\n",
       "</style>\n",
       "<table border=\"1\" class=\"dataframe\">\n",
       "  <thead>\n",
       "    <tr style=\"text-align: right;\">\n",
       "      <th></th>\n",
       "      <th>InvoiceNo</th>\n",
       "      <th>StockCode</th>\n",
       "      <th>Description</th>\n",
       "      <th>Quantity</th>\n",
       "      <th>InvoiceDate</th>\n",
       "      <th>UnitPrice</th>\n",
       "      <th>CustomerID</th>\n",
       "      <th>Country</th>\n",
       "      <th>total_sale</th>\n",
       "    </tr>\n",
       "  </thead>\n",
       "  <tbody>\n",
       "    <tr>\n",
       "      <th>540421</th>\n",
       "      <td>581483</td>\n",
       "      <td>23843</td>\n",
       "      <td>PAPER CRAFT , LITTLE BIRDIE</td>\n",
       "      <td>80995</td>\n",
       "      <td>2011-12-09 09:15:00</td>\n",
       "      <td>2.08</td>\n",
       "      <td>16446.0</td>\n",
       "      <td>United Kingdom</td>\n",
       "      <td>168469.60</td>\n",
       "    </tr>\n",
       "    <tr>\n",
       "      <th>61619</th>\n",
       "      <td>541431</td>\n",
       "      <td>23166</td>\n",
       "      <td>MEDIUM CERAMIC TOP STORAGE JAR</td>\n",
       "      <td>74215</td>\n",
       "      <td>2011-01-18 10:01:00</td>\n",
       "      <td>1.04</td>\n",
       "      <td>12346.0</td>\n",
       "      <td>United Kingdom</td>\n",
       "      <td>77183.60</td>\n",
       "    </tr>\n",
       "    <tr>\n",
       "      <th>222680</th>\n",
       "      <td>556444</td>\n",
       "      <td>22502</td>\n",
       "      <td>PICNIC BASKET WICKER 60 PIECES</td>\n",
       "      <td>60</td>\n",
       "      <td>2011-06-10 15:28:00</td>\n",
       "      <td>649.50</td>\n",
       "      <td>15098.0</td>\n",
       "      <td>United Kingdom</td>\n",
       "      <td>38970.00</td>\n",
       "    </tr>\n",
       "    <tr>\n",
       "      <th>15017</th>\n",
       "      <td>537632</td>\n",
       "      <td>AMAZONFEE</td>\n",
       "      <td>AMAZON FEE</td>\n",
       "      <td>1</td>\n",
       "      <td>2010-12-07 15:08:00</td>\n",
       "      <td>13541.33</td>\n",
       "      <td>NaN</td>\n",
       "      <td>United Kingdom</td>\n",
       "      <td>13541.33</td>\n",
       "    </tr>\n",
       "    <tr>\n",
       "      <th>299982</th>\n",
       "      <td>A563185</td>\n",
       "      <td>B</td>\n",
       "      <td>Adjust bad debt</td>\n",
       "      <td>1</td>\n",
       "      <td>2011-08-12 14:50:00</td>\n",
       "      <td>11062.06</td>\n",
       "      <td>NaN</td>\n",
       "      <td>United Kingdom</td>\n",
       "      <td>11062.06</td>\n",
       "    </tr>\n",
       "    <tr>\n",
       "      <th>...</th>\n",
       "      <td>...</td>\n",
       "      <td>...</td>\n",
       "      <td>...</td>\n",
       "      <td>...</td>\n",
       "      <td>...</td>\n",
       "      <td>...</td>\n",
       "      <td>...</td>\n",
       "      <td>...</td>\n",
       "      <td>...</td>\n",
       "    </tr>\n",
       "    <tr>\n",
       "      <th>43702</th>\n",
       "      <td>C540117</td>\n",
       "      <td>AMAZONFEE</td>\n",
       "      <td>AMAZON FEE</td>\n",
       "      <td>-1</td>\n",
       "      <td>2011-01-05 09:55:00</td>\n",
       "      <td>16888.02</td>\n",
       "      <td>NaN</td>\n",
       "      <td>United Kingdom</td>\n",
       "      <td>-16888.02</td>\n",
       "    </tr>\n",
       "    <tr>\n",
       "      <th>524602</th>\n",
       "      <td>C580605</td>\n",
       "      <td>AMAZONFEE</td>\n",
       "      <td>AMAZON FEE</td>\n",
       "      <td>-1</td>\n",
       "      <td>2011-12-05 11:36:00</td>\n",
       "      <td>17836.46</td>\n",
       "      <td>NaN</td>\n",
       "      <td>United Kingdom</td>\n",
       "      <td>-17836.46</td>\n",
       "    </tr>\n",
       "    <tr>\n",
       "      <th>222681</th>\n",
       "      <td>C556445</td>\n",
       "      <td>M</td>\n",
       "      <td>Manual</td>\n",
       "      <td>-1</td>\n",
       "      <td>2011-06-10 15:31:00</td>\n",
       "      <td>38970.00</td>\n",
       "      <td>15098.0</td>\n",
       "      <td>United Kingdom</td>\n",
       "      <td>-38970.00</td>\n",
       "    </tr>\n",
       "    <tr>\n",
       "      <th>61624</th>\n",
       "      <td>C541433</td>\n",
       "      <td>23166</td>\n",
       "      <td>MEDIUM CERAMIC TOP STORAGE JAR</td>\n",
       "      <td>-74215</td>\n",
       "      <td>2011-01-18 10:17:00</td>\n",
       "      <td>1.04</td>\n",
       "      <td>12346.0</td>\n",
       "      <td>United Kingdom</td>\n",
       "      <td>-77183.60</td>\n",
       "    </tr>\n",
       "    <tr>\n",
       "      <th>540422</th>\n",
       "      <td>C581484</td>\n",
       "      <td>23843</td>\n",
       "      <td>PAPER CRAFT , LITTLE BIRDIE</td>\n",
       "      <td>-80995</td>\n",
       "      <td>2011-12-09 09:27:00</td>\n",
       "      <td>2.08</td>\n",
       "      <td>16446.0</td>\n",
       "      <td>United Kingdom</td>\n",
       "      <td>-168469.60</td>\n",
       "    </tr>\n",
       "  </tbody>\n",
       "</table>\n",
       "<p>541909 rows × 9 columns</p>\n",
       "</div>"
      ],
      "text/plain": [
       "       InvoiceNo  StockCode                     Description  Quantity  \\\n",
       "540421    581483      23843     PAPER CRAFT , LITTLE BIRDIE     80995   \n",
       "61619     541431      23166  MEDIUM CERAMIC TOP STORAGE JAR     74215   \n",
       "222680    556444      22502  PICNIC BASKET WICKER 60 PIECES        60   \n",
       "15017     537632  AMAZONFEE                      AMAZON FEE         1   \n",
       "299982   A563185          B                 Adjust bad debt         1   \n",
       "...          ...        ...                             ...       ...   \n",
       "43702    C540117  AMAZONFEE                      AMAZON FEE        -1   \n",
       "524602   C580605  AMAZONFEE                      AMAZON FEE        -1   \n",
       "222681   C556445          M                          Manual        -1   \n",
       "61624    C541433      23166  MEDIUM CERAMIC TOP STORAGE JAR    -74215   \n",
       "540422   C581484      23843     PAPER CRAFT , LITTLE BIRDIE    -80995   \n",
       "\n",
       "               InvoiceDate  UnitPrice  CustomerID         Country  total_sale  \n",
       "540421 2011-12-09 09:15:00       2.08     16446.0  United Kingdom   168469.60  \n",
       "61619  2011-01-18 10:01:00       1.04     12346.0  United Kingdom    77183.60  \n",
       "222680 2011-06-10 15:28:00     649.50     15098.0  United Kingdom    38970.00  \n",
       "15017  2010-12-07 15:08:00   13541.33         NaN  United Kingdom    13541.33  \n",
       "299982 2011-08-12 14:50:00   11062.06         NaN  United Kingdom    11062.06  \n",
       "...                    ...        ...         ...             ...         ...  \n",
       "43702  2011-01-05 09:55:00   16888.02         NaN  United Kingdom   -16888.02  \n",
       "524602 2011-12-05 11:36:00   17836.46         NaN  United Kingdom   -17836.46  \n",
       "222681 2011-06-10 15:31:00   38970.00     15098.0  United Kingdom   -38970.00  \n",
       "61624  2011-01-18 10:17:00       1.04     12346.0  United Kingdom   -77183.60  \n",
       "540422 2011-12-09 09:27:00       2.08     16446.0  United Kingdom  -168469.60  \n",
       "\n",
       "[541909 rows x 9 columns]"
      ]
     },
     "execution_count": 36,
     "metadata": {},
     "output_type": "execute_result"
    }
   ],
   "source": [
    "sorted_df = ad_df.sort_values(by=\"total_sale\", ascending = False)\n",
    "sorted_df"
   ]
  },
  {
   "cell_type": "code",
   "execution_count": 48,
   "id": "5751c482",
   "metadata": {},
   "outputs": [
    {
     "name": "stdout",
     "output_type": "stream",
     "text": [
      "['12', '01', '06', '12', '08', '05', '09', '04', '01', '10', '01', '11', '04', '01', '08', '06', '07', '04', '08', '10', '10', '01', '10', '12', '12', '09', '12', '01', '11', '09']\n"
     ]
    }
   ],
   "source": [
    "months = []\n",
    "for i in sorted_df[\"InvoiceDate\"].values:\n",
    "    a = str(i).split(\"-\")[1]\n",
    "    months.append(a)\n",
    "print(months[:30])"
   ]
  },
  {
   "cell_type": "code",
   "execution_count": 50,
   "id": "581d4c4d",
   "metadata": {},
   "outputs": [],
   "source": [
    "sorted_df[\"months\"] = months"
   ]
  },
  {
   "cell_type": "code",
   "execution_count": 51,
   "id": "c3ab8080",
   "metadata": {},
   "outputs": [
    {
     "data": {
      "text/html": [
       "<div>\n",
       "<style scoped>\n",
       "    .dataframe tbody tr th:only-of-type {\n",
       "        vertical-align: middle;\n",
       "    }\n",
       "\n",
       "    .dataframe tbody tr th {\n",
       "        vertical-align: top;\n",
       "    }\n",
       "\n",
       "    .dataframe thead th {\n",
       "        text-align: right;\n",
       "    }\n",
       "</style>\n",
       "<table border=\"1\" class=\"dataframe\">\n",
       "  <thead>\n",
       "    <tr style=\"text-align: right;\">\n",
       "      <th></th>\n",
       "      <th>InvoiceNo</th>\n",
       "      <th>StockCode</th>\n",
       "      <th>Description</th>\n",
       "      <th>Quantity</th>\n",
       "      <th>InvoiceDate</th>\n",
       "      <th>UnitPrice</th>\n",
       "      <th>CustomerID</th>\n",
       "      <th>Country</th>\n",
       "      <th>total_sale</th>\n",
       "      <th>months</th>\n",
       "    </tr>\n",
       "  </thead>\n",
       "  <tbody>\n",
       "    <tr>\n",
       "      <th>540421</th>\n",
       "      <td>581483</td>\n",
       "      <td>23843</td>\n",
       "      <td>PAPER CRAFT , LITTLE BIRDIE</td>\n",
       "      <td>80995</td>\n",
       "      <td>2011-12-09 09:15:00</td>\n",
       "      <td>2.08</td>\n",
       "      <td>16446.0</td>\n",
       "      <td>United Kingdom</td>\n",
       "      <td>168469.60</td>\n",
       "      <td>12</td>\n",
       "    </tr>\n",
       "    <tr>\n",
       "      <th>61619</th>\n",
       "      <td>541431</td>\n",
       "      <td>23166</td>\n",
       "      <td>MEDIUM CERAMIC TOP STORAGE JAR</td>\n",
       "      <td>74215</td>\n",
       "      <td>2011-01-18 10:01:00</td>\n",
       "      <td>1.04</td>\n",
       "      <td>12346.0</td>\n",
       "      <td>United Kingdom</td>\n",
       "      <td>77183.60</td>\n",
       "      <td>01</td>\n",
       "    </tr>\n",
       "    <tr>\n",
       "      <th>222680</th>\n",
       "      <td>556444</td>\n",
       "      <td>22502</td>\n",
       "      <td>PICNIC BASKET WICKER 60 PIECES</td>\n",
       "      <td>60</td>\n",
       "      <td>2011-06-10 15:28:00</td>\n",
       "      <td>649.50</td>\n",
       "      <td>15098.0</td>\n",
       "      <td>United Kingdom</td>\n",
       "      <td>38970.00</td>\n",
       "      <td>06</td>\n",
       "    </tr>\n",
       "    <tr>\n",
       "      <th>15017</th>\n",
       "      <td>537632</td>\n",
       "      <td>AMAZONFEE</td>\n",
       "      <td>AMAZON FEE</td>\n",
       "      <td>1</td>\n",
       "      <td>2010-12-07 15:08:00</td>\n",
       "      <td>13541.33</td>\n",
       "      <td>NaN</td>\n",
       "      <td>United Kingdom</td>\n",
       "      <td>13541.33</td>\n",
       "      <td>12</td>\n",
       "    </tr>\n",
       "    <tr>\n",
       "      <th>299982</th>\n",
       "      <td>A563185</td>\n",
       "      <td>B</td>\n",
       "      <td>Adjust bad debt</td>\n",
       "      <td>1</td>\n",
       "      <td>2011-08-12 14:50:00</td>\n",
       "      <td>11062.06</td>\n",
       "      <td>NaN</td>\n",
       "      <td>United Kingdom</td>\n",
       "      <td>11062.06</td>\n",
       "      <td>08</td>\n",
       "    </tr>\n",
       "    <tr>\n",
       "      <th>...</th>\n",
       "      <td>...</td>\n",
       "      <td>...</td>\n",
       "      <td>...</td>\n",
       "      <td>...</td>\n",
       "      <td>...</td>\n",
       "      <td>...</td>\n",
       "      <td>...</td>\n",
       "      <td>...</td>\n",
       "      <td>...</td>\n",
       "      <td>...</td>\n",
       "    </tr>\n",
       "    <tr>\n",
       "      <th>43702</th>\n",
       "      <td>C540117</td>\n",
       "      <td>AMAZONFEE</td>\n",
       "      <td>AMAZON FEE</td>\n",
       "      <td>-1</td>\n",
       "      <td>2011-01-05 09:55:00</td>\n",
       "      <td>16888.02</td>\n",
       "      <td>NaN</td>\n",
       "      <td>United Kingdom</td>\n",
       "      <td>-16888.02</td>\n",
       "      <td>01</td>\n",
       "    </tr>\n",
       "    <tr>\n",
       "      <th>524602</th>\n",
       "      <td>C580605</td>\n",
       "      <td>AMAZONFEE</td>\n",
       "      <td>AMAZON FEE</td>\n",
       "      <td>-1</td>\n",
       "      <td>2011-12-05 11:36:00</td>\n",
       "      <td>17836.46</td>\n",
       "      <td>NaN</td>\n",
       "      <td>United Kingdom</td>\n",
       "      <td>-17836.46</td>\n",
       "      <td>12</td>\n",
       "    </tr>\n",
       "    <tr>\n",
       "      <th>222681</th>\n",
       "      <td>C556445</td>\n",
       "      <td>M</td>\n",
       "      <td>Manual</td>\n",
       "      <td>-1</td>\n",
       "      <td>2011-06-10 15:31:00</td>\n",
       "      <td>38970.00</td>\n",
       "      <td>15098.0</td>\n",
       "      <td>United Kingdom</td>\n",
       "      <td>-38970.00</td>\n",
       "      <td>06</td>\n",
       "    </tr>\n",
       "    <tr>\n",
       "      <th>61624</th>\n",
       "      <td>C541433</td>\n",
       "      <td>23166</td>\n",
       "      <td>MEDIUM CERAMIC TOP STORAGE JAR</td>\n",
       "      <td>-74215</td>\n",
       "      <td>2011-01-18 10:17:00</td>\n",
       "      <td>1.04</td>\n",
       "      <td>12346.0</td>\n",
       "      <td>United Kingdom</td>\n",
       "      <td>-77183.60</td>\n",
       "      <td>01</td>\n",
       "    </tr>\n",
       "    <tr>\n",
       "      <th>540422</th>\n",
       "      <td>C581484</td>\n",
       "      <td>23843</td>\n",
       "      <td>PAPER CRAFT , LITTLE BIRDIE</td>\n",
       "      <td>-80995</td>\n",
       "      <td>2011-12-09 09:27:00</td>\n",
       "      <td>2.08</td>\n",
       "      <td>16446.0</td>\n",
       "      <td>United Kingdom</td>\n",
       "      <td>-168469.60</td>\n",
       "      <td>12</td>\n",
       "    </tr>\n",
       "  </tbody>\n",
       "</table>\n",
       "<p>541909 rows × 10 columns</p>\n",
       "</div>"
      ],
      "text/plain": [
       "       InvoiceNo  StockCode                     Description  Quantity  \\\n",
       "540421    581483      23843     PAPER CRAFT , LITTLE BIRDIE     80995   \n",
       "61619     541431      23166  MEDIUM CERAMIC TOP STORAGE JAR     74215   \n",
       "222680    556444      22502  PICNIC BASKET WICKER 60 PIECES        60   \n",
       "15017     537632  AMAZONFEE                      AMAZON FEE         1   \n",
       "299982   A563185          B                 Adjust bad debt         1   \n",
       "...          ...        ...                             ...       ...   \n",
       "43702    C540117  AMAZONFEE                      AMAZON FEE        -1   \n",
       "524602   C580605  AMAZONFEE                      AMAZON FEE        -1   \n",
       "222681   C556445          M                          Manual        -1   \n",
       "61624    C541433      23166  MEDIUM CERAMIC TOP STORAGE JAR    -74215   \n",
       "540422   C581484      23843     PAPER CRAFT , LITTLE BIRDIE    -80995   \n",
       "\n",
       "               InvoiceDate  UnitPrice  CustomerID         Country  total_sale  \\\n",
       "540421 2011-12-09 09:15:00       2.08     16446.0  United Kingdom   168469.60   \n",
       "61619  2011-01-18 10:01:00       1.04     12346.0  United Kingdom    77183.60   \n",
       "222680 2011-06-10 15:28:00     649.50     15098.0  United Kingdom    38970.00   \n",
       "15017  2010-12-07 15:08:00   13541.33         NaN  United Kingdom    13541.33   \n",
       "299982 2011-08-12 14:50:00   11062.06         NaN  United Kingdom    11062.06   \n",
       "...                    ...        ...         ...             ...         ...   \n",
       "43702  2011-01-05 09:55:00   16888.02         NaN  United Kingdom   -16888.02   \n",
       "524602 2011-12-05 11:36:00   17836.46         NaN  United Kingdom   -17836.46   \n",
       "222681 2011-06-10 15:31:00   38970.00     15098.0  United Kingdom   -38970.00   \n",
       "61624  2011-01-18 10:17:00       1.04     12346.0  United Kingdom   -77183.60   \n",
       "540422 2011-12-09 09:27:00       2.08     16446.0  United Kingdom  -168469.60   \n",
       "\n",
       "       months  \n",
       "540421     12  \n",
       "61619      01  \n",
       "222680     06  \n",
       "15017      12  \n",
       "299982     08  \n",
       "...       ...  \n",
       "43702      01  \n",
       "524602     12  \n",
       "222681     06  \n",
       "61624      01  \n",
       "540422     12  \n",
       "\n",
       "[541909 rows x 10 columns]"
      ]
     },
     "execution_count": 51,
     "metadata": {},
     "output_type": "execute_result"
    }
   ],
   "source": [
    "sorted_df"
   ]
  },
  {
   "cell_type": "code",
   "execution_count": 53,
   "id": "b26b344c",
   "metadata": {},
   "outputs": [
    {
     "data": {
      "text/html": [
       "<div>\n",
       "<style scoped>\n",
       "    .dataframe tbody tr th:only-of-type {\n",
       "        vertical-align: middle;\n",
       "    }\n",
       "\n",
       "    .dataframe tbody tr th {\n",
       "        vertical-align: top;\n",
       "    }\n",
       "\n",
       "    .dataframe thead th {\n",
       "        text-align: right;\n",
       "    }\n",
       "</style>\n",
       "<table border=\"1\" class=\"dataframe\">\n",
       "  <thead>\n",
       "    <tr style=\"text-align: right;\">\n",
       "      <th></th>\n",
       "      <th>InvoiceNo</th>\n",
       "      <th>StockCode</th>\n",
       "      <th>Description</th>\n",
       "      <th>Quantity</th>\n",
       "      <th>InvoiceDate</th>\n",
       "      <th>UnitPrice</th>\n",
       "      <th>CustomerID</th>\n",
       "      <th>Country</th>\n",
       "      <th>total_sale</th>\n",
       "      <th>months</th>\n",
       "    </tr>\n",
       "  </thead>\n",
       "  <tbody>\n",
       "    <tr>\n",
       "      <th>540421</th>\n",
       "      <td>581483</td>\n",
       "      <td>23843</td>\n",
       "      <td>PAPER CRAFT , LITTLE BIRDIE</td>\n",
       "      <td>80995</td>\n",
       "      <td>2011-12-09 09:15:00</td>\n",
       "      <td>2.08</td>\n",
       "      <td>16446.0</td>\n",
       "      <td>United Kingdom</td>\n",
       "      <td>168469.60</td>\n",
       "      <td>12</td>\n",
       "    </tr>\n",
       "    <tr>\n",
       "      <th>15017</th>\n",
       "      <td>537632</td>\n",
       "      <td>AMAZONFEE</td>\n",
       "      <td>AMAZON FEE</td>\n",
       "      <td>1</td>\n",
       "      <td>2010-12-07 15:08:00</td>\n",
       "      <td>13541.33</td>\n",
       "      <td>NaN</td>\n",
       "      <td>United Kingdom</td>\n",
       "      <td>13541.33</td>\n",
       "      <td>12</td>\n",
       "    </tr>\n",
       "    <tr>\n",
       "      <th>533812</th>\n",
       "      <td>581115</td>\n",
       "      <td>22413</td>\n",
       "      <td>METAL SIGN TAKE IT OR LEAVE IT</td>\n",
       "      <td>1404</td>\n",
       "      <td>2011-12-07 12:20:00</td>\n",
       "      <td>2.75</td>\n",
       "      <td>15195.0</td>\n",
       "      <td>United Kingdom</td>\n",
       "      <td>3861.00</td>\n",
       "      <td>12</td>\n",
       "    </tr>\n",
       "    <tr>\n",
       "      <th>16438</th>\n",
       "      <td>537659</td>\n",
       "      <td>21623</td>\n",
       "      <td>VINTAGE UNION JACK MEMOBOARD</td>\n",
       "      <td>600</td>\n",
       "      <td>2010-12-07 16:43:00</td>\n",
       "      <td>6.38</td>\n",
       "      <td>18102.0</td>\n",
       "      <td>United Kingdom</td>\n",
       "      <td>3828.00</td>\n",
       "      <td>12</td>\n",
       "    </tr>\n",
       "    <tr>\n",
       "      <th>19871</th>\n",
       "      <td>537899</td>\n",
       "      <td>22328</td>\n",
       "      <td>ROUND SNACK BOXES SET OF 4 FRUITS</td>\n",
       "      <td>1488</td>\n",
       "      <td>2010-12-09 10:44:00</td>\n",
       "      <td>2.55</td>\n",
       "      <td>12755.0</td>\n",
       "      <td>Japan</td>\n",
       "      <td>3794.40</td>\n",
       "      <td>12</td>\n",
       "    </tr>\n",
       "    <tr>\n",
       "      <th>...</th>\n",
       "      <td>...</td>\n",
       "      <td>...</td>\n",
       "      <td>...</td>\n",
       "      <td>...</td>\n",
       "      <td>...</td>\n",
       "      <td>...</td>\n",
       "      <td>...</td>\n",
       "      <td>...</td>\n",
       "      <td>...</td>\n",
       "      <td>...</td>\n",
       "    </tr>\n",
       "    <tr>\n",
       "      <th>16232</th>\n",
       "      <td>C537644</td>\n",
       "      <td>AMAZONFEE</td>\n",
       "      <td>AMAZON FEE</td>\n",
       "      <td>-1</td>\n",
       "      <td>2010-12-07 15:34:00</td>\n",
       "      <td>13474.79</td>\n",
       "      <td>NaN</td>\n",
       "      <td>United Kingdom</td>\n",
       "      <td>-13474.79</td>\n",
       "      <td>12</td>\n",
       "    </tr>\n",
       "    <tr>\n",
       "      <th>16356</th>\n",
       "      <td>C537651</td>\n",
       "      <td>AMAZONFEE</td>\n",
       "      <td>AMAZON FEE</td>\n",
       "      <td>-1</td>\n",
       "      <td>2010-12-07 15:49:00</td>\n",
       "      <td>13541.33</td>\n",
       "      <td>NaN</td>\n",
       "      <td>United Kingdom</td>\n",
       "      <td>-13541.33</td>\n",
       "      <td>12</td>\n",
       "    </tr>\n",
       "    <tr>\n",
       "      <th>15016</th>\n",
       "      <td>C537630</td>\n",
       "      <td>AMAZONFEE</td>\n",
       "      <td>AMAZON FEE</td>\n",
       "      <td>-1</td>\n",
       "      <td>2010-12-07 15:04:00</td>\n",
       "      <td>13541.33</td>\n",
       "      <td>NaN</td>\n",
       "      <td>United Kingdom</td>\n",
       "      <td>-13541.33</td>\n",
       "      <td>12</td>\n",
       "    </tr>\n",
       "    <tr>\n",
       "      <th>524602</th>\n",
       "      <td>C580605</td>\n",
       "      <td>AMAZONFEE</td>\n",
       "      <td>AMAZON FEE</td>\n",
       "      <td>-1</td>\n",
       "      <td>2011-12-05 11:36:00</td>\n",
       "      <td>17836.46</td>\n",
       "      <td>NaN</td>\n",
       "      <td>United Kingdom</td>\n",
       "      <td>-17836.46</td>\n",
       "      <td>12</td>\n",
       "    </tr>\n",
       "    <tr>\n",
       "      <th>540422</th>\n",
       "      <td>C581484</td>\n",
       "      <td>23843</td>\n",
       "      <td>PAPER CRAFT , LITTLE BIRDIE</td>\n",
       "      <td>-80995</td>\n",
       "      <td>2011-12-09 09:27:00</td>\n",
       "      <td>2.08</td>\n",
       "      <td>16446.0</td>\n",
       "      <td>United Kingdom</td>\n",
       "      <td>-168469.60</td>\n",
       "      <td>12</td>\n",
       "    </tr>\n",
       "  </tbody>\n",
       "</table>\n",
       "<p>68006 rows × 10 columns</p>\n",
       "</div>"
      ],
      "text/plain": [
       "       InvoiceNo  StockCode                         Description  Quantity  \\\n",
       "540421    581483      23843         PAPER CRAFT , LITTLE BIRDIE     80995   \n",
       "15017     537632  AMAZONFEE                          AMAZON FEE         1   \n",
       "533812    581115      22413     METAL SIGN TAKE IT OR LEAVE IT       1404   \n",
       "16438     537659      21623        VINTAGE UNION JACK MEMOBOARD       600   \n",
       "19871     537899      22328  ROUND SNACK BOXES SET OF 4 FRUITS       1488   \n",
       "...          ...        ...                                 ...       ...   \n",
       "16232    C537644  AMAZONFEE                          AMAZON FEE        -1   \n",
       "16356    C537651  AMAZONFEE                          AMAZON FEE        -1   \n",
       "15016    C537630  AMAZONFEE                          AMAZON FEE        -1   \n",
       "524602   C580605  AMAZONFEE                          AMAZON FEE        -1   \n",
       "540422   C581484      23843         PAPER CRAFT , LITTLE BIRDIE    -80995   \n",
       "\n",
       "               InvoiceDate  UnitPrice  CustomerID         Country  total_sale  \\\n",
       "540421 2011-12-09 09:15:00       2.08     16446.0  United Kingdom   168469.60   \n",
       "15017  2010-12-07 15:08:00   13541.33         NaN  United Kingdom    13541.33   \n",
       "533812 2011-12-07 12:20:00       2.75     15195.0  United Kingdom     3861.00   \n",
       "16438  2010-12-07 16:43:00       6.38     18102.0  United Kingdom     3828.00   \n",
       "19871  2010-12-09 10:44:00       2.55     12755.0           Japan     3794.40   \n",
       "...                    ...        ...         ...             ...         ...   \n",
       "16232  2010-12-07 15:34:00   13474.79         NaN  United Kingdom   -13474.79   \n",
       "16356  2010-12-07 15:49:00   13541.33         NaN  United Kingdom   -13541.33   \n",
       "15016  2010-12-07 15:04:00   13541.33         NaN  United Kingdom   -13541.33   \n",
       "524602 2011-12-05 11:36:00   17836.46         NaN  United Kingdom   -17836.46   \n",
       "540422 2011-12-09 09:27:00       2.08     16446.0  United Kingdom  -168469.60   \n",
       "\n",
       "       months  \n",
       "540421     12  \n",
       "15017      12  \n",
       "533812     12  \n",
       "16438      12  \n",
       "19871      12  \n",
       "...       ...  \n",
       "16232      12  \n",
       "16356      12  \n",
       "15016      12  \n",
       "524602     12  \n",
       "540422     12  \n",
       "\n",
       "[68006 rows x 10 columns]"
      ]
     },
     "execution_count": 53,
     "metadata": {},
     "output_type": "execute_result"
    }
   ],
   "source": [
    "new_adf = sorted_df[sorted_df[\"months\"] == '12']\n",
    "new_adf"
   ]
  },
  {
   "cell_type": "code",
   "execution_count": 54,
   "id": "00bf0da0",
   "metadata": {},
   "outputs": [
    {
     "data": {
      "text/plain": [
       "Description\n",
       "AMAZON FEE                           -68666.04\n",
       "CRUK Commission                       -1100.44\n",
       "Bank Charges                          -1032.30\n",
       "Discount                               -722.66\n",
       "OFFICE MUG WARMER PINK                 -386.83\n",
       "                                        ...   \n",
       "BLACK RECORD COVER FRAME              11876.97\n",
       "WHITE HANGING HEART T-LIGHT HOLDER    12081.89\n",
       "PAPER CHAIN KIT 50'S CHRISTMAS        16075.86\n",
       "REGENCY CAKESTAND 3 TIER              32800.28\n",
       "DOTCOM POSTAGE                        44543.88\n",
       "Name: total_sale, Length: 3470, dtype: float64"
      ]
     },
     "execution_count": 54,
     "metadata": {},
     "output_type": "execute_result"
    }
   ],
   "source": [
    "product_vals = new_adf.groupby(\"Description\")[\"total_sale\"].sum().sort_values(ascending=True)\n",
    "product_vals"
   ]
  },
  {
   "cell_type": "code",
   "execution_count": 56,
   "id": "3823ec79",
   "metadata": {},
   "outputs": [
    {
     "data": {
      "text/html": [
       "<div>\n",
       "<style scoped>\n",
       "    .dataframe tbody tr th:only-of-type {\n",
       "        vertical-align: middle;\n",
       "    }\n",
       "\n",
       "    .dataframe tbody tr th {\n",
       "        vertical-align: top;\n",
       "    }\n",
       "\n",
       "    .dataframe thead th {\n",
       "        text-align: right;\n",
       "    }\n",
       "</style>\n",
       "<table border=\"1\" class=\"dataframe\">\n",
       "  <thead>\n",
       "    <tr style=\"text-align: right;\">\n",
       "      <th></th>\n",
       "      <th>Description</th>\n",
       "      <th>total_sale</th>\n",
       "    </tr>\n",
       "  </thead>\n",
       "  <tbody>\n",
       "    <tr>\n",
       "      <th>0</th>\n",
       "      <td>AMAZON FEE</td>\n",
       "      <td>-68666.04</td>\n",
       "    </tr>\n",
       "    <tr>\n",
       "      <th>1</th>\n",
       "      <td>CRUK Commission</td>\n",
       "      <td>-1100.44</td>\n",
       "    </tr>\n",
       "    <tr>\n",
       "      <th>2</th>\n",
       "      <td>Bank Charges</td>\n",
       "      <td>-1032.30</td>\n",
       "    </tr>\n",
       "    <tr>\n",
       "      <th>3</th>\n",
       "      <td>Discount</td>\n",
       "      <td>-722.66</td>\n",
       "    </tr>\n",
       "    <tr>\n",
       "      <th>4</th>\n",
       "      <td>OFFICE MUG WARMER PINK</td>\n",
       "      <td>-386.83</td>\n",
       "    </tr>\n",
       "    <tr>\n",
       "      <th>...</th>\n",
       "      <td>...</td>\n",
       "      <td>...</td>\n",
       "    </tr>\n",
       "    <tr>\n",
       "      <th>3465</th>\n",
       "      <td>BLACK RECORD COVER FRAME</td>\n",
       "      <td>11876.97</td>\n",
       "    </tr>\n",
       "    <tr>\n",
       "      <th>3466</th>\n",
       "      <td>WHITE HANGING HEART T-LIGHT HOLDER</td>\n",
       "      <td>12081.89</td>\n",
       "    </tr>\n",
       "    <tr>\n",
       "      <th>3467</th>\n",
       "      <td>PAPER CHAIN KIT 50'S CHRISTMAS</td>\n",
       "      <td>16075.86</td>\n",
       "    </tr>\n",
       "    <tr>\n",
       "      <th>3468</th>\n",
       "      <td>REGENCY CAKESTAND 3 TIER</td>\n",
       "      <td>32800.28</td>\n",
       "    </tr>\n",
       "    <tr>\n",
       "      <th>3469</th>\n",
       "      <td>DOTCOM POSTAGE</td>\n",
       "      <td>44543.88</td>\n",
       "    </tr>\n",
       "  </tbody>\n",
       "</table>\n",
       "<p>3470 rows × 2 columns</p>\n",
       "</div>"
      ],
      "text/plain": [
       "                             Description  total_sale\n",
       "0                             AMAZON FEE   -68666.04\n",
       "1                        CRUK Commission    -1100.44\n",
       "2                           Bank Charges    -1032.30\n",
       "3                               Discount     -722.66\n",
       "4                 OFFICE MUG WARMER PINK     -386.83\n",
       "...                                  ...         ...\n",
       "3465            BLACK RECORD COVER FRAME    11876.97\n",
       "3466  WHITE HANGING HEART T-LIGHT HOLDER    12081.89\n",
       "3467     PAPER CHAIN KIT 50'S CHRISTMAS     16075.86\n",
       "3468            REGENCY CAKESTAND 3 TIER    32800.28\n",
       "3469                      DOTCOM POSTAGE    44543.88\n",
       "\n",
       "[3470 rows x 2 columns]"
      ]
     },
     "execution_count": 56,
     "metadata": {},
     "output_type": "execute_result"
    }
   ],
   "source": [
    "f_products = product_vals.reset_index()\n",
    "f_products"
   ]
  },
  {
   "cell_type": "code",
   "execution_count": 58,
   "id": "df300112",
   "metadata": {},
   "outputs": [
    {
     "data": {
      "text/html": [
       "<div>\n",
       "<style scoped>\n",
       "    .dataframe tbody tr th:only-of-type {\n",
       "        vertical-align: middle;\n",
       "    }\n",
       "\n",
       "    .dataframe tbody tr th {\n",
       "        vertical-align: top;\n",
       "    }\n",
       "\n",
       "    .dataframe thead th {\n",
       "        text-align: right;\n",
       "    }\n",
       "</style>\n",
       "<table border=\"1\" class=\"dataframe\">\n",
       "  <thead>\n",
       "    <tr style=\"text-align: right;\">\n",
       "      <th></th>\n",
       "      <th>Description</th>\n",
       "      <th>total_sale</th>\n",
       "    </tr>\n",
       "  </thead>\n",
       "  <tbody>\n",
       "    <tr>\n",
       "      <th>0</th>\n",
       "      <td>AMAZON FEE</td>\n",
       "      <td>-68666.04</td>\n",
       "    </tr>\n",
       "    <tr>\n",
       "      <th>1</th>\n",
       "      <td>CRUK Commission</td>\n",
       "      <td>-1100.44</td>\n",
       "    </tr>\n",
       "    <tr>\n",
       "      <th>2</th>\n",
       "      <td>Bank Charges</td>\n",
       "      <td>-1032.30</td>\n",
       "    </tr>\n",
       "    <tr>\n",
       "      <th>3</th>\n",
       "      <td>Discount</td>\n",
       "      <td>-722.66</td>\n",
       "    </tr>\n",
       "    <tr>\n",
       "      <th>4</th>\n",
       "      <td>OFFICE MUG WARMER PINK</td>\n",
       "      <td>-386.83</td>\n",
       "    </tr>\n",
       "    <tr>\n",
       "      <th>5</th>\n",
       "      <td>SAMPLES</td>\n",
       "      <td>-64.95</td>\n",
       "    </tr>\n",
       "    <tr>\n",
       "      <th>6</th>\n",
       "      <td>WOODEN BOX ADVENT CALENDAR</td>\n",
       "      <td>-49.70</td>\n",
       "    </tr>\n",
       "    <tr>\n",
       "      <th>7</th>\n",
       "      <td>PINK FOXGLOVE ARTIIFCIAL FLOWER</td>\n",
       "      <td>-30.60</td>\n",
       "    </tr>\n",
       "    <tr>\n",
       "      <th>8</th>\n",
       "      <td>PACK OF 12 CHRISTMAS FUN CARDS</td>\n",
       "      <td>-28.02</td>\n",
       "    </tr>\n",
       "    <tr>\n",
       "      <th>9</th>\n",
       "      <td>ZINC TOP  2 DOOR WOODEN SHELF</td>\n",
       "      <td>-25.80</td>\n",
       "    </tr>\n",
       "    <tr>\n",
       "      <th>10</th>\n",
       "      <td>Manual</td>\n",
       "      <td>-18.59</td>\n",
       "    </tr>\n",
       "    <tr>\n",
       "      <th>11</th>\n",
       "      <td>WHITE BEADED GARLAND STRING 20LIGHT</td>\n",
       "      <td>-18.25</td>\n",
       "    </tr>\n",
       "    <tr>\n",
       "      <th>12</th>\n",
       "      <td>SILVER FISHING GNOME</td>\n",
       "      <td>-13.90</td>\n",
       "    </tr>\n",
       "    <tr>\n",
       "      <th>13</th>\n",
       "      <td>CRYSTAL STUD EARRINGS CLEAR DISPLAY</td>\n",
       "      <td>-13.68</td>\n",
       "    </tr>\n",
       "    <tr>\n",
       "      <th>14</th>\n",
       "      <td>BLUE PADDED SOFT MOBILE</td>\n",
       "      <td>-12.75</td>\n",
       "    </tr>\n",
       "    <tr>\n",
       "      <th>15</th>\n",
       "      <td>SET OF 6 HALLOWEEN GHOST T-LIGHTS</td>\n",
       "      <td>-10.89</td>\n",
       "    </tr>\n",
       "    <tr>\n",
       "      <th>16</th>\n",
       "      <td>TEA TIME CAKE STAND IN GIFT BOX</td>\n",
       "      <td>-10.75</td>\n",
       "    </tr>\n",
       "    <tr>\n",
       "      <th>17</th>\n",
       "      <td>CREAM SWEETHEART SHELF + HOOKS</td>\n",
       "      <td>-7.95</td>\n",
       "    </tr>\n",
       "    <tr>\n",
       "      <th>18</th>\n",
       "      <td>DRAWER KNOB CRACKLE GLAZE IVORY</td>\n",
       "      <td>-6.60</td>\n",
       "    </tr>\n",
       "    <tr>\n",
       "      <th>19</th>\n",
       "      <td>EASTER TIN CHICKS PINK DAISY</td>\n",
       "      <td>-6.60</td>\n",
       "    </tr>\n",
       "    <tr>\n",
       "      <th>20</th>\n",
       "      <td>CHILDRENS TOY COOKING UTENSIL SET</td>\n",
       "      <td>-6.24</td>\n",
       "    </tr>\n",
       "    <tr>\n",
       "      <th>21</th>\n",
       "      <td>BLACK PHOTO ALBUM</td>\n",
       "      <td>-5.55</td>\n",
       "    </tr>\n",
       "    <tr>\n",
       "      <th>22</th>\n",
       "      <td>WOOLLY HAT SOCK GLOVE ADVENT STRING</td>\n",
       "      <td>-2.95</td>\n",
       "    </tr>\n",
       "    <tr>\n",
       "      <th>23</th>\n",
       "      <td>PORCELAIN HANGING BELL SMALL</td>\n",
       "      <td>-1.45</td>\n",
       "    </tr>\n",
       "    <tr>\n",
       "      <th>24</th>\n",
       "      <td>BLACK DIAMANTE EXPANDABLE RING</td>\n",
       "      <td>-0.01</td>\n",
       "    </tr>\n",
       "  </tbody>\n",
       "</table>\n",
       "</div>"
      ],
      "text/plain": [
       "                            Description  total_sale\n",
       "0                            AMAZON FEE   -68666.04\n",
       "1                       CRUK Commission    -1100.44\n",
       "2                          Bank Charges    -1032.30\n",
       "3                              Discount     -722.66\n",
       "4                OFFICE MUG WARMER PINK     -386.83\n",
       "5                               SAMPLES      -64.95\n",
       "6           WOODEN BOX ADVENT CALENDAR       -49.70\n",
       "7       PINK FOXGLOVE ARTIIFCIAL FLOWER      -30.60\n",
       "8        PACK OF 12 CHRISTMAS FUN CARDS      -28.02\n",
       "9        ZINC TOP  2 DOOR WOODEN SHELF       -25.80\n",
       "10                               Manual      -18.59\n",
       "11  WHITE BEADED GARLAND STRING 20LIGHT      -18.25\n",
       "12                SILVER FISHING GNOME       -13.90\n",
       "13  CRYSTAL STUD EARRINGS CLEAR DISPLAY      -13.68\n",
       "14              BLUE PADDED SOFT MOBILE      -12.75\n",
       "15    SET OF 6 HALLOWEEN GHOST T-LIGHTS      -10.89\n",
       "16      TEA TIME CAKE STAND IN GIFT BOX      -10.75\n",
       "17       CREAM SWEETHEART SHELF + HOOKS       -7.95\n",
       "18      DRAWER KNOB CRACKLE GLAZE IVORY       -6.60\n",
       "19         EASTER TIN CHICKS PINK DAISY       -6.60\n",
       "20    CHILDRENS TOY COOKING UTENSIL SET       -6.24\n",
       "21                   BLACK PHOTO ALBUM        -5.55\n",
       "22  WOOLLY HAT SOCK GLOVE ADVENT STRING       -2.95\n",
       "23         PORCELAIN HANGING BELL SMALL       -1.45\n",
       "24       BLACK DIAMANTE EXPANDABLE RING       -0.01"
      ]
     },
     "execution_count": 58,
     "metadata": {},
     "output_type": "execute_result"
    }
   ],
   "source": [
    "low_sales = f_products[f_products[\"total_sale\"] < 0]\n",
    "low_sales"
   ]
  },
  {
   "cell_type": "code",
   "execution_count": 60,
   "id": "7538c98f",
   "metadata": {},
   "outputs": [
    {
     "data": {
      "text/plain": [
       "<AxesSubplot:ylabel='Description'>"
      ]
     },
     "execution_count": 60,
     "metadata": {},
     "output_type": "execute_result"
    },
    {
     "data": {
      "image/png": "[encoded data removed]",
      "text/plain": [
       "<Figure size 640x480 with 1 Axes>"
      ]
     },
     "metadata": {},
     "output_type": "display_data"
    }
   ],
   "source": [
    "low_sales.head(10).plot(x='Description', y='total_sale', kind='barh')"
   ]
  },
  {
   "cell_type": "code",
   "execution_count": 64,
   "id": "8c19975a",
   "metadata": {},
   "outputs": [
    {
     "data": {
      "text/html": [
       "<div>\n",
       "<style scoped>\n",
       "    .dataframe tbody tr th:only-of-type {\n",
       "        vertical-align: middle;\n",
       "    }\n",
       "\n",
       "    .dataframe tbody tr th {\n",
       "        vertical-align: top;\n",
       "    }\n",
       "\n",
       "    .dataframe thead th {\n",
       "        text-align: right;\n",
       "    }\n",
       "</style>\n",
       "<table border=\"1\" class=\"dataframe\">\n",
       "  <thead>\n",
       "    <tr style=\"text-align: right;\">\n",
       "      <th></th>\n",
       "      <th>Description</th>\n",
       "      <th>total_sale</th>\n",
       "    </tr>\n",
       "  </thead>\n",
       "  <tbody>\n",
       "    <tr>\n",
       "      <th>3469</th>\n",
       "      <td>DOTCOM POSTAGE</td>\n",
       "      <td>44543.88</td>\n",
       "    </tr>\n",
       "    <tr>\n",
       "      <th>3468</th>\n",
       "      <td>REGENCY CAKESTAND 3 TIER</td>\n",
       "      <td>32800.28</td>\n",
       "    </tr>\n",
       "    <tr>\n",
       "      <th>3467</th>\n",
       "      <td>PAPER CHAIN KIT 50'S CHRISTMAS</td>\n",
       "      <td>16075.86</td>\n",
       "    </tr>\n",
       "    <tr>\n",
       "      <th>3466</th>\n",
       "      <td>WHITE HANGING HEART T-LIGHT HOLDER</td>\n",
       "      <td>12081.89</td>\n",
       "    </tr>\n",
       "    <tr>\n",
       "      <th>3465</th>\n",
       "      <td>BLACK RECORD COVER FRAME</td>\n",
       "      <td>11876.97</td>\n",
       "    </tr>\n",
       "    <tr>\n",
       "      <th>...</th>\n",
       "      <td>...</td>\n",
       "      <td>...</td>\n",
       "    </tr>\n",
       "    <tr>\n",
       "      <th>54</th>\n",
       "      <td>METAL BASE FOR CANDLES</td>\n",
       "      <td>0.42</td>\n",
       "    </tr>\n",
       "    <tr>\n",
       "      <th>53</th>\n",
       "      <td>SILICON CUBE 25W, BLUE</td>\n",
       "      <td>0.42</td>\n",
       "    </tr>\n",
       "    <tr>\n",
       "      <th>52</th>\n",
       "      <td>DECORATION WOBBLY CHICKEN</td>\n",
       "      <td>0.39</td>\n",
       "    </tr>\n",
       "    <tr>\n",
       "      <th>51</th>\n",
       "      <td>DECORATION WOBBLY RABBIT METAL</td>\n",
       "      <td>0.39</td>\n",
       "    </tr>\n",
       "    <tr>\n",
       "      <th>50</th>\n",
       "      <td>RETRO PILL BOX KEY CHAIN,THE KING</td>\n",
       "      <td>0.19</td>\n",
       "    </tr>\n",
       "  </tbody>\n",
       "</table>\n",
       "<p>3420 rows × 2 columns</p>\n",
       "</div>"
      ],
      "text/plain": [
       "                             Description  total_sale\n",
       "3469                      DOTCOM POSTAGE    44543.88\n",
       "3468            REGENCY CAKESTAND 3 TIER    32800.28\n",
       "3467     PAPER CHAIN KIT 50'S CHRISTMAS     16075.86\n",
       "3466  WHITE HANGING HEART T-LIGHT HOLDER    12081.89\n",
       "3465            BLACK RECORD COVER FRAME    11876.97\n",
       "...                                  ...         ...\n",
       "54                METAL BASE FOR CANDLES        0.42\n",
       "53                SILICON CUBE 25W, BLUE        0.42\n",
       "52             DECORATION WOBBLY CHICKEN        0.39\n",
       "51       DECORATION WOBBLY RABBIT METAL         0.39\n",
       "50     RETRO PILL BOX KEY CHAIN,THE KING        0.19\n",
       "\n",
       "[3420 rows x 2 columns]"
      ]
     },
     "execution_count": 64,
     "metadata": {},
     "output_type": "execute_result"
    }
   ],
   "source": [
    "high_sales = f_products[f_products[\"total_sale\"] > 0]\n",
    "high_s = high_sales.sort_values(by='total_sale', ascending=False)\n",
    "high_s"
   ]
  },
  {
   "cell_type": "code",
   "execution_count": 65,
   "id": "13f348f6",
   "metadata": {},
   "outputs": [
    {
     "data": {
      "text/plain": [
       "<AxesSubplot:ylabel='Description'>"
      ]
     },
     "execution_count": 65,
     "metadata": {},
     "output_type": "execute_result"
    },
    {
     "data": {
      "image/png": "[encoded data removed]",
      "text/plain": [
       "<Figure size 640x480 with 1 Axes>"
      ]
     },
     "metadata": {},
     "output_type": "display_data"
    }
   ],
   "source": [
    "high_s.head(10).plot(x='Description', y='total_sale', kind='barh')"
   ]
  },
  {
   "cell_type": "markdown",
   "id": "e3beefa7",
   "metadata": {},
   "source": [
    "Find the months with the highest and lowest sales"
   ]
  },
  {
   "cell_type": "markdown",
   "id": "15a0628a",
   "metadata": {},
   "source": [
    "#### months with highest sale"
   ]
  },
  {
   "cell_type": "code",
   "execution_count": 76,
   "id": "024d44ac",
   "metadata": {},
   "outputs": [
    {
     "data": {
      "text/plain": [
       "months\n",
       "11    1461756.250\n",
       "12    1182625.030\n",
       "10    1070704.670\n",
       "09    1019687.622\n",
       "05     723333.510\n",
       "06     691123.120\n",
       "Name: total_sale, dtype: float64"
      ]
     },
     "execution_count": 76,
     "metadata": {},
     "output_type": "execute_result"
    }
   ],
   "source": [
    "highest_sale = sorted_df.groupby(\"months\")[\"total_sale\"].sum().sort_values(ascending=False).head(6)\n",
    "highest_sale"
   ]
  },
  {
   "cell_type": "code",
   "execution_count": 77,
   "id": "c5dc8dae",
   "metadata": {},
   "outputs": [
    {
     "data": {
      "text/plain": [
       "<AxesSubplot:ylabel='months'>"
      ]
     },
     "execution_count": 77,
     "metadata": {},
     "output_type": "execute_result"
    },
    {
     "data": {
      "image/png": "[encoded data removed]",
      "text/plain": [
       "<Figure size 640x480 with 1 Axes>"
      ]
     },
     "metadata": {},
     "output_type": "display_data"
    }
   ],
   "source": [
    "highest_sale.plot(kind=\"barh\")"
   ]
  },
  {
   "cell_type": "markdown",
   "id": "cc8970df",
   "metadata": {},
   "source": [
    "#### months with lowest sale"
   ]
  },
  {
   "cell_type": "code",
   "execution_count": 105,
   "id": "25a9b107",
   "metadata": {},
   "outputs": [
    {
     "data": {
      "text/plain": [
       "months\n",
       "04    493207.121\n",
       "02    498062.650\n",
       "01    560000.260\n",
       "07    681300.111\n",
       "08    682680.510\n",
       "03    683267.080\n",
       "Name: total_sale, dtype: float64"
      ]
     },
     "execution_count": 105,
     "metadata": {},
     "output_type": "execute_result"
    }
   ],
   "source": [
    "lowest_sale = sorted_df.groupby(\"months\")[\"total_sale\"].sum().sort_values(ascending=True).head(6)\n",
    "lowest_sale"
   ]
  },
  {
   "cell_type": "code",
   "execution_count": 106,
   "id": "2c056f8a",
   "metadata": {},
   "outputs": [
    {
     "data": {
      "text/plain": [
       "<AxesSubplot:ylabel='months'>"
      ]
     },
     "execution_count": 106,
     "metadata": {},
     "output_type": "execute_result"
    },
    {
     "data": {
      "image/png": "[encoded data removed]",
      "text/plain": [
       "<Figure size 640x480 with 1 Axes>"
      ]
     },
     "metadata": {},
     "output_type": "display_data"
    }
   ],
   "source": [
    "lowest_sale.plot(kind = \"barh\")"
   ]
  },
  {
   "cell_type": "code",
   "execution_count": null,
   "id": "861d7a6d",
   "metadata": {},
   "outputs": [],
   "source": []
  }
 ],
 "metadata": {
  "kernelspec": {
   "display_name": "Python 3 (ipykernel)",
   "language": "python",
   "name": "python3"
  },
  "language_info": {
   "codemirror_mode": {
    "name": "ipython",
    "version": 3
   },
   "file_extension": ".py",
   "mimetype": "text/x-python",
   "name": "python",
   "nbconvert_exporter": "python",
   "pygments_lexer": "ipython3",
   "version": "3.9.13"
  }
 },
 "nbformat": 4,
 "nbformat_minor": 5
}
