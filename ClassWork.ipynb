{
 "cells": [
  {
   "cell_type": "code",
   "execution_count": 41,
   "id": "90e6402a",
   "metadata": {},
   "outputs": [
    {
     "name": "stdout",
     "output_type": "stream",
     "text": [
      "John is 30 years old\n",
      "Lola is 43 years old\n",
      "Bayo is 25 years old\n"
     ]
    }
   ],
   "source": [
    "name = [\"john\", \"lola\", \"bayo\"]\n",
    "ages = [30, 43, 25]\n",
    "\n",
    "Name = []\n",
    "for i in name:\n",
    "    a = i[0].upper() + i.split()[0][1:]\n",
    "    Name.append(a)\n",
    "\n",
    "for n in range(len(name)):\n",
    "    print(f\"{Name[n]} is {ages[n]} years old\")"
   ]
  },
  {
   "cell_type": "code",
   "execution_count": 10,
   "id": "4f62c9a5",
   "metadata": {},
   "outputs": [],
   "source": [
    "firstname = [\"katie\", \"bicah\", \"lemah\", \"judie\" ]\n",
    "surname = [\"tamuno\"]"
   ]
  },
  {
   "cell_type": "code",
   "execution_count": 11,
   "id": "2bdcbec7",
   "metadata": {},
   "outputs": [
    {
     "name": "stdout",
     "output_type": "stream",
     "text": [
      "['katie tamuno', 'bicah tamuno', 'lemah tamuno', 'judie tamuno']\n"
     ]
    }
   ],
   "source": [
    "fullname = []\n",
    "for j in range(len(firstname)):\n",
    "    name_array = firstname[j] + \" \" + surname[0]\n",
    "    fullname.append(name_array)\n",
    "print(fullname)"
   ]
  },
  {
   "cell_type": "code",
   "execution_count": 3,
   "id": "b0daed74",
   "metadata": {},
   "outputs": [],
   "source": [
    "import os"
   ]
  },
  {
   "cell_type": "code",
   "execution_count": 12,
   "id": "283493cd",
   "metadata": {},
   "outputs": [
    {
     "name": "stdout",
     "output_type": "stream",
     "text": [
      " Volume in drive C has no label.\n",
      " Volume Serial Number is E608-7F89\n",
      "\n",
      " Directory of C:\\Users\\AS\\Desktop\\data_analytic\\pythonCodes\n",
      "\n",
      "11/08/2022  02:46 PM    <DIR>          .\n",
      "11/08/2022  02:46 PM    <DIR>          ..\n",
      "11/04/2022  06:55 PM    <DIR>          .ipynb_checkpoints\n",
      "11/08/2022  11:53 AM            28,861 Assignments.ipynb\n",
      "11/07/2022  04:58 PM                22 dataSheets.txt\n",
      "11/08/2022  12:00 PM                56 newname.txt\n",
      "11/08/2022  11:58 AM               112 new_filename.txt\n",
      "11/07/2022  05:08 PM               384 new_temp.txt\n",
      "11/08/2022  02:46 PM             4,541 Practice.ipynb\n",
      "11/08/2022  11:54 AM    <DIR>          Untitled Folder\n",
      "11/08/2022  11:54 AM    <DIR>          Untitled Folder 1\n",
      "               6 File(s)         33,976 bytes\n",
      "               5 Dir(s)  254,180,364,288 bytes free\n"
     ]
    }
   ],
   "source": [
    "!dir"
   ]
  },
  {
   "cell_type": "code",
   "execution_count": 8,
   "id": "a32e5806",
   "metadata": {},
   "outputs": [],
   "source": [
    "print_file = open(\"newname.txt\", \"a\")\n",
    "for n in fullname:\n",
    "    print_file.write(f\"{n}\\n\")"
   ]
  },
  {
   "cell_type": "code",
   "execution_count": null,
   "id": "1111003f",
   "metadata": {},
   "outputs": [],
   "source": []
  }
 ],
 "metadata": {
  "kernelspec": {
   "display_name": "Python 3 (ipykernel)",
   "language": "python",
   "name": "python3"
  },
  "language_info": {
   "codemirror_mode": {
    "name": "ipython",
    "version": 3
   },
   "file_extension": ".py",
   "mimetype": "text/x-python",
   "name": "python",
   "nbconvert_exporter": "python",
   "pygments_lexer": "ipython3",
   "version": "3.9.13"
  }
 },
 "nbformat": 4,
 "nbformat_minor": 5
}
