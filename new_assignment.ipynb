{
 "cells": [
  {
   "cell_type": "code",
   "execution_count": 239,
   "id": "cc057896",
   "metadata": {},
   "outputs": [
    {
     "name": "stdout",
     "output_type": "stream",
     "text": [
      "[6, 6, 3, 3, 3, 5, 3, 5, 3, 3, 4, 4, 5, 6, 5, 5, 5, 4, 5, 4, 5, 4, 6, 4, 3, 4, 3, 4, 3, 5, 3, 3, 5, 6, 5, 3, 3, 4, 6, 3, 4, 6, 4, 3, 6, 5, 4, 3, 4, 5]\n"
     ]
    }
   ],
   "source": [
    "##write a program that generates and prints 50 random integers, each btw 3 and 6. \n",
    "import random\n",
    "rand_int = []\n",
    "for i in range(50):\n",
    "        c = random.randint(3, 6)\n",
    "        rand_int.append(c)\n",
    "print(rand_int)"
   ]
  },
  {
   "cell_type": "code",
   "execution_count": 8,
   "id": "24dcf9a9",
   "metadata": {},
   "outputs": [
    {
     "name": "stdout",
     "output_type": "stream",
     "text": [
      "5308416\n"
     ]
    }
   ],
   "source": [
    "#write a program that generates a random number, x, btw 1 and 50, a random number, y, btw 2 and 5, and computes x^y.\n",
    "\n",
    "x = random.randint(1, 50)\n",
    "y = random.randint(2, 5)\n",
    "\n",
    "print(x**y)"
   ]
  },
  {
   "cell_type": "code",
   "execution_count": 236,
   "id": "74a3a776",
   "metadata": {},
   "outputs": [
    {
     "name": "stdout",
     "output_type": "stream",
     "text": [
      "John\n",
      "John\n",
      "John\n",
      "John\n",
      "John\n"
     ]
    }
   ],
   "source": [
    "##write a program that generates a random number btw 1 and 10 and generates your name that many times.\n",
    "\n",
    "x = random.randint(1, 10)\n",
    "\n",
    "for i in range(x):\n",
    "    print(\"John\")"
   ]
  },
  {
   "cell_type": "code",
   "execution_count": 235,
   "id": "91e1d357",
   "metadata": {},
   "outputs": [
    {
     "data": {
      "text/plain": [
       "9.77"
      ]
     },
     "execution_count": 235,
     "metadata": {},
     "output_type": "execute_result"
    }
   ],
   "source": [
    "##write a program that generates a random decimal number btw 1 and 10 with 2 decimal places of accuracy.\n",
    "\n",
    "round(random.uniform(1, 10), 2)"
   ]
  },
  {
   "cell_type": "code",
   "execution_count": 12,
   "id": "94243825",
   "metadata": {},
   "outputs": [
    {
     "name": "stdout",
     "output_type": "stream",
     "text": [
      "[1, 1, 2, 3, 5, 1, 6, 7, 6, 4, 5, 2, 13, 3, 4, 1, 3, 15, 2, 15, 12, 4, 14, 16, 19, 11, 16, 3, 20, 9, 17, 15, 28, 7, 30, 4, 29, 31, 2, 40, 2, 4, 8, 16, 13, 24, 25, 46, 40, 47, 22]\n"
     ]
    }
   ],
   "source": [
    "#write a program that generates 50 random numbers such that the first is btw 1 and 2, the second is btw 1 and 3, and the third is btw 1 and 4,..... and the last is btw 1 and 51.\n",
    "\n",
    "rand_int = []\n",
    "for i in range(51):\n",
    "        a = random.randint(1,i + 1)\n",
    "        rand_int.append(a)\n",
    "print(rand_int)"
   ]
  },
  {
   "cell_type": "code",
   "execution_count": 15,
   "id": "685a07ea",
   "metadata": {},
   "outputs": [
    {
     "name": "stdout",
     "output_type": "stream",
     "text": [
      "Enter the first number: 4\n",
      "Enter the second number: 1\n",
      "0.6\n"
     ]
    }
   ],
   "source": [
    "##write a program that asks the user to enter two numbers, x and y, and computes |x-y|/(x+y)\n",
    "\n",
    "x = input(\"Enter the first number: \")\n",
    "y = input(\"Enter the second number: \")\n",
    "\n",
    "diff = int(x) - int(y)\n",
    "if diff < 0:\n",
    "    new_diff = diff * -1\n",
    "sum = int(x) + int(y)\n",
    "print(new_diff/sum)"
   ]
  },
  {
   "cell_type": "code",
   "execution_count": null,
   "id": "ae36cc96",
   "metadata": {},
   "outputs": [],
   "source": [
    "##write a program that asks the user to enter an angle btw -180 and 180 degrees. \n",
    "##Using an expression with the modulo operator, convert the angle to its equivalent between 0 amd 360 degrees\n",
    "\n"
   ]
  },
  {
   "cell_type": "code",
   "execution_count": 75,
   "id": "2f96d921",
   "metadata": {},
   "outputs": [
    {
     "name": "stdout",
     "output_type": "stream",
     "text": [
      "Enter Number of seconds: 840\n",
      "14mins 0sec\n"
     ]
    }
   ],
   "source": [
    "##Write a program that asks the user for the number of seconds and prints out how many minutes and seconds that is.\n",
    "##For instance 200 seconds is 3 minutes 20secs. Hint: use the // operator to get minutes, and the % operator to get seconds.\n",
    "    \n",
    "x = input(\"Enter Number of seconds: \")\n",
    "\n",
    "minutes = int(x) // 60\n",
    "seconds = int(x) % 60\n",
    "\n",
    "print(f\"{minutes}mins {seconds}sec\")"
   ]
  },
  {
   "cell_type": "code",
   "execution_count": 74,
   "id": "4d192333",
   "metadata": {},
   "outputs": [
    {
     "name": "stdout",
     "output_type": "stream",
     "text": [
      "Enter hour between 1 and 12: 7\n",
      "How many hours ahead: 14\n",
      "New hour: 9 o'clock\n"
     ]
    }
   ],
   "source": [
    "#Write a program that asks the user for an hour between 1 and 12 and how many hours in the future they want to go. \n",
    "#Print out what the hours will be that many hours into the future\n",
    "\n",
    "x = input(\"Enter hour between 1 and 12: \")\n",
    "y = input(\"How many hours ahead: \")\n",
    "\n",
    "hour = int(x)\n",
    "hours_in_future = int(y)\n",
    "\n",
    "if hour < 1:\n",
    "    print(\"hour should be between 1 and 12\")\n",
    "elif (hour > 12):\n",
    "    print(\"hour should be between 1 and 12\")\n",
    "else:\n",
    "    new_hour = hour + hours_in_future\n",
    "    if(new_hour <= 24):\n",
    "        if(new_hour) > 12:\n",
    "            new_hour = new_hour - 12\n",
    "            print(f\"New hour: {new_hour} o'clock\")\n",
    "        else:\n",
    "            print(f\"New hour: {new_hour} o'clock\")\n",
    "    else:\n",
    "        print(\"hours exceeds maximum limit\")"
   ]
  },
  {
   "cell_type": "code",
   "execution_count": 80,
   "id": "bab74aab",
   "metadata": {},
   "outputs": [
    {
     "name": "stdout",
     "output_type": "stream",
     "text": [
      "Enter a number: 7\n",
      "8\n"
     ]
    }
   ],
   "source": [
    "##one way to find out the last digit of a number is to mod the number by 10. \n",
    "##Write a program that asks the user to enter a power. Then find the last digit of 2 raised to that power.\n",
    "\n",
    "num = input(\"Enter a number: \")\n",
    "x = int(num)\n",
    "y = 2**x\n",
    "m = y % 10\n",
    "print(m)"
   ]
  },
  {
   "cell_type": "code",
   "execution_count": 84,
   "id": "10876b07",
   "metadata": {},
   "outputs": [
    {
     "name": "stdout",
     "output_type": "stream",
     "text": [
      "Enter a number: 2\n",
      "4\n"
     ]
    }
   ],
   "source": [
    "##one way to find out the last two digit of a number is to mod the number by 100.\n",
    "##Write a program that asks the user to enter a power. Then find the last digit of 2 raised to that power.\n",
    "\n",
    "num = input(\"Enter a number: \")\n",
    "x = int(num)\n",
    "y = 2**x\n",
    "m = y % 100\n",
    "print(m)"
   ]
  },
  {
   "cell_type": "code",
   "execution_count": null,
   "id": "6014b243",
   "metadata": {},
   "outputs": [],
   "source": [
    "#Write a program that asks the user to enter a power and how many digits they want.\n",
    "#Find the last that many digits of 2 raised to the power the user entered."
   ]
  },
  {
   "cell_type": "code",
   "execution_count": 96,
   "id": "912b196e",
   "metadata": {},
   "outputs": [
    {
     "name": "stdout",
     "output_type": "stream",
     "text": [
      "Enter number in kilograms: 3\n",
      "6.63ibs\n"
     ]
    }
   ],
   "source": [
    "#Write a program that asks the user to enter a weight in kilograms.\n",
    "##The program should convert it to pounds, printing the answer rounded to the nearest tenth of a pound.\n",
    "\n",
    "kilo = input(\"Enter number in kilograms: \")\n",
    "n = int(kilo)\n",
    "pounds = n*2.21\n",
    "print(f\"{pounds}ibs\")"
   ]
  },
  {
   "cell_type": "code",
   "execution_count": 104,
   "id": "19ca2f29",
   "metadata": {},
   "outputs": [
    {
     "name": "stdout",
     "output_type": "stream",
     "text": [
      "Enter any number: 5\n",
      "120\n"
     ]
    }
   ],
   "source": [
    "##Write a program that asks the user for a number and prints out the factorial of that number.\n",
    "\n",
    "x = input(\"Enter any number: \")\n",
    "num = int(x)\n",
    "\n",
    "fact = 1\n",
    "for i in range(0, num):\n",
    "    fact = fact * (i + 1)\n",
    "print(fact)"
   ]
  },
  {
   "cell_type": "code",
   "execution_count": 181,
   "id": "9643d581",
   "metadata": {},
   "outputs": [
    {
     "name": "stdout",
     "output_type": "stream",
     "text": [
      "Enter a number: 5\n"
     ]
    },
    {
     "ename": "OverflowError",
     "evalue": "(34, 'Result too large')",
     "output_type": "error",
     "traceback": [
      "\u001b[1;31m---------------------------------------------------------------------------\u001b[0m",
      "\u001b[1;31mOverflowError\u001b[0m                             Traceback (most recent call last)",
      "\u001b[1;32m~\\AppData\\Local\\Temp\\ipykernel_7732\\4248170202.py\u001b[0m in \u001b[0;36m<module>\u001b[1;34m\u001b[0m\n\u001b[0;32m     10\u001b[0m         \u001b[1;32mif\u001b[0m \u001b[0mi\u001b[0m\u001b[1;33m%\u001b[0m\u001b[1;36m2\u001b[0m \u001b[1;33m!=\u001b[0m \u001b[1;36m0\u001b[0m\u001b[1;33m:\u001b[0m\u001b[1;33m\u001b[0m\u001b[1;33m\u001b[0m\u001b[0m\n\u001b[0;32m     11\u001b[0m             \u001b[1;32mif\u001b[0m \u001b[0mj\u001b[0m\u001b[1;33m%\u001b[0m\u001b[1;36m2\u001b[0m \u001b[1;33m!=\u001b[0m \u001b[1;36m0\u001b[0m\u001b[1;33m:\u001b[0m\u001b[1;33m\u001b[0m\u001b[1;33m\u001b[0m\u001b[0m\n\u001b[1;32m---> 12\u001b[1;33m                 \u001b[0mx\u001b[0m \u001b[1;33m=\u001b[0m \u001b[0mx\u001b[0m \u001b[1;33m+\u001b[0m \u001b[1;33m(\u001b[0m\u001b[1;33m(\u001b[0m\u001b[1;33m-\u001b[0m\u001b[1;36m1\u001b[0m\u001b[1;33m)\u001b[0m\u001b[1;33m**\u001b[0m\u001b[0mj\u001b[0m\u001b[1;33m)\u001b[0m \u001b[1;33m*\u001b[0m \u001b[1;33m(\u001b[0m\u001b[0mx\u001b[0m\u001b[1;33m**\u001b[0m\u001b[0mj\u001b[0m\u001b[1;33m)\u001b[0m\u001b[1;33m/\u001b[0m\u001b[0my\u001b[0m\u001b[1;33m\u001b[0m\u001b[1;33m\u001b[0m\u001b[0m\n\u001b[0m\u001b[0;32m     13\u001b[0m \u001b[0mprint\u001b[0m\u001b[1;33m(\u001b[0m\u001b[0mx\u001b[0m\u001b[1;33m)\u001b[0m\u001b[1;33m\u001b[0m\u001b[1;33m\u001b[0m\u001b[0m\n",
      "\u001b[1;31mOverflowError\u001b[0m: (34, 'Result too large')"
     ]
    }
   ],
   "source": [
    "##Write a program that asks the user for a number, and then prints out the sine, cosine and tangent of that number.\n",
    "\n",
    "num = input(\"Enter a number: \")\n",
    "x = float(num)\n",
    "\n",
    "y = 1\n",
    "for i in range(0, 15):\n",
    "    for j in range(3, 15):\n",
    "        y = y * (i + 1)\n",
    "        if i%2 != 0:\n",
    "            if j%2 != 0:\n",
    "                x = x + ((-1)**j) * (x**j)/y\n",
    "print(x)"
   ]
  },
  {
   "cell_type": "raw",
   "id": "724e06c3",
   "metadata": {},
   "source": []
  },
  {
   "cell_type": "code",
   "execution_count": 146,
   "id": "44af50e2",
   "metadata": {},
   "outputs": [
    {
     "name": "stdout",
     "output_type": "stream",
     "text": [
      "Please enter a length: 4\n",
      "Length in Inches is 1.574803149606299In\n"
     ]
    }
   ],
   "source": [
    "#Write a program that asks a user to enter a lenght in centimeters.\n",
    "#If a user enters a negative lenght, the program should tell the user the entry is invalid.\n",
    "#Otherwise the Program should convert the lenght to inches and print out the result. \n",
    "#1 inch = 2.54cm\n",
    "\n",
    "length = input(\"Please enter a length: \")\n",
    "l = float(length)\n",
    "\n",
    "if l < 0:\n",
    "    print(\"Please enter a valid number\")\n",
    "else:\n",
    "    print(f\"Length in Inches is {l/2.54}In\")"
   ]
  },
  {
   "cell_type": "code",
   "execution_count": 179,
   "id": "711ec1b6",
   "metadata": {},
   "outputs": [
    {
     "name": "stdout",
     "output_type": "stream",
     "text": [
      "Enter a value for temperature: 47\n",
      "Enter the unit. c or f: f\n",
      "the value is 8.33 celsius\n"
     ]
    }
   ],
   "source": [
    "#Ask the user for a temperature.\n",
    "#Then ask them what units, Celsius or Fahrenheit the temperature is in. \n",
    "#The program should convert the temperature tp the other unit.\n",
    "#The conversion are F = (2/5)c + 32 and c = (5/9)(F - 32).\n",
    "\n",
    "temp = input(\"Enter a value for temperature: \")\n",
    "x = int(temp)\n",
    "unit = input(\"Enter the unit. c or f: \").lower()\n",
    "if unit == 'c':\n",
    "    f = round((2/5)*(x + 32), 2)\n",
    "    print(f'the temp value is {f }fahrenheit')\n",
    "elif unit == 'f':\n",
    "    c = round((5/9)*(x - 32), 2)\n",
    "    print(f'the temp value is {c} celsius')\n",
    "else:\n",
    "    print(\"the temp value is not valid\")"
   ]
  },
  {
   "cell_type": "code",
   "execution_count": 226,
   "id": "1edfc996",
   "metadata": {},
   "outputs": [
    {
     "name": "stdout",
     "output_type": "stream",
     "text": [
      "Enter a temperature value in Celsius: 0\n",
      "the temperature is at the freezing point.\n"
     ]
    }
   ],
   "source": [
    "##Ask the user to enter a temperature in Celsius. The program should print a message based on the temperature.\n",
    "    #if the temperature is less than -273.15, print that the message is invalid because it is below absolute zero.\n",
    "    #if it is exactly -273.15, print that the temperature is absolute zero.\n",
    "    #if the temperature is btw -273.15 and 0, print that the temperature is below freezing point.\n",
    "    #if it is 0, print the temperature is at the freezing point.\n",
    "    #if it is btw 0 and 100, print that the temperature is in the normal range.\n",
    "    #if it is 100, print that the temperature is at the boiling point.\n",
    "    #if it is above 100, print that the temperature is above the boiling point.\n",
    "    \n",
    "temp = float(input(\"Enter a temperature value in Celsius: \"))\n",
    "\n",
    "if temp == 0:\n",
    "    print(\"the temperature is at the freezing point.\")\n",
    "elif temp < 0:\n",
    "    if temp > -273.15:\n",
    "        print(\"the temperature is below freezing point.\")\n",
    "    elif temp == -273.15:\n",
    "        print(\"the temperature is absolute zero.\")\n",
    "    else:\n",
    "        print(\"the value is invalid because it is below absolute zero.\")\n",
    "else:\n",
    "    if temp < 100:\n",
    "        print(\"the temperature is in the normal range.\")\n",
    "    elif temp == 100:\n",
    "        print(\"the temperature is at the boiling point.\")\n",
    "    else:\n",
    "        print(\"the temperature is above the boiling point.\")"
   ]
  },
  {
   "cell_type": "code",
   "execution_count": 233,
   "id": "ea22ddcb",
   "metadata": {},
   "outputs": [
    {
     "name": "stdout",
     "output_type": "stream",
     "text": [
      "Enter the number of credits you have taken: 75\n",
      "You are a junior!\n"
     ]
    }
   ],
   "source": [
    "##Write a program that asks the user how many credits they have taken.\n",
    "    #if they have taken 23 or less, print the student is a freshman.\n",
    "    #if they have taken between 24 and 53, print that they are a sophomore.\n",
    "    #The range for juniors is 54 to 83, and for seniors, it is 84 and over.\n",
    "    \n",
    "credits = int(input(\"Enter the number of credits you have taken: \"))\n",
    "\n",
    "if credits <= 0:\n",
    "    print(\"out of range!!!\")\n",
    "elif credits < 24:\n",
    "    print(\"You are a freshman!\")\n",
    "elif credits < 54:\n",
    "    print(\"You are a sophomore!\")\n",
    "elif credits < 84:\n",
    "    print(\"You are a junior!\")\n",
    "else:\n",
    "    print(\"You are a senior!\")"
   ]
  },
  {
   "cell_type": "code",
   "execution_count": 498,
   "id": "3e7cfb82",
   "metadata": {},
   "outputs": [
    {
     "name": "stdout",
     "output_type": "stream",
     "text": [
      "enter a number: 5\n",
      "6\n"
     ]
    }
   ],
   "source": [
    "##Write a program that asks the user to enter a number and prints the sum of the divisors of that number.\n",
    "\n",
    "num = int(input(\"enter a number: \"))\n",
    "\n",
    "sum = 1\n",
    "for i in range(2, num+1):\n",
    "    if num % i == 0:\n",
    "        sum = sum + i\n",
    "print(sum)"
   ]
  },
  {
   "cell_type": "code",
   "execution_count": 316,
   "id": "98443d95",
   "metadata": {},
   "outputs": [
    {
     "name": "stdout",
     "output_type": "stream",
     "text": [
      "1\n"
     ]
    }
   ],
   "source": [
    "#A number is called a perfect number if it is equal to the sum of all its divisors, not including the number itself.\n",
    "#For instance, 6 is a perfect number, because the divisors of 6 are 1,2,3,6 and 6=1+2+3.\n",
    "#As another example, 28 is a perfect number because its divisors are 1,2,4,7,14,28 and 28=1+2+4+7+14+28.\n",
    "#However, 15 is not a perfect number because its divisors are 1,3,5,15 and 15!=1+3+5.\n",
    "#Write a program, write out all four of the perfect numbers that are less than 10000.\n",
    "\n",
    "numb = []\n",
    "for num in range(1, 10):\n",
    "    numb.append(num)\n",
    "\n",
    "sum = 0\n",
    "\n",
    "for i in range(1, len(numb)):\n",
    "    if int(numb[i]) % i == 0:\n",
    "        print(i)"
   ]
  },
  {
   "cell_type": "code",
   "execution_count": 551,
   "id": "21edadf0",
   "metadata": {},
   "outputs": [
    {
     "name": "stdout",
     "output_type": "stream",
     "text": [
      "Enter a number: 45\n"
     ]
    }
   ],
   "source": [
    "#An integer is called a square-free if it is not divisible by any perfect squares other than 1. \n",
    "#For example, 42 is square-free because its divisors are 1,2,3,6,7,21 and 42, and none of these numbers except 1 is a perfect square.\n",
    "#on the other hand, 45 is not square-free because it is not divisible by 9, which is a perfect square.\n",
    "#Write a program that asks a user for an integer and tells them if it is a squarfreee or not.\n",
    "\n",
    "num = int(input(\"Enter a number: \"))\n",
    "\n",
    "#program to generate perfect squares\n",
    "perfect_squ = []\n",
    "sum = 1\n",
    "for i in range(2, 63):\n",
    "    if i % 2 != 0:\n",
    "        sum = sum + i\n",
    "        perfect_squ.append(sum)\n",
    "\n",
    "#print squre-free numbers\n",
    "squ = []\n",
    "for i in range(0, len(perfect_squ)):\n",
    "    if perfect_squ[i] <= num:\n",
    "        div = num % perfect_squ[i]\n",
    "        squ.append(div)\n",
    "if 0 not in squ:\n",
    "    print(\"this number is square-free\")"
   ]
  },
  {
   "cell_type": "code",
   "execution_count": 548,
   "id": "7e3ee51f",
   "metadata": {},
   "outputs": [],
   "source": [
    "#Write a program that swaps the value of three variables, x, y, and z, so that x gets the value of y,\n",
    "#y gets the value of x, and z gets the value of y."
   ]
  },
  {
   "cell_type": "code",
   "execution_count": 546,
   "id": "dea79121",
   "metadata": {},
   "outputs": [
    {
     "name": "stdout",
     "output_type": "stream",
     "text": [
      "961\n"
     ]
    }
   ],
   "source": [
    "#Write a program to count how many integers from 1 to 1000 are not perfect squares, perfect cubes or perfect fifth powers.\n",
    "\n",
    "squ = [1, 4, 9, 16, 25, 36, 49, 64, 81, 100, 121, 144, 169, 196, 225, 256, 289, 324, 361, 400, 441, 484, 529, 576, 625, 676, 729, 784, 841, 900, 961]\n",
    "cubes = [8, 27, 64, 125, 216, 343, 512, 729, 1000]\n",
    "fifth_powers = [32, 243]\n",
    "\n",
    "non_powers = []\n",
    "all_powers = []\n",
    "\n",
    "for i in range(0, len(squ)):\n",
    "    all_powers.append(squ[i])\n",
    "    \n",
    "for i in range(0, len(cubes)):\n",
    "    all_powers.append(cubes[i])\n",
    "    \n",
    "for i in range(0, len(fifth_powers)):\n",
    "    all_powers.append(fifth_powers[i])\n",
    "\n",
    "for i in range(0, 1000):\n",
    "    if i not in all_powers:\n",
    "        non_powers.append(i)\n",
    "        \n",
    "print(len(non_powers))"
   ]
  },
  {
   "cell_type": "code",
   "execution_count": 1,
   "id": "7e80c72b",
   "metadata": {},
   "outputs": [
    {
     "name": "stdout",
     "output_type": "stream",
     "text": [
      "Enter 10 scores: 1\n",
      "Enter 10 scores: 44\n",
      "Enter 10 scores: 7\n",
      "the highest score is 44\n",
      "the lowest score is 1\n",
      "the average of the highest and the lowest score is 22.5\n"
     ]
    },
    {
     "ename": "AttributeError",
     "evalue": "'int' object has no attribute 'pop'",
     "output_type": "error",
     "traceback": [
      "\u001b[1;31m---------------------------------------------------------------------------\u001b[0m",
      "\u001b[1;31mAttributeError\u001b[0m                            Traceback (most recent call last)",
      "\u001b[1;32m~\\AppData\\Local\\Temp\\ipykernel_5748\\637384078.py\u001b[0m in \u001b[0;36m<module>\u001b[1;34m\u001b[0m\n\u001b[0;32m     30\u001b[0m \u001b[1;32mfor\u001b[0m \u001b[0mi\u001b[0m \u001b[1;32min\u001b[0m \u001b[0mrange\u001b[0m\u001b[1;33m(\u001b[0m\u001b[1;36m0\u001b[0m\u001b[1;33m,\u001b[0m \u001b[0mlen\u001b[0m\u001b[1;33m(\u001b[0m\u001b[0mscores\u001b[0m\u001b[1;33m)\u001b[0m\u001b[1;33m)\u001b[0m\u001b[1;33m:\u001b[0m\u001b[1;33m\u001b[0m\u001b[1;33m\u001b[0m\u001b[0m\n\u001b[0;32m     31\u001b[0m     \u001b[1;32mif\u001b[0m \u001b[0mhighest_score\u001b[0m \u001b[1;33m==\u001b[0m \u001b[0mscores\u001b[0m\u001b[1;33m[\u001b[0m\u001b[0mi\u001b[0m\u001b[1;33m]\u001b[0m\u001b[1;33m:\u001b[0m\u001b[1;33m\u001b[0m\u001b[1;33m\u001b[0m\u001b[0m\n\u001b[1;32m---> 32\u001b[1;33m         \u001b[0msecond_highest_score\u001b[0m\u001b[1;33m.\u001b[0m\u001b[0mappend\u001b[0m\u001b[1;33m(\u001b[0m\u001b[0mscore\u001b[0m\u001b[1;33m.\u001b[0m\u001b[0mpop\u001b[0m\u001b[1;33m(\u001b[0m\u001b[0mi\u001b[0m\u001b[1;33m)\u001b[0m\u001b[1;33m)\u001b[0m\u001b[1;33m\u001b[0m\u001b[1;33m\u001b[0m\u001b[0m\n\u001b[0m\u001b[0;32m     33\u001b[0m \u001b[1;33m\u001b[0m\u001b[0m\n\u001b[0;32m     34\u001b[0m \u001b[0msecond_highest_score\u001b[0m \u001b[1;33m=\u001b[0m \u001b[0mscores\u001b[0m\u001b[1;33m[\u001b[0m\u001b[1;36m0\u001b[0m\u001b[1;33m]\u001b[0m\u001b[1;33m\u001b[0m\u001b[1;33m\u001b[0m\u001b[0m\n",
      "\u001b[1;31mAttributeError\u001b[0m: 'int' object has no attribute 'pop'"
     ]
    }
   ],
   "source": [
    "#Ask the user to enter 10 scores. Write s program to do the following:\n",
    "#    (a) print out the highest and lowest scores\n",
    "#    (b) print out the average of the scores\n",
    "#    (c) print out the second largest score\n",
    "#    (d) if any score is greater than 100, then after the score have been entered, print a message warning the user that a value over 100 has been entered.\n",
    "#    (e) drop the two lowest scores and enter print out the average of the rest of them\n",
    "\n",
    "scores = []\n",
    "for i in range(3):\n",
    "    score = int(input(\"Enter 10 scores: \"))\n",
    "    scores.append(score)\n",
    "\n",
    "highest_score = scores[0]\n",
    "for i in range(0, len(scores)):\n",
    "    if highest_score < scores[i]:\n",
    "        highest_score = scores[i]\n",
    "print(f\"the highest score is {highest_score}\")    \n",
    "\n",
    "lowest_score = scores[0]\n",
    "for i in range(0, len(scores)):\n",
    "    if lowest_score > scores[i]:\n",
    "        lowest_score = scores[i]\n",
    "print(f\"the lowest score is {lowest_score}\")\n",
    "\n",
    "avg_score = (highest_score + lowest_score)/2\n",
    "print(f\"the average of the highest and the lowest score is {avg_score}\")\n",
    "\n",
    "second_highest_score = []\n",
    "\n",
    "for i in range(0, len(scores)):\n",
    "    if highest_score == scores[i]:\n",
    "        second_highest_score.append(score.pop(i))\n",
    "\n",
    "second_highest_score = scores[0]\n",
    "for i in range(0, len(second_highest_scores)):\n",
    "    if second_highest_score < scores[i]:\n",
    "        second_highest_score = scores[i]\n",
    "print(f\"the second highest score is {second_highest_score}\") \n"
   ]
  },
  {
   "cell_type": "code",
   "execution_count": null,
   "id": "c1104946",
   "metadata": {},
   "outputs": [],
   "source": []
  }
 ],
 "metadata": {
  "kernelspec": {
   "display_name": "Python 3 (ipykernel)",
   "language": "python",
   "name": "python3"
  },
  "language_info": {
   "codemirror_mode": {
    "name": "ipython",
    "version": 3
   },
   "file_extension": ".py",
   "mimetype": "text/x-python",
   "name": "python",
   "nbconvert_exporter": "python",
   "pygments_lexer": "ipython3",
   "version": "3.9.13"
  }
 },
 "nbformat": 4,
 "nbformat_minor": 5
}
